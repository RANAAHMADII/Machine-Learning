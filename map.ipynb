{
  "nbformat": 4,
  "nbformat_minor": 0,
  "metadata": {
    "colab": {
      "name": "Untitled35.ipynb",
      "provenance": []
    },
    "kernelspec": {
      "name": "python3",
      "display_name": "Python 3"
    },
    "language_info": {
      "name": "python"
    }
  },
  "cells": [
    {
      "cell_type": "code",
      "source": [
        "import numpy as np\n",
        "import matplotlib.pyplot as plt\n",
        "from scipy.stats import norm\n",
        "import pandas as pd\n"
      ],
      "metadata": {
        "id": "E80i5TbPkuzn"
      },
      "execution_count": 1,
      "outputs": []
    },
    {
      "cell_type": "code",
      "source": [
        "df = pd.read_csv('/content/drive/MyDrive/housing.csv')"
      ],
      "metadata": {
        "id": "Kln8OzWCkutR"
      },
      "execution_count": 3,
      "outputs": []
    },
    {
      "cell_type": "code",
      "source": [
        "df[df.columns[4]] = df[df.columns[4]].fillna(0)\n",
        "\n",
        "NofEntry = len(df.columns[0])\n",
        "NofData = len(df[df.columns[0]])\n"
      ],
      "metadata": {
        "id": "m65UT0jXkurr"
      },
      "execution_count": null,
      "outputs": []
    },
    {
      "cell_type": "code",
      "source": [
        ""
      ],
      "metadata": {
        "id": "CDw4dLDkk1M8"
      },
      "execution_count": null,
      "outputs": []
    },
    {
      "cell_type": "code",
      "source": [
        "\n",
        "for entry in range(NofEntry-1):\n",
        "    dataset = np.array(df[df.columns[entry]])\n",
        "    mu_ML = np.sum(dataset) / NofData\n",
        "    var_ML = np.sum((dataset-mu_ML)**2) / NofData\n",
        "    xrange = np.linspace(np.min(dataset), np.max(dataset), 50)\n",
        "    y = norm.pdf(xrange, mu_ML, np.sqrt(var_ML))\n",
        "    \n",
        "    fig, ax = plt.subplots()\n",
        "    ax2 = ax.twinx()\n",
        "    \n",
        "    ax.plot(xrange, y, color='green')\n",
        "    ax2.hist(x=dataset, bins='auto', color='blue',\n",
        "              alpha=0.5, rwidth=0.8)\n",
        "\n",
        "\n",
        "    mu0 = mu_ML\n",
        "    sigma0 = np.sqrt(var_ML)\n",
        "    sigma = sigma0\n",
        "    mu_MAP = ((mu0*(sigma**2)) / ((sigma**2)+(NofData*(sigma0**2)))) + \\\n",
        "              ((NofData*(sigma0**2)) / ((sigma**2)+(NofData*(sigma0**2)))) * mu_ML\n",
        "    \n",
        " \n",
        "    \n",
        "    ax3 = ax.twinx()\n",
        "    y = norm.pdf(xrange, mu_ML, np.sqrt(var_ML))\n",
        "    ax3.plot(xrange, y, color='red')\n",
        "\n",
        "    plt.title(df.columns[entry])\n",
        "plt.show()\n",
        "\n"
      ],
      "metadata": {
        "id": "lOM52arPltPm"
      },
      "execution_count": null,
      "outputs": []
    }
  ]
}