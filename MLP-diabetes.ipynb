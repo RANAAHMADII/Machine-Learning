{
  "cells": [
    {
      "cell_type": "code",
      "execution_count": 1,
      "metadata": {
        "colab": {
          "base_uri": "https://localhost:8080/"
        },
        "id": "LmjaT4KIpmeG",
        "outputId": "c61fe240-b894-48cd-fde0-4b6c4eac6aa3"
      },
      "outputs": [
        {
          "output_type": "stream",
          "name": "stdout",
          "text": [
            "Mounted at /content/drive\n"
          ]
        }
      ],
      "source": [
        "from google.colab import drive\n",
        "drive.mount('/content/drive')"
      ]
    },
    {
      "cell_type": "code",
      "execution_count": null,
      "metadata": {
        "colab": {
          "base_uri": "https://localhost:8080/"
        },
        "id": "9W5M2wSyk6ag",
        "outputId": "a3f67f8f-3a1b-42ff-d2d5-8eb49fa4f9bc"
      },
      "outputs": [
        {
          "name": "stdout",
          "output_type": "stream",
          "text": [
            "/content/drive/MyDrive/PhD_ML\n",
            "housing.csv  pima-indians-diabetes.csv\n"
          ]
        }
      ],
      "source": [
        "%cd /content/drive/MyDrive/PhD_ML\n",
        "%ls"
      ]
    },
    {
      "cell_type": "code",
      "execution_count": 9,
      "metadata": {
        "id": "_IgBiiHHEw61"
      },
      "outputs": [],
      "source": [
        "from keras.layers import Dense\n",
        "from scipy.stats import zscore\n",
        "import numpy as np\n",
        "\n",
        "from numpy import loadtxt\n",
        "from keras.models import Sequential\n"
      ]
    },
    {
      "cell_type": "code",
      "execution_count": 12,
      "metadata": {
        "id": "v0aTJGeZIyaH"
      },
      "outputs": [],
      "source": [
        "dataset = np.loadtxt('/content/drive/MyDrive/pima-indians-diabetes.csv', delimiter=',')\n",
        "X = dataset[:,0:8]\n",
        "y = dataset[:,8]\n",
        "X = zscore(X)"
      ]
    },
    {
      "cell_type": "code",
      "execution_count": 13,
      "metadata": {
        "id": "B_8DG-6KiFWT"
      },
      "outputs": [],
      "source": [
        "model = Sequential()\n",
        "model.add(Dense(15, input_dim=8, activation='relu'))\n",
        "model.add(Dense(15, activation='relu'))\n",
        "model.add(Dense(1, activation='sigmoid'))"
      ]
    },
    {
      "cell_type": "code",
      "execution_count": 14,
      "metadata": {
        "id": "QDWvwRW-ItYm"
      },
      "outputs": [],
      "source": [
        "model.compile(loss='binary_crossentropy', optimizer=\"adam\", metrics=['accuracy'])"
      ]
    },
    {
      "cell_type": "code",
      "execution_count": 15,
      "metadata": {
        "id": "qZiyRagplsZr",
        "colab": {
          "base_uri": "https://localhost:8080/"
        },
        "outputId": "2a8a5c9b-e3ee-466e-d7a0-acd2483a29c5"
      },
      "outputs": [
        {
          "output_type": "stream",
          "name": "stdout",
          "text": [
            "Epoch 1/60\n",
            "154/154 [==============================] - 1s 2ms/step - loss: 0.6613 - accuracy: 0.6432\n",
            "Epoch 2/60\n",
            "154/154 [==============================] - 0s 2ms/step - loss: 0.5641 - accuracy: 0.6927\n",
            "Epoch 3/60\n",
            "154/154 [==============================] - 0s 2ms/step - loss: 0.5198 - accuracy: 0.7148\n",
            "Epoch 4/60\n",
            "154/154 [==============================] - 0s 2ms/step - loss: 0.4966 - accuracy: 0.7305\n",
            "Epoch 5/60\n",
            "154/154 [==============================] - 0s 2ms/step - loss: 0.4818 - accuracy: 0.7513\n",
            "Epoch 6/60\n",
            "154/154 [==============================] - 0s 2ms/step - loss: 0.4737 - accuracy: 0.7591\n",
            "Epoch 7/60\n",
            "154/154 [==============================] - 0s 2ms/step - loss: 0.4625 - accuracy: 0.7617\n",
            "Epoch 8/60\n",
            "154/154 [==============================] - 0s 2ms/step - loss: 0.4572 - accuracy: 0.7734\n",
            "Epoch 9/60\n",
            "154/154 [==============================] - 0s 2ms/step - loss: 0.4531 - accuracy: 0.7799\n",
            "Epoch 10/60\n",
            "154/154 [==============================] - 0s 2ms/step - loss: 0.4505 - accuracy: 0.7786\n",
            "Epoch 11/60\n",
            "154/154 [==============================] - 0s 2ms/step - loss: 0.4456 - accuracy: 0.7786\n",
            "Epoch 12/60\n",
            "154/154 [==============================] - 0s 2ms/step - loss: 0.4444 - accuracy: 0.7799\n",
            "Epoch 13/60\n",
            "154/154 [==============================] - 0s 2ms/step - loss: 0.4427 - accuracy: 0.7852\n",
            "Epoch 14/60\n",
            "154/154 [==============================] - 0s 2ms/step - loss: 0.4408 - accuracy: 0.7852\n",
            "Epoch 15/60\n",
            "154/154 [==============================] - 0s 2ms/step - loss: 0.4388 - accuracy: 0.7865\n",
            "Epoch 16/60\n",
            "154/154 [==============================] - 0s 2ms/step - loss: 0.4377 - accuracy: 0.7878\n",
            "Epoch 17/60\n",
            "154/154 [==============================] - 0s 2ms/step - loss: 0.4364 - accuracy: 0.7865\n",
            "Epoch 18/60\n",
            "154/154 [==============================] - 0s 2ms/step - loss: 0.4347 - accuracy: 0.7917\n",
            "Epoch 19/60\n",
            "154/154 [==============================] - 0s 2ms/step - loss: 0.4347 - accuracy: 0.7904\n",
            "Epoch 20/60\n",
            "154/154 [==============================] - 0s 2ms/step - loss: 0.4326 - accuracy: 0.7852\n",
            "Epoch 21/60\n",
            "154/154 [==============================] - 0s 2ms/step - loss: 0.4306 - accuracy: 0.7878\n",
            "Epoch 22/60\n",
            "154/154 [==============================] - 0s 2ms/step - loss: 0.4297 - accuracy: 0.7799\n",
            "Epoch 23/60\n",
            "154/154 [==============================] - 0s 2ms/step - loss: 0.4280 - accuracy: 0.7930\n",
            "Epoch 24/60\n",
            "154/154 [==============================] - 0s 2ms/step - loss: 0.4264 - accuracy: 0.7904\n",
            "Epoch 25/60\n",
            "154/154 [==============================] - 0s 2ms/step - loss: 0.4263 - accuracy: 0.7904\n",
            "Epoch 26/60\n",
            "154/154 [==============================] - 0s 2ms/step - loss: 0.4247 - accuracy: 0.7917\n",
            "Epoch 27/60\n",
            "154/154 [==============================] - 0s 2ms/step - loss: 0.4239 - accuracy: 0.7917\n",
            "Epoch 28/60\n",
            "154/154 [==============================] - 0s 2ms/step - loss: 0.4229 - accuracy: 0.7917\n",
            "Epoch 29/60\n",
            "154/154 [==============================] - 0s 2ms/step - loss: 0.4207 - accuracy: 0.8034\n",
            "Epoch 30/60\n",
            "154/154 [==============================] - 0s 2ms/step - loss: 0.4199 - accuracy: 0.7956\n",
            "Epoch 31/60\n",
            "154/154 [==============================] - 0s 2ms/step - loss: 0.4179 - accuracy: 0.7917\n",
            "Epoch 32/60\n",
            "154/154 [==============================] - 0s 2ms/step - loss: 0.4161 - accuracy: 0.7969\n",
            "Epoch 33/60\n",
            "154/154 [==============================] - 0s 2ms/step - loss: 0.4158 - accuracy: 0.7969\n",
            "Epoch 34/60\n",
            "154/154 [==============================] - 0s 2ms/step - loss: 0.4144 - accuracy: 0.7969\n",
            "Epoch 35/60\n",
            "154/154 [==============================] - 0s 2ms/step - loss: 0.4140 - accuracy: 0.7956\n",
            "Epoch 36/60\n",
            "154/154 [==============================] - 0s 2ms/step - loss: 0.4118 - accuracy: 0.8021\n",
            "Epoch 37/60\n",
            "154/154 [==============================] - 0s 2ms/step - loss: 0.4090 - accuracy: 0.7995\n",
            "Epoch 38/60\n",
            "154/154 [==============================] - 0s 2ms/step - loss: 0.4129 - accuracy: 0.7917\n",
            "Epoch 39/60\n",
            "154/154 [==============================] - 0s 2ms/step - loss: 0.4085 - accuracy: 0.7995\n",
            "Epoch 40/60\n",
            "154/154 [==============================] - 0s 2ms/step - loss: 0.4072 - accuracy: 0.7995\n",
            "Epoch 41/60\n",
            "154/154 [==============================] - 0s 2ms/step - loss: 0.4064 - accuracy: 0.8034\n",
            "Epoch 42/60\n",
            "154/154 [==============================] - 0s 2ms/step - loss: 0.4043 - accuracy: 0.8021\n",
            "Epoch 43/60\n",
            "154/154 [==============================] - 0s 2ms/step - loss: 0.4038 - accuracy: 0.8034\n",
            "Epoch 44/60\n",
            "154/154 [==============================] - 0s 2ms/step - loss: 0.4032 - accuracy: 0.8021\n",
            "Epoch 45/60\n",
            "154/154 [==============================] - 0s 2ms/step - loss: 0.4013 - accuracy: 0.8060\n",
            "Epoch 46/60\n",
            "154/154 [==============================] - 0s 2ms/step - loss: 0.3998 - accuracy: 0.8021\n",
            "Epoch 47/60\n",
            "154/154 [==============================] - 0s 2ms/step - loss: 0.3996 - accuracy: 0.8164\n",
            "Epoch 48/60\n",
            "154/154 [==============================] - 0s 2ms/step - loss: 0.3990 - accuracy: 0.8034\n",
            "Epoch 49/60\n",
            "154/154 [==============================] - 0s 2ms/step - loss: 0.3969 - accuracy: 0.8099\n",
            "Epoch 50/60\n",
            "154/154 [==============================] - 0s 2ms/step - loss: 0.3974 - accuracy: 0.8138\n",
            "Epoch 51/60\n",
            "154/154 [==============================] - 0s 2ms/step - loss: 0.3953 - accuracy: 0.8164\n",
            "Epoch 52/60\n",
            "154/154 [==============================] - 0s 2ms/step - loss: 0.3939 - accuracy: 0.8151\n",
            "Epoch 53/60\n",
            "154/154 [==============================] - 0s 2ms/step - loss: 0.3934 - accuracy: 0.8073\n",
            "Epoch 54/60\n",
            "154/154 [==============================] - 0s 2ms/step - loss: 0.3909 - accuracy: 0.8190\n",
            "Epoch 55/60\n",
            "154/154 [==============================] - 0s 2ms/step - loss: 0.3917 - accuracy: 0.8190\n",
            "Epoch 56/60\n",
            "154/154 [==============================] - 0s 2ms/step - loss: 0.3897 - accuracy: 0.8151\n",
            "Epoch 57/60\n",
            "154/154 [==============================] - 0s 2ms/step - loss: 0.3875 - accuracy: 0.8190\n",
            "Epoch 58/60\n",
            "154/154 [==============================] - 0s 2ms/step - loss: 0.3874 - accuracy: 0.8229\n",
            "Epoch 59/60\n",
            "154/154 [==============================] - 0s 2ms/step - loss: 0.3865 - accuracy: 0.8203\n",
            "Epoch 60/60\n",
            "154/154 [==============================] - 0s 2ms/step - loss: 0.3849 - accuracy: 0.8216\n"
          ]
        },
        {
          "output_type": "execute_result",
          "data": {
            "text/plain": [
              "<keras.callbacks.History at 0x7f0288107750>"
            ]
          },
          "metadata": {},
          "execution_count": 15
        }
      ],
      "source": [
        "model.fit(X, y, epochs=60, batch_size=5, verbose=1)"
      ]
    },
    {
      "cell_type": "code",
      "execution_count": 16,
      "metadata": {
        "colab": {
          "base_uri": "https://localhost:8080/"
        },
        "id": "LKOictc_AGX5",
        "outputId": "1e454748-24a8-4560-d923-33063212b902"
      },
      "outputs": [
        {
          "output_type": "stream",
          "name": "stdout",
          "text": [
            "Accuracy: 0.82\n"
          ]
        }
      ],
      "source": [
        "_, accuracy = model.evaluate(X, y, verbose=0)\n",
        "print('Accuracy: %.2f' % accuracy)"
      ]
    }
  ],
  "metadata": {
    "colab": {
      "collapsed_sections": [],
      "name": "HW9_MLP_pima-indians-diabetes.ipynb",
      "provenance": []
    },
    "kernelspec": {
      "display_name": "Python 3 (ipykernel)",
      "language": "python",
      "name": "python3"
    },
    "language_info": {
      "codemirror_mode": {
        "name": "ipython",
        "version": 3
      },
      "file_extension": ".py",
      "mimetype": "text/x-python",
      "name": "python",
      "nbconvert_exporter": "python",
      "pygments_lexer": "ipython3",
      "version": "3.8.10"
    }
  },
  "nbformat": 4,
  "nbformat_minor": 0
}