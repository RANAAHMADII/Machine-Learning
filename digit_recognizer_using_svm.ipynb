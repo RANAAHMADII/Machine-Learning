{
  "cells": [
    {
      "cell_type": "code",
      "execution_count": null,
      "id": "f76157c5",
      "metadata": {
        "_cell_guid": "b1076dfc-b9ad-4769-8c92-a6c4dae69d19",
        "_uuid": "8f2839f25d086af736a60e9eeb907d3b93b6e0e5",
        "execution": {
          "iopub.execute_input": "2022-01-27T09:34:38.474786Z",
          "iopub.status.busy": "2022-01-27T09:34:38.473784Z",
          "iopub.status.idle": "2022-01-27T09:34:38.486077Z",
          "shell.execute_reply": "2022-01-27T09:34:38.487152Z",
          "shell.execute_reply.started": "2022-01-27T09:33:25.414425Z"
        },
        "papermill": {
          "duration": 0.0407,
          "end_time": "2022-01-27T09:34:38.487689",
          "exception": false,
          "start_time": "2022-01-27T09:34:38.446989",
          "status": "completed"
        },
        "tags": [],
        "id": "f76157c5",
        "outputId": "c8ece56d-f1b5-49ed-97e1-1fbcaf922db2"
      },
      "outputs": [
        {
          "name": "stdout",
          "output_type": "stream",
          "text": [
            "/kaggle/input/digit-recognizer/sample_submission.csv\n",
            "/kaggle/input/digit-recognizer/train.csv\n",
            "/kaggle/input/digit-recognizer/test.csv\n"
          ]
        }
      ],
      "source": [
        "\n",
        "import numpy as np # linear algebra\n",
        "import pandas as pd # data processing, CSV file I/O (e.g. pd.read_csv)\n",
        "xample, running this (by clicking run or pressing Shift+Enter) will list all files under the input directory\n",
        "\n",
        "import os\n",
        "for dirname, _, filenames in os.walk('/kaggle/input'):\n",
        "    for filename in filenames:\n",
        "        print(os.path.join(dirname, filename))\n"
      ]
    },
    {
      "cell_type": "code",
      "execution_count": null,
      "id": "c3ba5240",
      "metadata": {
        "execution": {
          "iopub.execute_input": "2022-01-27T09:34:38.527074Z",
          "iopub.status.busy": "2022-01-27T09:34:38.526081Z",
          "iopub.status.idle": "2022-01-27T09:34:38.529448Z",
          "shell.execute_reply": "2022-01-27T09:34:38.528685Z",
          "shell.execute_reply.started": "2022-01-27T09:33:25.430744Z"
        },
        "papermill": {
          "duration": 0.02414,
          "end_time": "2022-01-27T09:34:38.529639",
          "exception": false,
          "start_time": "2022-01-27T09:34:38.505499",
          "status": "completed"
        },
        "tags": [],
        "id": "c3ba5240"
      },
      "outputs": [],
      "source": [
        "import pandas as pd\n",
        "import numpy as np\n",
        "import matplotlib.pyplot as plt"
      ]
    },
    {
      "cell_type": "code",
      "execution_count": null,
      "id": "87e975ec",
      "metadata": {
        "execution": {
          "iopub.execute_input": "2022-01-27T09:34:38.564533Z",
          "iopub.status.busy": "2022-01-27T09:34:38.562208Z",
          "iopub.status.idle": "2022-01-27T09:34:44.395990Z",
          "shell.execute_reply": "2022-01-27T09:34:44.394859Z",
          "shell.execute_reply.started": "2022-01-27T09:33:25.440188Z"
        },
        "papermill": {
          "duration": 5.852766,
          "end_time": "2022-01-27T09:34:44.396158",
          "exception": false,
          "start_time": "2022-01-27T09:34:38.543392",
          "status": "completed"
        },
        "tags": [],
        "id": "87e975ec"
      },
      "outputs": [],
      "source": [
        "train_data=pd.read_csv('/kaggle/input/digit-recognizer/train.csv')\n",
        "test_data=pd.read_csv('/kaggle/input/digit-recognizer/test.csv')"
      ]
    },
    {
      "cell_type": "code",
      "execution_count": null,
      "id": "14151f7d",
      "metadata": {
        "execution": {
          "iopub.execute_input": "2022-01-27T09:34:44.431332Z",
          "iopub.status.busy": "2022-01-27T09:34:44.430689Z",
          "iopub.status.idle": "2022-01-27T09:34:44.449136Z",
          "shell.execute_reply": "2022-01-27T09:34:44.449612Z",
          "shell.execute_reply.started": "2022-01-27T09:33:32.172379Z"
        },
        "papermill": {
          "duration": 0.040867,
          "end_time": "2022-01-27T09:34:44.449771",
          "exception": false,
          "start_time": "2022-01-27T09:34:44.408904",
          "status": "completed"
        },
        "tags": [],
        "id": "14151f7d",
        "outputId": "be4779a5-4ec2-4785-abbf-853aef3878d6"
      },
      "outputs": [
        {
          "data": {
            "text/html": [
              "<div>\n",
              "<style scoped>\n",
              "    .dataframe tbody tr th:only-of-type {\n",
              "        vertical-align: middle;\n",
              "    }\n",
              "\n",
              "    .dataframe tbody tr th {\n",
              "        vertical-align: top;\n",
              "    }\n",
              "\n",
              "    .dataframe thead th {\n",
              "        text-align: right;\n",
              "    }\n",
              "</style>\n",
              "<table border=\"1\" class=\"dataframe\">\n",
              "  <thead>\n",
              "    <tr style=\"text-align: right;\">\n",
              "      <th></th>\n",
              "      <th>label</th>\n",
              "      <th>pixel0</th>\n",
              "      <th>pixel1</th>\n",
              "      <th>pixel2</th>\n",
              "      <th>pixel3</th>\n",
              "      <th>pixel4</th>\n",
              "      <th>pixel5</th>\n",
              "      <th>pixel6</th>\n",
              "      <th>pixel7</th>\n",
              "      <th>pixel8</th>\n",
              "      <th>...</th>\n",
              "      <th>pixel774</th>\n",
              "      <th>pixel775</th>\n",
              "      <th>pixel776</th>\n",
              "      <th>pixel777</th>\n",
              "      <th>pixel778</th>\n",
              "      <th>pixel779</th>\n",
              "      <th>pixel780</th>\n",
              "      <th>pixel781</th>\n",
              "      <th>pixel782</th>\n",
              "      <th>pixel783</th>\n",
              "    </tr>\n",
              "  </thead>\n",
              "  <tbody>\n",
              "    <tr>\n",
              "      <th>0</th>\n",
              "      <td>1</td>\n",
              "      <td>0</td>\n",
              "      <td>0</td>\n",
              "      <td>0</td>\n",
              "      <td>0</td>\n",
              "      <td>0</td>\n",
              "      <td>0</td>\n",
              "      <td>0</td>\n",
              "      <td>0</td>\n",
              "      <td>0</td>\n",
              "      <td>...</td>\n",
              "      <td>0</td>\n",
              "      <td>0</td>\n",
              "      <td>0</td>\n",
              "      <td>0</td>\n",
              "      <td>0</td>\n",
              "      <td>0</td>\n",
              "      <td>0</td>\n",
              "      <td>0</td>\n",
              "      <td>0</td>\n",
              "      <td>0</td>\n",
              "    </tr>\n",
              "    <tr>\n",
              "      <th>1</th>\n",
              "      <td>0</td>\n",
              "      <td>0</td>\n",
              "      <td>0</td>\n",
              "      <td>0</td>\n",
              "      <td>0</td>\n",
              "      <td>0</td>\n",
              "      <td>0</td>\n",
              "      <td>0</td>\n",
              "      <td>0</td>\n",
              "      <td>0</td>\n",
              "      <td>...</td>\n",
              "      <td>0</td>\n",
              "      <td>0</td>\n",
              "      <td>0</td>\n",
              "      <td>0</td>\n",
              "      <td>0</td>\n",
              "      <td>0</td>\n",
              "      <td>0</td>\n",
              "      <td>0</td>\n",
              "      <td>0</td>\n",
              "      <td>0</td>\n",
              "    </tr>\n",
              "    <tr>\n",
              "      <th>2</th>\n",
              "      <td>1</td>\n",
              "      <td>0</td>\n",
              "      <td>0</td>\n",
              "      <td>0</td>\n",
              "      <td>0</td>\n",
              "      <td>0</td>\n",
              "      <td>0</td>\n",
              "      <td>0</td>\n",
              "      <td>0</td>\n",
              "      <td>0</td>\n",
              "      <td>...</td>\n",
              "      <td>0</td>\n",
              "      <td>0</td>\n",
              "      <td>0</td>\n",
              "      <td>0</td>\n",
              "      <td>0</td>\n",
              "      <td>0</td>\n",
              "      <td>0</td>\n",
              "      <td>0</td>\n",
              "      <td>0</td>\n",
              "      <td>0</td>\n",
              "    </tr>\n",
              "    <tr>\n",
              "      <th>3</th>\n",
              "      <td>4</td>\n",
              "      <td>0</td>\n",
              "      <td>0</td>\n",
              "      <td>0</td>\n",
              "      <td>0</td>\n",
              "      <td>0</td>\n",
              "      <td>0</td>\n",
              "      <td>0</td>\n",
              "      <td>0</td>\n",
              "      <td>0</td>\n",
              "      <td>...</td>\n",
              "      <td>0</td>\n",
              "      <td>0</td>\n",
              "      <td>0</td>\n",
              "      <td>0</td>\n",
              "      <td>0</td>\n",
              "      <td>0</td>\n",
              "      <td>0</td>\n",
              "      <td>0</td>\n",
              "      <td>0</td>\n",
              "      <td>0</td>\n",
              "    </tr>\n",
              "    <tr>\n",
              "      <th>4</th>\n",
              "      <td>0</td>\n",
              "      <td>0</td>\n",
              "      <td>0</td>\n",
              "      <td>0</td>\n",
              "      <td>0</td>\n",
              "      <td>0</td>\n",
              "      <td>0</td>\n",
              "      <td>0</td>\n",
              "      <td>0</td>\n",
              "      <td>0</td>\n",
              "      <td>...</td>\n",
              "      <td>0</td>\n",
              "      <td>0</td>\n",
              "      <td>0</td>\n",
              "      <td>0</td>\n",
              "      <td>0</td>\n",
              "      <td>0</td>\n",
              "      <td>0</td>\n",
              "      <td>0</td>\n",
              "      <td>0</td>\n",
              "      <td>0</td>\n",
              "    </tr>\n",
              "  </tbody>\n",
              "</table>\n",
              "<p>5 rows × 785 columns</p>\n",
              "</div>"
            ],
            "text/plain": [
              "   label  pixel0  pixel1  pixel2  pixel3  pixel4  pixel5  pixel6  pixel7  \\\n",
              "0      1       0       0       0       0       0       0       0       0   \n",
              "1      0       0       0       0       0       0       0       0       0   \n",
              "2      1       0       0       0       0       0       0       0       0   \n",
              "3      4       0       0       0       0       0       0       0       0   \n",
              "4      0       0       0       0       0       0       0       0       0   \n",
              "\n",
              "   pixel8  ...  pixel774  pixel775  pixel776  pixel777  pixel778  pixel779  \\\n",
              "0       0  ...         0         0         0         0         0         0   \n",
              "1       0  ...         0         0         0         0         0         0   \n",
              "2       0  ...         0         0         0         0         0         0   \n",
              "3       0  ...         0         0         0         0         0         0   \n",
              "4       0  ...         0         0         0         0         0         0   \n",
              "\n",
              "   pixel780  pixel781  pixel782  pixel783  \n",
              "0         0         0         0         0  \n",
              "1         0         0         0         0  \n",
              "2         0         0         0         0  \n",
              "3         0         0         0         0  \n",
              "4         0         0         0         0  \n",
              "\n",
              "[5 rows x 785 columns]"
            ]
          },
          "execution_count": 4,
          "metadata": {},
          "output_type": "execute_result"
        }
      ],
      "source": [
        "train_data.head()"
      ]
    },
    {
      "cell_type": "code",
      "execution_count": null,
      "id": "76549905",
      "metadata": {
        "execution": {
          "iopub.execute_input": "2022-01-27T09:34:44.479673Z",
          "iopub.status.busy": "2022-01-27T09:34:44.478966Z",
          "iopub.status.idle": "2022-01-27T09:34:44.484910Z",
          "shell.execute_reply": "2022-01-27T09:34:44.485428Z",
          "shell.execute_reply.started": "2022-01-27T09:33:32.211930Z"
        },
        "papermill": {
          "duration": 0.022845,
          "end_time": "2022-01-27T09:34:44.485615",
          "exception": false,
          "start_time": "2022-01-27T09:34:44.462770",
          "status": "completed"
        },
        "tags": [],
        "id": "76549905",
        "outputId": "4b747207-2d05-417a-a82e-2d26236277ec"
      },
      "outputs": [
        {
          "data": {
            "text/plain": [
              "array([[0, 0, 0, ..., 0, 0, 0],\n",
              "       [0, 0, 0, ..., 0, 0, 0],\n",
              "       [0, 0, 0, ..., 0, 0, 0],\n",
              "       ...,\n",
              "       [0, 0, 0, ..., 0, 0, 0],\n",
              "       [0, 0, 0, ..., 0, 0, 0],\n",
              "       [0, 0, 0, ..., 0, 0, 0]])"
            ]
          },
          "execution_count": 5,
          "metadata": {},
          "output_type": "execute_result"
        }
      ],
      "source": [
        "X=train_data.iloc[:,1:].values\n",
        "Y=train_data.iloc[:,0].values\n",
        "X"
      ]
    },
    {
      "cell_type": "code",
      "execution_count": null,
      "id": "0201536a",
      "metadata": {
        "execution": {
          "iopub.execute_input": "2022-01-27T09:34:44.515198Z",
          "iopub.status.busy": "2022-01-27T09:34:44.514553Z",
          "iopub.status.idle": "2022-01-27T09:34:44.778409Z",
          "shell.execute_reply": "2022-01-27T09:34:44.778913Z",
          "shell.execute_reply.started": "2022-01-27T09:33:32.222237Z"
        },
        "papermill": {
          "duration": 0.280387,
          "end_time": "2022-01-27T09:34:44.779113",
          "exception": false,
          "start_time": "2022-01-27T09:34:44.498726",
          "status": "completed"
        },
        "tags": [],
        "id": "0201536a",
        "outputId": "46875f98-54b9-4996-fbe8-93c141766afd"
      },
      "outputs": [
        {
          "data": {
            "text/plain": [
              "<matplotlib.image.AxesImage at 0x7ff523c6e110>"
            ]
          },
          "execution_count": 6,
          "metadata": {},
          "output_type": "execute_result"
        },
        {
          "data": {
            "image/png": "[encoded data removed]",
            "text/plain": [
              "<Figure size 432x288 with 2 Axes>"
            ]
          },
          "metadata": {
            "needs_background": "light"
          },
          "output_type": "display_data"
        }
      ],
      "source": [
        "plt.subplot(121)\n",
        "array = np.reshape(np.array(X[0]), (28, 28))\n",
        "plt.imshow(array,cmap='gray')\n",
        "plt.subplot(122)\n",
        "array = np.reshape(np.array(X[50]), (28, 28))\n",
        "plt.imshow(array,cmap='gray')\n"
      ]
    },
    {
      "cell_type": "code",
      "execution_count": null,
      "id": "8a32f12f",
      "metadata": {
        "execution": {
          "iopub.execute_input": "2022-01-27T09:34:44.813414Z",
          "iopub.status.busy": "2022-01-27T09:34:44.812732Z",
          "iopub.status.idle": "2022-01-27T09:34:44.825315Z",
          "shell.execute_reply": "2022-01-27T09:34:44.825837Z",
          "shell.execute_reply.started": "2022-01-27T09:33:32.584621Z"
        },
        "papermill": {
          "duration": 0.032521,
          "end_time": "2022-01-27T09:34:44.826013",
          "exception": false,
          "start_time": "2022-01-27T09:34:44.793492",
          "status": "completed"
        },
        "tags": [],
        "id": "8a32f12f",
        "outputId": "f7dcf14a-0252-4162-f666-84fc5750fec4"
      },
      "outputs": [
        {
          "data": {
            "text/plain": [
              "False"
            ]
          },
          "execution_count": 7,
          "metadata": {},
          "output_type": "execute_result"
        }
      ],
      "source": [
        "train_data.isnull().values.any()"
      ]
    },
    {
      "cell_type": "code",
      "execution_count": null,
      "id": "80d8b090",
      "metadata": {
        "execution": {
          "iopub.execute_input": "2022-01-27T09:34:44.858205Z",
          "iopub.status.busy": "2022-01-27T09:34:44.857581Z",
          "iopub.status.idle": "2022-01-27T09:34:45.998770Z",
          "shell.execute_reply": "2022-01-27T09:34:45.999391Z",
          "shell.execute_reply.started": "2022-01-27T09:33:32.609668Z"
        },
        "papermill": {
          "duration": 1.15897,
          "end_time": "2022-01-27T09:34:45.999589",
          "exception": false,
          "start_time": "2022-01-27T09:34:44.840619",
          "status": "completed"
        },
        "tags": [],
        "id": "80d8b090"
      },
      "outputs": [],
      "source": [
        "from sklearn.svm import SVC\n",
        "from sklearn.pipeline import make_pipeline\n",
        "from sklearn.preprocessing import StandardScaler\n",
        "from sklearn.model_selection import train_test_split"
      ]
    },
    {
      "cell_type": "code",
      "execution_count": null,
      "id": "1e55051c",
      "metadata": {
        "execution": {
          "iopub.execute_input": "2022-01-27T09:34:46.036495Z",
          "iopub.status.busy": "2022-01-27T09:34:46.035790Z",
          "iopub.status.idle": "2022-01-27T09:34:46.453033Z",
          "shell.execute_reply": "2022-01-27T09:34:46.452397Z",
          "shell.execute_reply.started": "2022-01-27T09:33:34.108198Z"
        },
        "papermill": {
          "duration": 0.439288,
          "end_time": "2022-01-27T09:34:46.453187",
          "exception": false,
          "start_time": "2022-01-27T09:34:46.013899",
          "status": "completed"
        },
        "tags": [],
        "id": "1e55051c"
      },
      "outputs": [],
      "source": [
        "x_train,x_test,y_train,y_test=train_test_split(X,Y,test_size=0.2,random_state=432)"
      ]
    },
    {
      "cell_type": "code",
      "execution_count": null,
      "id": "4a7e4111",
      "metadata": {
        "execution": {
          "iopub.execute_input": "2022-01-27T09:34:46.488976Z",
          "iopub.status.busy": "2022-01-27T09:34:46.488167Z",
          "iopub.status.idle": "2022-01-27T09:34:46.491278Z",
          "shell.execute_reply": "2022-01-27T09:34:46.491800Z",
          "shell.execute_reply.started": "2022-01-27T09:33:34.633816Z"
        },
        "papermill": {
          "duration": 0.023609,
          "end_time": "2022-01-27T09:34:46.491969",
          "exception": false,
          "start_time": "2022-01-27T09:34:46.468360",
          "status": "completed"
        },
        "tags": [],
        "id": "4a7e4111",
        "outputId": "5092c9d5-272a-4da9-e601-c4aaa238f437"
      },
      "outputs": [
        {
          "data": {
            "text/plain": [
              "(33600, 784)"
            ]
          },
          "execution_count": 10,
          "metadata": {},
          "output_type": "execute_result"
        }
      ],
      "source": [
        "x_train.shape"
      ]
    },
    {
      "cell_type": "code",
      "execution_count": null,
      "id": "e6bc01b1",
      "metadata": {
        "execution": {
          "iopub.execute_input": "2022-01-27T09:34:46.525426Z",
          "iopub.status.busy": "2022-01-27T09:34:46.524460Z",
          "iopub.status.idle": "2022-01-27T09:40:30.040027Z",
          "shell.execute_reply": "2022-01-27T09:40:30.040590Z"
        },
        "papermill": {
          "duration": 343.533761,
          "end_time": "2022-01-27T09:40:30.040773",
          "exception": false,
          "start_time": "2022-01-27T09:34:46.507012",
          "status": "completed"
        },
        "tags": [],
        "id": "e6bc01b1",
        "outputId": "71e8e1ce-e16f-44b7-961d-9d589d06556d"
      },
      "outputs": [
        {
          "data": {
            "text/plain": [
              "Pipeline(steps=[('standardscaler', StandardScaler()),\n",
              "                ('svc', SVC(gamma='auto'))])"
            ]
          },
          "execution_count": 11,
          "metadata": {},
          "output_type": "execute_result"
        }
      ],
      "source": [
        "model=make_pipeline(StandardScaler(),SVC(gamma=\"auto\"))\n",
        "model.fit(x_train,y_train)"
      ]
    },
    {
      "cell_type": "code",
      "execution_count": null,
      "id": "507c36b7",
      "metadata": {
        "execution": {
          "iopub.execute_input": "2022-01-27T09:40:30.079583Z",
          "iopub.status.busy": "2022-01-27T09:40:30.078306Z",
          "iopub.status.idle": "2022-01-27T09:42:23.201387Z",
          "shell.execute_reply": "2022-01-27T09:42:23.201928Z"
        },
        "papermill": {
          "duration": 113.144942,
          "end_time": "2022-01-27T09:42:23.202115",
          "exception": false,
          "start_time": "2022-01-27T09:40:30.057173",
          "status": "completed"
        },
        "tags": [],
        "id": "507c36b7",
        "outputId": "47f6b81d-6d2c-485c-b17b-e44247bd250a"
      },
      "outputs": [
        {
          "data": {
            "text/plain": [
              "0.9621428571428572"
            ]
          },
          "execution_count": 12,
          "metadata": {},
          "output_type": "execute_result"
        }
      ],
      "source": [
        "model.score(x_test,y_test)"
      ]
    },
    {
      "cell_type": "code",
      "execution_count": null,
      "id": "6b66b867",
      "metadata": {
        "execution": {
          "iopub.execute_input": "2022-01-27T09:42:23.237016Z",
          "iopub.status.busy": "2022-01-27T09:42:23.236357Z",
          "iopub.status.idle": "2022-01-27T09:48:39.224889Z",
          "shell.execute_reply": "2022-01-27T09:48:39.224252Z"
        },
        "papermill": {
          "duration": 376.007277,
          "end_time": "2022-01-27T09:48:39.225059",
          "exception": false,
          "start_time": "2022-01-27T09:42:23.217782",
          "status": "completed"
        },
        "tags": [],
        "id": "6b66b867"
      },
      "outputs": [],
      "source": [
        "test=test_data.values\n",
        "y_pred=model.predict(test)"
      ]
    },
    {
      "cell_type": "code",
      "execution_count": null,
      "id": "c6c8d950",
      "metadata": {
        "execution": {
          "iopub.execute_input": "2022-01-27T09:48:39.267969Z",
          "iopub.status.busy": "2022-01-27T09:48:39.267239Z",
          "iopub.status.idle": "2022-01-27T09:48:39.319873Z",
          "shell.execute_reply": "2022-01-27T09:48:39.319298Z"
        },
        "papermill": {
          "duration": 0.077975,
          "end_time": "2022-01-27T09:48:39.320028",
          "exception": false,
          "start_time": "2022-01-27T09:48:39.242053",
          "status": "completed"
        },
        "tags": [],
        "id": "c6c8d950"
      },
      "outputs": [],
      "source": [
        "output = pd.DataFrame({\"Label\": y_pred})\n",
        "output.insert(0,\"ImageId\",range(1,len(output)+1))\n",
        "output.to_csv(\"./submission.csv\",index=False)"
      ]
    }
  ],
  "metadata": {
    "kernelspec": {
      "display_name": "Python 3",
      "language": "python",
      "name": "python3"
    },
    "language_info": {
      "codemirror_mode": {
        "name": "ipython",
        "version": 3
      },
      "file_extension": ".py",
      "mimetype": "text/x-python",
      "name": "python",
      "nbconvert_exporter": "python",
      "pygments_lexer": "ipython3",
      "version": "3.7.12"
    },
    "papermill": {
      "default_parameters": {},
      "duration": 851.778657,
      "end_time": "2022-01-27T09:48:40.149701",
      "environment_variables": {},
      "exception": null,
      "input_path": "__notebook__.ipynb",
      "output_path": "__notebook__.ipynb",
      "parameters": {},
      "start_time": "2022-01-27T09:34:28.371044",
      "version": "2.3.3"
    },
    "colab": {
      "name": "digit-recognizer-using-svm.ipynb",
      "provenance": []
    }
  },
  "nbformat": 4,
  "nbformat_minor": 5
}