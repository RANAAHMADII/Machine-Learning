{
  "cells": [
    {
      "cell_type": "code",
      "execution_count": null,
      "id": "a3ca03c8",
      "metadata": {
        "_cell_guid": "b1076dfc-b9ad-4769-8c92-a6c4dae69d19",
        "_uuid": "8f2839f25d086af736a60e9eeb907d3b93b6e0e5",
        "execution": {
          "iopub.execute_input": "2022-01-23T20:32:58.448664Z",
          "iopub.status.busy": "2022-01-23T20:32:58.447189Z",
          "iopub.status.idle": "2022-01-23T20:32:58.459347Z",
          "shell.execute_reply": "2022-01-23T20:32:58.459824Z",
          "shell.execute_reply.started": "2022-01-23T20:31:14.930427Z"
        },
        "papermill": {
          "duration": 0.043248,
          "end_time": "2022-01-23T20:32:58.460042",
          "exception": false,
          "start_time": "2022-01-23T20:32:58.416794",
          "status": "completed"
        },
        "tags": [],
        "id": "a3ca03c8",
        "outputId": "0ba790ad-7211-4397-a69f-e3d78ecb04ae"
      },
      "outputs": [
        {
          "name": "stdout",
          "output_type": "stream",
          "text": [
            "/kaggle/input/digit-recognizer/sample_submission.csv\n",
            "/kaggle/input/digit-recognizer/train.csv\n",
            "/kaggle/input/digit-recognizer/test.csv\n"
          ]
        }
      ],
      "source": [
        "# This Python 3 environment comes with many helpful analytics libraries installed\n",
        "# It is defined by the kaggle/python Docker image: https://github.com/kaggle/docker-python\n",
        "# For example, here's several helpful packages to load\n",
        "\n",
        "import numpy as np # linear algebra\n",
        "import pandas as pd # data processing, CSV file I/O (e.g. pd.read_csv)\n",
        "\n",
        "# Input data files are available in the read-only \"../input/\" directory\n",
        "# For example, running this (by clicking run or pressing Shift+Enter) will list all files under the input directory\n",
        "\n",
        "import os\n",
        "for dirname, _, filenames in os.walk('/kaggle/input'):\n",
        "    for filename in filenames:\n",
        "        print(os.path.join(dirname, filename))\n",
        "\n",
        "# You can write up to 20GB to the current directory (/kaggle/working/) that gets preserved as output when you create a version using \"Save & Run All\" \n",
        "# You can also write temporary files to /kaggle/temp/, but they won't be saved outside of the current session"
      ]
    },
    {
      "cell_type": "code",
      "execution_count": null,
      "id": "be1a5218",
      "metadata": {
        "execution": {
          "iopub.execute_input": "2022-01-23T20:32:58.518509Z",
          "iopub.status.busy": "2022-01-23T20:32:58.517865Z",
          "iopub.status.idle": "2022-01-23T20:33:04.337565Z",
          "shell.execute_reply": "2022-01-23T20:33:04.336952Z",
          "shell.execute_reply.started": "2022-01-23T20:31:14.942515Z"
        },
        "papermill": {
          "duration": 5.849598,
          "end_time": "2022-01-23T20:33:04.337713",
          "exception": false,
          "start_time": "2022-01-23T20:32:58.488115",
          "status": "completed"
        },
        "tags": [],
        "id": "be1a5218"
      },
      "outputs": [],
      "source": [
        "## Imports...\n",
        "# Math\n",
        "from random import randint\n",
        "\n",
        "# For deep learning algo\n",
        "from keras import layers\n",
        "from keras import models\n",
        "from tensorflow.keras.utils import to_categorical\n",
        "\n",
        "# For machine learning algo\n",
        "import sklearn\n",
        "from sklearn.model_selection import train_test_split\n",
        "from sklearn.ensemble import RandomForestClassifier\n",
        "from sklearn.svm import LinearSVC\n",
        "from sklearn.svm import SVC\n",
        "\n",
        "# For visualization\n",
        "import matplotlib.pyplot as plt\n",
        "import seaborn as sns"
      ]
    },
    {
      "cell_type": "code",
      "execution_count": null,
      "id": "6b62793f",
      "metadata": {
        "execution": {
          "iopub.execute_input": "2022-01-23T20:33:04.500092Z",
          "iopub.status.busy": "2022-01-23T20:33:04.499529Z",
          "iopub.status.idle": "2022-01-23T20:33:09.099593Z",
          "shell.execute_reply": "2022-01-23T20:33:09.100008Z",
          "shell.execute_reply.started": "2022-01-23T20:31:14.951038Z"
        },
        "papermill": {
          "duration": 4.631126,
          "end_time": "2022-01-23T20:33:09.100156",
          "exception": false,
          "start_time": "2022-01-23T20:33:04.469030",
          "status": "completed"
        },
        "tags": [],
        "id": "6b62793f",
        "outputId": "aedacbe2-82bc-429e-b588-7d2792875015"
      },
      "outputs": [
        {
          "name": "stdout",
          "output_type": "stream",
          "text": [
            "Train_data shape:  (42000, 785)\n",
            "Test_data shape: (28000, 784)\n",
            "\n",
            "\n",
            "Train data:\n"
          ]
        },
        {
          "data": {
            "text/html": [
              "<div>\n",
              "<style scoped>\n",
              "    .dataframe tbody tr th:only-of-type {\n",
              "        vertical-align: middle;\n",
              "    }\n",
              "\n",
              "    .dataframe tbody tr th {\n",
              "        vertical-align: top;\n",
              "    }\n",
              "\n",
              "    .dataframe thead th {\n",
              "        text-align: right;\n",
              "    }\n",
              "</style>\n",
              "<table border=\"1\" class=\"dataframe\">\n",
              "  <thead>\n",
              "    <tr style=\"text-align: right;\">\n",
              "      <th></th>\n",
              "      <th>label</th>\n",
              "      <th>pixel0</th>\n",
              "      <th>pixel1</th>\n",
              "      <th>pixel2</th>\n",
              "      <th>pixel3</th>\n",
              "      <th>pixel4</th>\n",
              "      <th>pixel5</th>\n",
              "      <th>pixel6</th>\n",
              "      <th>pixel7</th>\n",
              "      <th>pixel8</th>\n",
              "      <th>...</th>\n",
              "      <th>pixel774</th>\n",
              "      <th>pixel775</th>\n",
              "      <th>pixel776</th>\n",
              "      <th>pixel777</th>\n",
              "      <th>pixel778</th>\n",
              "      <th>pixel779</th>\n",
              "      <th>pixel780</th>\n",
              "      <th>pixel781</th>\n",
              "      <th>pixel782</th>\n",
              "      <th>pixel783</th>\n",
              "    </tr>\n",
              "  </thead>\n",
              "  <tbody>\n",
              "    <tr>\n",
              "      <th>0</th>\n",
              "      <td>1</td>\n",
              "      <td>0</td>\n",
              "      <td>0</td>\n",
              "      <td>0</td>\n",
              "      <td>0</td>\n",
              "      <td>0</td>\n",
              "      <td>0</td>\n",
              "      <td>0</td>\n",
              "      <td>0</td>\n",
              "      <td>0</td>\n",
              "      <td>...</td>\n",
              "      <td>0</td>\n",
              "      <td>0</td>\n",
              "      <td>0</td>\n",
              "      <td>0</td>\n",
              "      <td>0</td>\n",
              "      <td>0</td>\n",
              "      <td>0</td>\n",
              "      <td>0</td>\n",
              "      <td>0</td>\n",
              "      <td>0</td>\n",
              "    </tr>\n",
              "    <tr>\n",
              "      <th>1</th>\n",
              "      <td>0</td>\n",
              "      <td>0</td>\n",
              "      <td>0</td>\n",
              "      <td>0</td>\n",
              "      <td>0</td>\n",
              "      <td>0</td>\n",
              "      <td>0</td>\n",
              "      <td>0</td>\n",
              "      <td>0</td>\n",
              "      <td>0</td>\n",
              "      <td>...</td>\n",
              "      <td>0</td>\n",
              "      <td>0</td>\n",
              "      <td>0</td>\n",
              "      <td>0</td>\n",
              "      <td>0</td>\n",
              "      <td>0</td>\n",
              "      <td>0</td>\n",
              "      <td>0</td>\n",
              "      <td>0</td>\n",
              "      <td>0</td>\n",
              "    </tr>\n",
              "    <tr>\n",
              "      <th>2</th>\n",
              "      <td>1</td>\n",
              "      <td>0</td>\n",
              "      <td>0</td>\n",
              "      <td>0</td>\n",
              "      <td>0</td>\n",
              "      <td>0</td>\n",
              "      <td>0</td>\n",
              "      <td>0</td>\n",
              "      <td>0</td>\n",
              "      <td>0</td>\n",
              "      <td>...</td>\n",
              "      <td>0</td>\n",
              "      <td>0</td>\n",
              "      <td>0</td>\n",
              "      <td>0</td>\n",
              "      <td>0</td>\n",
              "      <td>0</td>\n",
              "      <td>0</td>\n",
              "      <td>0</td>\n",
              "      <td>0</td>\n",
              "      <td>0</td>\n",
              "    </tr>\n",
              "    <tr>\n",
              "      <th>3</th>\n",
              "      <td>4</td>\n",
              "      <td>0</td>\n",
              "      <td>0</td>\n",
              "      <td>0</td>\n",
              "      <td>0</td>\n",
              "      <td>0</td>\n",
              "      <td>0</td>\n",
              "      <td>0</td>\n",
              "      <td>0</td>\n",
              "      <td>0</td>\n",
              "      <td>...</td>\n",
              "      <td>0</td>\n",
              "      <td>0</td>\n",
              "      <td>0</td>\n",
              "      <td>0</td>\n",
              "      <td>0</td>\n",
              "      <td>0</td>\n",
              "      <td>0</td>\n",
              "      <td>0</td>\n",
              "      <td>0</td>\n",
              "      <td>0</td>\n",
              "    </tr>\n",
              "    <tr>\n",
              "      <th>4</th>\n",
              "      <td>0</td>\n",
              "      <td>0</td>\n",
              "      <td>0</td>\n",
              "      <td>0</td>\n",
              "      <td>0</td>\n",
              "      <td>0</td>\n",
              "      <td>0</td>\n",
              "      <td>0</td>\n",
              "      <td>0</td>\n",
              "      <td>0</td>\n",
              "      <td>...</td>\n",
              "      <td>0</td>\n",
              "      <td>0</td>\n",
              "      <td>0</td>\n",
              "      <td>0</td>\n",
              "      <td>0</td>\n",
              "      <td>0</td>\n",
              "      <td>0</td>\n",
              "      <td>0</td>\n",
              "      <td>0</td>\n",
              "      <td>0</td>\n",
              "    </tr>\n",
              "  </tbody>\n",
              "</table>\n",
              "<p>5 rows × 785 columns</p>\n",
              "</div>"
            ],
            "text/plain": [
              "   label  pixel0  pixel1  pixel2  pixel3  pixel4  pixel5  pixel6  pixel7  \\\n",
              "0      1       0       0       0       0       0       0       0       0   \n",
              "1      0       0       0       0       0       0       0       0       0   \n",
              "2      1       0       0       0       0       0       0       0       0   \n",
              "3      4       0       0       0       0       0       0       0       0   \n",
              "4      0       0       0       0       0       0       0       0       0   \n",
              "\n",
              "   pixel8  ...  pixel774  pixel775  pixel776  pixel777  pixel778  pixel779  \\\n",
              "0       0  ...         0         0         0         0         0         0   \n",
              "1       0  ...         0         0         0         0         0         0   \n",
              "2       0  ...         0         0         0         0         0         0   \n",
              "3       0  ...         0         0         0         0         0         0   \n",
              "4       0  ...         0         0         0         0         0         0   \n",
              "\n",
              "   pixel780  pixel781  pixel782  pixel783  \n",
              "0         0         0         0         0  \n",
              "1         0         0         0         0  \n",
              "2         0         0         0         0  \n",
              "3         0         0         0         0  \n",
              "4         0         0         0         0  \n",
              "\n",
              "[5 rows x 785 columns]"
            ]
          },
          "execution_count": 3,
          "metadata": {},
          "output_type": "execute_result"
        }
      ],
      "source": [
        "train_data = pd.read_csv(\"../input/digit-recognizer/train.csv\")\n",
        "test_data = pd.read_csv(\"../input/digit-recognizer/test.csv\")\n",
        "\n",
        "print(\"Train_data shape: \", train_data.shape)\n",
        "print(\"Test_data shape:\", test_data.shape)\n",
        "print(\"\\n\")\n",
        "\n",
        "print(\"Train data:\")\n",
        "train_data.head()"
      ]
    },
    {
      "cell_type": "code",
      "execution_count": null,
      "id": "aad87b28",
      "metadata": {
        "execution": {
          "iopub.execute_input": "2022-01-23T20:33:09.167690Z",
          "iopub.status.busy": "2022-01-23T20:33:09.160540Z",
          "iopub.status.idle": "2022-01-23T20:33:09.170148Z",
          "shell.execute_reply": "2022-01-23T20:33:09.170547Z",
          "shell.execute_reply.started": "2022-01-23T20:31:18.597274Z"
        },
        "papermill": {
          "duration": 0.043075,
          "end_time": "2022-01-23T20:33:09.170665",
          "exception": false,
          "start_time": "2022-01-23T20:33:09.127590",
          "status": "completed"
        },
        "tags": [],
        "id": "aad87b28",
        "outputId": "2cce63c6-b668-495b-e66c-35520eac6a30"
      },
      "outputs": [
        {
          "data": {
            "text/plain": [
              "{0, 1, 2, 3, 4, 5, 6, 7, 8, 9}"
            ]
          },
          "execution_count": 4,
          "metadata": {},
          "output_type": "execute_result"
        }
      ],
      "source": [
        "# Visualize the set of single labels. Are all labels represented? If so, ais their distribution rather uniform?\n",
        "set(train_data[\"label\"])"
      ]
    },
    {
      "cell_type": "code",
      "execution_count": null,
      "id": "c7f9b8f5",
      "metadata": {
        "execution": {
          "iopub.execute_input": "2022-01-23T20:33:09.229934Z",
          "iopub.status.busy": "2022-01-23T20:33:09.229403Z",
          "iopub.status.idle": "2022-01-23T20:33:09.452648Z",
          "shell.execute_reply": "2022-01-23T20:33:09.452254Z",
          "shell.execute_reply.started": "2022-01-23T20:31:18.612009Z"
        },
        "papermill": {
          "duration": 0.253625,
          "end_time": "2022-01-23T20:33:09.452754",
          "exception": false,
          "start_time": "2022-01-23T20:33:09.199129",
          "status": "completed"
        },
        "tags": [],
        "id": "c7f9b8f5",
        "outputId": "55229067-e343-4550-af56-f53e10adb505"
      },
      "outputs": [
        {
          "data": {
            "text/plain": [
              "<AxesSubplot:xlabel='label', ylabel='count'>"
            ]
          },
          "execution_count": 5,
          "metadata": {},
          "output_type": "execute_result"
        },
        {
          "data": {
            "image/png": "[encoded data removed]",
            "text/plain": [
              "<Figure size 432x288 with 1 Axes>"
            ]
          },
          "metadata": {
            "needs_background": "light"
          },
          "output_type": "display_data"
        }
      ],
      "source": [
        "# Visualize the distribuation of labels\n",
        "sns.countplot(x=train_data[\"label\"])"
      ]
    },
    {
      "cell_type": "code",
      "execution_count": null,
      "id": "f215690e",
      "metadata": {
        "execution": {
          "iopub.execute_input": "2022-01-23T20:33:09.569721Z",
          "iopub.status.busy": "2022-01-23T20:33:09.569046Z",
          "iopub.status.idle": "2022-01-23T20:33:09.571082Z",
          "shell.execute_reply": "2022-01-23T20:33:09.571449Z",
          "shell.execute_reply.started": "2022-01-23T20:31:18.830737Z"
        },
        "papermill": {
          "duration": 0.033997,
          "end_time": "2022-01-23T20:33:09.571566",
          "exception": false,
          "start_time": "2022-01-23T20:33:09.537569",
          "status": "completed"
        },
        "tags": [],
        "id": "f215690e"
      },
      "outputs": [],
      "source": [
        "def plot_digit(pixels, label):\n",
        "    digit = pixels.to_numpy().reshape((28,28))\n",
        "    plt.title(\"Label: {}\".format(label))  \n",
        "    fig = plt.imshow(digit,cmap=\"gist_gray\")"
      ]
    },
    {
      "cell_type": "code",
      "execution_count": null,
      "id": "c8fbb309",
      "metadata": {
        "execution": {
          "iopub.execute_input": "2022-01-23T20:33:09.647560Z",
          "iopub.status.busy": "2022-01-23T20:33:09.639892Z",
          "iopub.status.idle": "2022-01-23T20:33:09.808013Z",
          "shell.execute_reply": "2022-01-23T20:33:09.807537Z",
          "shell.execute_reply.started": "2022-01-23T20:31:18.840305Z"
        },
        "papermill": {
          "duration": 0.208855,
          "end_time": "2022-01-23T20:33:09.808129",
          "exception": false,
          "start_time": "2022-01-23T20:33:09.599274",
          "status": "completed"
        },
        "tags": [],
        "id": "c8fbb309",
        "outputId": "447bf7a7-d1ea-403a-894a-1fcf9b9d80f0"
      },
      "outputs": [
        {
          "data": {
            "image/png": "[encoded data removed]",
            "text/plain": [
              "<Figure size 432x288 with 1 Axes>"
            ]
          },
          "metadata": {
            "needs_background": "light"
          },
          "output_type": "display_data"
        }
      ],
      "source": [
        "random_num = randint(0, train_data.shape[0] - 1)\n",
        "pixels = train_data.iloc[random_num,1:]\n",
        "label = train_data.iloc[random_num,0]\n",
        "\n",
        "plot_digit(pixels, label)"
      ]
    },
    {
      "cell_type": "code",
      "execution_count": null,
      "id": "ef54ae86",
      "metadata": {
        "execution": {
          "iopub.execute_input": "2022-01-23T20:33:09.938998Z",
          "iopub.status.busy": "2022-01-23T20:33:09.938167Z",
          "iopub.status.idle": "2022-01-23T20:33:10.134150Z",
          "shell.execute_reply": "2022-01-23T20:33:10.134842Z",
          "shell.execute_reply.started": "2022-01-23T20:31:19.032860Z"
        },
        "papermill": {
          "duration": 0.233842,
          "end_time": "2022-01-23T20:33:10.135059",
          "exception": false,
          "start_time": "2022-01-23T20:33:09.901217",
          "status": "completed"
        },
        "tags": [],
        "id": "ef54ae86",
        "outputId": "0c6827c6-d36a-40da-f403-2d4e5835cd56"
      },
      "outputs": [
        {
          "name": "stdout",
          "output_type": "stream",
          "text": [
            "Shape of d_x:  (42000, 28, 28, 1)\n",
            "Shape of d_y:  (42000,)\n"
          ]
        }
      ],
      "source": [
        "d_y = train_data[\"label\"].to_numpy()\n",
        "d_x = train_data.drop(columns = \"label\").to_numpy()\n",
        "d_x = np.reshape(d_x, (d_x.shape[0], 28, 28, 1))\n",
        "\n",
        "x_test = test_data.to_numpy()\n",
        "x_test = np.reshape(x_test, (x_test.shape[0], 28, 28, 1))\n",
        "\n",
        "d_x = d_x.astype('float32')\n",
        "x_test = x_test.astype('float32')\n",
        "\n",
        "d_x/=255\n",
        "x_test/=255\n",
        "\n",
        "#print(train_data.iloc[0])\n",
        "print(\"Shape of d_x: \", d_x.shape)\n",
        "print(\"Shape of d_y: \", d_y.shape)\n",
        "#print(x_train[0].shape)"
      ]
    },
    {
      "cell_type": "code",
      "execution_count": null,
      "id": "e48d6d8c",
      "metadata": {
        "execution": {
          "iopub.execute_input": "2022-01-23T20:33:10.199366Z",
          "iopub.status.busy": "2022-01-23T20:33:10.198527Z",
          "iopub.status.idle": "2022-01-23T20:33:10.203362Z",
          "shell.execute_reply": "2022-01-23T20:33:10.202916Z",
          "shell.execute_reply.started": "2022-01-23T20:31:19.222550Z"
        },
        "papermill": {
          "duration": 0.038073,
          "end_time": "2022-01-23T20:33:10.203472",
          "exception": false,
          "start_time": "2022-01-23T20:33:10.165399",
          "status": "completed"
        },
        "tags": [],
        "id": "e48d6d8c",
        "outputId": "e6356722-ec4f-47fc-b0ce-b73e585b504b"
      },
      "outputs": [
        {
          "name": "stdout",
          "output_type": "stream",
          "text": [
            "Shape of y_train:  (42000, 10)\n"
          ]
        }
      ],
      "source": [
        "# set number of categories\n",
        "num_category = 10\n",
        "# convert class vectors to binary class matrices\n",
        "d_y = to_categorical(d_y, num_category)\n",
        "print('Shape of y_train: ', d_y.shape)"
      ]
    },
    {
      "cell_type": "code",
      "execution_count": null,
      "id": "e8505bb4",
      "metadata": {
        "execution": {
          "iopub.execute_input": "2022-01-23T20:33:10.269167Z",
          "iopub.status.busy": "2022-01-23T20:33:10.267244Z",
          "iopub.status.idle": "2022-01-23T20:33:10.585209Z",
          "shell.execute_reply": "2022-01-23T20:33:10.584304Z",
          "shell.execute_reply.started": "2022-01-23T20:31:19.231268Z"
        },
        "papermill": {
          "duration": 0.35263,
          "end_time": "2022-01-23T20:33:10.585370",
          "exception": false,
          "start_time": "2022-01-23T20:33:10.232740",
          "status": "completed"
        },
        "tags": [],
        "id": "e8505bb4",
        "outputId": "c8ffd20c-3d5a-4b43-ea6b-906c3f60eec7"
      },
      "outputs": [
        {
          "name": "stdout",
          "output_type": "stream",
          "text": [
            "Shape of y_train:  (33600, 10)\n"
          ]
        }
      ],
      "source": [
        "x_train, x_val, y_train, y_val = train_test_split(d_x, d_y, test_size=0.2, random_state=0)\n",
        "\n",
        "print('Shape of y_train: ', y_train.shape)"
      ]
    },
    {
      "cell_type": "code",
      "execution_count": null,
      "id": "93aab5d3",
      "metadata": {
        "execution": {
          "iopub.execute_input": "2022-01-23T20:33:10.710960Z",
          "iopub.status.busy": "2022-01-23T20:33:10.710393Z",
          "iopub.status.idle": "2022-01-23T20:33:13.074235Z",
          "shell.execute_reply": "2022-01-23T20:33:13.073611Z",
          "shell.execute_reply.started": "2022-01-23T20:31:19.540799Z"
        },
        "papermill": {
          "duration": 2.400077,
          "end_time": "2022-01-23T20:33:13.074392",
          "exception": false,
          "start_time": "2022-01-23T20:33:10.674315",
          "status": "completed"
        },
        "tags": [],
        "id": "93aab5d3",
        "outputId": "ece26462-c17a-4bc5-a224-0da32a54e5e7"
      },
      "outputs": [
        {
          "name": "stderr",
          "output_type": "stream",
          "text": [
            "2022-01-23 20:33:10.782215: I tensorflow/stream_executor/cuda/cuda_gpu_executor.cc:937] successful NUMA node read from SysFS had negative value (-1), but there must be at least one NUMA node, so returning NUMA node zero\n",
            "2022-01-23 20:33:10.903625: I tensorflow/stream_executor/cuda/cuda_gpu_executor.cc:937] successful NUMA node read from SysFS had negative value (-1), but there must be at least one NUMA node, so returning NUMA node zero\n",
            "2022-01-23 20:33:10.905039: I tensorflow/stream_executor/cuda/cuda_gpu_executor.cc:937] successful NUMA node read from SysFS had negative value (-1), but there must be at least one NUMA node, so returning NUMA node zero\n"
          ]
        },
        {
          "name": "stdout",
          "output_type": "stream",
          "text": [
            "Model: \"sequential\"\n",
            "_________________________________________________________________\n",
            "Layer (type)                 Output Shape              Param #   \n",
            "=================================================================\n",
            "conv2d (Conv2D)              (None, 24, 24, 32)        832       \n",
            "_________________________________________________________________\n",
            "max_pooling2d (MaxPooling2D) (None, 12, 12, 32)        0         \n",
            "_________________________________________________________________\n",
            "conv2d_1 (Conv2D)            (None, 8, 8, 64)          51264     \n",
            "_________________________________________________________________\n",
            "max_pooling2d_1 (MaxPooling2 (None, 4, 4, 64)          0         \n",
            "_________________________________________________________________\n",
            "flatten (Flatten)            (None, 1024)              0         \n",
            "_________________________________________________________________\n",
            "dense (Dense)                (None, 128)               131200    \n",
            "_________________________________________________________________\n",
            "batch_normalization (BatchNo (None, 128)               512       \n",
            "_________________________________________________________________\n",
            "dense_1 (Dense)              (None, 10)                1290      \n",
            "=================================================================\n",
            "Total params: 185,098\n",
            "Trainable params: 184,842\n",
            "Non-trainable params: 256\n",
            "_________________________________________________________________\n"
          ]
        },
        {
          "name": "stderr",
          "output_type": "stream",
          "text": [
            "2022-01-23 20:33:10.907203: I tensorflow/core/platform/cpu_feature_guard.cc:142] This TensorFlow binary is optimized with oneAPI Deep Neural Network Library (oneDNN) to use the following CPU instructions in performance-critical operations:  AVX2 AVX512F FMA\n",
            "To enable them in other operations, rebuild TensorFlow with the appropriate compiler flags.\n",
            "2022-01-23 20:33:10.908252: I tensorflow/stream_executor/cuda/cuda_gpu_executor.cc:937] successful NUMA node read from SysFS had negative value (-1), but there must be at least one NUMA node, so returning NUMA node zero\n",
            "2022-01-23 20:33:10.909395: I tensorflow/stream_executor/cuda/cuda_gpu_executor.cc:937] successful NUMA node read from SysFS had negative value (-1), but there must be at least one NUMA node, so returning NUMA node zero\n",
            "2022-01-23 20:33:10.910392: I tensorflow/stream_executor/cuda/cuda_gpu_executor.cc:937] successful NUMA node read from SysFS had negative value (-1), but there must be at least one NUMA node, so returning NUMA node zero\n",
            "2022-01-23 20:33:12.672059: I tensorflow/stream_executor/cuda/cuda_gpu_executor.cc:937] successful NUMA node read from SysFS had negative value (-1), but there must be at least one NUMA node, so returning NUMA node zero\n",
            "2022-01-23 20:33:12.672875: I tensorflow/stream_executor/cuda/cuda_gpu_executor.cc:937] successful NUMA node read from SysFS had negative value (-1), but there must be at least one NUMA node, so returning NUMA node zero\n",
            "2022-01-23 20:33:12.673527: I tensorflow/stream_executor/cuda/cuda_gpu_executor.cc:937] successful NUMA node read from SysFS had negative value (-1), but there must be at least one NUMA node, so returning NUMA node zero\n",
            "2022-01-23 20:33:12.674126: I tensorflow/core/common_runtime/gpu/gpu_device.cc:1510] Created device /job:localhost/replica:0/task:0/device:GPU:0 with 15403 MB memory:  -> device: 0, name: Tesla P100-PCIE-16GB, pci bus id: 0000:00:04.0, compute capability: 6.0\n"
          ]
        }
      ],
      "source": [
        "cnn_model = models.Sequential()\n",
        "cnn_model.add(layers.Conv2D(32, kernel_size=(5,5), activation='relu', input_shape=(28,28,1)))\n",
        "#model.add(layers.BatchNormalization())\n",
        "cnn_model.add(layers.MaxPooling2D((2,2)))\n",
        "cnn_model.add(layers.Conv2D(64, (5,5), activation='relu'))\n",
        "#model.add(layers.BatchNormalization(-1)) does not work :( we will look at it a later submission\n",
        "#cnn_model.add(layers.Dropout(0.25))\n",
        "cnn_model.add(layers.MaxPooling2D((2,2)))\n",
        "\n",
        "cnn_model.add(layers.Flatten())\n",
        "\n",
        "cnn_model.add(layers.Dense(128, activation='relu'))\n",
        "cnn_model.add(layers.BatchNormalization())\n",
        "#cnn_model.add(layers.Dropout(0.5))\n",
        "cnn_model.add(layers.Dense(num_category, activation='softmax'))\n",
        "\n",
        "cnn_model.summary()"
      ]
    },
    {
      "cell_type": "code",
      "execution_count": null,
      "id": "13801936",
      "metadata": {
        "execution": {
          "iopub.execute_input": "2022-01-23T20:33:13.143126Z",
          "iopub.status.busy": "2022-01-23T20:33:13.142586Z",
          "iopub.status.idle": "2022-01-23T20:33:13.148692Z",
          "shell.execute_reply": "2022-01-23T20:33:13.148289Z",
          "shell.execute_reply.started": "2022-01-23T20:31:19.610518Z"
        },
        "papermill": {
          "duration": 0.044021,
          "end_time": "2022-01-23T20:33:13.148825",
          "exception": false,
          "start_time": "2022-01-23T20:33:13.104804",
          "status": "completed"
        },
        "tags": [],
        "id": "13801936"
      },
      "outputs": [],
      "source": [
        "# Compile the model using categorical_crossentropy because we have more than 2 categories\n",
        "cnn_model.compile(loss='categorical_crossentropy', \n",
        "             optimizer=\"rmsprop\",\n",
        "             metrics=['acc'])"
      ]
    },
    {
      "cell_type": "markdown",
      "id": "116a5352",
      "metadata": {
        "papermill": {
          "duration": 0.02969,
          "end_time": "2022-01-23T20:33:13.208215",
          "exception": false,
          "start_time": "2022-01-23T20:33:13.178525",
          "status": "completed"
        },
        "tags": [],
        "id": "116a5352"
      },
      "source": [
        "### Training the model"
      ]
    },
    {
      "cell_type": "code",
      "execution_count": null,
      "id": "cfd99707",
      "metadata": {
        "execution": {
          "iopub.execute_input": "2022-01-23T20:33:13.278231Z",
          "iopub.status.busy": "2022-01-23T20:33:13.277543Z",
          "iopub.status.idle": "2022-01-23T20:33:55.185129Z",
          "shell.execute_reply": "2022-01-23T20:33:55.184407Z",
          "shell.execute_reply.started": "2022-01-23T20:31:19.621212Z"
        },
        "papermill": {
          "duration": 41.946283,
          "end_time": "2022-01-23T20:33:55.185309",
          "exception": false,
          "start_time": "2022-01-23T20:33:13.239026",
          "status": "completed"
        },
        "tags": [],
        "id": "cfd99707",
        "outputId": "4173840e-29b4-43af-891c-8976dd05b669"
      },
      "outputs": [
        {
          "name": "stderr",
          "output_type": "stream",
          "text": [
            "2022-01-23 20:33:13.518958: I tensorflow/compiler/mlir/mlir_graph_optimization_pass.cc:185] None of the MLIR Optimization Passes are enabled (registered 2)\n"
          ]
        },
        {
          "name": "stdout",
          "output_type": "stream",
          "text": [
            "Epoch 1/50\n"
          ]
        },
        {
          "name": "stderr",
          "output_type": "stream",
          "text": [
            "2022-01-23 20:33:15.027366: I tensorflow/stream_executor/cuda/cuda_dnn.cc:369] Loaded cuDNN version 8005\n"
          ]
        },
        {
          "name": "stdout",
          "output_type": "stream",
          "text": [
            "33/33 [==============================] - 8s 26ms/step - loss: 0.3395 - acc: 0.9072 - val_loss: 1.7122 - val_acc: 0.3949\n",
            "Epoch 2/50\n",
            "33/33 [==============================] - 0s 12ms/step - loss: 0.0791 - acc: 0.9799 - val_loss: 1.3693 - val_acc: 0.9190\n",
            "Epoch 3/50\n",
            "33/33 [==============================] - 0s 14ms/step - loss: 0.0482 - acc: 0.9870 - val_loss: 1.0467 - val_acc: 0.9619\n",
            "Epoch 4/50\n",
            "33/33 [==============================] - 0s 13ms/step - loss: 0.0323 - acc: 0.9912 - val_loss: 0.7697 - val_acc: 0.9833\n",
            "Epoch 5/50\n",
            "33/33 [==============================] - 0s 12ms/step - loss: 0.0231 - acc: 0.9940 - val_loss: 0.5714 - val_acc: 0.9787\n",
            "Epoch 6/50\n",
            "33/33 [==============================] - 0s 12ms/step - loss: 0.0167 - acc: 0.9959 - val_loss: 0.3900 - val_acc: 0.9787\n",
            "Epoch 7/50\n",
            "33/33 [==============================] - 0s 13ms/step - loss: 0.0115 - acc: 0.9973 - val_loss: 0.2682 - val_acc: 0.9799\n",
            "Epoch 8/50\n",
            "33/33 [==============================] - 0s 12ms/step - loss: 0.0096 - acc: 0.9978 - val_loss: 0.1237 - val_acc: 0.9851\n",
            "Epoch 9/50\n",
            "33/33 [==============================] - 0s 12ms/step - loss: 0.0064 - acc: 0.9988 - val_loss: 0.1037 - val_acc: 0.9821\n",
            "Epoch 10/50\n",
            "33/33 [==============================] - 0s 12ms/step - loss: 0.0051 - acc: 0.9989 - val_loss: 0.0669 - val_acc: 0.9846\n",
            "Epoch 11/50\n",
            "33/33 [==============================] - 0s 12ms/step - loss: 0.0037 - acc: 0.9994 - val_loss: 0.0691 - val_acc: 0.9806\n",
            "Epoch 12/50\n",
            "33/33 [==============================] - 0s 12ms/step - loss: 0.0037 - acc: 0.9991 - val_loss: 0.0408 - val_acc: 0.9876\n",
            "Epoch 13/50\n",
            "33/33 [==============================] - 0s 12ms/step - loss: 0.0029 - acc: 0.9994 - val_loss: 0.0370 - val_acc: 0.9895\n",
            "Epoch 14/50\n",
            "33/33 [==============================] - 0s 12ms/step - loss: 0.0026 - acc: 0.9994 - val_loss: 0.0338 - val_acc: 0.9901\n",
            "Epoch 15/50\n",
            "33/33 [==============================] - 0s 12ms/step - loss: 0.0022 - acc: 0.9996 - val_loss: 0.0362 - val_acc: 0.9899\n",
            "Epoch 16/50\n",
            "33/33 [==============================] - 0s 13ms/step - loss: 0.0017 - acc: 0.9995 - val_loss: 0.0424 - val_acc: 0.9890\n",
            "Epoch 17/50\n",
            "33/33 [==============================] - 0s 12ms/step - loss: 6.7014e-04 - acc: 0.9999 - val_loss: 0.0330 - val_acc: 0.9917\n",
            "Epoch 18/50\n",
            "33/33 [==============================] - 0s 13ms/step - loss: 0.0031 - acc: 0.9994 - val_loss: 0.0387 - val_acc: 0.9896\n",
            "Epoch 19/50\n",
            "33/33 [==============================] - 0s 12ms/step - loss: 2.6232e-04 - acc: 1.0000 - val_loss: 0.0376 - val_acc: 0.9910\n",
            "Epoch 20/50\n",
            "33/33 [==============================] - 0s 12ms/step - loss: 0.0013 - acc: 0.9997 - val_loss: 0.0393 - val_acc: 0.9905\n",
            "Epoch 21/50\n",
            "33/33 [==============================] - 0s 12ms/step - loss: 2.2091e-04 - acc: 1.0000 - val_loss: 0.0347 - val_acc: 0.9912\n",
            "Epoch 22/50\n",
            "33/33 [==============================] - 0s 12ms/step - loss: 0.0041 - acc: 0.9993 - val_loss: 0.0441 - val_acc: 0.9895\n",
            "Epoch 23/50\n",
            "33/33 [==============================] - 0s 12ms/step - loss: 7.0232e-04 - acc: 0.9999 - val_loss: 0.0440 - val_acc: 0.9896\n",
            "Epoch 24/50\n",
            "33/33 [==============================] - 0s 12ms/step - loss: 1.2539e-04 - acc: 1.0000 - val_loss: 0.0411 - val_acc: 0.9911\n",
            "Epoch 25/50\n",
            "33/33 [==============================] - 0s 12ms/step - loss: 0.0015 - acc: 0.9996 - val_loss: 0.0528 - val_acc: 0.9892\n",
            "Epoch 26/50\n",
            "33/33 [==============================] - 0s 12ms/step - loss: 3.0805e-04 - acc: 0.9999 - val_loss: 0.0402 - val_acc: 0.9906\n",
            "Epoch 27/50\n",
            "33/33 [==============================] - 0s 12ms/step - loss: 4.1204e-05 - acc: 1.0000 - val_loss: 0.0443 - val_acc: 0.9907\n",
            "Epoch 28/50\n",
            "33/33 [==============================] - 0s 12ms/step - loss: 0.0020 - acc: 0.9996 - val_loss: 0.0637 - val_acc: 0.9881\n",
            "Epoch 29/50\n",
            "33/33 [==============================] - 0s 12ms/step - loss: 0.0011 - acc: 0.9997 - val_loss: 0.0530 - val_acc: 0.9896\n",
            "Epoch 30/50\n",
            "33/33 [==============================] - 0s 15ms/step - loss: 0.0019 - acc: 0.9994 - val_loss: 0.0693 - val_acc: 0.9829\n",
            "Epoch 31/50\n",
            "33/33 [==============================] - 0s 13ms/step - loss: 1.9784e-04 - acc: 1.0000 - val_loss: 0.0459 - val_acc: 0.9899\n",
            "Epoch 32/50\n",
            "33/33 [==============================] - 0s 12ms/step - loss: 8.2189e-04 - acc: 0.9997 - val_loss: 0.0754 - val_acc: 0.9852\n",
            "Epoch 33/50\n",
            "33/33 [==============================] - 0s 12ms/step - loss: 4.9574e-04 - acc: 0.9999 - val_loss: 0.0512 - val_acc: 0.9905\n",
            "Epoch 34/50\n",
            "33/33 [==============================] - 0s 12ms/step - loss: 5.0549e-04 - acc: 0.9999 - val_loss: 0.0460 - val_acc: 0.9910\n",
            "Epoch 35/50\n",
            "33/33 [==============================] - 0s 12ms/step - loss: 5.1312e-04 - acc: 0.9998 - val_loss: 0.0497 - val_acc: 0.9898\n",
            "Epoch 36/50\n",
            "33/33 [==============================] - 0s 12ms/step - loss: 0.0015 - acc: 0.9999 - val_loss: 0.0736 - val_acc: 0.9844\n",
            "Epoch 37/50\n",
            "33/33 [==============================] - 0s 12ms/step - loss: 7.1053e-04 - acc: 0.9998 - val_loss: 0.0556 - val_acc: 0.9881\n",
            "Epoch 38/50\n",
            "33/33 [==============================] - 0s 12ms/step - loss: 8.0096e-04 - acc: 0.9997 - val_loss: 0.0530 - val_acc: 0.9900\n",
            "Epoch 39/50\n",
            "33/33 [==============================] - 0s 12ms/step - loss: 0.0014 - acc: 0.9995 - val_loss: 0.0516 - val_acc: 0.9901\n",
            "Epoch 40/50\n",
            "33/33 [==============================] - 0s 12ms/step - loss: 1.2903e-04 - acc: 1.0000 - val_loss: 0.1213 - val_acc: 0.9742\n",
            "Epoch 41/50\n",
            "33/33 [==============================] - 0s 12ms/step - loss: 0.0021 - acc: 0.9996 - val_loss: 0.0451 - val_acc: 0.9913\n",
            "Epoch 42/50\n",
            "33/33 [==============================] - 0s 12ms/step - loss: 3.2674e-05 - acc: 1.0000 - val_loss: 0.0411 - val_acc: 0.9918\n",
            "Epoch 43/50\n",
            "33/33 [==============================] - 0s 12ms/step - loss: 3.2248e-04 - acc: 0.9999 - val_loss: 0.2151 - val_acc: 0.9515\n",
            "Epoch 44/50\n",
            "33/33 [==============================] - 0s 12ms/step - loss: 8.2125e-04 - acc: 0.9997 - val_loss: 0.1729 - val_acc: 0.9630\n",
            "Epoch 45/50\n",
            "33/33 [==============================] - 0s 12ms/step - loss: 9.1633e-04 - acc: 0.9997 - val_loss: 0.0448 - val_acc: 0.9912\n",
            "Epoch 46/50\n",
            "33/33 [==============================] - 0s 12ms/step - loss: 4.6141e-05 - acc: 1.0000 - val_loss: 0.0497 - val_acc: 0.9904\n",
            "Epoch 47/50\n",
            "33/33 [==============================] - 0s 12ms/step - loss: 1.0648e-05 - acc: 1.0000 - val_loss: 0.0513 - val_acc: 0.9907\n",
            "Epoch 48/50\n",
            "33/33 [==============================] - 0s 12ms/step - loss: 0.0010 - acc: 0.9998 - val_loss: 0.0571 - val_acc: 0.9898\n",
            "Epoch 49/50\n",
            "33/33 [==============================] - 0s 12ms/step - loss: 0.0011 - acc: 0.9997 - val_loss: 0.0811 - val_acc: 0.9856\n",
            "Epoch 50/50\n",
            "33/33 [==============================] - 0s 12ms/step - loss: 1.6786e-04 - acc: 1.0000 - val_loss: 0.0511 - val_acc: 0.9913\n"
          ]
        }
      ],
      "source": [
        "history = cnn_model.fit(x_train,\n",
        "                    y_train,\n",
        "                    epochs=50,\n",
        "                    batch_size=1024,\n",
        "                    validation_data=(x_val, y_val))"
      ]
    },
    {
      "cell_type": "markdown",
      "id": "99b8380f",
      "metadata": {
        "papermill": {
          "duration": 0.129762,
          "end_time": "2022-01-23T20:33:55.485750",
          "exception": false,
          "start_time": "2022-01-23T20:33:55.355988",
          "status": "completed"
        },
        "tags": [],
        "id": "99b8380f"
      },
      "source": [
        "### Plotting the results "
      ]
    },
    {
      "cell_type": "code",
      "execution_count": null,
      "id": "fd976f1a",
      "metadata": {
        "execution": {
          "iopub.execute_input": "2022-01-23T20:33:55.763507Z",
          "iopub.status.busy": "2022-01-23T20:33:55.762508Z",
          "iopub.status.idle": "2022-01-23T20:33:56.116767Z",
          "shell.execute_reply": "2022-01-23T20:33:56.116364Z",
          "shell.execute_reply.started": "2022-01-23T20:31:41.206714Z"
        },
        "papermill": {
          "duration": 0.502208,
          "end_time": "2022-01-23T20:33:56.116904",
          "exception": false,
          "start_time": "2022-01-23T20:33:55.614696",
          "status": "completed"
        },
        "tags": [],
        "id": "fd976f1a",
        "outputId": "562caf82-644e-46da-e458-f0e88bccba02"
      },
      "outputs": [
        {
          "data": {
            "image/png": "[encoded data removed]",
            "text/plain": [
              "<Figure size 432x288 with 1 Axes>"
            ]
          },
          "metadata": {
            "needs_background": "light"
          },
          "output_type": "display_data"
        },
        {
          "data": {
            "image/png": "[encoded data removed]",
            "text/plain": [
              "<Figure size 432x288 with 1 Axes>"
            ]
          },
          "metadata": {
            "needs_background": "light"
          },
          "output_type": "display_data"
        }
      ],
      "source": [
        "acc = history.history['acc']\n",
        "val_acc = history.history['val_acc']\n",
        "loss = history.history['loss']\n",
        "val_loss = history.history['val_loss']\n",
        "\n",
        "epochs = range(1, len(acc) + 1)\n",
        "plt.plot(epochs, acc, 'bo', label='Training acc')\n",
        "plt.plot(epochs, val_acc, 'b', label='Validation acc')\n",
        "plt.title('Training and validation accuracy')\n",
        "plt.legend()\n",
        "\n",
        "plt.figure()\n",
        "\n",
        "plt.plot(epochs, loss, 'bo', label='Traiing loss')\n",
        "plt.plot(epochs, val_loss, 'b', label='Validation loss')\n",
        "plt.legend()\n",
        "\n",
        "plt.show()"
      ]
    },
    {
      "cell_type": "code",
      "execution_count": null,
      "id": "42384936",
      "metadata": {
        "execution": {
          "iopub.execute_input": "2022-01-23T20:33:56.647751Z",
          "iopub.status.busy": "2022-01-23T20:33:56.646871Z",
          "iopub.status.idle": "2022-01-23T20:33:57.321319Z",
          "shell.execute_reply": "2022-01-23T20:33:57.320877Z",
          "shell.execute_reply.started": "2022-01-23T20:31:41.610359Z"
        },
        "papermill": {
          "duration": 0.811139,
          "end_time": "2022-01-23T20:33:57.321443",
          "exception": false,
          "start_time": "2022-01-23T20:33:56.510304",
          "status": "completed"
        },
        "tags": [],
        "id": "42384936",
        "outputId": "fceb9253-04f6-41d6-a572-a95f10b4fa4e"
      },
      "outputs": [
        {
          "name": "stdout",
          "output_type": "stream",
          "text": [
            "Shape of labels: (8400, 1)\n",
            "Shape of wrong_cnn_pred: (73, 1) \n",
            "\n",
            "Shape of join: (73, 2) \n",
            "\n"
          ]
        },
        {
          "data": {
            "text/plain": [
              "<AxesSubplot:xlabel='Value', ylabel='count'>"
            ]
          },
          "execution_count": 15,
          "metadata": {},
          "output_type": "execute_result"
        },
        {
          "data": {
            "image/png": "[encoded data removed]",
            "text/plain": [
              "<Figure size 432x288 with 1 Axes>"
            ]
          },
          "metadata": {
            "needs_background": "light"
          },
          "output_type": "display_data"
        }
      ],
      "source": [
        "# Let's look at the predictions from our CNN model\n",
        "cnn_pred = pd.DataFrame(np.argmax(cnn_model.predict(x_val), axis=1), columns=[\"CNN Prediction\"])\n",
        "\n",
        "# Correct labels from input dataset\n",
        "labels = pd.DataFrame(np.argmax(y_val, axis = 1), columns=[\"Value\"])\n",
        "print('Shape of labels:', labels.shape)\n",
        "\n",
        "# Let's see where our model was wrong\n",
        "wrong_cnn_pred = cnn_pred[cnn_pred[\"CNN Prediction\"] != labels['Value']]\n",
        "print('Shape of wrong_cnn_pred:', wrong_cnn_pred.shape, \"\\n\")\n",
        "\n",
        "join = pd.concat([wrong_cnn_pred, labels], axis=1, join=\"inner\")\n",
        "print('Shape of join:', join.shape, \"\\n\")\n",
        "\n",
        "sns.countplot(x=join[\"Value\"])"
      ]
    },
    {
      "cell_type": "code",
      "execution_count": null,
      "id": "3e2f869f",
      "metadata": {
        "execution": {
          "iopub.execute_input": "2022-01-23T20:33:57.865966Z",
          "iopub.status.busy": "2022-01-23T20:33:57.865165Z",
          "iopub.status.idle": "2022-01-23T20:33:59.310875Z",
          "shell.execute_reply": "2022-01-23T20:33:59.310427Z",
          "shell.execute_reply.started": "2022-01-23T20:31:42.267732Z"
        },
        "papermill": {
          "duration": 1.590508,
          "end_time": "2022-01-23T20:33:59.311000",
          "exception": false,
          "start_time": "2022-01-23T20:33:57.720492",
          "status": "completed"
        },
        "tags": [],
        "id": "3e2f869f",
        "outputId": "c7c815f2-28d2-491d-bdd2-071f055d14e8"
      },
      "outputs": [
        {
          "data": {
            "image/png": "[encoded data removed]",
            "text/plain": [
              "<Figure size 432x288 with 1 Axes>"
            ]
          },
          "metadata": {
            "needs_background": "light"
          },
          "output_type": "display_data"
        },
        {
          "data": {
            "image/png": "[encoded data removed]",
            "text/plain": [
              "<Figure size 432x288 with 1 Axes>"
            ]
          },
          "metadata": {
            "needs_background": "light"
          },
          "output_type": "display_data"
        },
        {
          "data": {
            "image/png": "[encoded data removed]",
            "text/plain": [
              "<Figure size 432x288 with 1 Axes>"
            ]
          },
          "metadata": {
            "needs_background": "light"
          },
          "output_type": "display_data"
        },
        {
          "data": {
            "image/png": "[encoded data removed]",
            "text/plain": [
              "<Figure size 432x288 with 1 Axes>"
            ]
          },
          "metadata": {
            "needs_background": "light"
          },
          "output_type": "display_data"
        },
        {
          "data": {
            "image/png": "[encoded data removed]",
            "text/plain": [
              "<Figure size 432x288 with 1 Axes>"
            ]
          },
          "metadata": {
            "needs_background": "light"
          },
          "output_type": "display_data"
        },
        {
          "data": {
            "image/png": "[encoded data removed]",
            "text/plain": [
              "<Figure size 432x288 with 1 Axes>"
            ]
          },
          "metadata": {
            "needs_background": "light"
          },
          "output_type": "display_data"
        },
        {
          "data": {
            "image/png": "[encoded data removed]",
            "text/plain": [
              "<Figure size 432x288 with 1 Axes>"
            ]
          },
          "metadata": {
            "needs_background": "light"
          },
          "output_type": "display_data"
        },
        {
          "data": {
            "image/png": "[encoded data removed]",
            "text/plain": [
              "<Figure size 432x288 with 1 Axes>"
            ]
          },
          "metadata": {
            "needs_background": "light"
          },
          "output_type": "display_data"
        },
        {
          "data": {
            "image/png": "[encoded data removed]",
            "text/plain": [
              "<Figure size 432x288 with 1 Axes>"
            ]
          },
          "metadata": {
            "needs_background": "light"
          },
          "output_type": "display_data"
        },
        {
          "data": {
            "image/png": "[encoded data removed]",
            "text/plain": [
              "<Figure size 432x288 with 1 Axes>"
            ]
          },
          "metadata": {
            "needs_background": "light"
          },
          "output_type": "display_data"
        }
      ],
      "source": [
        "# Loop on all categories (labels)\n",
        "for i in range(0, num_category):\n",
        "    # Filter the join table on the current category\n",
        "    filtered = join[join[\"Value\"] == i]\n",
        "    plt.figure()\n",
        "    sns.countplot(x=filtered[\"CNN Prediction\"]).set(title=\"Mislabelings of {}\".format(i))"
      ]
    },
    {
      "cell_type": "code",
      "execution_count": null,
      "id": "2ea7594c",
      "metadata": {
        "execution": {
          "iopub.execute_input": "2022-01-23T20:33:59.613608Z",
          "iopub.status.busy": "2022-01-23T20:33:59.607546Z",
          "iopub.status.idle": "2022-01-23T20:34:00.276384Z",
          "shell.execute_reply": "2022-01-23T20:34:00.276956Z",
          "shell.execute_reply.started": "2022-01-23T20:31:43.940463Z"
        },
        "papermill": {
          "duration": 0.826612,
          "end_time": "2022-01-23T20:34:00.277112",
          "exception": false,
          "start_time": "2022-01-23T20:33:59.450500",
          "status": "completed"
        },
        "tags": [],
        "id": "2ea7594c",
        "outputId": "190ea137-b0d7-42df-d31f-87c7dedccd72"
      },
      "outputs": [
        {
          "data": {
            "image/png": "[encoded data removed]",
            "text/plain": [
              "<Figure size 432x288 with 9 Axes>"
            ]
          },
          "metadata": {},
          "output_type": "display_data"
        }
      ],
      "source": [
        "fig = plt.figure()\n",
        "j = 0\n",
        "num_plots = min(9, wrong_cnn_pred.shape[0])\n",
        "for i in wrong_cnn_pred.index[:num_plots]:\n",
        "    plt.subplot(3,3,j+1)\n",
        "    plt.tight_layout()\n",
        "    digit = x_val[i].reshape((28,28))\n",
        "    pred_label = wrong_cnn_pred.loc[i].argmax() # we get the index of the max in the row i\n",
        "    correct_label = y_val[i].argmax()\n",
        "    plt.title(\"Predicted: {} | was {}\".format(pred_label, correct_label)) \n",
        "    plt.imshow(digit, cmap='gray', interpolation='none')\n",
        "    plt.xticks([])\n",
        "    plt.yticks([])\n",
        "    j += 1"
      ]
    },
    {
      "cell_type": "code",
      "execution_count": null,
      "id": "60301e07",
      "metadata": {
        "execution": {
          "iopub.execute_input": "2022-01-23T20:34:00.862883Z",
          "iopub.status.busy": "2022-01-23T20:34:00.861050Z",
          "iopub.status.idle": "2022-01-23T20:34:00.863569Z",
          "shell.execute_reply": "2022-01-23T20:34:00.864052Z",
          "shell.execute_reply.started": "2022-01-23T20:31:44.887858Z"
        },
        "papermill": {
          "duration": 0.164734,
          "end_time": "2022-01-23T20:34:00.864201",
          "exception": false,
          "start_time": "2022-01-23T20:34:00.699467",
          "status": "completed"
        },
        "tags": [],
        "id": "60301e07"
      },
      "outputs": [],
      "source": [
        "# scikit-learn expects 2d num arrays for the training dataset for a fit function.\n",
        "# Thefore we need to reshape our arrays\n",
        "x_train = x_train.reshape(x_train.shape[0], x_train.shape[1]*x_train.shape[2])\n",
        "x_val = x_val.reshape(x_val.shape[0], x_val.shape[1]*x_val.shape[2])"
      ]
    },
    {
      "cell_type": "code",
      "execution_count": null,
      "id": "9dec075d",
      "metadata": {
        "execution": {
          "iopub.execute_input": "2022-01-23T20:34:01.155600Z",
          "iopub.status.busy": "2022-01-23T20:34:01.154537Z",
          "iopub.status.idle": "2022-01-23T20:34:01.158974Z",
          "shell.execute_reply": "2022-01-23T20:34:01.159499Z",
          "shell.execute_reply.started": "2022-01-23T20:31:44.897152Z"
        },
        "papermill": {
          "duration": 0.149635,
          "end_time": "2022-01-23T20:34:01.159680",
          "exception": false,
          "start_time": "2022-01-23T20:34:01.010045",
          "status": "completed"
        },
        "tags": [],
        "id": "9dec075d",
        "outputId": "25d1ba68-b80d-47bc-dbfd-b4f56c46586a"
      },
      "outputs": [
        {
          "name": "stdout",
          "output_type": "stream",
          "text": [
            "(33600,)\n",
            "(8400,)\n"
          ]
        }
      ],
      "source": [
        "y_train = np.argmax(y_train, axis=1)\n",
        "print(y_train.shape)\n",
        "y_val = np.argmax(y_val, axis=1)\n",
        "print(y_val.shape)"
      ]
    },
    {
      "cell_type": "markdown",
      "id": "0913041f",
      "metadata": {
        "papermill": {
          "duration": 0.139218,
          "end_time": "2022-01-23T20:34:01.438214",
          "exception": false,
          "start_time": "2022-01-23T20:34:01.298996",
          "status": "completed"
        },
        "tags": [],
        "id": "0913041f"
      },
      "source": [
        "### Build and train RF Classifier model"
      ]
    },
    {
      "cell_type": "code",
      "execution_count": null,
      "id": "3746f59f",
      "metadata": {
        "execution": {
          "iopub.execute_input": "2022-01-23T20:34:01.722060Z",
          "iopub.status.busy": "2022-01-23T20:34:01.721265Z",
          "iopub.status.idle": "2022-01-23T20:34:20.835512Z",
          "shell.execute_reply": "2022-01-23T20:34:20.834973Z",
          "shell.execute_reply.started": "2022-01-23T20:31:44.915328Z"
        },
        "papermill": {
          "duration": 19.256958,
          "end_time": "2022-01-23T20:34:20.835629",
          "exception": false,
          "start_time": "2022-01-23T20:34:01.578671",
          "status": "completed"
        },
        "tags": [],
        "id": "3746f59f",
        "outputId": "aeaeeae3-4b88-49f3-9905-91d4e746e918"
      },
      "outputs": [
        {
          "name": "stdout",
          "output_type": "stream",
          "text": [
            "(8400,)\n"
          ]
        }
      ],
      "source": [
        "rf = RandomForestClassifier(n_estimators=100)\n",
        "rf.fit(x_train, y_train)\n",
        "\n",
        "# Predictions for validation\n",
        "rf_pred = rf.predict(x_val)\n",
        "print(rf_pred.shape)"
      ]
    },
    {
      "cell_type": "code",
      "execution_count": null,
      "id": "e32861cc",
      "metadata": {
        "execution": {
          "iopub.execute_input": "2022-01-23T20:34:21.119149Z",
          "iopub.status.busy": "2022-01-23T20:34:21.118286Z",
          "iopub.status.idle": "2022-01-23T20:34:21.139167Z",
          "shell.execute_reply": "2022-01-23T20:34:21.139583Z",
          "shell.execute_reply.started": "2022-01-23T20:32:04.460100Z"
        },
        "papermill": {
          "duration": 0.164605,
          "end_time": "2022-01-23T20:34:21.139710",
          "exception": false,
          "start_time": "2022-01-23T20:34:20.975105",
          "status": "completed"
        },
        "tags": [],
        "id": "e32861cc",
        "outputId": "cf089aeb-6c5c-4ee1-fefe-82fd0a1c88c3"
      },
      "outputs": [
        {
          "name": "stdout",
          "output_type": "stream",
          "text": [
            "Test data metrics:\n",
            "              precision    recall  f1-score   support\n",
            "\n",
            "           0       0.98      0.98      0.98       813\n",
            "           1       0.99      0.99      0.99       961\n",
            "           2       0.96      0.97      0.97       860\n",
            "           3       0.96      0.95      0.95       863\n",
            "           4       0.96      0.96      0.96       827\n",
            "           5       0.96      0.97      0.96       756\n",
            "           6       0.97      0.98      0.98       841\n",
            "           7       0.97      0.96      0.97       899\n",
            "           8       0.95      0.95      0.95       768\n",
            "           9       0.96      0.94      0.95       812\n",
            "\n",
            "    accuracy                           0.97      8400\n",
            "   macro avg       0.97      0.97      0.97      8400\n",
            "weighted avg       0.97      0.97      0.97      8400\n",
            "\n"
          ]
        }
      ],
      "source": [
        "# Validation data metrics\n",
        "print(\"Test data metrics:\")\n",
        "print(sklearn.metrics.classification_report(y_true= y_val, y_pred= rf_pred))"
      ]
    },
    {
      "cell_type": "code",
      "execution_count": null,
      "id": "5aae18ee",
      "metadata": {
        "execution": {
          "iopub.execute_input": "2022-01-23T20:34:21.424188Z",
          "iopub.status.busy": "2022-01-23T20:34:21.423466Z",
          "iopub.status.idle": "2022-01-23T20:34:21.437255Z",
          "shell.execute_reply": "2022-01-23T20:34:21.436800Z",
          "shell.execute_reply.started": "2022-01-23T20:32:04.487478Z"
        },
        "papermill": {
          "duration": 0.158604,
          "end_time": "2022-01-23T20:34:21.437362",
          "exception": false,
          "start_time": "2022-01-23T20:34:21.278758",
          "status": "completed"
        },
        "tags": [],
        "id": "5aae18ee",
        "outputId": "a5147044-3116-4a73-8b14-b180ef45717f"
      },
      "outputs": [
        {
          "name": "stdout",
          "output_type": "stream",
          "text": [
            "Confusion Report\n",
            "[[793   0   1   2   2   2   6   0   7   0]\n",
            " [  0 947   5   3   1   1   1   1   2   0]\n",
            " [  3   0 837   4   4   0   3   4   5   0]\n",
            " [  0   0  11 820   0  11   1   7   9   4]\n",
            " [  1   2   0   0 796   0   5   2   4  17]\n",
            " [  2   0   0  10   0 734   6   1   3   0]\n",
            " [  3   0   0   0   2   7 828   0   1   0]\n",
            " [  1   3  13   1   6   0   0 865   0  10]\n",
            " [  3   3   3   8   3   8   5   1 731   3]\n",
            " [  7   1   2  10  11   3   0  10   5 763]]\n"
          ]
        }
      ],
      "source": [
        "print (\"Confusion Report\")\n",
        "print(sklearn.metrics.confusion_matrix(y_val, rf_pred))"
      ]
    },
    {
      "cell_type": "markdown",
      "id": "122cddae",
      "metadata": {
        "papermill": {
          "duration": 0.139953,
          "end_time": "2022-01-23T20:34:21.716022",
          "exception": false,
          "start_time": "2022-01-23T20:34:21.576069",
          "status": "completed"
        },
        "tags": [],
        "id": "122cddae"
      },
      "source": [
        "SVM\n"
      ]
    },
    {
      "cell_type": "code",
      "execution_count": null,
      "id": "9524f4fa",
      "metadata": {
        "execution": {
          "iopub.execute_input": "2022-01-23T20:34:22.000450Z",
          "iopub.status.busy": "2022-01-23T20:34:21.999368Z",
          "iopub.status.idle": "2022-01-23T20:34:36.694969Z",
          "shell.execute_reply": "2022-01-23T20:34:36.695995Z",
          "shell.execute_reply.started": "2022-01-23T20:32:04.508189Z"
        },
        "papermill": {
          "duration": 14.840604,
          "end_time": "2022-01-23T20:34:36.696239",
          "exception": false,
          "start_time": "2022-01-23T20:34:21.855635",
          "status": "completed"
        },
        "tags": [],
        "id": "9524f4fa",
        "outputId": "fbef96f4-1e4c-4dee-f878-43b77faaf142"
      },
      "outputs": [
        {
          "name": "stdout",
          "output_type": "stream",
          "text": [
            "(8400,)\n"
          ]
        }
      ],
      "source": [
        "svc = LinearSVC(dual=False)\n",
        "svc.fit(x_train, y_train)\n",
        "\n",
        "# Predictions for validation\n",
        "svc_pred = svc.predict(x_val)\n",
        "print(svc_pred.shape)"
      ]
    },
    {
      "cell_type": "code",
      "execution_count": null,
      "id": "7e8ce60c",
      "metadata": {
        "execution": {
          "iopub.execute_input": "2022-01-23T20:34:37.046360Z",
          "iopub.status.busy": "2022-01-23T20:34:37.045577Z",
          "iopub.status.idle": "2022-01-23T20:34:37.063198Z",
          "shell.execute_reply": "2022-01-23T20:34:37.063611Z",
          "shell.execute_reply.started": "2022-01-23T20:32:20.873506Z"
        },
        "papermill": {
          "duration": 0.164554,
          "end_time": "2022-01-23T20:34:37.063740",
          "exception": false,
          "start_time": "2022-01-23T20:34:36.899186",
          "status": "completed"
        },
        "tags": [],
        "id": "7e8ce60c",
        "outputId": "2e88be5e-0bf0-4853-81b4-1f87c9628b31"
      },
      "outputs": [
        {
          "name": "stdout",
          "output_type": "stream",
          "text": [
            "Test data metrics:\n",
            "              precision    recall  f1-score   support\n",
            "\n",
            "           0       0.95      0.95      0.95       813\n",
            "           1       0.96      0.98      0.97       961\n",
            "           2       0.91      0.88      0.90       860\n",
            "           3       0.90      0.87      0.89       863\n",
            "           4       0.91      0.91      0.91       827\n",
            "           5       0.85      0.87      0.86       756\n",
            "           6       0.94      0.96      0.95       841\n",
            "           7       0.93      0.93      0.93       899\n",
            "           8       0.86      0.86      0.86       768\n",
            "           9       0.88      0.87      0.88       812\n",
            "\n",
            "    accuracy                           0.91      8400\n",
            "   macro avg       0.91      0.91      0.91      8400\n",
            "weighted avg       0.91      0.91      0.91      8400\n",
            "\n"
          ]
        }
      ],
      "source": [
        "# Validation data metrics\n",
        "print(\"Test data metrics:\")\n",
        "print(sklearn.metrics.classification_report(y_true= y_val, y_pred= svc_pred))"
      ]
    },
    {
      "cell_type": "code",
      "execution_count": null,
      "id": "6aa675ff",
      "metadata": {
        "execution": {
          "iopub.execute_input": "2022-01-23T20:34:37.346760Z",
          "iopub.status.busy": "2022-01-23T20:34:37.345998Z",
          "iopub.status.idle": "2022-01-23T20:34:37.361172Z",
          "shell.execute_reply": "2022-01-23T20:34:37.360722Z",
          "shell.execute_reply.started": "2022-01-23T20:32:20.918029Z"
        },
        "papermill": {
          "duration": 0.158566,
          "end_time": "2022-01-23T20:34:37.361284",
          "exception": false,
          "start_time": "2022-01-23T20:34:37.202718",
          "status": "completed"
        },
        "tags": [],
        "id": "6aa675ff",
        "outputId": "4e9cbeb5-aa89-4b2c-d307-af4c0b675f3d"
      },
      "outputs": [
        {
          "name": "stdout",
          "output_type": "stream",
          "text": [
            "Confusion Report\n",
            "[[776   0   3   2   2   7  14   0   6   3]\n",
            " [  0 937   8   3   1   3   2   0   7   0]\n",
            " [  5   8 761  18  12   5   9  15  26   1]\n",
            " [  3   2  27 755   2  36   3   8  15  12]\n",
            " [  2   9   8   1 755   3   4   0   8  37]\n",
            " [  8   3   3  31   5 658  11   3  27   7]\n",
            " [  3   0   8   0   7  12 806   0   5   0]\n",
            " [  3   5  14   3  11   3   1 832   3  24]\n",
            " [  4   9   5  19  10  33   9   2 664  13]\n",
            " [  9   3   3  11  24  10   0  32  10 710]]\n"
          ]
        }
      ],
      "source": [
        "print (\"Confusion Report\")\n",
        "print(sklearn.metrics.confusion_matrix(y_val, svc_pred))"
      ]
    },
    {
      "cell_type": "code",
      "execution_count": null,
      "id": "c81b3edf",
      "metadata": {
        "execution": {
          "iopub.execute_input": "2022-01-23T20:34:37.949412Z",
          "iopub.status.busy": "2022-01-23T20:34:37.948832Z",
          "iopub.status.idle": "2022-01-23T20:34:37.951496Z",
          "shell.execute_reply": "2022-01-23T20:34:37.951907Z",
          "shell.execute_reply.started": "2022-01-23T20:32:20.953545Z"
        },
        "papermill": {
          "duration": 0.16918,
          "end_time": "2022-01-23T20:34:37.952037",
          "exception": false,
          "start_time": "2022-01-23T20:34:37.782857",
          "status": "completed"
        },
        "tags": [],
        "id": "c81b3edf",
        "outputId": "c28b645e-04f8-431e-d8cf-4df18a53b563"
      },
      "outputs": [
        {
          "data": {
            "text/html": [
              "<div>\n",
              "<style scoped>\n",
              "    .dataframe tbody tr th:only-of-type {\n",
              "        vertical-align: middle;\n",
              "    }\n",
              "\n",
              "    .dataframe tbody tr th {\n",
              "        vertical-align: top;\n",
              "    }\n",
              "\n",
              "    .dataframe thead th {\n",
              "        text-align: right;\n",
              "    }\n",
              "</style>\n",
              "<table border=\"1\" class=\"dataframe\">\n",
              "  <thead>\n",
              "    <tr style=\"text-align: right;\">\n",
              "      <th></th>\n",
              "      <th>CNN Prediction</th>\n",
              "      <th>RF Prediction</th>\n",
              "      <th>SVC Prediction</th>\n",
              "      <th>Value</th>\n",
              "    </tr>\n",
              "  </thead>\n",
              "  <tbody>\n",
              "    <tr>\n",
              "      <th>0</th>\n",
              "      <td>3</td>\n",
              "      <td>3</td>\n",
              "      <td>3</td>\n",
              "      <td>3</td>\n",
              "    </tr>\n",
              "    <tr>\n",
              "      <th>1</th>\n",
              "      <td>6</td>\n",
              "      <td>6</td>\n",
              "      <td>6</td>\n",
              "      <td>6</td>\n",
              "    </tr>\n",
              "    <tr>\n",
              "      <th>2</th>\n",
              "      <td>9</td>\n",
              "      <td>9</td>\n",
              "      <td>9</td>\n",
              "      <td>9</td>\n",
              "    </tr>\n",
              "    <tr>\n",
              "      <th>3</th>\n",
              "      <td>5</td>\n",
              "      <td>5</td>\n",
              "      <td>5</td>\n",
              "      <td>5</td>\n",
              "    </tr>\n",
              "    <tr>\n",
              "      <th>4</th>\n",
              "      <td>6</td>\n",
              "      <td>6</td>\n",
              "      <td>6</td>\n",
              "      <td>6</td>\n",
              "    </tr>\n",
              "  </tbody>\n",
              "</table>\n",
              "</div>"
            ],
            "text/plain": [
              "   CNN Prediction  RF Prediction  SVC Prediction  Value\n",
              "0               3              3               3      3\n",
              "1               6              6               6      6\n",
              "2               9              9               9      9\n",
              "3               5              5               5      5\n",
              "4               6              6               6      6"
            ]
          },
          "execution_count": 26,
          "metadata": {},
          "output_type": "execute_result"
        }
      ],
      "source": [
        "rf_pred = pd.DataFrame(rf_pred, columns=[\"RF Prediction\"])\n",
        "svc_pred = pd.DataFrame(svc_pred, columns=[\"SVC Prediction\"])\n",
        "all_pred = pd.concat([cnn_pred, rf_pred, svc_pred, labels], axis=1)\n",
        "all_pred.head()"
      ]
    },
    {
      "cell_type": "code",
      "execution_count": null,
      "id": "85804895",
      "metadata": {
        "execution": {
          "iopub.execute_input": "2022-01-23T20:34:38.530108Z",
          "iopub.status.busy": "2022-01-23T20:34:38.529175Z",
          "iopub.status.idle": "2022-01-23T20:34:38.538308Z",
          "shell.execute_reply": "2022-01-23T20:34:38.537719Z",
          "shell.execute_reply.started": "2022-01-23T20:32:20.980463Z"
        },
        "papermill": {
          "duration": 0.162413,
          "end_time": "2022-01-23T20:34:38.538468",
          "exception": false,
          "start_time": "2022-01-23T20:34:38.376055",
          "status": "completed"
        },
        "tags": [],
        "id": "85804895",
        "outputId": "92d310e5-761a-4b0c-a827-467d338d2b38"
      },
      "outputs": [
        {
          "name": "stdout",
          "output_type": "stream",
          "text": [
            "{'all wrong': 51, 'only CNN correct': 178, 'only CNN correct_RF and SVC wrong with same value': 126, 'only RF correct': 10, 'only SVC correct': 4, 'RF SCV correct_CNN wrong': 8}\n"
          ]
        }
      ],
      "source": [
        "# CNN has the best accuracy until now\n",
        "# Let's see if we can improve it by using the RF and SVC models\n",
        "# We don't want to give to much weight to RF and SVC because they would otherwise decrease the whole accuracy\n",
        "# Therefore let's focus on the errors of CNN model and look at the prediction of RF and SVC\n",
        "pred_dict = dict()\n",
        "\n",
        "pred_dict[\"all wrong\"] = len(all_pred[(all_pred[\"CNN Prediction\"] != all_pred[\"Value\"]) & \n",
        "                                      (all_pred[\"RF Prediction\"] != all_pred[\"Value\"]) &\n",
        "                                      (all_pred[\"SVC Prediction\"] != all_pred[\"Value\"])].index)\n",
        "\n",
        "pred_dict[\"only CNN correct\"] = len(all_pred[(all_pred[\"CNN Prediction\"] == all_pred[\"Value\"]) & \n",
        "                                      (all_pred[\"RF Prediction\"] != all_pred[\"Value\"]) &\n",
        "                                      (all_pred[\"SVC Prediction\"] != all_pred[\"Value\"])].index)\n",
        "\n",
        "pred_dict[\"only CNN correct_RF and SVC wrong with same value\"] = len(all_pred[(all_pred[\"CNN Prediction\"] == all_pred[\"Value\"]) & \n",
        "                                      (all_pred[\"RF Prediction\"] != all_pred[\"Value\"]) &\n",
        "                                      (all_pred[\"SVC Prediction\"] != all_pred[\"Value\"]) &\n",
        "                                      (all_pred[\"SVC Prediction\"] == all_pred[\"RF Prediction\"])].index)\n",
        "\n",
        "pred_dict[\"only RF correct\"] = len(all_pred[(all_pred[\"CNN Prediction\"] != all_pred[\"Value\"]) & \n",
        "                                      (all_pred[\"RF Prediction\"] == all_pred[\"Value\"]) &\n",
        "                                      (all_pred[\"SVC Prediction\"] != all_pred[\"Value\"])].index)\n",
        "\n",
        "pred_dict[\"only SVC correct\"] = len(all_pred[(all_pred[\"CNN Prediction\"] != all_pred[\"Value\"]) & \n",
        "                                      (all_pred[\"RF Prediction\"] != all_pred[\"Value\"]) &\n",
        "                                      (all_pred[\"SVC Prediction\"] == all_pred[\"Value\"])].index)\n",
        "\n",
        "pred_dict[\"RF SCV correct_CNN wrong\"] = len(all_pred[(all_pred[\"CNN Prediction\"] != all_pred[\"Value\"]) & \n",
        "                                      (all_pred[\"RF Prediction\"] == all_pred[\"Value\"]) &\n",
        "                                      (all_pred[\"SVC Prediction\"] == all_pred[\"Value\"])].index)\n",
        "\n",
        "print(pred_dict)  "
      ]
    },
    {
      "cell_type": "code",
      "execution_count": null,
      "id": "3d3ba6d4",
      "metadata": {
        "execution": {
          "iopub.execute_input": "2022-01-23T20:34:39.297665Z",
          "iopub.status.busy": "2022-01-23T20:34:39.296869Z",
          "iopub.status.idle": "2022-01-23T20:34:40.734509Z",
          "shell.execute_reply": "2022-01-23T20:34:40.734917Z",
          "shell.execute_reply.started": "2022-01-23T20:32:21.009552Z"
        },
        "papermill": {
          "duration": 1.682985,
          "end_time": "2022-01-23T20:34:40.735083",
          "exception": false,
          "start_time": "2022-01-23T20:34:39.052098",
          "status": "completed"
        },
        "tags": [],
        "id": "3d3ba6d4",
        "outputId": "0b815433-6810-443d-9f9e-33e42e61bfb8"
      },
      "outputs": [
        {
          "data": {
            "text/plain": [
              "(28000, 10)"
            ]
          },
          "execution_count": 28,
          "metadata": {},
          "output_type": "execute_result"
        }
      ],
      "source": [
        "final_pred = cnn_model.predict(x_test)\n",
        "final_pred.shape"
      ]
    },
    {
      "cell_type": "code",
      "execution_count": null,
      "id": "312d7270",
      "metadata": {
        "execution": {
          "iopub.execute_input": "2022-01-23T20:34:41.030002Z",
          "iopub.status.busy": "2022-01-23T20:34:41.027125Z",
          "iopub.status.idle": "2022-01-23T20:34:42.333867Z",
          "shell.execute_reply": "2022-01-23T20:34:42.333373Z",
          "shell.execute_reply.started": "2022-01-23T20:32:22.551744Z"
        },
        "papermill": {
          "duration": 1.454973,
          "end_time": "2022-01-23T20:34:42.334003",
          "exception": false,
          "start_time": "2022-01-23T20:34:40.879030",
          "status": "completed"
        },
        "tags": [],
        "id": "312d7270"
      },
      "outputs": [],
      "source": [
        "y_pred = final_pred.argmax(axis=1)\n",
        "ImageID = np.arange(len(y_pred))+1\n",
        "Out = pd.DataFrame([ImageID,y_pred]).T\n",
        "Out.rename(columns = {0:'ImageId', 1:'Label'})\n",
        "#Out\n",
        "Out.to_csv('submission.csv', header =  ['ImageId', 'Label' ], index = None)"
      ]
    }
  ],
  "metadata": {
    "kernelspec": {
      "display_name": "Python 3",
      "language": "python",
      "name": "python3"
    },
    "language_info": {
      "codemirror_mode": {
        "name": "ipython",
        "version": 3
      },
      "file_extension": ".py",
      "mimetype": "text/x-python",
      "name": "python",
      "nbconvert_exporter": "python",
      "pygments_lexer": "ipython3",
      "version": "3.7.12"
    },
    "papermill": {
      "default_parameters": {},
      "duration": 115.468786,
      "end_time": "2022-01-23T20:34:45.788552",
      "environment_variables": {},
      "exception": null,
      "input_path": "__notebook__.ipynb",
      "output_path": "__notebook__.ipynb",
      "parameters": {},
      "start_time": "2022-01-23T20:32:50.319766",
      "version": "2.3.3"
    },
    "colab": {
      "name": "mnist-cnn-rf-svm-ensembling.ipynb",
      "provenance": []
    }
  },
  "nbformat": 4,
  "nbformat_minor": 5
}