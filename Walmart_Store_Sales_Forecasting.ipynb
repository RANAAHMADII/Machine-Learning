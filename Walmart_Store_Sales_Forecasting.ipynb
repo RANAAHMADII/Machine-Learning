{
  "nbformat": 4,
  "nbformat_minor": 0,
  "metadata": {
    "kernelspec": {
      "display_name": "Python 3",
      "language": "python",
      "name": "python3"
    },
    "language_info": {
      "codemirror_mode": {
        "name": "ipython",
        "version": 3
      },
      "file_extension": ".py",
      "mimetype": "text/x-python",
      "name": "python",
      "nbconvert_exporter": "python",
      "pygments_lexer": "ipython3",
      "version": "3.7.4"
    },
    "colab": {
      "name": "Walmart Store Sales Forecasting.ipynb",
      "provenance": [],
      "collapsed_sections": [],
      "machine_shape": "hm"
    }
  },
  "cells": [
    {
      "cell_type": "code",
      "metadata": {
        "id": "1rZrXVel6WVa"
      },
      "source": [
        "import numpy as np \n",
        "import pandas as pd"
      ],
      "execution_count": 1,
      "outputs": []
    },
    {
      "cell_type": "code",
      "metadata": {
        "id": "_lBpouU36WVq"
      },
      "source": [
        "import matplotlib.pyplot as plt\n",
        "# %inline matplotlib.pyplot "
      ],
      "execution_count": 2,
      "outputs": []
    },
    {
      "cell_type": "code",
      "source": [
        "!unzip /content/Walmart-Store-Sales-Forecasting-main.zip"
      ],
      "metadata": {
        "colab": {
          "base_uri": "https://localhost:8080/"
        },
        "id": "75brimAyawE9",
        "outputId": "87539248-392d-4774-ffca-d9a4a87e0668"
      },
      "execution_count": 3,
      "outputs": [
        {
          "output_type": "stream",
          "name": "stdout",
          "text": [
            "Archive:  /content/Walmart-Store-Sales-Forecasting-main.zip\n",
            "ed29cd0cb6bf8cf23d15ac6d41096b189b9438e8\n",
            "   creating: Walmart-Store-Sales-Forecasting-main/\n",
            "  inflating: Walmart-Store-Sales-Forecasting-main/README.md  \n",
            "  inflating: Walmart-Store-Sales-Forecasting-main/STORE SALES FORECASTING.pdf  \n",
            "  inflating: Walmart-Store-Sales-Forecasting-main/Supervised Learning Template.xlsx  \n",
            "  inflating: Walmart-Store-Sales-Forecasting-main/Walmart_Store_Sales_Forecasting.ipynb  \n",
            "  inflating: Walmart-Store-Sales-Forecasting-main/continuous_summary.csv  \n",
            "  inflating: Walmart-Store-Sales-Forecasting-main/corelation.csv  \n",
            "  inflating: Walmart-Store-Sales-Forecasting-main/features.csv  \n",
            "  inflating: Walmart-Store-Sales-Forecasting-main/sampleSubmission.csv  \n",
            "  inflating: Walmart-Store-Sales-Forecasting-main/stores.csv  \n",
            "  inflating: Walmart-Store-Sales-Forecasting-main/test.csv  \n",
            "  inflating: Walmart-Store-Sales-Forecasting-main/train.csv  \n",
            "  inflating: Walmart-Store-Sales-Forecasting-main/weekly_sales predicted.csv  \n"
          ]
        }
      ]
    },
    {
      "cell_type": "code",
      "source": [
        "from google.colab import drive\n",
        "drive.mount('/content/drive')"
      ],
      "metadata": {
        "colab": {
          "base_uri": "https://localhost:8080/"
        },
        "id": "dqHC32eLa019",
        "outputId": "d2dfd22d-9b1a-464b-b82f-f507457a91b6"
      },
      "execution_count": 4,
      "outputs": [
        {
          "output_type": "stream",
          "name": "stdout",
          "text": [
            "Mounted at /content/drive\n"
          ]
        }
      ]
    },
    {
      "cell_type": "code",
      "metadata": {
        "id": "M9Lexnod6WV3"
      },
      "source": [
        "features = pd.read_csv('/content/drive/MyDrive/dataset store/features.csv')\n",
        "stores = pd.read_csv('/content/drive/MyDrive/dataset store/stores.csv')\n",
        "test = pd.read_csv('/content/drive/MyDrive/dataset store/test.csv')\n",
        "train = pd.read_csv('/content/drive/MyDrive/dataset store/train.csv')\n"
      ],
      "execution_count": 5,
      "outputs": []
    },
    {
      "cell_type": "code",
      "metadata": {
        "id": "jnfbJTND6WWF",
        "outputId": "b411674a-7a38-429a-87e3-d8cbb7702e3a",
        "colab": {
          "base_uri": "https://localhost:8080/"
        }
      },
      "source": [
        "print('Features : ', features.shape)\n",
        "print('Stores   : ', stores.shape )\n",
        "print('Test     : ', test.shape)\n",
        "print('Train    : ', train.shape)"
      ],
      "execution_count": 6,
      "outputs": [
        {
          "output_type": "stream",
          "name": "stdout",
          "text": [
            "Features :  (8190, 12)\n",
            "Stores   :  (45, 3)\n",
            "Test     :  (115064, 4)\n",
            "Train    :  (421570, 5)\n"
          ]
        }
      ]
    },
    {
      "cell_type": "code",
      "metadata": {
        "id": "1MY2-oP66WWS",
        "outputId": "61598260-5164-424f-a430-565a27c2fad9",
        "colab": {
          "base_uri": "https://localhost:8080/"
        }
      },
      "source": [
        "features.info()"
      ],
      "execution_count": 7,
      "outputs": [
        {
          "output_type": "stream",
          "name": "stdout",
          "text": [
            "<class 'pandas.core.frame.DataFrame'>\n",
            "RangeIndex: 8190 entries, 0 to 8189\n",
            "Data columns (total 12 columns):\n",
            " #   Column        Non-Null Count  Dtype  \n",
            "---  ------        --------------  -----  \n",
            " 0   Store         8190 non-null   int64  \n",
            " 1   Date          8190 non-null   object \n",
            " 2   Temperature   8190 non-null   float64\n",
            " 3   Fuel_Price    8190 non-null   float64\n",
            " 4   MarkDown1     4032 non-null   float64\n",
            " 5   MarkDown2     2921 non-null   float64\n",
            " 6   MarkDown3     3613 non-null   float64\n",
            " 7   MarkDown4     3464 non-null   float64\n",
            " 8   MarkDown5     4050 non-null   float64\n",
            " 9   CPI           7605 non-null   float64\n",
            " 10  Unemployment  7605 non-null   float64\n",
            " 11  IsHoliday     8190 non-null   bool   \n",
            "dtypes: bool(1), float64(9), int64(1), object(1)\n",
            "memory usage: 712.0+ KB\n"
          ]
        }
      ]
    },
    {
      "cell_type": "code",
      "metadata": {
        "id": "hjcUasEM6WWc",
        "colab": {
          "base_uri": "https://localhost:8080/"
        },
        "outputId": "efe99eac-a4dd-4975-c1d7-310b7579e53a"
      },
      "source": [
        "stores.info()"
      ],
      "execution_count": 8,
      "outputs": [
        {
          "output_type": "stream",
          "name": "stdout",
          "text": [
            "<class 'pandas.core.frame.DataFrame'>\n",
            "RangeIndex: 45 entries, 0 to 44\n",
            "Data columns (total 3 columns):\n",
            " #   Column  Non-Null Count  Dtype \n",
            "---  ------  --------------  ----- \n",
            " 0   Store   45 non-null     int64 \n",
            " 1   Type    45 non-null     object\n",
            " 2   Size    45 non-null     int64 \n",
            "dtypes: int64(2), object(1)\n",
            "memory usage: 1.2+ KB\n"
          ]
        }
      ]
    },
    {
      "cell_type": "code",
      "metadata": {
        "id": "Ol00qODD6WWk",
        "outputId": "74147eb3-e9c7-4f97-c3d7-c2973147c828",
        "colab": {
          "base_uri": "https://localhost:8080/"
        }
      },
      "source": [
        "train.info()"
      ],
      "execution_count": 9,
      "outputs": [
        {
          "output_type": "stream",
          "name": "stdout",
          "text": [
            "<class 'pandas.core.frame.DataFrame'>\n",
            "RangeIndex: 421570 entries, 0 to 421569\n",
            "Data columns (total 5 columns):\n",
            " #   Column        Non-Null Count   Dtype  \n",
            "---  ------        --------------   -----  \n",
            " 0   Store         421570 non-null  int64  \n",
            " 1   Dept          421570 non-null  int64  \n",
            " 2   Date          421570 non-null  object \n",
            " 3   Weekly_Sales  421570 non-null  float64\n",
            " 4   IsHoliday     421570 non-null  bool   \n",
            "dtypes: bool(1), float64(1), int64(2), object(1)\n",
            "memory usage: 13.3+ MB\n"
          ]
        }
      ]
    },
    {
      "cell_type": "code",
      "metadata": {
        "id": "kjtBwDw46WWr",
        "colab": {
          "base_uri": "https://localhost:8080/"
        },
        "outputId": "8de1a5f7-a21c-472e-efe1-32f403d63b0f"
      },
      "source": [
        "test.info()"
      ],
      "execution_count": 10,
      "outputs": [
        {
          "output_type": "stream",
          "name": "stdout",
          "text": [
            "<class 'pandas.core.frame.DataFrame'>\n",
            "RangeIndex: 115064 entries, 0 to 115063\n",
            "Data columns (total 4 columns):\n",
            " #   Column     Non-Null Count   Dtype \n",
            "---  ------     --------------   ----- \n",
            " 0   Store      115064 non-null  int64 \n",
            " 1   Dept       115064 non-null  int64 \n",
            " 2   Date       115064 non-null  object\n",
            " 3   IsHoliday  115064 non-null  bool  \n",
            "dtypes: bool(1), int64(2), object(1)\n",
            "memory usage: 2.7+ MB\n"
          ]
        }
      ]
    },
    {
      "cell_type": "markdown",
      "metadata": {
        "id": "4qHQXyg-6WW0"
      },
      "source": [
        "---\n",
        "#### Missing Value Treatment \n",
        "---"
      ]
    },
    {
      "cell_type": "code",
      "metadata": {
        "id": "2099N9_A6WW1",
        "outputId": "de6e87aa-75d8-4f99-9a2a-1251a6fa887f",
        "colab": {
          "base_uri": "https://localhost:8080/"
        }
      },
      "source": [
        "features.isnull().sum()"
      ],
      "execution_count": 14,
      "outputs": [
        {
          "output_type": "execute_result",
          "data": {
            "text/plain": [
              "Store           0\n",
              "Date            0\n",
              "Temperature     0\n",
              "Fuel_Price      0\n",
              "MarkDown1       0\n",
              "MarkDown2       0\n",
              "MarkDown3       0\n",
              "MarkDown4       0\n",
              "MarkDown5       0\n",
              "CPI             0\n",
              "Unemployment    0\n",
              "IsHoliday       0\n",
              "dtype: int64"
            ]
          },
          "metadata": {},
          "execution_count": 14
        }
      ]
    },
    {
      "cell_type": "markdown",
      "metadata": {
        "id": "nXOjfBvI6WW9"
      },
      "source": [
        "As we have few NaN for CPI and Unemployment, therefore we fill the missing values with their respective column mean. And as MarkDowns have more missing values we impute zeros in missing places respectively"
      ]
    },
    {
      "cell_type": "code",
      "metadata": {
        "id": "U2k30buv6WW_"
      },
      "source": [
        "# Treat Missing Values with their respective mean\n",
        "features['CPI'] = features['CPI'].fillna(np.mean(features['CPI'] ))\n",
        "features['Unemployment'] = features['Unemployment'].fillna(np.mean(features['Unemployment'] ))\n",
        "\n",
        "# Treat Missing Values with zeroes\n",
        "features['MarkDown1'] = features['MarkDown1'].fillna(0)\n",
        "features['MarkDown2'] = features['MarkDown1'].fillna(0)\n",
        "features['MarkDown3'] = features['MarkDown1'].fillna(0)\n",
        "features['MarkDown4'] = features['MarkDown1'].fillna(0)\n",
        "features['MarkDown5'] = features['MarkDown1'].fillna(0)"
      ],
      "execution_count": 15,
      "outputs": []
    },
    {
      "cell_type": "code",
      "metadata": {
        "id": "2IbEd9HA6WXG",
        "outputId": "bc2f896c-7711-4fa5-f745-946f97e22c67",
        "colab": {
          "base_uri": "https://localhost:8080/"
        }
      },
      "source": [
        "features.isnull().sum()"
      ],
      "execution_count": 16,
      "outputs": [
        {
          "output_type": "execute_result",
          "data": {
            "text/plain": [
              "Store           0\n",
              "Date            0\n",
              "Temperature     0\n",
              "Fuel_Price      0\n",
              "MarkDown1       0\n",
              "MarkDown2       0\n",
              "MarkDown3       0\n",
              "MarkDown4       0\n",
              "MarkDown5       0\n",
              "CPI             0\n",
              "Unemployment    0\n",
              "IsHoliday       0\n",
              "dtype: int64"
            ]
          },
          "metadata": {},
          "execution_count": 16
        }
      ]
    },
    {
      "cell_type": "markdown",
      "metadata": {
        "id": "77kmmFUs6WXO"
      },
      "source": [
        "<b> Missing values has been treated successfully. </b>"
      ]
    },
    {
      "cell_type": "markdown",
      "metadata": {
        "id": "hn6aVVdK6WXR"
      },
      "source": [
        "### Merging with the Train ndata\n",
        "---"
      ]
    },
    {
      "cell_type": "code",
      "metadata": {
        "id": "gWkkFloA6WXS",
        "outputId": "f79ce07a-9622-4f78-904b-82eacdd66d70",
        "colab": {
          "base_uri": "https://localhost:8080/"
        }
      },
      "source": [
        "print(features.columns)\n",
        "print(features.shape)"
      ],
      "execution_count": 17,
      "outputs": [
        {
          "output_type": "stream",
          "name": "stdout",
          "text": [
            "Index(['Store', 'Date', 'Temperature', 'Fuel_Price', 'MarkDown1', 'MarkDown2',\n",
            "       'MarkDown3', 'MarkDown4', 'MarkDown5', 'CPI', 'Unemployment',\n",
            "       'IsHoliday'],\n",
            "      dtype='object')\n",
            "(8190, 12)\n"
          ]
        }
      ]
    },
    {
      "cell_type": "code",
      "metadata": {
        "id": "DxePYGG16WXY",
        "outputId": "f8a59057-0f45-4ba3-d02c-6f5fbfe48de0",
        "colab": {
          "base_uri": "https://localhost:8080/"
        }
      },
      "source": [
        "print(train.columns)\n",
        "print(train.shape)\n",
        "\n",
        "print(stores.columns)"
      ],
      "execution_count": 18,
      "outputs": [
        {
          "output_type": "stream",
          "name": "stdout",
          "text": [
            "Index(['Store', 'Dept', 'Date', 'Weekly_Sales', 'IsHoliday'], dtype='object')\n",
            "(421570, 5)\n",
            "Index(['Store', 'Type', 'Size'], dtype='object')\n"
          ]
        }
      ]
    },
    {
      "cell_type": "code",
      "metadata": {
        "id": "GMPW344u6WXh"
      },
      "source": [
        "# Merge feature and training data\n",
        "new_df = pd.merge(features, train, on = ['Store', 'Date', 'IsHoliday'], how = 'inner')\n",
        "\n",
        "# merging(adding) all stores info with new training data\n",
        "df = pd.merge(new_df, stores, on = ['Store'], how = 'inner')"
      ],
      "execution_count": 19,
      "outputs": []
    },
    {
      "cell_type": "code",
      "metadata": {
        "id": "DQqOoxha6WXn",
        "outputId": "4a914b9e-151a-4e75-de75-aca3d4792629",
        "colab": {
          "base_uri": "https://localhost:8080/"
        }
      },
      "source": [
        "print(new_df.shape)\n",
        "print(df.shape)"
      ],
      "execution_count": 20,
      "outputs": [
        {
          "output_type": "stream",
          "name": "stdout",
          "text": [
            "(421570, 14)\n",
            "(421570, 16)\n"
          ]
        }
      ]
    },
    {
      "cell_type": "code",
      "metadata": {
        "id": "l99cVKtL6WXu",
        "outputId": "75cfd780-3349-4765-eda0-33135b2dcd48",
        "colab": {
          "base_uri": "https://localhost:8080/",
          "height": 356
        }
      },
      "source": [
        "df.head()"
      ],
      "execution_count": 21,
      "outputs": [
        {
          "output_type": "execute_result",
          "data": {
            "text/html": [
              "\n",
              "  <div id=\"df-e1025b04-7035-4336-8c28-d9811447f1b8\">\n",
              "    <div class=\"colab-df-container\">\n",
              "      <div>\n",
              "<style scoped>\n",
              "    .dataframe tbody tr th:only-of-type {\n",
              "        vertical-align: middle;\n",
              "    }\n",
              "\n",
              "    .dataframe tbody tr th {\n",
              "        vertical-align: top;\n",
              "    }\n",
              "\n",
              "    .dataframe thead th {\n",
              "        text-align: right;\n",
              "    }\n",
              "</style>\n",
              "<table border=\"1\" class=\"dataframe\">\n",
              "  <thead>\n",
              "    <tr style=\"text-align: right;\">\n",
              "      <th></th>\n",
              "      <th>Store</th>\n",
              "      <th>Date</th>\n",
              "      <th>Temperature</th>\n",
              "      <th>Fuel_Price</th>\n",
              "      <th>MarkDown1</th>\n",
              "      <th>MarkDown2</th>\n",
              "      <th>MarkDown3</th>\n",
              "      <th>MarkDown4</th>\n",
              "      <th>MarkDown5</th>\n",
              "      <th>CPI</th>\n",
              "      <th>Unemployment</th>\n",
              "      <th>IsHoliday</th>\n",
              "      <th>Dept</th>\n",
              "      <th>Weekly_Sales</th>\n",
              "      <th>Type</th>\n",
              "      <th>Size</th>\n",
              "    </tr>\n",
              "  </thead>\n",
              "  <tbody>\n",
              "    <tr>\n",
              "      <th>0</th>\n",
              "      <td>1</td>\n",
              "      <td>2010-02-05</td>\n",
              "      <td>42.31</td>\n",
              "      <td>2.572</td>\n",
              "      <td>0.0</td>\n",
              "      <td>0.0</td>\n",
              "      <td>0.0</td>\n",
              "      <td>0.0</td>\n",
              "      <td>0.0</td>\n",
              "      <td>211.096358</td>\n",
              "      <td>8.106</td>\n",
              "      <td>False</td>\n",
              "      <td>1</td>\n",
              "      <td>24924.50</td>\n",
              "      <td>A</td>\n",
              "      <td>151315</td>\n",
              "    </tr>\n",
              "    <tr>\n",
              "      <th>1</th>\n",
              "      <td>1</td>\n",
              "      <td>2010-02-05</td>\n",
              "      <td>42.31</td>\n",
              "      <td>2.572</td>\n",
              "      <td>0.0</td>\n",
              "      <td>0.0</td>\n",
              "      <td>0.0</td>\n",
              "      <td>0.0</td>\n",
              "      <td>0.0</td>\n",
              "      <td>211.096358</td>\n",
              "      <td>8.106</td>\n",
              "      <td>False</td>\n",
              "      <td>2</td>\n",
              "      <td>50605.27</td>\n",
              "      <td>A</td>\n",
              "      <td>151315</td>\n",
              "    </tr>\n",
              "    <tr>\n",
              "      <th>2</th>\n",
              "      <td>1</td>\n",
              "      <td>2010-02-05</td>\n",
              "      <td>42.31</td>\n",
              "      <td>2.572</td>\n",
              "      <td>0.0</td>\n",
              "      <td>0.0</td>\n",
              "      <td>0.0</td>\n",
              "      <td>0.0</td>\n",
              "      <td>0.0</td>\n",
              "      <td>211.096358</td>\n",
              "      <td>8.106</td>\n",
              "      <td>False</td>\n",
              "      <td>3</td>\n",
              "      <td>13740.12</td>\n",
              "      <td>A</td>\n",
              "      <td>151315</td>\n",
              "    </tr>\n",
              "    <tr>\n",
              "      <th>3</th>\n",
              "      <td>1</td>\n",
              "      <td>2010-02-05</td>\n",
              "      <td>42.31</td>\n",
              "      <td>2.572</td>\n",
              "      <td>0.0</td>\n",
              "      <td>0.0</td>\n",
              "      <td>0.0</td>\n",
              "      <td>0.0</td>\n",
              "      <td>0.0</td>\n",
              "      <td>211.096358</td>\n",
              "      <td>8.106</td>\n",
              "      <td>False</td>\n",
              "      <td>4</td>\n",
              "      <td>39954.04</td>\n",
              "      <td>A</td>\n",
              "      <td>151315</td>\n",
              "    </tr>\n",
              "    <tr>\n",
              "      <th>4</th>\n",
              "      <td>1</td>\n",
              "      <td>2010-02-05</td>\n",
              "      <td>42.31</td>\n",
              "      <td>2.572</td>\n",
              "      <td>0.0</td>\n",
              "      <td>0.0</td>\n",
              "      <td>0.0</td>\n",
              "      <td>0.0</td>\n",
              "      <td>0.0</td>\n",
              "      <td>211.096358</td>\n",
              "      <td>8.106</td>\n",
              "      <td>False</td>\n",
              "      <td>5</td>\n",
              "      <td>32229.38</td>\n",
              "      <td>A</td>\n",
              "      <td>151315</td>\n",
              "    </tr>\n",
              "  </tbody>\n",
              "</table>\n",
              "</div>\n",
              "      <button class=\"colab-df-convert\" onclick=\"convertToInteractive('df-e1025b04-7035-4336-8c28-d9811447f1b8')\"\n",
              "              title=\"Convert this dataframe to an interactive table.\"\n",
              "              style=\"display:none;\">\n",
              "        \n",
              "  <svg xmlns=\"http://www.w3.org/2000/svg\" height=\"24px\"viewBox=\"0 0 24 24\"\n",
              "       width=\"24px\">\n",
              "    <path d=\"M0 0h24v24H0V0z\" fill=\"none\"/>\n",
              "    <path d=\"M18.56 5.44l.94 2.06.94-2.06 2.06-.94-2.06-.94-.94-2.06-.94 2.06-2.06.94zm-11 1L8.5 8.5l.94-2.06 2.06-.94-2.06-.94L8.5 2.5l-.94 2.06-2.06.94zm10 10l.94 2.06.94-2.06 2.06-.94-2.06-.94-.94-2.06-.94 2.06-2.06.94z\"/><path d=\"M17.41 7.96l-1.37-1.37c-.4-.4-.92-.59-1.43-.59-.52 0-1.04.2-1.43.59L10.3 9.45l-7.72 7.72c-.78.78-.78 2.05 0 2.83L4 21.41c.39.39.9.59 1.41.59.51 0 1.02-.2 1.41-.59l7.78-7.78 2.81-2.81c.8-.78.8-2.07 0-2.86zM5.41 20L4 18.59l7.72-7.72 1.47 1.35L5.41 20z\"/>\n",
              "  </svg>\n",
              "      </button>\n",
              "      \n",
              "  <style>\n",
              "    .colab-df-container {\n",
              "      display:flex;\n",
              "      flex-wrap:wrap;\n",
              "      gap: 12px;\n",
              "    }\n",
              "\n",
              "    .colab-df-convert {\n",
              "      background-color: #E8F0FE;\n",
              "      border: none;\n",
              "      border-radius: 50%;\n",
              "      cursor: pointer;\n",
              "      display: none;\n",
              "      fill: #1967D2;\n",
              "      height: 32px;\n",
              "      padding: 0 0 0 0;\n",
              "      width: 32px;\n",
              "    }\n",
              "\n",
              "    .colab-df-convert:hover {\n",
              "      background-color: #E2EBFA;\n",
              "      box-shadow: 0px 1px 2px rgba(60, 64, 67, 0.3), 0px 1px 3px 1px rgba(60, 64, 67, 0.15);\n",
              "      fill: #174EA6;\n",
              "    }\n",
              "\n",
              "    [theme=dark] .colab-df-convert {\n",
              "      background-color: #3B4455;\n",
              "      fill: #D2E3FC;\n",
              "    }\n",
              "\n",
              "    [theme=dark] .colab-df-convert:hover {\n",
              "      background-color: #434B5C;\n",
              "      box-shadow: 0px 1px 3px 1px rgba(0, 0, 0, 0.15);\n",
              "      filter: drop-shadow(0px 1px 2px rgba(0, 0, 0, 0.3));\n",
              "      fill: #FFFFFF;\n",
              "    }\n",
              "  </style>\n",
              "\n",
              "      <script>\n",
              "        const buttonEl =\n",
              "          document.querySelector('#df-e1025b04-7035-4336-8c28-d9811447f1b8 button.colab-df-convert');\n",
              "        buttonEl.style.display =\n",
              "          google.colab.kernel.accessAllowed ? 'block' : 'none';\n",
              "\n",
              "        async function convertToInteractive(key) {\n",
              "          const element = document.querySelector('#df-e1025b04-7035-4336-8c28-d9811447f1b8');\n",
              "          const dataTable =\n",
              "            await google.colab.kernel.invokeFunction('convertToInteractive',\n",
              "                                                     [key], {});\n",
              "          if (!dataTable) return;\n",
              "\n",
              "          const docLinkHtml = 'Like what you see? Visit the ' +\n",
              "            '<a target=\"_blank\" href=https://colab.research.google.com/notebooks/data_table.ipynb>data table notebook</a>'\n",
              "            + ' to learn more about interactive tables.';\n",
              "          element.innerHTML = '';\n",
              "          dataTable['output_type'] = 'display_data';\n",
              "          await google.colab.output.renderOutput(dataTable, element);\n",
              "          const docLink = document.createElement('div');\n",
              "          docLink.innerHTML = docLinkHtml;\n",
              "          element.appendChild(docLink);\n",
              "        }\n",
              "      </script>\n",
              "    </div>\n",
              "  </div>\n",
              "  "
            ],
            "text/plain": [
              "   Store        Date  Temperature  Fuel_Price  ...  Dept  Weekly_Sales  Type    Size\n",
              "0      1  2010-02-05        42.31       2.572  ...     1      24924.50     A  151315\n",
              "1      1  2010-02-05        42.31       2.572  ...     2      50605.27     A  151315\n",
              "2      1  2010-02-05        42.31       2.572  ...     3      13740.12     A  151315\n",
              "3      1  2010-02-05        42.31       2.572  ...     4      39954.04     A  151315\n",
              "4      1  2010-02-05        42.31       2.572  ...     5      32229.38     A  151315\n",
              "\n",
              "[5 rows x 16 columns]"
            ]
          },
          "metadata": {},
          "execution_count": 21
        }
      ]
    },
    {
      "cell_type": "markdown",
      "metadata": {
        "id": "GRD7ME8T6WX0"
      },
      "source": [
        "### Merge test data"
      ]
    },
    {
      "cell_type": "code",
      "metadata": {
        "id": "qU0rOice6WX1"
      },
      "source": [
        "# Merge feature and training data\n",
        "new_df_test = pd.merge(features, test, on = ['Store', 'Date', 'IsHoliday'], how = 'inner')\n",
        "\n",
        "# merging(adding) all stores info with new training data\n",
        "df_test = pd.merge(new_df_test, stores, on = ['Store'], how = 'inner')"
      ],
      "execution_count": 22,
      "outputs": []
    },
    {
      "cell_type": "code",
      "metadata": {
        "id": "__WVKrC-6WX7",
        "outputId": "8464be8a-2b96-4554-feb4-72afc0fca94d",
        "colab": {
          "base_uri": "https://localhost:8080/"
        }
      },
      "source": [
        "df_test.shape"
      ],
      "execution_count": 23,
      "outputs": [
        {
          "output_type": "execute_result",
          "data": {
            "text/plain": [
              "(115064, 15)"
            ]
          },
          "metadata": {},
          "execution_count": 23
        }
      ]
    },
    {
      "cell_type": "code",
      "metadata": {
        "id": "MpgFLoEs6WYA",
        "outputId": "c1a5b37f-beab-4277-a21e-7a68b86a4cc2",
        "colab": {
          "base_uri": "https://localhost:8080/",
          "height": 356
        }
      },
      "source": [
        "df_test.head()"
      ],
      "execution_count": 24,
      "outputs": [
        {
          "output_type": "execute_result",
          "data": {
            "text/html": [
              "\n",
              "  <div id=\"df-3d9bcf63-b41a-4588-9ea8-3f6d25991275\">\n",
              "    <div class=\"colab-df-container\">\n",
              "      <div>\n",
              "<style scoped>\n",
              "    .dataframe tbody tr th:only-of-type {\n",
              "        vertical-align: middle;\n",
              "    }\n",
              "\n",
              "    .dataframe tbody tr th {\n",
              "        vertical-align: top;\n",
              "    }\n",
              "\n",
              "    .dataframe thead th {\n",
              "        text-align: right;\n",
              "    }\n",
              "</style>\n",
              "<table border=\"1\" class=\"dataframe\">\n",
              "  <thead>\n",
              "    <tr style=\"text-align: right;\">\n",
              "      <th></th>\n",
              "      <th>Store</th>\n",
              "      <th>Date</th>\n",
              "      <th>Temperature</th>\n",
              "      <th>Fuel_Price</th>\n",
              "      <th>MarkDown1</th>\n",
              "      <th>MarkDown2</th>\n",
              "      <th>MarkDown3</th>\n",
              "      <th>MarkDown4</th>\n",
              "      <th>MarkDown5</th>\n",
              "      <th>CPI</th>\n",
              "      <th>Unemployment</th>\n",
              "      <th>IsHoliday</th>\n",
              "      <th>Dept</th>\n",
              "      <th>Type</th>\n",
              "      <th>Size</th>\n",
              "    </tr>\n",
              "  </thead>\n",
              "  <tbody>\n",
              "    <tr>\n",
              "      <th>0</th>\n",
              "      <td>1</td>\n",
              "      <td>2012-11-02</td>\n",
              "      <td>55.32</td>\n",
              "      <td>3.386</td>\n",
              "      <td>6766.44</td>\n",
              "      <td>6766.44</td>\n",
              "      <td>6766.44</td>\n",
              "      <td>6766.44</td>\n",
              "      <td>6766.44</td>\n",
              "      <td>223.462779</td>\n",
              "      <td>6.573</td>\n",
              "      <td>False</td>\n",
              "      <td>1</td>\n",
              "      <td>A</td>\n",
              "      <td>151315</td>\n",
              "    </tr>\n",
              "    <tr>\n",
              "      <th>1</th>\n",
              "      <td>1</td>\n",
              "      <td>2012-11-02</td>\n",
              "      <td>55.32</td>\n",
              "      <td>3.386</td>\n",
              "      <td>6766.44</td>\n",
              "      <td>6766.44</td>\n",
              "      <td>6766.44</td>\n",
              "      <td>6766.44</td>\n",
              "      <td>6766.44</td>\n",
              "      <td>223.462779</td>\n",
              "      <td>6.573</td>\n",
              "      <td>False</td>\n",
              "      <td>2</td>\n",
              "      <td>A</td>\n",
              "      <td>151315</td>\n",
              "    </tr>\n",
              "    <tr>\n",
              "      <th>2</th>\n",
              "      <td>1</td>\n",
              "      <td>2012-11-02</td>\n",
              "      <td>55.32</td>\n",
              "      <td>3.386</td>\n",
              "      <td>6766.44</td>\n",
              "      <td>6766.44</td>\n",
              "      <td>6766.44</td>\n",
              "      <td>6766.44</td>\n",
              "      <td>6766.44</td>\n",
              "      <td>223.462779</td>\n",
              "      <td>6.573</td>\n",
              "      <td>False</td>\n",
              "      <td>3</td>\n",
              "      <td>A</td>\n",
              "      <td>151315</td>\n",
              "    </tr>\n",
              "    <tr>\n",
              "      <th>3</th>\n",
              "      <td>1</td>\n",
              "      <td>2012-11-02</td>\n",
              "      <td>55.32</td>\n",
              "      <td>3.386</td>\n",
              "      <td>6766.44</td>\n",
              "      <td>6766.44</td>\n",
              "      <td>6766.44</td>\n",
              "      <td>6766.44</td>\n",
              "      <td>6766.44</td>\n",
              "      <td>223.462779</td>\n",
              "      <td>6.573</td>\n",
              "      <td>False</td>\n",
              "      <td>4</td>\n",
              "      <td>A</td>\n",
              "      <td>151315</td>\n",
              "    </tr>\n",
              "    <tr>\n",
              "      <th>4</th>\n",
              "      <td>1</td>\n",
              "      <td>2012-11-02</td>\n",
              "      <td>55.32</td>\n",
              "      <td>3.386</td>\n",
              "      <td>6766.44</td>\n",
              "      <td>6766.44</td>\n",
              "      <td>6766.44</td>\n",
              "      <td>6766.44</td>\n",
              "      <td>6766.44</td>\n",
              "      <td>223.462779</td>\n",
              "      <td>6.573</td>\n",
              "      <td>False</td>\n",
              "      <td>5</td>\n",
              "      <td>A</td>\n",
              "      <td>151315</td>\n",
              "    </tr>\n",
              "  </tbody>\n",
              "</table>\n",
              "</div>\n",
              "      <button class=\"colab-df-convert\" onclick=\"convertToInteractive('df-3d9bcf63-b41a-4588-9ea8-3f6d25991275')\"\n",
              "              title=\"Convert this dataframe to an interactive table.\"\n",
              "              style=\"display:none;\">\n",
              "        \n",
              "  <svg xmlns=\"http://www.w3.org/2000/svg\" height=\"24px\"viewBox=\"0 0 24 24\"\n",
              "       width=\"24px\">\n",
              "    <path d=\"M0 0h24v24H0V0z\" fill=\"none\"/>\n",
              "    <path d=\"M18.56 5.44l.94 2.06.94-2.06 2.06-.94-2.06-.94-.94-2.06-.94 2.06-2.06.94zm-11 1L8.5 8.5l.94-2.06 2.06-.94-2.06-.94L8.5 2.5l-.94 2.06-2.06.94zm10 10l.94 2.06.94-2.06 2.06-.94-2.06-.94-.94-2.06-.94 2.06-2.06.94z\"/><path d=\"M17.41 7.96l-1.37-1.37c-.4-.4-.92-.59-1.43-.59-.52 0-1.04.2-1.43.59L10.3 9.45l-7.72 7.72c-.78.78-.78 2.05 0 2.83L4 21.41c.39.39.9.59 1.41.59.51 0 1.02-.2 1.41-.59l7.78-7.78 2.81-2.81c.8-.78.8-2.07 0-2.86zM5.41 20L4 18.59l7.72-7.72 1.47 1.35L5.41 20z\"/>\n",
              "  </svg>\n",
              "      </button>\n",
              "      \n",
              "  <style>\n",
              "    .colab-df-container {\n",
              "      display:flex;\n",
              "      flex-wrap:wrap;\n",
              "      gap: 12px;\n",
              "    }\n",
              "\n",
              "    .colab-df-convert {\n",
              "      background-color: #E8F0FE;\n",
              "      border: none;\n",
              "      border-radius: 50%;\n",
              "      cursor: pointer;\n",
              "      display: none;\n",
              "      fill: #1967D2;\n",
              "      height: 32px;\n",
              "      padding: 0 0 0 0;\n",
              "      width: 32px;\n",
              "    }\n",
              "\n",
              "    .colab-df-convert:hover {\n",
              "      background-color: #E2EBFA;\n",
              "      box-shadow: 0px 1px 2px rgba(60, 64, 67, 0.3), 0px 1px 3px 1px rgba(60, 64, 67, 0.15);\n",
              "      fill: #174EA6;\n",
              "    }\n",
              "\n",
              "    [theme=dark] .colab-df-convert {\n",
              "      background-color: #3B4455;\n",
              "      fill: #D2E3FC;\n",
              "    }\n",
              "\n",
              "    [theme=dark] .colab-df-convert:hover {\n",
              "      background-color: #434B5C;\n",
              "      box-shadow: 0px 1px 3px 1px rgba(0, 0, 0, 0.15);\n",
              "      filter: drop-shadow(0px 1px 2px rgba(0, 0, 0, 0.3));\n",
              "      fill: #FFFFFF;\n",
              "    }\n",
              "  </style>\n",
              "\n",
              "      <script>\n",
              "        const buttonEl =\n",
              "          document.querySelector('#df-3d9bcf63-b41a-4588-9ea8-3f6d25991275 button.colab-df-convert');\n",
              "        buttonEl.style.display =\n",
              "          google.colab.kernel.accessAllowed ? 'block' : 'none';\n",
              "\n",
              "        async function convertToInteractive(key) {\n",
              "          const element = document.querySelector('#df-3d9bcf63-b41a-4588-9ea8-3f6d25991275');\n",
              "          const dataTable =\n",
              "            await google.colab.kernel.invokeFunction('convertToInteractive',\n",
              "                                                     [key], {});\n",
              "          if (!dataTable) return;\n",
              "\n",
              "          const docLinkHtml = 'Like what you see? Visit the ' +\n",
              "            '<a target=\"_blank\" href=https://colab.research.google.com/notebooks/data_table.ipynb>data table notebook</a>'\n",
              "            + ' to learn more about interactive tables.';\n",
              "          element.innerHTML = '';\n",
              "          dataTable['output_type'] = 'display_data';\n",
              "          await google.colab.output.renderOutput(dataTable, element);\n",
              "          const docLink = document.createElement('div');\n",
              "          docLink.innerHTML = docLinkHtml;\n",
              "          element.appendChild(docLink);\n",
              "        }\n",
              "      </script>\n",
              "    </div>\n",
              "  </div>\n",
              "  "
            ],
            "text/plain": [
              "   Store        Date  Temperature  Fuel_Price  ...  IsHoliday  Dept  Type    Size\n",
              "0      1  2012-11-02        55.32       3.386  ...      False     1     A  151315\n",
              "1      1  2012-11-02        55.32       3.386  ...      False     2     A  151315\n",
              "2      1  2012-11-02        55.32       3.386  ...      False     3     A  151315\n",
              "3      1  2012-11-02        55.32       3.386  ...      False     4     A  151315\n",
              "4      1  2012-11-02        55.32       3.386  ...      False     5     A  151315\n",
              "\n",
              "[5 rows x 15 columns]"
            ]
          },
          "metadata": {},
          "execution_count": 24
        }
      ]
    },
    {
      "cell_type": "markdown",
      "metadata": {
        "id": "TFSvZTzM6WYI"
      },
      "source": [
        "<b> All data has been merge successfully. </b>"
      ]
    },
    {
      "cell_type": "code",
      "metadata": {
        "id": "Mgs5NVqh6WYK",
        "outputId": "6e37d442-e397-4ca6-b0f9-e9541f7bb624",
        "colab": {
          "base_uri": "https://localhost:8080/",
          "height": 1000
        }
      },
      "source": [
        "# Sort the data w.r.t 'Date' as we have time series problem\n",
        "df = df.sort_values(by = 'Date')\n",
        "df.head(20)"
      ],
      "execution_count": 25,
      "outputs": [
        {
          "output_type": "execute_result",
          "data": {
            "text/html": [
              "\n",
              "  <div id=\"df-4d16a4ab-3d4e-45ea-892d-1364a442572e\">\n",
              "    <div class=\"colab-df-container\">\n",
              "      <div>\n",
              "<style scoped>\n",
              "    .dataframe tbody tr th:only-of-type {\n",
              "        vertical-align: middle;\n",
              "    }\n",
              "\n",
              "    .dataframe tbody tr th {\n",
              "        vertical-align: top;\n",
              "    }\n",
              "\n",
              "    .dataframe thead th {\n",
              "        text-align: right;\n",
              "    }\n",
              "</style>\n",
              "<table border=\"1\" class=\"dataframe\">\n",
              "  <thead>\n",
              "    <tr style=\"text-align: right;\">\n",
              "      <th></th>\n",
              "      <th>Store</th>\n",
              "      <th>Date</th>\n",
              "      <th>Temperature</th>\n",
              "      <th>Fuel_Price</th>\n",
              "      <th>MarkDown1</th>\n",
              "      <th>MarkDown2</th>\n",
              "      <th>MarkDown3</th>\n",
              "      <th>MarkDown4</th>\n",
              "      <th>MarkDown5</th>\n",
              "      <th>CPI</th>\n",
              "      <th>Unemployment</th>\n",
              "      <th>IsHoliday</th>\n",
              "      <th>Dept</th>\n",
              "      <th>Weekly_Sales</th>\n",
              "      <th>Type</th>\n",
              "      <th>Size</th>\n",
              "    </tr>\n",
              "  </thead>\n",
              "  <tbody>\n",
              "    <tr>\n",
              "      <th>0</th>\n",
              "      <td>1</td>\n",
              "      <td>2010-02-05</td>\n",
              "      <td>42.31</td>\n",
              "      <td>2.572</td>\n",
              "      <td>0.0</td>\n",
              "      <td>0.0</td>\n",
              "      <td>0.0</td>\n",
              "      <td>0.0</td>\n",
              "      <td>0.0</td>\n",
              "      <td>211.096358</td>\n",
              "      <td>8.106</td>\n",
              "      <td>False</td>\n",
              "      <td>1</td>\n",
              "      <td>24924.50</td>\n",
              "      <td>A</td>\n",
              "      <td>151315</td>\n",
              "    </tr>\n",
              "    <tr>\n",
              "      <th>330761</th>\n",
              "      <td>35</td>\n",
              "      <td>2010-02-05</td>\n",
              "      <td>27.19</td>\n",
              "      <td>2.784</td>\n",
              "      <td>0.0</td>\n",
              "      <td>0.0</td>\n",
              "      <td>0.0</td>\n",
              "      <td>0.0</td>\n",
              "      <td>0.0</td>\n",
              "      <td>135.352461</td>\n",
              "      <td>9.262</td>\n",
              "      <td>False</td>\n",
              "      <td>3</td>\n",
              "      <td>14612.19</td>\n",
              "      <td>B</td>\n",
              "      <td>103681</td>\n",
              "    </tr>\n",
              "    <tr>\n",
              "      <th>330762</th>\n",
              "      <td>35</td>\n",
              "      <td>2010-02-05</td>\n",
              "      <td>27.19</td>\n",
              "      <td>2.784</td>\n",
              "      <td>0.0</td>\n",
              "      <td>0.0</td>\n",
              "      <td>0.0</td>\n",
              "      <td>0.0</td>\n",
              "      <td>0.0</td>\n",
              "      <td>135.352461</td>\n",
              "      <td>9.262</td>\n",
              "      <td>False</td>\n",
              "      <td>4</td>\n",
              "      <td>26323.15</td>\n",
              "      <td>B</td>\n",
              "      <td>103681</td>\n",
              "    </tr>\n",
              "    <tr>\n",
              "      <th>330763</th>\n",
              "      <td>35</td>\n",
              "      <td>2010-02-05</td>\n",
              "      <td>27.19</td>\n",
              "      <td>2.784</td>\n",
              "      <td>0.0</td>\n",
              "      <td>0.0</td>\n",
              "      <td>0.0</td>\n",
              "      <td>0.0</td>\n",
              "      <td>0.0</td>\n",
              "      <td>135.352461</td>\n",
              "      <td>9.262</td>\n",
              "      <td>False</td>\n",
              "      <td>5</td>\n",
              "      <td>36414.63</td>\n",
              "      <td>B</td>\n",
              "      <td>103681</td>\n",
              "    </tr>\n",
              "    <tr>\n",
              "      <th>330764</th>\n",
              "      <td>35</td>\n",
              "      <td>2010-02-05</td>\n",
              "      <td>27.19</td>\n",
              "      <td>2.784</td>\n",
              "      <td>0.0</td>\n",
              "      <td>0.0</td>\n",
              "      <td>0.0</td>\n",
              "      <td>0.0</td>\n",
              "      <td>0.0</td>\n",
              "      <td>135.352461</td>\n",
              "      <td>9.262</td>\n",
              "      <td>False</td>\n",
              "      <td>6</td>\n",
              "      <td>11437.81</td>\n",
              "      <td>B</td>\n",
              "      <td>103681</td>\n",
              "    </tr>\n",
              "    <tr>\n",
              "      <th>330765</th>\n",
              "      <td>35</td>\n",
              "      <td>2010-02-05</td>\n",
              "      <td>27.19</td>\n",
              "      <td>2.784</td>\n",
              "      <td>0.0</td>\n",
              "      <td>0.0</td>\n",
              "      <td>0.0</td>\n",
              "      <td>0.0</td>\n",
              "      <td>0.0</td>\n",
              "      <td>135.352461</td>\n",
              "      <td>9.262</td>\n",
              "      <td>False</td>\n",
              "      <td>7</td>\n",
              "      <td>23416.24</td>\n",
              "      <td>B</td>\n",
              "      <td>103681</td>\n",
              "    </tr>\n",
              "    <tr>\n",
              "      <th>330766</th>\n",
              "      <td>35</td>\n",
              "      <td>2010-02-05</td>\n",
              "      <td>27.19</td>\n",
              "      <td>2.784</td>\n",
              "      <td>0.0</td>\n",
              "      <td>0.0</td>\n",
              "      <td>0.0</td>\n",
              "      <td>0.0</td>\n",
              "      <td>0.0</td>\n",
              "      <td>135.352461</td>\n",
              "      <td>9.262</td>\n",
              "      <td>False</td>\n",
              "      <td>8</td>\n",
              "      <td>27545.38</td>\n",
              "      <td>B</td>\n",
              "      <td>103681</td>\n",
              "    </tr>\n",
              "    <tr>\n",
              "      <th>330767</th>\n",
              "      <td>35</td>\n",
              "      <td>2010-02-05</td>\n",
              "      <td>27.19</td>\n",
              "      <td>2.784</td>\n",
              "      <td>0.0</td>\n",
              "      <td>0.0</td>\n",
              "      <td>0.0</td>\n",
              "      <td>0.0</td>\n",
              "      <td>0.0</td>\n",
              "      <td>135.352461</td>\n",
              "      <td>9.262</td>\n",
              "      <td>False</td>\n",
              "      <td>9</td>\n",
              "      <td>12454.61</td>\n",
              "      <td>B</td>\n",
              "      <td>103681</td>\n",
              "    </tr>\n",
              "    <tr>\n",
              "      <th>330768</th>\n",
              "      <td>35</td>\n",
              "      <td>2010-02-05</td>\n",
              "      <td>27.19</td>\n",
              "      <td>2.784</td>\n",
              "      <td>0.0</td>\n",
              "      <td>0.0</td>\n",
              "      <td>0.0</td>\n",
              "      <td>0.0</td>\n",
              "      <td>0.0</td>\n",
              "      <td>135.352461</td>\n",
              "      <td>9.262</td>\n",
              "      <td>False</td>\n",
              "      <td>10</td>\n",
              "      <td>15052.46</td>\n",
              "      <td>B</td>\n",
              "      <td>103681</td>\n",
              "    </tr>\n",
              "    <tr>\n",
              "      <th>330760</th>\n",
              "      <td>35</td>\n",
              "      <td>2010-02-05</td>\n",
              "      <td>27.19</td>\n",
              "      <td>2.784</td>\n",
              "      <td>0.0</td>\n",
              "      <td>0.0</td>\n",
              "      <td>0.0</td>\n",
              "      <td>0.0</td>\n",
              "      <td>0.0</td>\n",
              "      <td>135.352461</td>\n",
              "      <td>9.262</td>\n",
              "      <td>False</td>\n",
              "      <td>2</td>\n",
              "      <td>57523.15</td>\n",
              "      <td>B</td>\n",
              "      <td>103681</td>\n",
              "    </tr>\n",
              "    <tr>\n",
              "      <th>330769</th>\n",
              "      <td>35</td>\n",
              "      <td>2010-02-05</td>\n",
              "      <td>27.19</td>\n",
              "      <td>2.784</td>\n",
              "      <td>0.0</td>\n",
              "      <td>0.0</td>\n",
              "      <td>0.0</td>\n",
              "      <td>0.0</td>\n",
              "      <td>0.0</td>\n",
              "      <td>135.352461</td>\n",
              "      <td>9.262</td>\n",
              "      <td>False</td>\n",
              "      <td>11</td>\n",
              "      <td>17592.31</td>\n",
              "      <td>B</td>\n",
              "      <td>103681</td>\n",
              "    </tr>\n",
              "    <tr>\n",
              "      <th>330771</th>\n",
              "      <td>35</td>\n",
              "      <td>2010-02-05</td>\n",
              "      <td>27.19</td>\n",
              "      <td>2.784</td>\n",
              "      <td>0.0</td>\n",
              "      <td>0.0</td>\n",
              "      <td>0.0</td>\n",
              "      <td>0.0</td>\n",
              "      <td>0.0</td>\n",
              "      <td>135.352461</td>\n",
              "      <td>9.262</td>\n",
              "      <td>False</td>\n",
              "      <td>13</td>\n",
              "      <td>46056.32</td>\n",
              "      <td>B</td>\n",
              "      <td>103681</td>\n",
              "    </tr>\n",
              "    <tr>\n",
              "      <th>330772</th>\n",
              "      <td>35</td>\n",
              "      <td>2010-02-05</td>\n",
              "      <td>27.19</td>\n",
              "      <td>2.784</td>\n",
              "      <td>0.0</td>\n",
              "      <td>0.0</td>\n",
              "      <td>0.0</td>\n",
              "      <td>0.0</td>\n",
              "      <td>0.0</td>\n",
              "      <td>135.352461</td>\n",
              "      <td>9.262</td>\n",
              "      <td>False</td>\n",
              "      <td>14</td>\n",
              "      <td>42892.73</td>\n",
              "      <td>B</td>\n",
              "      <td>103681</td>\n",
              "    </tr>\n",
              "    <tr>\n",
              "      <th>330773</th>\n",
              "      <td>35</td>\n",
              "      <td>2010-02-05</td>\n",
              "      <td>27.19</td>\n",
              "      <td>2.784</td>\n",
              "      <td>0.0</td>\n",
              "      <td>0.0</td>\n",
              "      <td>0.0</td>\n",
              "      <td>0.0</td>\n",
              "      <td>0.0</td>\n",
              "      <td>135.352461</td>\n",
              "      <td>9.262</td>\n",
              "      <td>False</td>\n",
              "      <td>16</td>\n",
              "      <td>2257.07</td>\n",
              "      <td>B</td>\n",
              "      <td>103681</td>\n",
              "    </tr>\n",
              "    <tr>\n",
              "      <th>330774</th>\n",
              "      <td>35</td>\n",
              "      <td>2010-02-05</td>\n",
              "      <td>27.19</td>\n",
              "      <td>2.784</td>\n",
              "      <td>0.0</td>\n",
              "      <td>0.0</td>\n",
              "      <td>0.0</td>\n",
              "      <td>0.0</td>\n",
              "      <td>0.0</td>\n",
              "      <td>135.352461</td>\n",
              "      <td>9.262</td>\n",
              "      <td>False</td>\n",
              "      <td>17</td>\n",
              "      <td>26950.37</td>\n",
              "      <td>B</td>\n",
              "      <td>103681</td>\n",
              "    </tr>\n",
              "    <tr>\n",
              "      <th>330775</th>\n",
              "      <td>35</td>\n",
              "      <td>2010-02-05</td>\n",
              "      <td>27.19</td>\n",
              "      <td>2.784</td>\n",
              "      <td>0.0</td>\n",
              "      <td>0.0</td>\n",
              "      <td>0.0</td>\n",
              "      <td>0.0</td>\n",
              "      <td>0.0</td>\n",
              "      <td>135.352461</td>\n",
              "      <td>9.262</td>\n",
              "      <td>False</td>\n",
              "      <td>18</td>\n",
              "      <td>4153.12</td>\n",
              "      <td>B</td>\n",
              "      <td>103681</td>\n",
              "    </tr>\n",
              "    <tr>\n",
              "      <th>330776</th>\n",
              "      <td>35</td>\n",
              "      <td>2010-02-05</td>\n",
              "      <td>27.19</td>\n",
              "      <td>2.784</td>\n",
              "      <td>0.0</td>\n",
              "      <td>0.0</td>\n",
              "      <td>0.0</td>\n",
              "      <td>0.0</td>\n",
              "      <td>0.0</td>\n",
              "      <td>135.352461</td>\n",
              "      <td>9.262</td>\n",
              "      <td>False</td>\n",
              "      <td>20</td>\n",
              "      <td>15262.38</td>\n",
              "      <td>B</td>\n",
              "      <td>103681</td>\n",
              "    </tr>\n",
              "    <tr>\n",
              "      <th>330777</th>\n",
              "      <td>35</td>\n",
              "      <td>2010-02-05</td>\n",
              "      <td>27.19</td>\n",
              "      <td>2.784</td>\n",
              "      <td>0.0</td>\n",
              "      <td>0.0</td>\n",
              "      <td>0.0</td>\n",
              "      <td>0.0</td>\n",
              "      <td>0.0</td>\n",
              "      <td>135.352461</td>\n",
              "      <td>9.262</td>\n",
              "      <td>False</td>\n",
              "      <td>21</td>\n",
              "      <td>5053.98</td>\n",
              "      <td>B</td>\n",
              "      <td>103681</td>\n",
              "    </tr>\n",
              "    <tr>\n",
              "      <th>330778</th>\n",
              "      <td>35</td>\n",
              "      <td>2010-02-05</td>\n",
              "      <td>27.19</td>\n",
              "      <td>2.784</td>\n",
              "      <td>0.0</td>\n",
              "      <td>0.0</td>\n",
              "      <td>0.0</td>\n",
              "      <td>0.0</td>\n",
              "      <td>0.0</td>\n",
              "      <td>135.352461</td>\n",
              "      <td>9.262</td>\n",
              "      <td>False</td>\n",
              "      <td>22</td>\n",
              "      <td>33230.53</td>\n",
              "      <td>B</td>\n",
              "      <td>103681</td>\n",
              "    </tr>\n",
              "    <tr>\n",
              "      <th>330770</th>\n",
              "      <td>35</td>\n",
              "      <td>2010-02-05</td>\n",
              "      <td>27.19</td>\n",
              "      <td>2.784</td>\n",
              "      <td>0.0</td>\n",
              "      <td>0.0</td>\n",
              "      <td>0.0</td>\n",
              "      <td>0.0</td>\n",
              "      <td>0.0</td>\n",
              "      <td>135.352461</td>\n",
              "      <td>9.262</td>\n",
              "      <td>False</td>\n",
              "      <td>12</td>\n",
              "      <td>2481.15</td>\n",
              "      <td>B</td>\n",
              "      <td>103681</td>\n",
              "    </tr>\n",
              "  </tbody>\n",
              "</table>\n",
              "</div>\n",
              "      <button class=\"colab-df-convert\" onclick=\"convertToInteractive('df-4d16a4ab-3d4e-45ea-892d-1364a442572e')\"\n",
              "              title=\"Convert this dataframe to an interactive table.\"\n",
              "              style=\"display:none;\">\n",
              "        \n",
              "  <svg xmlns=\"http://www.w3.org/2000/svg\" height=\"24px\"viewBox=\"0 0 24 24\"\n",
              "       width=\"24px\">\n",
              "    <path d=\"M0 0h24v24H0V0z\" fill=\"none\"/>\n",
              "    <path d=\"M18.56 5.44l.94 2.06.94-2.06 2.06-.94-2.06-.94-.94-2.06-.94 2.06-2.06.94zm-11 1L8.5 8.5l.94-2.06 2.06-.94-2.06-.94L8.5 2.5l-.94 2.06-2.06.94zm10 10l.94 2.06.94-2.06 2.06-.94-2.06-.94-.94-2.06-.94 2.06-2.06.94z\"/><path d=\"M17.41 7.96l-1.37-1.37c-.4-.4-.92-.59-1.43-.59-.52 0-1.04.2-1.43.59L10.3 9.45l-7.72 7.72c-.78.78-.78 2.05 0 2.83L4 21.41c.39.39.9.59 1.41.59.51 0 1.02-.2 1.41-.59l7.78-7.78 2.81-2.81c.8-.78.8-2.07 0-2.86zM5.41 20L4 18.59l7.72-7.72 1.47 1.35L5.41 20z\"/>\n",
              "  </svg>\n",
              "      </button>\n",
              "      \n",
              "  <style>\n",
              "    .colab-df-container {\n",
              "      display:flex;\n",
              "      flex-wrap:wrap;\n",
              "      gap: 12px;\n",
              "    }\n",
              "\n",
              "    .colab-df-convert {\n",
              "      background-color: #E8F0FE;\n",
              "      border: none;\n",
              "      border-radius: 50%;\n",
              "      cursor: pointer;\n",
              "      display: none;\n",
              "      fill: #1967D2;\n",
              "      height: 32px;\n",
              "      padding: 0 0 0 0;\n",
              "      width: 32px;\n",
              "    }\n",
              "\n",
              "    .colab-df-convert:hover {\n",
              "      background-color: #E2EBFA;\n",
              "      box-shadow: 0px 1px 2px rgba(60, 64, 67, 0.3), 0px 1px 3px 1px rgba(60, 64, 67, 0.15);\n",
              "      fill: #174EA6;\n",
              "    }\n",
              "\n",
              "    [theme=dark] .colab-df-convert {\n",
              "      background-color: #3B4455;\n",
              "      fill: #D2E3FC;\n",
              "    }\n",
              "\n",
              "    [theme=dark] .colab-df-convert:hover {\n",
              "      background-color: #434B5C;\n",
              "      box-shadow: 0px 1px 3px 1px rgba(0, 0, 0, 0.15);\n",
              "      filter: drop-shadow(0px 1px 2px rgba(0, 0, 0, 0.3));\n",
              "      fill: #FFFFFF;\n",
              "    }\n",
              "  </style>\n",
              "\n",
              "      <script>\n",
              "        const buttonEl =\n",
              "          document.querySelector('#df-4d16a4ab-3d4e-45ea-892d-1364a442572e button.colab-df-convert');\n",
              "        buttonEl.style.display =\n",
              "          google.colab.kernel.accessAllowed ? 'block' : 'none';\n",
              "\n",
              "        async function convertToInteractive(key) {\n",
              "          const element = document.querySelector('#df-4d16a4ab-3d4e-45ea-892d-1364a442572e');\n",
              "          const dataTable =\n",
              "            await google.colab.kernel.invokeFunction('convertToInteractive',\n",
              "                                                     [key], {});\n",
              "          if (!dataTable) return;\n",
              "\n",
              "          const docLinkHtml = 'Like what you see? Visit the ' +\n",
              "            '<a target=\"_blank\" href=https://colab.research.google.com/notebooks/data_table.ipynb>data table notebook</a>'\n",
              "            + ' to learn more about interactive tables.';\n",
              "          element.innerHTML = '';\n",
              "          dataTable['output_type'] = 'display_data';\n",
              "          await google.colab.output.renderOutput(dataTable, element);\n",
              "          const docLink = document.createElement('div');\n",
              "          docLink.innerHTML = docLinkHtml;\n",
              "          element.appendChild(docLink);\n",
              "        }\n",
              "      </script>\n",
              "    </div>\n",
              "  </div>\n",
              "  "
            ],
            "text/plain": [
              "        Store        Date  Temperature  ...  Weekly_Sales  Type    Size\n",
              "0           1  2010-02-05        42.31  ...      24924.50     A  151315\n",
              "330761     35  2010-02-05        27.19  ...      14612.19     B  103681\n",
              "330762     35  2010-02-05        27.19  ...      26323.15     B  103681\n",
              "330763     35  2010-02-05        27.19  ...      36414.63     B  103681\n",
              "330764     35  2010-02-05        27.19  ...      11437.81     B  103681\n",
              "330765     35  2010-02-05        27.19  ...      23416.24     B  103681\n",
              "330766     35  2010-02-05        27.19  ...      27545.38     B  103681\n",
              "330767     35  2010-02-05        27.19  ...      12454.61     B  103681\n",
              "330768     35  2010-02-05        27.19  ...      15052.46     B  103681\n",
              "330760     35  2010-02-05        27.19  ...      57523.15     B  103681\n",
              "330769     35  2010-02-05        27.19  ...      17592.31     B  103681\n",
              "330771     35  2010-02-05        27.19  ...      46056.32     B  103681\n",
              "330772     35  2010-02-05        27.19  ...      42892.73     B  103681\n",
              "330773     35  2010-02-05        27.19  ...       2257.07     B  103681\n",
              "330774     35  2010-02-05        27.19  ...      26950.37     B  103681\n",
              "330775     35  2010-02-05        27.19  ...       4153.12     B  103681\n",
              "330776     35  2010-02-05        27.19  ...      15262.38     B  103681\n",
              "330777     35  2010-02-05        27.19  ...       5053.98     B  103681\n",
              "330778     35  2010-02-05        27.19  ...      33230.53     B  103681\n",
              "330770     35  2010-02-05        27.19  ...       2481.15     B  103681\n",
              "\n",
              "[20 rows x 16 columns]"
            ]
          },
          "metadata": {},
          "execution_count": 25
        }
      ]
    },
    {
      "cell_type": "markdown",
      "metadata": {
        "id": "lFoMWPE06WYP"
      },
      "source": [
        "---\n",
        "## Explanatory data Anlysis\n",
        "---"
      ]
    },
    {
      "cell_type": "code",
      "metadata": {
        "id": "H0v8TNqH6WYQ",
        "outputId": "0ed0566f-78b8-4e74-c0ca-14acdf91c230",
        "colab": {
          "base_uri": "https://localhost:8080/"
        }
      },
      "source": [
        "sizes = df.groupby('Type')['Size'].count()\n",
        "print(sizes)"
      ],
      "execution_count": 26,
      "outputs": [
        {
          "output_type": "stream",
          "name": "stdout",
          "text": [
            "Type\n",
            "A    215478\n",
            "B    163495\n",
            "C     42597\n",
            "Name: Size, dtype: int64\n"
          ]
        }
      ]
    },
    {
      "cell_type": "code",
      "metadata": {
        "id": "u1x9EHf16WYX",
        "outputId": "0a1645f9-e017-48d1-a2b9-745e59aed214",
        "colab": {
          "base_uri": "https://localhost:8080/"
        }
      },
      "source": [
        "# Number of distinct Store in the dataframe\n",
        "df.groupby('Type')['Size'].nunique()"
      ],
      "execution_count": 27,
      "outputs": [
        {
          "output_type": "execute_result",
          "data": {
            "text/plain": [
              "Type\n",
              "A    21\n",
              "B    17\n",
              "C     4\n",
              "Name: Size, dtype: int64"
            ]
          },
          "metadata": {},
          "execution_count": 27
        }
      ]
    },
    {
      "cell_type": "code",
      "metadata": {
        "id": "zR995Nmc6WYe",
        "outputId": "a6fabf1a-e091-4414-e072-e2675c021423",
        "colab": {
          "base_uri": "https://localhost:8080/",
          "height": 267
        }
      },
      "source": [
        "labels = 'A store','B store','C store'\n",
        "sizes = [(21/(42))*100,(17/(42))*100,(4/(42))*100]\n",
        "fig1, ax1 = plt.subplots()\n",
        "\n",
        "ax1.pie(sizes, labels = labels, autopct='%1.1f%%',shadow=True, startangle=90)\n",
        "ax1.axis('equal')  # Equal aspect ratio ensures that pie is drawn as a circle.plt.show()"
      ],
      "execution_count": 28,
      "outputs": [
        {
          "output_type": "execute_result",
          "data": {
            "text/plain": [
              "(-1.1009281144465075, 1.1194904033766584, -1.1, 1.1)"
            ]
          },
          "metadata": {},
          "execution_count": 28
        },
        {
          "output_type": "display_data",
          "data": {
            "image/png": "[encoded data removed]",
            "text/plain": [
              "<Figure size 432x288 with 1 Axes>"
            ]
          },
          "metadata": {}
        }
      ]
    },
    {
      "cell_type": "code",
      "metadata": {
        "id": "ZpdDGG2r6WYj"
      },
      "source": [
        "import seaborn as sns"
      ],
      "execution_count": 29,
      "outputs": []
    },
    {
      "cell_type": "code",
      "metadata": {
        "id": "bAVKP_hr6WYp",
        "outputId": "9ba7ea83-2b6a-4e02-b4b4-ac461a161c0a",
        "colab": {
          "base_uri": "https://localhost:8080/",
          "height": 388
        }
      },
      "source": [
        "# Box plot for the size of the store\n",
        "\n",
        "store_type_size = pd.concat([stores['Type'], stores['Size']], axis = 1)\n",
        "f, ax = plt.subplots(figsize = (8, 6))\n",
        "fig = sns.boxplot(x = 'Type', y = 'Size', data= store_type_size)"
      ],
      "execution_count": 30,
      "outputs": [
        {
          "output_type": "display_data",
          "data": {
            "image/png": "[encoded data removed]",
            "text/plain": [
              "<Figure size 576x432 with 1 Axes>"
            ]
          },
          "metadata": {
            "needs_background": "light"
          }
        }
      ]
    },
    {
      "cell_type": "markdown",
      "metadata": {
        "id": "PzSpi8lS6WYv"
      },
      "source": [
        "By boxplot and piechart, we can say that type A store is the largest store and C is the smallest"
      ]
    },
    {
      "cell_type": "code",
      "metadata": {
        "id": "YoaBDhfg6WY_",
        "outputId": "90a896f9-db76-41d2-bd95-6ff2e1a68a69",
        "colab": {
          "base_uri": "https://localhost:8080/",
          "height": 388
        }
      },
      "source": [
        "# boxplot for weekly sales for different types of stores \n",
        "store_sales = pd.concat([stores['Type'], train['Weekly_Sales']], axis = 1)\n",
        "f1, ax1 = plt.subplots(figsize = (8, 6))\n",
        "fig1 = sns.boxplot(x = 'Type', y = 'Weekly_Sales', data = store_sales, showfliers = False)"
      ],
      "execution_count": 31,
      "outputs": [
        {
          "output_type": "display_data",
          "data": {
            "image/png": "[encoded data removed]",
            "text/plain": [
              "<Figure size 576x432 with 1 Axes>"
            ]
          },
          "metadata": {
            "needs_background": "light"
          }
        }
      ]
    },
    {
      "cell_type": "markdown",
      "metadata": {
        "id": "jVLrOIsz6WZH"
      },
      "source": [
        "<b>\n",
        "The median of A is the highest and C is the lowest i.e stores with more sizes have higher sales.\n",
        "Sale is more on holidays as compare to other days\n",
        "</b>"
      ]
    },
    {
      "cell_type": "code",
      "metadata": {
        "id": "puwxhy5O6WZL",
        "outputId": "9b65d406-f277-43c7-9cac-d1538f82336a",
        "colab": {
          "base_uri": "https://localhost:8080/"
        }
      },
      "source": [
        "# Total count of sales on holidays and non-holidays\n",
        "is_holiday = train[train.IsHoliday == True]\n",
        "print('Sales on Holidays     : ', is_holiday['Weekly_Sales'].count())\n",
        "\n",
        "non_holiday = train[train.IsHoliday == False]\n",
        "print('Sales on Non-Holidays : ', is_holiday['Weekly_Sales'].count())"
      ],
      "execution_count": 32,
      "outputs": [
        {
          "output_type": "stream",
          "name": "stdout",
          "text": [
            "Sales on Holidays     :  29661\n",
            "Sales on Non-Holidays :  29661\n"
          ]
        }
      ]
    },
    {
      "cell_type": "markdown",
      "metadata": {
        "id": "E_L-4Ehs6WZQ"
      },
      "source": [
        "---\n",
        "## Correlation\n",
        "    Correlation is a bivariate analysis that measures the strength of association b/w two variable .\n",
        "---"
      ]
    },
    {
      "cell_type": "code",
      "metadata": {
        "id": "-C239OMB6WZS",
        "outputId": "de48d3dd-891d-4746-d0ed-cb8f4e9d44b1",
        "colab": {
          "base_uri": "https://localhost:8080/",
          "height": 617
        }
      },
      "source": [
        "corr = df.corr()\n",
        "plt.figure(figsize = (15, 10))\n",
        "sns.heatmap(corr, annot = True)\n",
        "plt.plot()"
      ],
      "execution_count": 33,
      "outputs": [
        {
          "output_type": "execute_result",
          "data": {
            "text/plain": [
              "[]"
            ]
          },
          "metadata": {},
          "execution_count": 33
        },
        {
          "output_type": "display_data",
          "data": {
            "image/png": "[encoded data removed]",
            "text/plain": [
              "<Figure size 1080x720 with 2 Axes>"
            ]
          },
          "metadata": {
            "needs_background": "light"
          }
        }
      ]
    },
    {
      "cell_type": "markdown",
      "metadata": {
        "id": "yAM3x5Bp6WZa"
      },
      "source": [
        "<big>\n",
        "As we have seen in th heatmap, all markdowns are corelated with each other bacause we have filled it with zeroes\n",
        "</big>"
      ]
    },
    {
      "cell_type": "markdown",
      "metadata": {
        "id": "cKqV44NI6WZb"
      },
      "source": [
        "\n",
        "From the BiVariate analysis, we can say that we have imp cols from df as follows : \n",
        "    - Store\n",
        "    - Tempreature\n",
        "    - Fuel Price\n",
        "    - CPI\n",
        "    - Unemployement\n",
        "    - IsHoliday\n",
        "    - Dept\n",
        "    - Weekly_Sales\n",
        "    - Size\n",
        "    \n"
      ]
    },
    {
      "cell_type": "code",
      "metadata": {
        "id": "AXASh9T_6WZc"
      },
      "source": [
        "# exporting the correlation data into csv file\n",
        "corr.to_csv('/content/drive/MyDrive/dataset store/corelation.csv')"
      ],
      "execution_count": 35,
      "outputs": []
    },
    {
      "cell_type": "markdown",
      "metadata": {
        "id": "lcVbSsIC6WZf"
      },
      "source": [
        "---\n",
        "## Extracting new Dates, Years and holidays columns for train and test data\n",
        "---"
      ]
    },
    {
      "cell_type": "code",
      "metadata": {
        "id": "1_K8ckXl6WZg"
      },
      "source": [
        "# Add column for Year Training dataset\n",
        "df['year'] = pd.to_datetime(df['Date'], format = '%Y-%m-%d').dt.year\n",
        "# test dataset\n",
        "df_test['year'] = pd.to_datetime(df['Date'], format = '%Y-%m-%d').dt.year\n",
        "\n",
        "# Add Column for the day\n",
        "df['day'] = pd.to_datetime(df['Date'], format = '%Y-%m-%d').dt.day\n",
        "df_test['day'] = pd.to_datetime(df['Date'], format = '%Y-%m-%d').dt.day\n",
        "\n",
        "# Add column for days to next christmas for Training\n",
        "df[\"Days to Next Christmas\"] = (pd.to_datetime(df['year'].astype(str)+ \"-12-31\", format=\"%Y-%m-%d\") -\n",
        "                                   pd.to_datetime(df[\"Date\"], format=\"%Y-%m-%d\")).dt.days.astype(int)\n",
        "\n",
        "# testing\n",
        "df_test[\"Days to Next Christmas\"] = (pd.to_datetime(df_test['year'].astype(str) + \"-12-31\", format=\"%Y-%m-%d\") -\n",
        "                                   pd.to_datetime(df_test[\"Date\"], format=\"%Y-%m-%d\")).dt.days.astype(int)"
      ],
      "execution_count": 36,
      "outputs": []
    },
    {
      "cell_type": "code",
      "metadata": {
        "id": "4--fmxty6WZj",
        "outputId": "95487f4a-f351-4709-8889-39cfad2f1e03",
        "colab": {
          "base_uri": "https://localhost:8080/",
          "height": 392
        }
      },
      "source": [
        "df.head()\n",
        "# print(df_test)"
      ],
      "execution_count": 37,
      "outputs": [
        {
          "output_type": "execute_result",
          "data": {
            "text/html": [
              "\n",
              "  <div id=\"df-fd11391e-153e-4e8f-af4c-40b19b3986bd\">\n",
              "    <div class=\"colab-df-container\">\n",
              "      <div>\n",
              "<style scoped>\n",
              "    .dataframe tbody tr th:only-of-type {\n",
              "        vertical-align: middle;\n",
              "    }\n",
              "\n",
              "    .dataframe tbody tr th {\n",
              "        vertical-align: top;\n",
              "    }\n",
              "\n",
              "    .dataframe thead th {\n",
              "        text-align: right;\n",
              "    }\n",
              "</style>\n",
              "<table border=\"1\" class=\"dataframe\">\n",
              "  <thead>\n",
              "    <tr style=\"text-align: right;\">\n",
              "      <th></th>\n",
              "      <th>Store</th>\n",
              "      <th>Date</th>\n",
              "      <th>Temperature</th>\n",
              "      <th>Fuel_Price</th>\n",
              "      <th>MarkDown1</th>\n",
              "      <th>MarkDown2</th>\n",
              "      <th>MarkDown3</th>\n",
              "      <th>MarkDown4</th>\n",
              "      <th>MarkDown5</th>\n",
              "      <th>CPI</th>\n",
              "      <th>Unemployment</th>\n",
              "      <th>IsHoliday</th>\n",
              "      <th>Dept</th>\n",
              "      <th>Weekly_Sales</th>\n",
              "      <th>Type</th>\n",
              "      <th>Size</th>\n",
              "      <th>year</th>\n",
              "      <th>day</th>\n",
              "      <th>Days to Next Christmas</th>\n",
              "    </tr>\n",
              "  </thead>\n",
              "  <tbody>\n",
              "    <tr>\n",
              "      <th>0</th>\n",
              "      <td>1</td>\n",
              "      <td>2010-02-05</td>\n",
              "      <td>42.31</td>\n",
              "      <td>2.572</td>\n",
              "      <td>0.0</td>\n",
              "      <td>0.0</td>\n",
              "      <td>0.0</td>\n",
              "      <td>0.0</td>\n",
              "      <td>0.0</td>\n",
              "      <td>211.096358</td>\n",
              "      <td>8.106</td>\n",
              "      <td>False</td>\n",
              "      <td>1</td>\n",
              "      <td>24924.50</td>\n",
              "      <td>A</td>\n",
              "      <td>151315</td>\n",
              "      <td>2010</td>\n",
              "      <td>5</td>\n",
              "      <td>329</td>\n",
              "    </tr>\n",
              "    <tr>\n",
              "      <th>330761</th>\n",
              "      <td>35</td>\n",
              "      <td>2010-02-05</td>\n",
              "      <td>27.19</td>\n",
              "      <td>2.784</td>\n",
              "      <td>0.0</td>\n",
              "      <td>0.0</td>\n",
              "      <td>0.0</td>\n",
              "      <td>0.0</td>\n",
              "      <td>0.0</td>\n",
              "      <td>135.352461</td>\n",
              "      <td>9.262</td>\n",
              "      <td>False</td>\n",
              "      <td>3</td>\n",
              "      <td>14612.19</td>\n",
              "      <td>B</td>\n",
              "      <td>103681</td>\n",
              "      <td>2010</td>\n",
              "      <td>5</td>\n",
              "      <td>329</td>\n",
              "    </tr>\n",
              "    <tr>\n",
              "      <th>330762</th>\n",
              "      <td>35</td>\n",
              "      <td>2010-02-05</td>\n",
              "      <td>27.19</td>\n",
              "      <td>2.784</td>\n",
              "      <td>0.0</td>\n",
              "      <td>0.0</td>\n",
              "      <td>0.0</td>\n",
              "      <td>0.0</td>\n",
              "      <td>0.0</td>\n",
              "      <td>135.352461</td>\n",
              "      <td>9.262</td>\n",
              "      <td>False</td>\n",
              "      <td>4</td>\n",
              "      <td>26323.15</td>\n",
              "      <td>B</td>\n",
              "      <td>103681</td>\n",
              "      <td>2010</td>\n",
              "      <td>5</td>\n",
              "      <td>329</td>\n",
              "    </tr>\n",
              "    <tr>\n",
              "      <th>330763</th>\n",
              "      <td>35</td>\n",
              "      <td>2010-02-05</td>\n",
              "      <td>27.19</td>\n",
              "      <td>2.784</td>\n",
              "      <td>0.0</td>\n",
              "      <td>0.0</td>\n",
              "      <td>0.0</td>\n",
              "      <td>0.0</td>\n",
              "      <td>0.0</td>\n",
              "      <td>135.352461</td>\n",
              "      <td>9.262</td>\n",
              "      <td>False</td>\n",
              "      <td>5</td>\n",
              "      <td>36414.63</td>\n",
              "      <td>B</td>\n",
              "      <td>103681</td>\n",
              "      <td>2010</td>\n",
              "      <td>5</td>\n",
              "      <td>329</td>\n",
              "    </tr>\n",
              "    <tr>\n",
              "      <th>330764</th>\n",
              "      <td>35</td>\n",
              "      <td>2010-02-05</td>\n",
              "      <td>27.19</td>\n",
              "      <td>2.784</td>\n",
              "      <td>0.0</td>\n",
              "      <td>0.0</td>\n",
              "      <td>0.0</td>\n",
              "      <td>0.0</td>\n",
              "      <td>0.0</td>\n",
              "      <td>135.352461</td>\n",
              "      <td>9.262</td>\n",
              "      <td>False</td>\n",
              "      <td>6</td>\n",
              "      <td>11437.81</td>\n",
              "      <td>B</td>\n",
              "      <td>103681</td>\n",
              "      <td>2010</td>\n",
              "      <td>5</td>\n",
              "      <td>329</td>\n",
              "    </tr>\n",
              "  </tbody>\n",
              "</table>\n",
              "</div>\n",
              "      <button class=\"colab-df-convert\" onclick=\"convertToInteractive('df-fd11391e-153e-4e8f-af4c-40b19b3986bd')\"\n",
              "              title=\"Convert this dataframe to an interactive table.\"\n",
              "              style=\"display:none;\">\n",
              "        \n",
              "  <svg xmlns=\"http://www.w3.org/2000/svg\" height=\"24px\"viewBox=\"0 0 24 24\"\n",
              "       width=\"24px\">\n",
              "    <path d=\"M0 0h24v24H0V0z\" fill=\"none\"/>\n",
              "    <path d=\"M18.56 5.44l.94 2.06.94-2.06 2.06-.94-2.06-.94-.94-2.06-.94 2.06-2.06.94zm-11 1L8.5 8.5l.94-2.06 2.06-.94-2.06-.94L8.5 2.5l-.94 2.06-2.06.94zm10 10l.94 2.06.94-2.06 2.06-.94-2.06-.94-.94-2.06-.94 2.06-2.06.94z\"/><path d=\"M17.41 7.96l-1.37-1.37c-.4-.4-.92-.59-1.43-.59-.52 0-1.04.2-1.43.59L10.3 9.45l-7.72 7.72c-.78.78-.78 2.05 0 2.83L4 21.41c.39.39.9.59 1.41.59.51 0 1.02-.2 1.41-.59l7.78-7.78 2.81-2.81c.8-.78.8-2.07 0-2.86zM5.41 20L4 18.59l7.72-7.72 1.47 1.35L5.41 20z\"/>\n",
              "  </svg>\n",
              "      </button>\n",
              "      \n",
              "  <style>\n",
              "    .colab-df-container {\n",
              "      display:flex;\n",
              "      flex-wrap:wrap;\n",
              "      gap: 12px;\n",
              "    }\n",
              "\n",
              "    .colab-df-convert {\n",
              "      background-color: #E8F0FE;\n",
              "      border: none;\n",
              "      border-radius: 50%;\n",
              "      cursor: pointer;\n",
              "      display: none;\n",
              "      fill: #1967D2;\n",
              "      height: 32px;\n",
              "      padding: 0 0 0 0;\n",
              "      width: 32px;\n",
              "    }\n",
              "\n",
              "    .colab-df-convert:hover {\n",
              "      background-color: #E2EBFA;\n",
              "      box-shadow: 0px 1px 2px rgba(60, 64, 67, 0.3), 0px 1px 3px 1px rgba(60, 64, 67, 0.15);\n",
              "      fill: #174EA6;\n",
              "    }\n",
              "\n",
              "    [theme=dark] .colab-df-convert {\n",
              "      background-color: #3B4455;\n",
              "      fill: #D2E3FC;\n",
              "    }\n",
              "\n",
              "    [theme=dark] .colab-df-convert:hover {\n",
              "      background-color: #434B5C;\n",
              "      box-shadow: 0px 1px 3px 1px rgba(0, 0, 0, 0.15);\n",
              "      filter: drop-shadow(0px 1px 2px rgba(0, 0, 0, 0.3));\n",
              "      fill: #FFFFFF;\n",
              "    }\n",
              "  </style>\n",
              "\n",
              "      <script>\n",
              "        const buttonEl =\n",
              "          document.querySelector('#df-fd11391e-153e-4e8f-af4c-40b19b3986bd button.colab-df-convert');\n",
              "        buttonEl.style.display =\n",
              "          google.colab.kernel.accessAllowed ? 'block' : 'none';\n",
              "\n",
              "        async function convertToInteractive(key) {\n",
              "          const element = document.querySelector('#df-fd11391e-153e-4e8f-af4c-40b19b3986bd');\n",
              "          const dataTable =\n",
              "            await google.colab.kernel.invokeFunction('convertToInteractive',\n",
              "                                                     [key], {});\n",
              "          if (!dataTable) return;\n",
              "\n",
              "          const docLinkHtml = 'Like what you see? Visit the ' +\n",
              "            '<a target=\"_blank\" href=https://colab.research.google.com/notebooks/data_table.ipynb>data table notebook</a>'\n",
              "            + ' to learn more about interactive tables.';\n",
              "          element.innerHTML = '';\n",
              "          dataTable['output_type'] = 'display_data';\n",
              "          await google.colab.output.renderOutput(dataTable, element);\n",
              "          const docLink = document.createElement('div');\n",
              "          docLink.innerHTML = docLinkHtml;\n",
              "          element.appendChild(docLink);\n",
              "        }\n",
              "      </script>\n",
              "    </div>\n",
              "  </div>\n",
              "  "
            ],
            "text/plain": [
              "        Store        Date  Temperature  ...  year  day  Days to Next Christmas\n",
              "0           1  2010-02-05        42.31  ...  2010    5                     329\n",
              "330761     35  2010-02-05        27.19  ...  2010    5                     329\n",
              "330762     35  2010-02-05        27.19  ...  2010    5                     329\n",
              "330763     35  2010-02-05        27.19  ...  2010    5                     329\n",
              "330764     35  2010-02-05        27.19  ...  2010    5                     329\n",
              "\n",
              "[5 rows x 19 columns]"
            ]
          },
          "metadata": {},
          "execution_count": 37
        }
      ]
    },
    {
      "cell_type": "code",
      "metadata": {
        "id": "ywVd4-tC6WZp"
      },
      "source": [
        ""
      ],
      "execution_count": null,
      "outputs": []
    },
    {
      "cell_type": "markdown",
      "metadata": {
        "id": "h_RppTVD6WZw"
      },
      "source": [
        "## Data Description\n",
        "---"
      ]
    },
    {
      "cell_type": "code",
      "metadata": {
        "id": "k0Ky8qMs6WZy"
      },
      "source": [
        "# dict(df.dtypes)"
      ],
      "execution_count": null,
      "outputs": []
    },
    {
      "cell_type": "code",
      "metadata": {
        "id": "nb-LISth6WZ3",
        "outputId": "81e015b5-feff-42f2-e701-52c98e855965",
        "colab": {
          "base_uri": "https://localhost:8080/"
        }
      },
      "source": [
        "numeric_vars = [key for key in dict(df.dtypes) if dict(df.dtypes)[key]  in ['float64', 'float32', 'int32', 'int64']]\n",
        "cat_vars = [key for key in dict(df.dtypes) if dict(df.dtypes)[key] in ['object']]\n",
        "\n",
        "print(numeric_vars)\n",
        "print(cat_vars)"
      ],
      "execution_count": 38,
      "outputs": [
        {
          "output_type": "stream",
          "name": "stdout",
          "text": [
            "['Store', 'Temperature', 'Fuel_Price', 'MarkDown1', 'MarkDown2', 'MarkDown3', 'MarkDown4', 'MarkDown5', 'CPI', 'Unemployment', 'Dept', 'Weekly_Sales', 'Size', 'year', 'day', 'Days to Next Christmas']\n",
            "['Date', 'Type']\n"
          ]
        }
      ]
    },
    {
      "cell_type": "code",
      "metadata": {
        "id": "D1IoGGXS6WZ8"
      },
      "source": [
        "# Create Data audit Report for continuous variables\n",
        "def continuous_var_summary(x):\n",
        "    return pd.Series([x.count(), x.isnull().sum(), x.sum(), x.mean(), x.median(),  \n",
        "                      x.std(), x.var(), x.min(), x.quantile(0.01), x.quantile(0.05),\n",
        "                          x.quantile(0.10),x.quantile(0.25),x.quantile(0.50),x.quantile(0.75), \n",
        "                              x.quantile(0.90),x.quantile(0.95), x.quantile(0.99),x.max()], \n",
        "                  index = ['N', 'NMISS', 'SUM', 'MEAN','MEDIAN', 'STD', 'VAR', 'MIN', 'P1', \n",
        "                               'P5' ,'P10' ,'P25' ,'P50' ,'P75' ,'P90' ,'P95' ,'P99' ,'MAX'])"
      ],
      "execution_count": 39,
      "outputs": []
    },
    {
      "cell_type": "code",
      "metadata": {
        "id": "Tle-YZWR6WaB",
        "outputId": "1067f63a-dd10-4079-efe9-b7fa73b04ba5",
        "colab": {
          "base_uri": "https://localhost:8080/",
          "height": 632
        }
      },
      "source": [
        "df_nums = df[numeric_vars]\n",
        "continuous_summary = df_nums.apply(continuous_var_summary).round(2).T\n",
        "continuous_summary"
      ],
      "execution_count": 40,
      "outputs": [
        {
          "output_type": "execute_result",
          "data": {
            "text/html": [
              "\n",
              "  <div id=\"df-21162776-38ff-4698-a10a-d1ceeaba8f5f\">\n",
              "    <div class=\"colab-df-container\">\n",
              "      <div>\n",
              "<style scoped>\n",
              "    .dataframe tbody tr th:only-of-type {\n",
              "        vertical-align: middle;\n",
              "    }\n",
              "\n",
              "    .dataframe tbody tr th {\n",
              "        vertical-align: top;\n",
              "    }\n",
              "\n",
              "    .dataframe thead th {\n",
              "        text-align: right;\n",
              "    }\n",
              "</style>\n",
              "<table border=\"1\" class=\"dataframe\">\n",
              "  <thead>\n",
              "    <tr style=\"text-align: right;\">\n",
              "      <th></th>\n",
              "      <th>N</th>\n",
              "      <th>NMISS</th>\n",
              "      <th>SUM</th>\n",
              "      <th>MEAN</th>\n",
              "      <th>MEDIAN</th>\n",
              "      <th>STD</th>\n",
              "      <th>VAR</th>\n",
              "      <th>MIN</th>\n",
              "      <th>P1</th>\n",
              "      <th>P5</th>\n",
              "      <th>P10</th>\n",
              "      <th>P25</th>\n",
              "      <th>P50</th>\n",
              "      <th>P75</th>\n",
              "      <th>P90</th>\n",
              "      <th>P95</th>\n",
              "      <th>P99</th>\n",
              "      <th>MAX</th>\n",
              "    </tr>\n",
              "  </thead>\n",
              "  <tbody>\n",
              "    <tr>\n",
              "      <th>Store</th>\n",
              "      <td>421570.0</td>\n",
              "      <td>0.0</td>\n",
              "      <td>9.359084e+06</td>\n",
              "      <td>22.20</td>\n",
              "      <td>22.00</td>\n",
              "      <td>12.79</td>\n",
              "      <td>1.634600e+02</td>\n",
              "      <td>1.00</td>\n",
              "      <td>1.00</td>\n",
              "      <td>3.00</td>\n",
              "      <td>5.00</td>\n",
              "      <td>11.00</td>\n",
              "      <td>22.00</td>\n",
              "      <td>33.00</td>\n",
              "      <td>40.00</td>\n",
              "      <td>43.00</td>\n",
              "      <td>45.00</td>\n",
              "      <td>45.00</td>\n",
              "    </tr>\n",
              "    <tr>\n",
              "      <th>Temperature</th>\n",
              "      <td>421570.0</td>\n",
              "      <td>0.0</td>\n",
              "      <td>2.533217e+07</td>\n",
              "      <td>60.09</td>\n",
              "      <td>62.09</td>\n",
              "      <td>18.45</td>\n",
              "      <td>3.403300e+02</td>\n",
              "      <td>-2.06</td>\n",
              "      <td>18.30</td>\n",
              "      <td>27.31</td>\n",
              "      <td>33.98</td>\n",
              "      <td>46.68</td>\n",
              "      <td>62.09</td>\n",
              "      <td>74.28</td>\n",
              "      <td>83.58</td>\n",
              "      <td>87.27</td>\n",
              "      <td>92.81</td>\n",
              "      <td>100.14</td>\n",
              "    </tr>\n",
              "    <tr>\n",
              "      <th>Fuel_Price</th>\n",
              "      <td>421570.0</td>\n",
              "      <td>0.0</td>\n",
              "      <td>1.416908e+06</td>\n",
              "      <td>3.36</td>\n",
              "      <td>3.45</td>\n",
              "      <td>0.46</td>\n",
              "      <td>2.100000e-01</td>\n",
              "      <td>2.47</td>\n",
              "      <td>2.56</td>\n",
              "      <td>2.65</td>\n",
              "      <td>2.72</td>\n",
              "      <td>2.93</td>\n",
              "      <td>3.45</td>\n",
              "      <td>3.74</td>\n",
              "      <td>3.92</td>\n",
              "      <td>4.03</td>\n",
              "      <td>4.20</td>\n",
              "      <td>4.47</td>\n",
              "    </tr>\n",
              "    <tr>\n",
              "      <th>MarkDown1</th>\n",
              "      <td>421570.0</td>\n",
              "      <td>0.0</td>\n",
              "      <td>1.091898e+09</td>\n",
              "      <td>2590.07</td>\n",
              "      <td>0.00</td>\n",
              "      <td>6052.39</td>\n",
              "      <td>3.663138e+07</td>\n",
              "      <td>0.00</td>\n",
              "      <td>0.00</td>\n",
              "      <td>0.00</td>\n",
              "      <td>0.00</td>\n",
              "      <td>0.00</td>\n",
              "      <td>0.00</td>\n",
              "      <td>2809.05</td>\n",
              "      <td>8624.56</td>\n",
              "      <td>12407.71</td>\n",
              "      <td>28177.29</td>\n",
              "      <td>88646.76</td>\n",
              "    </tr>\n",
              "    <tr>\n",
              "      <th>MarkDown2</th>\n",
              "      <td>421570.0</td>\n",
              "      <td>0.0</td>\n",
              "      <td>1.091898e+09</td>\n",
              "      <td>2590.07</td>\n",
              "      <td>0.00</td>\n",
              "      <td>6052.39</td>\n",
              "      <td>3.663138e+07</td>\n",
              "      <td>0.00</td>\n",
              "      <td>0.00</td>\n",
              "      <td>0.00</td>\n",
              "      <td>0.00</td>\n",
              "      <td>0.00</td>\n",
              "      <td>0.00</td>\n",
              "      <td>2809.05</td>\n",
              "      <td>8624.56</td>\n",
              "      <td>12407.71</td>\n",
              "      <td>28177.29</td>\n",
              "      <td>88646.76</td>\n",
              "    </tr>\n",
              "    <tr>\n",
              "      <th>MarkDown3</th>\n",
              "      <td>421570.0</td>\n",
              "      <td>0.0</td>\n",
              "      <td>1.091898e+09</td>\n",
              "      <td>2590.07</td>\n",
              "      <td>0.00</td>\n",
              "      <td>6052.39</td>\n",
              "      <td>3.663138e+07</td>\n",
              "      <td>0.00</td>\n",
              "      <td>0.00</td>\n",
              "      <td>0.00</td>\n",
              "      <td>0.00</td>\n",
              "      <td>0.00</td>\n",
              "      <td>0.00</td>\n",
              "      <td>2809.05</td>\n",
              "      <td>8624.56</td>\n",
              "      <td>12407.71</td>\n",
              "      <td>28177.29</td>\n",
              "      <td>88646.76</td>\n",
              "    </tr>\n",
              "    <tr>\n",
              "      <th>MarkDown4</th>\n",
              "      <td>421570.0</td>\n",
              "      <td>0.0</td>\n",
              "      <td>1.091898e+09</td>\n",
              "      <td>2590.07</td>\n",
              "      <td>0.00</td>\n",
              "      <td>6052.39</td>\n",
              "      <td>3.663138e+07</td>\n",
              "      <td>0.00</td>\n",
              "      <td>0.00</td>\n",
              "      <td>0.00</td>\n",
              "      <td>0.00</td>\n",
              "      <td>0.00</td>\n",
              "      <td>0.00</td>\n",
              "      <td>2809.05</td>\n",
              "      <td>8624.56</td>\n",
              "      <td>12407.71</td>\n",
              "      <td>28177.29</td>\n",
              "      <td>88646.76</td>\n",
              "    </tr>\n",
              "    <tr>\n",
              "      <th>MarkDown5</th>\n",
              "      <td>421570.0</td>\n",
              "      <td>0.0</td>\n",
              "      <td>1.091898e+09</td>\n",
              "      <td>2590.07</td>\n",
              "      <td>0.00</td>\n",
              "      <td>6052.39</td>\n",
              "      <td>3.663138e+07</td>\n",
              "      <td>0.00</td>\n",
              "      <td>0.00</td>\n",
              "      <td>0.00</td>\n",
              "      <td>0.00</td>\n",
              "      <td>0.00</td>\n",
              "      <td>0.00</td>\n",
              "      <td>2809.05</td>\n",
              "      <td>8624.56</td>\n",
              "      <td>12407.71</td>\n",
              "      <td>28177.29</td>\n",
              "      <td>88646.76</td>\n",
              "    </tr>\n",
              "    <tr>\n",
              "      <th>CPI</th>\n",
              "      <td>421570.0</td>\n",
              "      <td>0.0</td>\n",
              "      <td>7.217360e+07</td>\n",
              "      <td>171.20</td>\n",
              "      <td>182.32</td>\n",
              "      <td>39.16</td>\n",
              "      <td>1.533450e+03</td>\n",
              "      <td>126.06</td>\n",
              "      <td>126.11</td>\n",
              "      <td>126.50</td>\n",
              "      <td>128.82</td>\n",
              "      <td>132.02</td>\n",
              "      <td>182.32</td>\n",
              "      <td>212.42</td>\n",
              "      <td>219.44</td>\n",
              "      <td>221.94</td>\n",
              "      <td>225.47</td>\n",
              "      <td>227.23</td>\n",
              "    </tr>\n",
              "    <tr>\n",
              "      <th>Unemployment</th>\n",
              "      <td>421570.0</td>\n",
              "      <td>0.0</td>\n",
              "      <td>3.355819e+06</td>\n",
              "      <td>7.96</td>\n",
              "      <td>7.87</td>\n",
              "      <td>1.86</td>\n",
              "      <td>3.470000e+00</td>\n",
              "      <td>3.88</td>\n",
              "      <td>4.16</td>\n",
              "      <td>5.33</td>\n",
              "      <td>5.96</td>\n",
              "      <td>6.89</td>\n",
              "      <td>7.87</td>\n",
              "      <td>8.57</td>\n",
              "      <td>9.82</td>\n",
              "      <td>12.19</td>\n",
              "      <td>14.18</td>\n",
              "      <td>14.31</td>\n",
              "    </tr>\n",
              "    <tr>\n",
              "      <th>Dept</th>\n",
              "      <td>421570.0</td>\n",
              "      <td>0.0</td>\n",
              "      <td>1.865882e+07</td>\n",
              "      <td>44.26</td>\n",
              "      <td>37.00</td>\n",
              "      <td>30.49</td>\n",
              "      <td>9.297700e+02</td>\n",
              "      <td>1.00</td>\n",
              "      <td>1.00</td>\n",
              "      <td>4.00</td>\n",
              "      <td>7.00</td>\n",
              "      <td>18.00</td>\n",
              "      <td>37.00</td>\n",
              "      <td>74.00</td>\n",
              "      <td>92.00</td>\n",
              "      <td>95.00</td>\n",
              "      <td>98.00</td>\n",
              "      <td>99.00</td>\n",
              "    </tr>\n",
              "    <tr>\n",
              "      <th>Weekly_Sales</th>\n",
              "      <td>421570.0</td>\n",
              "      <td>0.0</td>\n",
              "      <td>6.737219e+09</td>\n",
              "      <td>15981.26</td>\n",
              "      <td>7612.03</td>\n",
              "      <td>22711.18</td>\n",
              "      <td>5.157979e+08</td>\n",
              "      <td>-4988.94</td>\n",
              "      <td>5.00</td>\n",
              "      <td>59.97</td>\n",
              "      <td>291.10</td>\n",
              "      <td>2079.65</td>\n",
              "      <td>7612.03</td>\n",
              "      <td>20205.85</td>\n",
              "      <td>42845.67</td>\n",
              "      <td>61201.95</td>\n",
              "      <td>106479.59</td>\n",
              "      <td>693099.36</td>\n",
              "    </tr>\n",
              "    <tr>\n",
              "      <th>Size</th>\n",
              "      <td>421570.0</td>\n",
              "      <td>0.0</td>\n",
              "      <td>5.764039e+10</td>\n",
              "      <td>136727.92</td>\n",
              "      <td>140167.00</td>\n",
              "      <td>60980.58</td>\n",
              "      <td>3.718632e+09</td>\n",
              "      <td>34875.00</td>\n",
              "      <td>34875.00</td>\n",
              "      <td>39690.00</td>\n",
              "      <td>39910.00</td>\n",
              "      <td>93638.00</td>\n",
              "      <td>140167.00</td>\n",
              "      <td>202505.00</td>\n",
              "      <td>204184.00</td>\n",
              "      <td>206302.00</td>\n",
              "      <td>219622.00</td>\n",
              "      <td>219622.00</td>\n",
              "    </tr>\n",
              "    <tr>\n",
              "      <th>year</th>\n",
              "      <td>421570.0</td>\n",
              "      <td>0.0</td>\n",
              "      <td>8.477640e+08</td>\n",
              "      <td>2010.97</td>\n",
              "      <td>2011.00</td>\n",
              "      <td>0.80</td>\n",
              "      <td>6.400000e-01</td>\n",
              "      <td>2010.00</td>\n",
              "      <td>2010.00</td>\n",
              "      <td>2010.00</td>\n",
              "      <td>2010.00</td>\n",
              "      <td>2010.00</td>\n",
              "      <td>2011.00</td>\n",
              "      <td>2012.00</td>\n",
              "      <td>2012.00</td>\n",
              "      <td>2012.00</td>\n",
              "      <td>2012.00</td>\n",
              "      <td>2012.00</td>\n",
              "    </tr>\n",
              "    <tr>\n",
              "      <th>day</th>\n",
              "      <td>421570.0</td>\n",
              "      <td>0.0</td>\n",
              "      <td>6.607322e+06</td>\n",
              "      <td>15.67</td>\n",
              "      <td>16.00</td>\n",
              "      <td>8.75</td>\n",
              "      <td>7.662000e+01</td>\n",
              "      <td>1.00</td>\n",
              "      <td>1.00</td>\n",
              "      <td>2.00</td>\n",
              "      <td>4.00</td>\n",
              "      <td>8.00</td>\n",
              "      <td>16.00</td>\n",
              "      <td>23.00</td>\n",
              "      <td>28.00</td>\n",
              "      <td>29.00</td>\n",
              "      <td>31.00</td>\n",
              "      <td>31.00</td>\n",
              "    </tr>\n",
              "    <tr>\n",
              "      <th>Days to Next Christmas</th>\n",
              "      <td>421570.0</td>\n",
              "      <td>0.0</td>\n",
              "      <td>7.777273e+07</td>\n",
              "      <td>184.48</td>\n",
              "      <td>185.00</td>\n",
              "      <td>99.30</td>\n",
              "      <td>9.859970e+03</td>\n",
              "      <td>0.00</td>\n",
              "      <td>1.00</td>\n",
              "      <td>22.00</td>\n",
              "      <td>49.00</td>\n",
              "      <td>101.00</td>\n",
              "      <td>185.00</td>\n",
              "      <td>269.00</td>\n",
              "      <td>318.00</td>\n",
              "      <td>337.00</td>\n",
              "      <td>358.00</td>\n",
              "      <td>360.00</td>\n",
              "    </tr>\n",
              "  </tbody>\n",
              "</table>\n",
              "</div>\n",
              "      <button class=\"colab-df-convert\" onclick=\"convertToInteractive('df-21162776-38ff-4698-a10a-d1ceeaba8f5f')\"\n",
              "              title=\"Convert this dataframe to an interactive table.\"\n",
              "              style=\"display:none;\">\n",
              "        \n",
              "  <svg xmlns=\"http://www.w3.org/2000/svg\" height=\"24px\"viewBox=\"0 0 24 24\"\n",
              "       width=\"24px\">\n",
              "    <path d=\"M0 0h24v24H0V0z\" fill=\"none\"/>\n",
              "    <path d=\"M18.56 5.44l.94 2.06.94-2.06 2.06-.94-2.06-.94-.94-2.06-.94 2.06-2.06.94zm-11 1L8.5 8.5l.94-2.06 2.06-.94-2.06-.94L8.5 2.5l-.94 2.06-2.06.94zm10 10l.94 2.06.94-2.06 2.06-.94-2.06-.94-.94-2.06-.94 2.06-2.06.94z\"/><path d=\"M17.41 7.96l-1.37-1.37c-.4-.4-.92-.59-1.43-.59-.52 0-1.04.2-1.43.59L10.3 9.45l-7.72 7.72c-.78.78-.78 2.05 0 2.83L4 21.41c.39.39.9.59 1.41.59.51 0 1.02-.2 1.41-.59l7.78-7.78 2.81-2.81c.8-.78.8-2.07 0-2.86zM5.41 20L4 18.59l7.72-7.72 1.47 1.35L5.41 20z\"/>\n",
              "  </svg>\n",
              "      </button>\n",
              "      \n",
              "  <style>\n",
              "    .colab-df-container {\n",
              "      display:flex;\n",
              "      flex-wrap:wrap;\n",
              "      gap: 12px;\n",
              "    }\n",
              "\n",
              "    .colab-df-convert {\n",
              "      background-color: #E8F0FE;\n",
              "      border: none;\n",
              "      border-radius: 50%;\n",
              "      cursor: pointer;\n",
              "      display: none;\n",
              "      fill: #1967D2;\n",
              "      height: 32px;\n",
              "      padding: 0 0 0 0;\n",
              "      width: 32px;\n",
              "    }\n",
              "\n",
              "    .colab-df-convert:hover {\n",
              "      background-color: #E2EBFA;\n",
              "      box-shadow: 0px 1px 2px rgba(60, 64, 67, 0.3), 0px 1px 3px 1px rgba(60, 64, 67, 0.15);\n",
              "      fill: #174EA6;\n",
              "    }\n",
              "\n",
              "    [theme=dark] .colab-df-convert {\n",
              "      background-color: #3B4455;\n",
              "      fill: #D2E3FC;\n",
              "    }\n",
              "\n",
              "    [theme=dark] .colab-df-convert:hover {\n",
              "      background-color: #434B5C;\n",
              "      box-shadow: 0px 1px 3px 1px rgba(0, 0, 0, 0.15);\n",
              "      filter: drop-shadow(0px 1px 2px rgba(0, 0, 0, 0.3));\n",
              "      fill: #FFFFFF;\n",
              "    }\n",
              "  </style>\n",
              "\n",
              "      <script>\n",
              "        const buttonEl =\n",
              "          document.querySelector('#df-21162776-38ff-4698-a10a-d1ceeaba8f5f button.colab-df-convert');\n",
              "        buttonEl.style.display =\n",
              "          google.colab.kernel.accessAllowed ? 'block' : 'none';\n",
              "\n",
              "        async function convertToInteractive(key) {\n",
              "          const element = document.querySelector('#df-21162776-38ff-4698-a10a-d1ceeaba8f5f');\n",
              "          const dataTable =\n",
              "            await google.colab.kernel.invokeFunction('convertToInteractive',\n",
              "                                                     [key], {});\n",
              "          if (!dataTable) return;\n",
              "\n",
              "          const docLinkHtml = 'Like what you see? Visit the ' +\n",
              "            '<a target=\"_blank\" href=https://colab.research.google.com/notebooks/data_table.ipynb>data table notebook</a>'\n",
              "            + ' to learn more about interactive tables.';\n",
              "          element.innerHTML = '';\n",
              "          dataTable['output_type'] = 'display_data';\n",
              "          await google.colab.output.renderOutput(dataTable, element);\n",
              "          const docLink = document.createElement('div');\n",
              "          docLink.innerHTML = docLinkHtml;\n",
              "          element.appendChild(docLink);\n",
              "        }\n",
              "      </script>\n",
              "    </div>\n",
              "  </div>\n",
              "  "
            ],
            "text/plain": [
              "                               N  NMISS  ...        P99        MAX\n",
              "Store                   421570.0    0.0  ...      45.00      45.00\n",
              "Temperature             421570.0    0.0  ...      92.81     100.14\n",
              "Fuel_Price              421570.0    0.0  ...       4.20       4.47\n",
              "MarkDown1               421570.0    0.0  ...   28177.29   88646.76\n",
              "MarkDown2               421570.0    0.0  ...   28177.29   88646.76\n",
              "MarkDown3               421570.0    0.0  ...   28177.29   88646.76\n",
              "MarkDown4               421570.0    0.0  ...   28177.29   88646.76\n",
              "MarkDown5               421570.0    0.0  ...   28177.29   88646.76\n",
              "CPI                     421570.0    0.0  ...     225.47     227.23\n",
              "Unemployment            421570.0    0.0  ...      14.18      14.31\n",
              "Dept                    421570.0    0.0  ...      98.00      99.00\n",
              "Weekly_Sales            421570.0    0.0  ...  106479.59  693099.36\n",
              "Size                    421570.0    0.0  ...  219622.00  219622.00\n",
              "year                    421570.0    0.0  ...    2012.00    2012.00\n",
              "day                     421570.0    0.0  ...      31.00      31.00\n",
              "Days to Next Christmas  421570.0    0.0  ...     358.00     360.00\n",
              "\n",
              "[16 rows x 18 columns]"
            ]
          },
          "metadata": {},
          "execution_count": 40
        }
      ]
    },
    {
      "cell_type": "code",
      "metadata": {
        "id": "GtdZkENS6WaG"
      },
      "source": [
        ""
      ],
      "execution_count": null,
      "outputs": []
    },
    {
      "cell_type": "code",
      "metadata": {
        "id": "J7gzrMwA6WaI",
        "outputId": "5ce3a8a7-0327-4bdf-f03d-5ace967aff0c",
        "colab": {
          "base_uri": "https://localhost:8080/",
          "height": 112
        }
      },
      "source": [
        "# create a statistics report for categorical variable\n",
        "def categorical_vars_summary(x):\n",
        "    return pd.Series([x.count(), x.isnull().sum(), x.value_counts()], \n",
        "                  index=['N', 'NMISS', 'ColumnsNames'])\n",
        "\n",
        "df_cat = df[cat_vars]\n",
        "cat_summary = df_cat.apply(lambda x: categorical_vars_summary(x))\n",
        "cat_summary.T"
      ],
      "execution_count": 41,
      "outputs": [
        {
          "output_type": "execute_result",
          "data": {
            "text/html": [
              "\n",
              "  <div id=\"df-4d35151d-7dfb-4b98-b990-795f59b1c34a\">\n",
              "    <div class=\"colab-df-container\">\n",
              "      <div>\n",
              "<style scoped>\n",
              "    .dataframe tbody tr th:only-of-type {\n",
              "        vertical-align: middle;\n",
              "    }\n",
              "\n",
              "    .dataframe tbody tr th {\n",
              "        vertical-align: top;\n",
              "    }\n",
              "\n",
              "    .dataframe thead th {\n",
              "        text-align: right;\n",
              "    }\n",
              "</style>\n",
              "<table border=\"1\" class=\"dataframe\">\n",
              "  <thead>\n",
              "    <tr style=\"text-align: right;\">\n",
              "      <th></th>\n",
              "      <th>N</th>\n",
              "      <th>NMISS</th>\n",
              "      <th>ColumnsNames</th>\n",
              "    </tr>\n",
              "  </thead>\n",
              "  <tbody>\n",
              "    <tr>\n",
              "      <th>Date</th>\n",
              "      <td>421570</td>\n",
              "      <td>0</td>\n",
              "      <td>2011-12-23    3027\n",
              "2011-11-25    3021\n",
              "2011-12-...</td>\n",
              "    </tr>\n",
              "    <tr>\n",
              "      <th>Type</th>\n",
              "      <td>421570</td>\n",
              "      <td>0</td>\n",
              "      <td>A    215478\n",
              "B    163495\n",
              "C     42597\n",
              "Name: Type...</td>\n",
              "    </tr>\n",
              "  </tbody>\n",
              "</table>\n",
              "</div>\n",
              "      <button class=\"colab-df-convert\" onclick=\"convertToInteractive('df-4d35151d-7dfb-4b98-b990-795f59b1c34a')\"\n",
              "              title=\"Convert this dataframe to an interactive table.\"\n",
              "              style=\"display:none;\">\n",
              "        \n",
              "  <svg xmlns=\"http://www.w3.org/2000/svg\" height=\"24px\"viewBox=\"0 0 24 24\"\n",
              "       width=\"24px\">\n",
              "    <path d=\"M0 0h24v24H0V0z\" fill=\"none\"/>\n",
              "    <path d=\"M18.56 5.44l.94 2.06.94-2.06 2.06-.94-2.06-.94-.94-2.06-.94 2.06-2.06.94zm-11 1L8.5 8.5l.94-2.06 2.06-.94-2.06-.94L8.5 2.5l-.94 2.06-2.06.94zm10 10l.94 2.06.94-2.06 2.06-.94-2.06-.94-.94-2.06-.94 2.06-2.06.94z\"/><path d=\"M17.41 7.96l-1.37-1.37c-.4-.4-.92-.59-1.43-.59-.52 0-1.04.2-1.43.59L10.3 9.45l-7.72 7.72c-.78.78-.78 2.05 0 2.83L4 21.41c.39.39.9.59 1.41.59.51 0 1.02-.2 1.41-.59l7.78-7.78 2.81-2.81c.8-.78.8-2.07 0-2.86zM5.41 20L4 18.59l7.72-7.72 1.47 1.35L5.41 20z\"/>\n",
              "  </svg>\n",
              "      </button>\n",
              "      \n",
              "  <style>\n",
              "    .colab-df-container {\n",
              "      display:flex;\n",
              "      flex-wrap:wrap;\n",
              "      gap: 12px;\n",
              "    }\n",
              "\n",
              "    .colab-df-convert {\n",
              "      background-color: #E8F0FE;\n",
              "      border: none;\n",
              "      border-radius: 50%;\n",
              "      cursor: pointer;\n",
              "      display: none;\n",
              "      fill: #1967D2;\n",
              "      height: 32px;\n",
              "      padding: 0 0 0 0;\n",
              "      width: 32px;\n",
              "    }\n",
              "\n",
              "    .colab-df-convert:hover {\n",
              "      background-color: #E2EBFA;\n",
              "      box-shadow: 0px 1px 2px rgba(60, 64, 67, 0.3), 0px 1px 3px 1px rgba(60, 64, 67, 0.15);\n",
              "      fill: #174EA6;\n",
              "    }\n",
              "\n",
              "    [theme=dark] .colab-df-convert {\n",
              "      background-color: #3B4455;\n",
              "      fill: #D2E3FC;\n",
              "    }\n",
              "\n",
              "    [theme=dark] .colab-df-convert:hover {\n",
              "      background-color: #434B5C;\n",
              "      box-shadow: 0px 1px 3px 1px rgba(0, 0, 0, 0.15);\n",
              "      filter: drop-shadow(0px 1px 2px rgba(0, 0, 0, 0.3));\n",
              "      fill: #FFFFFF;\n",
              "    }\n",
              "  </style>\n",
              "\n",
              "      <script>\n",
              "        const buttonEl =\n",
              "          document.querySelector('#df-4d35151d-7dfb-4b98-b990-795f59b1c34a button.colab-df-convert');\n",
              "        buttonEl.style.display =\n",
              "          google.colab.kernel.accessAllowed ? 'block' : 'none';\n",
              "\n",
              "        async function convertToInteractive(key) {\n",
              "          const element = document.querySelector('#df-4d35151d-7dfb-4b98-b990-795f59b1c34a');\n",
              "          const dataTable =\n",
              "            await google.colab.kernel.invokeFunction('convertToInteractive',\n",
              "                                                     [key], {});\n",
              "          if (!dataTable) return;\n",
              "\n",
              "          const docLinkHtml = 'Like what you see? Visit the ' +\n",
              "            '<a target=\"_blank\" href=https://colab.research.google.com/notebooks/data_table.ipynb>data table notebook</a>'\n",
              "            + ' to learn more about interactive tables.';\n",
              "          element.innerHTML = '';\n",
              "          dataTable['output_type'] = 'display_data';\n",
              "          await google.colab.output.renderOutput(dataTable, element);\n",
              "          const docLink = document.createElement('div');\n",
              "          docLink.innerHTML = docLinkHtml;\n",
              "          element.appendChild(docLink);\n",
              "        }\n",
              "      </script>\n",
              "    </div>\n",
              "  </div>\n",
              "  "
            ],
            "text/plain": [
              "           N NMISS                                       ColumnsNames\n",
              "Date  421570     0  2011-12-23    3027\n",
              "2011-11-25    3021\n",
              "2011-12-...\n",
              "Type  421570     0  A    215478\n",
              "B    163495\n",
              "C     42597\n",
              "Name: Type..."
            ]
          },
          "metadata": {},
          "execution_count": 41
        }
      ]
    },
    {
      "cell_type": "markdown",
      "metadata": {
        "id": "2TMSkocL6WaN"
      },
      "source": [
        "### For testing data"
      ]
    },
    {
      "cell_type": "code",
      "metadata": {
        "id": "JLz8J-cX6WaN",
        "outputId": "fc4d6ff8-bbef-45d9-d26f-89ff8d6996bc",
        "colab": {
          "base_uri": "https://localhost:8080/"
        }
      },
      "source": [
        "numeric_vars_test = [key for key in dict(df_test.dtypes) if dict(df_test.dtypes)[key]  in ['float64', 'float32', 'int32', 'int64']]\n",
        "cat_vars_test = [key for key in dict(df_test.dtypes) if dict(df_test.dtypes)[key] in ['object']]\n",
        "\n",
        "print(numeric_vars_test)\n",
        "print(cat_vars_test)"
      ],
      "execution_count": 42,
      "outputs": [
        {
          "output_type": "stream",
          "name": "stdout",
          "text": [
            "['Store', 'Temperature', 'Fuel_Price', 'MarkDown1', 'MarkDown2', 'MarkDown3', 'MarkDown4', 'MarkDown5', 'CPI', 'Unemployment', 'Dept', 'Size', 'year', 'day', 'Days to Next Christmas']\n",
            "['Date', 'Type']\n"
          ]
        }
      ]
    },
    {
      "cell_type": "code",
      "metadata": {
        "id": "kl82ESDM6WaU",
        "outputId": "e0adb84d-4cd9-4508-caaf-908539cd6f10",
        "colab": {
          "base_uri": "https://localhost:8080/",
          "height": 601
        }
      },
      "source": [
        "# Continuous Variable Summary\n",
        "df_test_nums = df_test[numeric_vars_test]\n",
        "continuous_summary_test = df_test_nums.apply(continuous_var_summary).T.round(2)\n",
        "continuous_summary_test"
      ],
      "execution_count": 43,
      "outputs": [
        {
          "output_type": "execute_result",
          "data": {
            "text/html": [
              "\n",
              "  <div id=\"df-2b42b986-5b7e-49b3-aab6-c39b2efa999b\">\n",
              "    <div class=\"colab-df-container\">\n",
              "      <div>\n",
              "<style scoped>\n",
              "    .dataframe tbody tr th:only-of-type {\n",
              "        vertical-align: middle;\n",
              "    }\n",
              "\n",
              "    .dataframe tbody tr th {\n",
              "        vertical-align: top;\n",
              "    }\n",
              "\n",
              "    .dataframe thead th {\n",
              "        text-align: right;\n",
              "    }\n",
              "</style>\n",
              "<table border=\"1\" class=\"dataframe\">\n",
              "  <thead>\n",
              "    <tr style=\"text-align: right;\">\n",
              "      <th></th>\n",
              "      <th>N</th>\n",
              "      <th>NMISS</th>\n",
              "      <th>SUM</th>\n",
              "      <th>MEAN</th>\n",
              "      <th>MEDIAN</th>\n",
              "      <th>STD</th>\n",
              "      <th>VAR</th>\n",
              "      <th>MIN</th>\n",
              "      <th>P1</th>\n",
              "      <th>P5</th>\n",
              "      <th>P10</th>\n",
              "      <th>P25</th>\n",
              "      <th>P50</th>\n",
              "      <th>P75</th>\n",
              "      <th>P90</th>\n",
              "      <th>P95</th>\n",
              "      <th>P99</th>\n",
              "      <th>MAX</th>\n",
              "    </tr>\n",
              "  </thead>\n",
              "  <tbody>\n",
              "    <tr>\n",
              "      <th>Store</th>\n",
              "      <td>115064.0</td>\n",
              "      <td>0.0</td>\n",
              "      <td>2.558817e+06</td>\n",
              "      <td>22.24</td>\n",
              "      <td>22.00</td>\n",
              "      <td>12.81</td>\n",
              "      <td>1.640900e+02</td>\n",
              "      <td>1.00</td>\n",
              "      <td>1.00</td>\n",
              "      <td>3.00</td>\n",
              "      <td>5.00</td>\n",
              "      <td>11.00</td>\n",
              "      <td>22.00</td>\n",
              "      <td>33.00</td>\n",
              "      <td>40.00</td>\n",
              "      <td>43.00</td>\n",
              "      <td>45.00</td>\n",
              "      <td>45.00</td>\n",
              "    </tr>\n",
              "    <tr>\n",
              "      <th>Temperature</th>\n",
              "      <td>115064.0</td>\n",
              "      <td>0.0</td>\n",
              "      <td>6.206760e+06</td>\n",
              "      <td>53.94</td>\n",
              "      <td>54.47</td>\n",
              "      <td>18.72</td>\n",
              "      <td>3.505900e+02</td>\n",
              "      <td>-7.29</td>\n",
              "      <td>11.44</td>\n",
              "      <td>23.98</td>\n",
              "      <td>29.97</td>\n",
              "      <td>39.82</td>\n",
              "      <td>54.47</td>\n",
              "      <td>67.35</td>\n",
              "      <td>79.48</td>\n",
              "      <td>83.82</td>\n",
              "      <td>92.14</td>\n",
              "      <td>101.95</td>\n",
              "    </tr>\n",
              "    <tr>\n",
              "      <th>Fuel_Price</th>\n",
              "      <td>115064.0</td>\n",
              "      <td>0.0</td>\n",
              "      <td>4.121070e+05</td>\n",
              "      <td>3.58</td>\n",
              "      <td>3.61</td>\n",
              "      <td>0.24</td>\n",
              "      <td>6.000000e-02</td>\n",
              "      <td>2.87</td>\n",
              "      <td>2.96</td>\n",
              "      <td>3.16</td>\n",
              "      <td>3.23</td>\n",
              "      <td>3.43</td>\n",
              "      <td>3.61</td>\n",
              "      <td>3.77</td>\n",
              "      <td>3.87</td>\n",
              "      <td>3.95</td>\n",
              "      <td>4.08</td>\n",
              "      <td>4.12</td>\n",
              "    </tr>\n",
              "    <tr>\n",
              "      <th>MarkDown1</th>\n",
              "      <td>115064.0</td>\n",
              "      <td>0.0</td>\n",
              "      <td>8.836063e+08</td>\n",
              "      <td>7679.26</td>\n",
              "      <td>4828.72</td>\n",
              "      <td>10695.41</td>\n",
              "      <td>1.143917e+08</td>\n",
              "      <td>-2781.45</td>\n",
              "      <td>17.01</td>\n",
              "      <td>178.43</td>\n",
              "      <td>448.82</td>\n",
              "      <td>1963.55</td>\n",
              "      <td>4828.72</td>\n",
              "      <td>9427.41</td>\n",
              "      <td>15325.04</td>\n",
              "      <td>23140.88</td>\n",
              "      <td>65757.57</td>\n",
              "      <td>103184.98</td>\n",
              "    </tr>\n",
              "    <tr>\n",
              "      <th>MarkDown2</th>\n",
              "      <td>115064.0</td>\n",
              "      <td>0.0</td>\n",
              "      <td>8.836063e+08</td>\n",
              "      <td>7679.26</td>\n",
              "      <td>4828.72</td>\n",
              "      <td>10695.41</td>\n",
              "      <td>1.143917e+08</td>\n",
              "      <td>-2781.45</td>\n",
              "      <td>17.01</td>\n",
              "      <td>178.43</td>\n",
              "      <td>448.82</td>\n",
              "      <td>1963.55</td>\n",
              "      <td>4828.72</td>\n",
              "      <td>9427.41</td>\n",
              "      <td>15325.04</td>\n",
              "      <td>23140.88</td>\n",
              "      <td>65757.57</td>\n",
              "      <td>103184.98</td>\n",
              "    </tr>\n",
              "    <tr>\n",
              "      <th>MarkDown3</th>\n",
              "      <td>115064.0</td>\n",
              "      <td>0.0</td>\n",
              "      <td>8.836063e+08</td>\n",
              "      <td>7679.26</td>\n",
              "      <td>4828.72</td>\n",
              "      <td>10695.41</td>\n",
              "      <td>1.143917e+08</td>\n",
              "      <td>-2781.45</td>\n",
              "      <td>17.01</td>\n",
              "      <td>178.43</td>\n",
              "      <td>448.82</td>\n",
              "      <td>1963.55</td>\n",
              "      <td>4828.72</td>\n",
              "      <td>9427.41</td>\n",
              "      <td>15325.04</td>\n",
              "      <td>23140.88</td>\n",
              "      <td>65757.57</td>\n",
              "      <td>103184.98</td>\n",
              "    </tr>\n",
              "    <tr>\n",
              "      <th>MarkDown4</th>\n",
              "      <td>115064.0</td>\n",
              "      <td>0.0</td>\n",
              "      <td>8.836063e+08</td>\n",
              "      <td>7679.26</td>\n",
              "      <td>4828.72</td>\n",
              "      <td>10695.41</td>\n",
              "      <td>1.143917e+08</td>\n",
              "      <td>-2781.45</td>\n",
              "      <td>17.01</td>\n",
              "      <td>178.43</td>\n",
              "      <td>448.82</td>\n",
              "      <td>1963.55</td>\n",
              "      <td>4828.72</td>\n",
              "      <td>9427.41</td>\n",
              "      <td>15325.04</td>\n",
              "      <td>23140.88</td>\n",
              "      <td>65757.57</td>\n",
              "      <td>103184.98</td>\n",
              "    </tr>\n",
              "    <tr>\n",
              "      <th>MarkDown5</th>\n",
              "      <td>115064.0</td>\n",
              "      <td>0.0</td>\n",
              "      <td>8.836063e+08</td>\n",
              "      <td>7679.26</td>\n",
              "      <td>4828.72</td>\n",
              "      <td>10695.41</td>\n",
              "      <td>1.143917e+08</td>\n",
              "      <td>-2781.45</td>\n",
              "      <td>17.01</td>\n",
              "      <td>178.43</td>\n",
              "      <td>448.82</td>\n",
              "      <td>1963.55</td>\n",
              "      <td>4828.72</td>\n",
              "      <td>9427.41</td>\n",
              "      <td>15325.04</td>\n",
              "      <td>23140.88</td>\n",
              "      <td>65757.57</td>\n",
              "      <td>103184.98</td>\n",
              "    </tr>\n",
              "    <tr>\n",
              "      <th>CPI</th>\n",
              "      <td>115064.0</td>\n",
              "      <td>0.0</td>\n",
              "      <td>2.019013e+07</td>\n",
              "      <td>175.47</td>\n",
              "      <td>172.46</td>\n",
              "      <td>33.78</td>\n",
              "      <td>1.141160e+03</td>\n",
              "      <td>131.24</td>\n",
              "      <td>131.28</td>\n",
              "      <td>131.75</td>\n",
              "      <td>132.32</td>\n",
              "      <td>138.90</td>\n",
              "      <td>172.46</td>\n",
              "      <td>201.21</td>\n",
              "      <td>224.64</td>\n",
              "      <td>227.25</td>\n",
              "      <td>228.64</td>\n",
              "      <td>228.98</td>\n",
              "    </tr>\n",
              "    <tr>\n",
              "      <th>Unemployment</th>\n",
              "      <td>115064.0</td>\n",
              "      <td>0.0</td>\n",
              "      <td>8.269065e+05</td>\n",
              "      <td>7.19</td>\n",
              "      <td>7.83</td>\n",
              "      <td>1.37</td>\n",
              "      <td>1.880000e+00</td>\n",
              "      <td>3.68</td>\n",
              "      <td>3.88</td>\n",
              "      <td>4.89</td>\n",
              "      <td>5.28</td>\n",
              "      <td>6.23</td>\n",
              "      <td>7.83</td>\n",
              "      <td>7.83</td>\n",
              "      <td>8.67</td>\n",
              "      <td>8.95</td>\n",
              "      <td>10.20</td>\n",
              "      <td>10.20</td>\n",
              "    </tr>\n",
              "    <tr>\n",
              "      <th>Dept</th>\n",
              "      <td>115064.0</td>\n",
              "      <td>0.0</td>\n",
              "      <td>5.101883e+06</td>\n",
              "      <td>44.34</td>\n",
              "      <td>37.00</td>\n",
              "      <td>30.66</td>\n",
              "      <td>9.398200e+02</td>\n",
              "      <td>1.00</td>\n",
              "      <td>1.00</td>\n",
              "      <td>4.00</td>\n",
              "      <td>7.00</td>\n",
              "      <td>18.00</td>\n",
              "      <td>37.00</td>\n",
              "      <td>74.00</td>\n",
              "      <td>92.00</td>\n",
              "      <td>95.00</td>\n",
              "      <td>98.00</td>\n",
              "      <td>99.00</td>\n",
              "    </tr>\n",
              "    <tr>\n",
              "      <th>Size</th>\n",
              "      <td>115064.0</td>\n",
              "      <td>0.0</td>\n",
              "      <td>1.570597e+10</td>\n",
              "      <td>136497.69</td>\n",
              "      <td>140167.00</td>\n",
              "      <td>61106.93</td>\n",
              "      <td>3.734056e+09</td>\n",
              "      <td>34875.00</td>\n",
              "      <td>34875.00</td>\n",
              "      <td>39690.00</td>\n",
              "      <td>39910.00</td>\n",
              "      <td>93638.00</td>\n",
              "      <td>140167.00</td>\n",
              "      <td>202505.00</td>\n",
              "      <td>204184.00</td>\n",
              "      <td>206302.00</td>\n",
              "      <td>219622.00</td>\n",
              "      <td>219622.00</td>\n",
              "    </tr>\n",
              "    <tr>\n",
              "      <th>year</th>\n",
              "      <td>115064.0</td>\n",
              "      <td>0.0</td>\n",
              "      <td>2.313872e+08</td>\n",
              "      <td>2010.94</td>\n",
              "      <td>2011.00</td>\n",
              "      <td>0.79</td>\n",
              "      <td>6.200000e-01</td>\n",
              "      <td>2010.00</td>\n",
              "      <td>2010.00</td>\n",
              "      <td>2010.00</td>\n",
              "      <td>2010.00</td>\n",
              "      <td>2010.00</td>\n",
              "      <td>2011.00</td>\n",
              "      <td>2012.00</td>\n",
              "      <td>2012.00</td>\n",
              "      <td>2012.00</td>\n",
              "      <td>2012.00</td>\n",
              "      <td>2012.00</td>\n",
              "    </tr>\n",
              "    <tr>\n",
              "      <th>day</th>\n",
              "      <td>115064.0</td>\n",
              "      <td>0.0</td>\n",
              "      <td>1.802043e+06</td>\n",
              "      <td>15.66</td>\n",
              "      <td>16.00</td>\n",
              "      <td>8.76</td>\n",
              "      <td>7.667000e+01</td>\n",
              "      <td>1.00</td>\n",
              "      <td>1.00</td>\n",
              "      <td>2.00</td>\n",
              "      <td>4.00</td>\n",
              "      <td>8.00</td>\n",
              "      <td>16.00</td>\n",
              "      <td>23.00</td>\n",
              "      <td>28.00</td>\n",
              "      <td>29.00</td>\n",
              "      <td>31.00</td>\n",
              "      <td>31.00</td>\n",
              "    </tr>\n",
              "    <tr>\n",
              "      <th>Days to Next Christmas</th>\n",
              "      <td>115064.0</td>\n",
              "      <td>0.0</td>\n",
              "      <td>-5.292630e+07</td>\n",
              "      <td>-459.97</td>\n",
              "      <td>-461.00</td>\n",
              "      <td>295.98</td>\n",
              "      <td>8.760437e+04</td>\n",
              "      <td>-938.00</td>\n",
              "      <td>-931.00</td>\n",
              "      <td>-903.00</td>\n",
              "      <td>-861.00</td>\n",
              "      <td>-735.00</td>\n",
              "      <td>-461.00</td>\n",
              "      <td>-179.00</td>\n",
              "      <td>-39.00</td>\n",
              "      <td>10.00</td>\n",
              "      <td>52.00</td>\n",
              "      <td>59.00</td>\n",
              "    </tr>\n",
              "  </tbody>\n",
              "</table>\n",
              "</div>\n",
              "      <button class=\"colab-df-convert\" onclick=\"convertToInteractive('df-2b42b986-5b7e-49b3-aab6-c39b2efa999b')\"\n",
              "              title=\"Convert this dataframe to an interactive table.\"\n",
              "              style=\"display:none;\">\n",
              "        \n",
              "  <svg xmlns=\"http://www.w3.org/2000/svg\" height=\"24px\"viewBox=\"0 0 24 24\"\n",
              "       width=\"24px\">\n",
              "    <path d=\"M0 0h24v24H0V0z\" fill=\"none\"/>\n",
              "    <path d=\"M18.56 5.44l.94 2.06.94-2.06 2.06-.94-2.06-.94-.94-2.06-.94 2.06-2.06.94zm-11 1L8.5 8.5l.94-2.06 2.06-.94-2.06-.94L8.5 2.5l-.94 2.06-2.06.94zm10 10l.94 2.06.94-2.06 2.06-.94-2.06-.94-.94-2.06-.94 2.06-2.06.94z\"/><path d=\"M17.41 7.96l-1.37-1.37c-.4-.4-.92-.59-1.43-.59-.52 0-1.04.2-1.43.59L10.3 9.45l-7.72 7.72c-.78.78-.78 2.05 0 2.83L4 21.41c.39.39.9.59 1.41.59.51 0 1.02-.2 1.41-.59l7.78-7.78 2.81-2.81c.8-.78.8-2.07 0-2.86zM5.41 20L4 18.59l7.72-7.72 1.47 1.35L5.41 20z\"/>\n",
              "  </svg>\n",
              "      </button>\n",
              "      \n",
              "  <style>\n",
              "    .colab-df-container {\n",
              "      display:flex;\n",
              "      flex-wrap:wrap;\n",
              "      gap: 12px;\n",
              "    }\n",
              "\n",
              "    .colab-df-convert {\n",
              "      background-color: #E8F0FE;\n",
              "      border: none;\n",
              "      border-radius: 50%;\n",
              "      cursor: pointer;\n",
              "      display: none;\n",
              "      fill: #1967D2;\n",
              "      height: 32px;\n",
              "      padding: 0 0 0 0;\n",
              "      width: 32px;\n",
              "    }\n",
              "\n",
              "    .colab-df-convert:hover {\n",
              "      background-color: #E2EBFA;\n",
              "      box-shadow: 0px 1px 2px rgba(60, 64, 67, 0.3), 0px 1px 3px 1px rgba(60, 64, 67, 0.15);\n",
              "      fill: #174EA6;\n",
              "    }\n",
              "\n",
              "    [theme=dark] .colab-df-convert {\n",
              "      background-color: #3B4455;\n",
              "      fill: #D2E3FC;\n",
              "    }\n",
              "\n",
              "    [theme=dark] .colab-df-convert:hover {\n",
              "      background-color: #434B5C;\n",
              "      box-shadow: 0px 1px 3px 1px rgba(0, 0, 0, 0.15);\n",
              "      filter: drop-shadow(0px 1px 2px rgba(0, 0, 0, 0.3));\n",
              "      fill: #FFFFFF;\n",
              "    }\n",
              "  </style>\n",
              "\n",
              "      <script>\n",
              "        const buttonEl =\n",
              "          document.querySelector('#df-2b42b986-5b7e-49b3-aab6-c39b2efa999b button.colab-df-convert');\n",
              "        buttonEl.style.display =\n",
              "          google.colab.kernel.accessAllowed ? 'block' : 'none';\n",
              "\n",
              "        async function convertToInteractive(key) {\n",
              "          const element = document.querySelector('#df-2b42b986-5b7e-49b3-aab6-c39b2efa999b');\n",
              "          const dataTable =\n",
              "            await google.colab.kernel.invokeFunction('convertToInteractive',\n",
              "                                                     [key], {});\n",
              "          if (!dataTable) return;\n",
              "\n",
              "          const docLinkHtml = 'Like what you see? Visit the ' +\n",
              "            '<a target=\"_blank\" href=https://colab.research.google.com/notebooks/data_table.ipynb>data table notebook</a>'\n",
              "            + ' to learn more about interactive tables.';\n",
              "          element.innerHTML = '';\n",
              "          dataTable['output_type'] = 'display_data';\n",
              "          await google.colab.output.renderOutput(dataTable, element);\n",
              "          const docLink = document.createElement('div');\n",
              "          docLink.innerHTML = docLinkHtml;\n",
              "          element.appendChild(docLink);\n",
              "        }\n",
              "      </script>\n",
              "    </div>\n",
              "  </div>\n",
              "  "
            ],
            "text/plain": [
              "                               N  NMISS  ...        P99        MAX\n",
              "Store                   115064.0    0.0  ...      45.00      45.00\n",
              "Temperature             115064.0    0.0  ...      92.14     101.95\n",
              "Fuel_Price              115064.0    0.0  ...       4.08       4.12\n",
              "MarkDown1               115064.0    0.0  ...   65757.57  103184.98\n",
              "MarkDown2               115064.0    0.0  ...   65757.57  103184.98\n",
              "MarkDown3               115064.0    0.0  ...   65757.57  103184.98\n",
              "MarkDown4               115064.0    0.0  ...   65757.57  103184.98\n",
              "MarkDown5               115064.0    0.0  ...   65757.57  103184.98\n",
              "CPI                     115064.0    0.0  ...     228.64     228.98\n",
              "Unemployment            115064.0    0.0  ...      10.20      10.20\n",
              "Dept                    115064.0    0.0  ...      98.00      99.00\n",
              "Size                    115064.0    0.0  ...  219622.00  219622.00\n",
              "year                    115064.0    0.0  ...    2012.00    2012.00\n",
              "day                     115064.0    0.0  ...      31.00      31.00\n",
              "Days to Next Christmas  115064.0    0.0  ...      52.00      59.00\n",
              "\n",
              "[15 rows x 18 columns]"
            ]
          },
          "metadata": {},
          "execution_count": 43
        }
      ]
    },
    {
      "cell_type": "code",
      "metadata": {
        "id": "TWgCYQx46WaZ",
        "outputId": "2f84dcfb-2cfd-49c4-8f7b-acf257bbf7c4",
        "colab": {
          "base_uri": "https://localhost:8080/",
          "height": 144
        }
      },
      "source": [
        "# Categorical Variable summary\n",
        "df_cat_test = df_test[cat_vars_test]\n",
        "cat_summary_test = df_cat_test.apply(categorical_vars_summary)\n",
        "cat_summary_test"
      ],
      "execution_count": 44,
      "outputs": [
        {
          "output_type": "execute_result",
          "data": {
            "text/html": [
              "\n",
              "  <div id=\"df-a59358d4-761a-4c4c-99f3-6d4060f738ea\">\n",
              "    <div class=\"colab-df-container\">\n",
              "      <div>\n",
              "<style scoped>\n",
              "    .dataframe tbody tr th:only-of-type {\n",
              "        vertical-align: middle;\n",
              "    }\n",
              "\n",
              "    .dataframe tbody tr th {\n",
              "        vertical-align: top;\n",
              "    }\n",
              "\n",
              "    .dataframe thead th {\n",
              "        text-align: right;\n",
              "    }\n",
              "</style>\n",
              "<table border=\"1\" class=\"dataframe\">\n",
              "  <thead>\n",
              "    <tr style=\"text-align: right;\">\n",
              "      <th></th>\n",
              "      <th>Date</th>\n",
              "      <th>Type</th>\n",
              "    </tr>\n",
              "  </thead>\n",
              "  <tbody>\n",
              "    <tr>\n",
              "      <th>N</th>\n",
              "      <td>115064</td>\n",
              "      <td>115064</td>\n",
              "    </tr>\n",
              "    <tr>\n",
              "      <th>NMISS</th>\n",
              "      <td>0</td>\n",
              "      <td>0</td>\n",
              "    </tr>\n",
              "    <tr>\n",
              "      <th>ColumnsNames</th>\n",
              "      <td>2012-12-21    3002\n",
              "2012-12-07    2989\n",
              "2012-12-...</td>\n",
              "      <td>A    58713\n",
              "B    44500\n",
              "C    11851\n",
              "Name: Type, d...</td>\n",
              "    </tr>\n",
              "  </tbody>\n",
              "</table>\n",
              "</div>\n",
              "      <button class=\"colab-df-convert\" onclick=\"convertToInteractive('df-a59358d4-761a-4c4c-99f3-6d4060f738ea')\"\n",
              "              title=\"Convert this dataframe to an interactive table.\"\n",
              "              style=\"display:none;\">\n",
              "        \n",
              "  <svg xmlns=\"http://www.w3.org/2000/svg\" height=\"24px\"viewBox=\"0 0 24 24\"\n",
              "       width=\"24px\">\n",
              "    <path d=\"M0 0h24v24H0V0z\" fill=\"none\"/>\n",
              "    <path d=\"M18.56 5.44l.94 2.06.94-2.06 2.06-.94-2.06-.94-.94-2.06-.94 2.06-2.06.94zm-11 1L8.5 8.5l.94-2.06 2.06-.94-2.06-.94L8.5 2.5l-.94 2.06-2.06.94zm10 10l.94 2.06.94-2.06 2.06-.94-2.06-.94-.94-2.06-.94 2.06-2.06.94z\"/><path d=\"M17.41 7.96l-1.37-1.37c-.4-.4-.92-.59-1.43-.59-.52 0-1.04.2-1.43.59L10.3 9.45l-7.72 7.72c-.78.78-.78 2.05 0 2.83L4 21.41c.39.39.9.59 1.41.59.51 0 1.02-.2 1.41-.59l7.78-7.78 2.81-2.81c.8-.78.8-2.07 0-2.86zM5.41 20L4 18.59l7.72-7.72 1.47 1.35L5.41 20z\"/>\n",
              "  </svg>\n",
              "      </button>\n",
              "      \n",
              "  <style>\n",
              "    .colab-df-container {\n",
              "      display:flex;\n",
              "      flex-wrap:wrap;\n",
              "      gap: 12px;\n",
              "    }\n",
              "\n",
              "    .colab-df-convert {\n",
              "      background-color: #E8F0FE;\n",
              "      border: none;\n",
              "      border-radius: 50%;\n",
              "      cursor: pointer;\n",
              "      display: none;\n",
              "      fill: #1967D2;\n",
              "      height: 32px;\n",
              "      padding: 0 0 0 0;\n",
              "      width: 32px;\n",
              "    }\n",
              "\n",
              "    .colab-df-convert:hover {\n",
              "      background-color: #E2EBFA;\n",
              "      box-shadow: 0px 1px 2px rgba(60, 64, 67, 0.3), 0px 1px 3px 1px rgba(60, 64, 67, 0.15);\n",
              "      fill: #174EA6;\n",
              "    }\n",
              "\n",
              "    [theme=dark] .colab-df-convert {\n",
              "      background-color: #3B4455;\n",
              "      fill: #D2E3FC;\n",
              "    }\n",
              "\n",
              "    [theme=dark] .colab-df-convert:hover {\n",
              "      background-color: #434B5C;\n",
              "      box-shadow: 0px 1px 3px 1px rgba(0, 0, 0, 0.15);\n",
              "      filter: drop-shadow(0px 1px 2px rgba(0, 0, 0, 0.3));\n",
              "      fill: #FFFFFF;\n",
              "    }\n",
              "  </style>\n",
              "\n",
              "      <script>\n",
              "        const buttonEl =\n",
              "          document.querySelector('#df-a59358d4-761a-4c4c-99f3-6d4060f738ea button.colab-df-convert');\n",
              "        buttonEl.style.display =\n",
              "          google.colab.kernel.accessAllowed ? 'block' : 'none';\n",
              "\n",
              "        async function convertToInteractive(key) {\n",
              "          const element = document.querySelector('#df-a59358d4-761a-4c4c-99f3-6d4060f738ea');\n",
              "          const dataTable =\n",
              "            await google.colab.kernel.invokeFunction('convertToInteractive',\n",
              "                                                     [key], {});\n",
              "          if (!dataTable) return;\n",
              "\n",
              "          const docLinkHtml = 'Like what you see? Visit the ' +\n",
              "            '<a target=\"_blank\" href=https://colab.research.google.com/notebooks/data_table.ipynb>data table notebook</a>'\n",
              "            + ' to learn more about interactive tables.';\n",
              "          element.innerHTML = '';\n",
              "          dataTable['output_type'] = 'display_data';\n",
              "          await google.colab.output.renderOutput(dataTable, element);\n",
              "          const docLink = document.createElement('div');\n",
              "          docLink.innerHTML = docLinkHtml;\n",
              "          element.appendChild(docLink);\n",
              "        }\n",
              "      </script>\n",
              "    </div>\n",
              "  </div>\n",
              "  "
            ],
            "text/plain": [
              "                                                           Date                                               Type\n",
              "N                                                        115064                                             115064\n",
              "NMISS                                                         0                                                  0\n",
              "ColumnsNames  2012-12-21    3002\n",
              "2012-12-07    2989\n",
              "2012-12-...  A    58713\n",
              "B    44500\n",
              "C    11851\n",
              "Name: Type, d..."
            ]
          },
          "metadata": {},
          "execution_count": 44
        }
      ]
    },
    {
      "cell_type": "markdown",
      "metadata": {
        "id": "7AKKbKML6Wad"
      },
      "source": [
        "As we have observed through statistics that needs to outlier treatment. (Either training or testing)"
      ]
    },
    {
      "cell_type": "markdown",
      "metadata": {
        "id": "CUGudi086Wae"
      },
      "source": [
        "---\n",
        "### Handling Outliers\n",
        "---\n",
        "#### There are some extreame high or extream low value which need to rectify so that it will not have impact on our model"
      ]
    },
    {
      "cell_type": "code",
      "metadata": {
        "id": "aigRQNRM6Waf"
      },
      "source": [
        "def outlier_capping(x):\n",
        "    # x = x.clip_upper(x.quantile(0.99))\n",
        "    # x = x.clip_lower(x.quantile(0.01))\n",
        "    x = x.clip(lower = x.quantile(0.01), upper = x.quantile(0.99))\n",
        "    return x\n",
        "\n",
        "df_nums = df_nums.apply(outlier_capping)"
      ],
      "execution_count": 45,
      "outputs": []
    },
    {
      "cell_type": "code",
      "metadata": {
        "id": "hy6g6lBC6Wak",
        "outputId": "002fc6ae-d39a-4bef-8a72-7cd116fa5c76",
        "colab": {
          "base_uri": "https://localhost:8080/",
          "height": 632
        }
      },
      "source": [
        "after_handle_outlier_summary = df_nums.apply(continuous_var_summary).round(2).T\n",
        "after_handle_outlier_summary"
      ],
      "execution_count": 46,
      "outputs": [
        {
          "output_type": "execute_result",
          "data": {
            "text/html": [
              "\n",
              "  <div id=\"df-a3769bce-1e43-4724-a246-dd3fc0cb70a8\">\n",
              "    <div class=\"colab-df-container\">\n",
              "      <div>\n",
              "<style scoped>\n",
              "    .dataframe tbody tr th:only-of-type {\n",
              "        vertical-align: middle;\n",
              "    }\n",
              "\n",
              "    .dataframe tbody tr th {\n",
              "        vertical-align: top;\n",
              "    }\n",
              "\n",
              "    .dataframe thead th {\n",
              "        text-align: right;\n",
              "    }\n",
              "</style>\n",
              "<table border=\"1\" class=\"dataframe\">\n",
              "  <thead>\n",
              "    <tr style=\"text-align: right;\">\n",
              "      <th></th>\n",
              "      <th>N</th>\n",
              "      <th>NMISS</th>\n",
              "      <th>SUM</th>\n",
              "      <th>MEAN</th>\n",
              "      <th>MEDIAN</th>\n",
              "      <th>STD</th>\n",
              "      <th>VAR</th>\n",
              "      <th>MIN</th>\n",
              "      <th>P1</th>\n",
              "      <th>P5</th>\n",
              "      <th>P10</th>\n",
              "      <th>P25</th>\n",
              "      <th>P50</th>\n",
              "      <th>P75</th>\n",
              "      <th>P90</th>\n",
              "      <th>P95</th>\n",
              "      <th>P99</th>\n",
              "      <th>MAX</th>\n",
              "    </tr>\n",
              "  </thead>\n",
              "  <tbody>\n",
              "    <tr>\n",
              "      <th>Store</th>\n",
              "      <td>421570.0</td>\n",
              "      <td>0.0</td>\n",
              "      <td>9.359084e+06</td>\n",
              "      <td>22.20</td>\n",
              "      <td>22.00</td>\n",
              "      <td>12.79</td>\n",
              "      <td>1.634600e+02</td>\n",
              "      <td>1.00</td>\n",
              "      <td>1.00</td>\n",
              "      <td>3.00</td>\n",
              "      <td>5.00</td>\n",
              "      <td>11.00</td>\n",
              "      <td>22.00</td>\n",
              "      <td>33.00</td>\n",
              "      <td>40.00</td>\n",
              "      <td>43.00</td>\n",
              "      <td>45.00</td>\n",
              "      <td>45.00</td>\n",
              "    </tr>\n",
              "    <tr>\n",
              "      <th>Temperature</th>\n",
              "      <td>421570.0</td>\n",
              "      <td>0.0</td>\n",
              "      <td>2.533977e+07</td>\n",
              "      <td>60.11</td>\n",
              "      <td>62.09</td>\n",
              "      <td>18.30</td>\n",
              "      <td>3.347900e+02</td>\n",
              "      <td>18.30</td>\n",
              "      <td>18.30</td>\n",
              "      <td>27.31</td>\n",
              "      <td>33.98</td>\n",
              "      <td>46.68</td>\n",
              "      <td>62.09</td>\n",
              "      <td>74.28</td>\n",
              "      <td>83.58</td>\n",
              "      <td>87.27</td>\n",
              "      <td>92.81</td>\n",
              "      <td>92.81</td>\n",
              "    </tr>\n",
              "    <tr>\n",
              "      <th>Fuel_Price</th>\n",
              "      <td>421570.0</td>\n",
              "      <td>0.0</td>\n",
              "      <td>1.416587e+06</td>\n",
              "      <td>3.36</td>\n",
              "      <td>3.45</td>\n",
              "      <td>0.46</td>\n",
              "      <td>2.100000e-01</td>\n",
              "      <td>2.56</td>\n",
              "      <td>2.56</td>\n",
              "      <td>2.65</td>\n",
              "      <td>2.72</td>\n",
              "      <td>2.93</td>\n",
              "      <td>3.45</td>\n",
              "      <td>3.74</td>\n",
              "      <td>3.92</td>\n",
              "      <td>4.03</td>\n",
              "      <td>4.20</td>\n",
              "      <td>4.20</td>\n",
              "    </tr>\n",
              "    <tr>\n",
              "      <th>MarkDown1</th>\n",
              "      <td>421570.0</td>\n",
              "      <td>0.0</td>\n",
              "      <td>1.033522e+09</td>\n",
              "      <td>2451.60</td>\n",
              "      <td>0.00</td>\n",
              "      <td>5086.69</td>\n",
              "      <td>2.587441e+07</td>\n",
              "      <td>0.00</td>\n",
              "      <td>0.00</td>\n",
              "      <td>0.00</td>\n",
              "      <td>0.00</td>\n",
              "      <td>0.00</td>\n",
              "      <td>0.00</td>\n",
              "      <td>2809.05</td>\n",
              "      <td>8624.56</td>\n",
              "      <td>12407.71</td>\n",
              "      <td>28177.29</td>\n",
              "      <td>28177.29</td>\n",
              "    </tr>\n",
              "    <tr>\n",
              "      <th>MarkDown2</th>\n",
              "      <td>421570.0</td>\n",
              "      <td>0.0</td>\n",
              "      <td>1.033522e+09</td>\n",
              "      <td>2451.60</td>\n",
              "      <td>0.00</td>\n",
              "      <td>5086.69</td>\n",
              "      <td>2.587441e+07</td>\n",
              "      <td>0.00</td>\n",
              "      <td>0.00</td>\n",
              "      <td>0.00</td>\n",
              "      <td>0.00</td>\n",
              "      <td>0.00</td>\n",
              "      <td>0.00</td>\n",
              "      <td>2809.05</td>\n",
              "      <td>8624.56</td>\n",
              "      <td>12407.71</td>\n",
              "      <td>28177.29</td>\n",
              "      <td>28177.29</td>\n",
              "    </tr>\n",
              "    <tr>\n",
              "      <th>MarkDown3</th>\n",
              "      <td>421570.0</td>\n",
              "      <td>0.0</td>\n",
              "      <td>1.033522e+09</td>\n",
              "      <td>2451.60</td>\n",
              "      <td>0.00</td>\n",
              "      <td>5086.69</td>\n",
              "      <td>2.587441e+07</td>\n",
              "      <td>0.00</td>\n",
              "      <td>0.00</td>\n",
              "      <td>0.00</td>\n",
              "      <td>0.00</td>\n",
              "      <td>0.00</td>\n",
              "      <td>0.00</td>\n",
              "      <td>2809.05</td>\n",
              "      <td>8624.56</td>\n",
              "      <td>12407.71</td>\n",
              "      <td>28177.29</td>\n",
              "      <td>28177.29</td>\n",
              "    </tr>\n",
              "    <tr>\n",
              "      <th>MarkDown4</th>\n",
              "      <td>421570.0</td>\n",
              "      <td>0.0</td>\n",
              "      <td>1.033522e+09</td>\n",
              "      <td>2451.60</td>\n",
              "      <td>0.00</td>\n",
              "      <td>5086.69</td>\n",
              "      <td>2.587441e+07</td>\n",
              "      <td>0.00</td>\n",
              "      <td>0.00</td>\n",
              "      <td>0.00</td>\n",
              "      <td>0.00</td>\n",
              "      <td>0.00</td>\n",
              "      <td>0.00</td>\n",
              "      <td>2809.05</td>\n",
              "      <td>8624.56</td>\n",
              "      <td>12407.71</td>\n",
              "      <td>28177.29</td>\n",
              "      <td>28177.29</td>\n",
              "    </tr>\n",
              "    <tr>\n",
              "      <th>MarkDown5</th>\n",
              "      <td>421570.0</td>\n",
              "      <td>0.0</td>\n",
              "      <td>1.033522e+09</td>\n",
              "      <td>2451.60</td>\n",
              "      <td>0.00</td>\n",
              "      <td>5086.69</td>\n",
              "      <td>2.587441e+07</td>\n",
              "      <td>0.00</td>\n",
              "      <td>0.00</td>\n",
              "      <td>0.00</td>\n",
              "      <td>0.00</td>\n",
              "      <td>0.00</td>\n",
              "      <td>0.00</td>\n",
              "      <td>2809.05</td>\n",
              "      <td>8624.56</td>\n",
              "      <td>12407.71</td>\n",
              "      <td>28177.29</td>\n",
              "      <td>28177.29</td>\n",
              "    </tr>\n",
              "    <tr>\n",
              "      <th>CPI</th>\n",
              "      <td>421570.0</td>\n",
              "      <td>0.0</td>\n",
              "      <td>7.217089e+07</td>\n",
              "      <td>171.20</td>\n",
              "      <td>182.32</td>\n",
              "      <td>39.15</td>\n",
              "      <td>1.532690e+03</td>\n",
              "      <td>126.11</td>\n",
              "      <td>126.11</td>\n",
              "      <td>126.50</td>\n",
              "      <td>128.82</td>\n",
              "      <td>132.02</td>\n",
              "      <td>182.32</td>\n",
              "      <td>212.42</td>\n",
              "      <td>219.44</td>\n",
              "      <td>221.94</td>\n",
              "      <td>225.47</td>\n",
              "      <td>225.47</td>\n",
              "    </tr>\n",
              "    <tr>\n",
              "      <th>Unemployment</th>\n",
              "      <td>421570.0</td>\n",
              "      <td>0.0</td>\n",
              "      <td>3.355685e+06</td>\n",
              "      <td>7.96</td>\n",
              "      <td>7.87</td>\n",
              "      <td>1.86</td>\n",
              "      <td>3.460000e+00</td>\n",
              "      <td>4.16</td>\n",
              "      <td>4.16</td>\n",
              "      <td>5.33</td>\n",
              "      <td>5.96</td>\n",
              "      <td>6.89</td>\n",
              "      <td>7.87</td>\n",
              "      <td>8.57</td>\n",
              "      <td>9.82</td>\n",
              "      <td>12.19</td>\n",
              "      <td>14.18</td>\n",
              "      <td>14.18</td>\n",
              "    </tr>\n",
              "    <tr>\n",
              "      <th>Dept</th>\n",
              "      <td>421570.0</td>\n",
              "      <td>0.0</td>\n",
              "      <td>1.865796e+07</td>\n",
              "      <td>44.26</td>\n",
              "      <td>37.00</td>\n",
              "      <td>30.49</td>\n",
              "      <td>9.295400e+02</td>\n",
              "      <td>1.00</td>\n",
              "      <td>1.00</td>\n",
              "      <td>4.00</td>\n",
              "      <td>7.00</td>\n",
              "      <td>18.00</td>\n",
              "      <td>37.00</td>\n",
              "      <td>74.00</td>\n",
              "      <td>92.00</td>\n",
              "      <td>95.00</td>\n",
              "      <td>98.00</td>\n",
              "      <td>98.00</td>\n",
              "    </tr>\n",
              "    <tr>\n",
              "      <th>Weekly_Sales</th>\n",
              "      <td>421570.0</td>\n",
              "      <td>0.0</td>\n",
              "      <td>6.599483e+09</td>\n",
              "      <td>15654.54</td>\n",
              "      <td>7612.03</td>\n",
              "      <td>20781.67</td>\n",
              "      <td>4.318778e+08</td>\n",
              "      <td>5.00</td>\n",
              "      <td>5.00</td>\n",
              "      <td>59.97</td>\n",
              "      <td>291.10</td>\n",
              "      <td>2079.65</td>\n",
              "      <td>7612.03</td>\n",
              "      <td>20205.85</td>\n",
              "      <td>42845.67</td>\n",
              "      <td>61201.95</td>\n",
              "      <td>106477.75</td>\n",
              "      <td>106479.59</td>\n",
              "    </tr>\n",
              "    <tr>\n",
              "      <th>Size</th>\n",
              "      <td>421570.0</td>\n",
              "      <td>0.0</td>\n",
              "      <td>5.764039e+10</td>\n",
              "      <td>136727.92</td>\n",
              "      <td>140167.00</td>\n",
              "      <td>60980.58</td>\n",
              "      <td>3.718632e+09</td>\n",
              "      <td>34875.00</td>\n",
              "      <td>34875.00</td>\n",
              "      <td>39690.00</td>\n",
              "      <td>39910.00</td>\n",
              "      <td>93638.00</td>\n",
              "      <td>140167.00</td>\n",
              "      <td>202505.00</td>\n",
              "      <td>204184.00</td>\n",
              "      <td>206302.00</td>\n",
              "      <td>219622.00</td>\n",
              "      <td>219622.00</td>\n",
              "    </tr>\n",
              "    <tr>\n",
              "      <th>year</th>\n",
              "      <td>421570.0</td>\n",
              "      <td>0.0</td>\n",
              "      <td>8.477640e+08</td>\n",
              "      <td>2010.97</td>\n",
              "      <td>2011.00</td>\n",
              "      <td>0.80</td>\n",
              "      <td>6.400000e-01</td>\n",
              "      <td>2010.00</td>\n",
              "      <td>2010.00</td>\n",
              "      <td>2010.00</td>\n",
              "      <td>2010.00</td>\n",
              "      <td>2010.00</td>\n",
              "      <td>2011.00</td>\n",
              "      <td>2012.00</td>\n",
              "      <td>2012.00</td>\n",
              "      <td>2012.00</td>\n",
              "      <td>2012.00</td>\n",
              "      <td>2012.00</td>\n",
              "    </tr>\n",
              "    <tr>\n",
              "      <th>day</th>\n",
              "      <td>421570.0</td>\n",
              "      <td>0.0</td>\n",
              "      <td>6.607322e+06</td>\n",
              "      <td>15.67</td>\n",
              "      <td>16.00</td>\n",
              "      <td>8.75</td>\n",
              "      <td>7.662000e+01</td>\n",
              "      <td>1.00</td>\n",
              "      <td>1.00</td>\n",
              "      <td>2.00</td>\n",
              "      <td>4.00</td>\n",
              "      <td>8.00</td>\n",
              "      <td>16.00</td>\n",
              "      <td>23.00</td>\n",
              "      <td>28.00</td>\n",
              "      <td>29.00</td>\n",
              "      <td>31.00</td>\n",
              "      <td>31.00</td>\n",
              "    </tr>\n",
              "    <tr>\n",
              "      <th>Days to Next Christmas</th>\n",
              "      <td>421570.0</td>\n",
              "      <td>0.0</td>\n",
              "      <td>7.776973e+07</td>\n",
              "      <td>184.48</td>\n",
              "      <td>185.00</td>\n",
              "      <td>99.26</td>\n",
              "      <td>9.852480e+03</td>\n",
              "      <td>1.00</td>\n",
              "      <td>1.00</td>\n",
              "      <td>22.00</td>\n",
              "      <td>49.00</td>\n",
              "      <td>101.00</td>\n",
              "      <td>185.00</td>\n",
              "      <td>269.00</td>\n",
              "      <td>318.00</td>\n",
              "      <td>337.00</td>\n",
              "      <td>358.00</td>\n",
              "      <td>358.00</td>\n",
              "    </tr>\n",
              "  </tbody>\n",
              "</table>\n",
              "</div>\n",
              "      <button class=\"colab-df-convert\" onclick=\"convertToInteractive('df-a3769bce-1e43-4724-a246-dd3fc0cb70a8')\"\n",
              "              title=\"Convert this dataframe to an interactive table.\"\n",
              "              style=\"display:none;\">\n",
              "        \n",
              "  <svg xmlns=\"http://www.w3.org/2000/svg\" height=\"24px\"viewBox=\"0 0 24 24\"\n",
              "       width=\"24px\">\n",
              "    <path d=\"M0 0h24v24H0V0z\" fill=\"none\"/>\n",
              "    <path d=\"M18.56 5.44l.94 2.06.94-2.06 2.06-.94-2.06-.94-.94-2.06-.94 2.06-2.06.94zm-11 1L8.5 8.5l.94-2.06 2.06-.94-2.06-.94L8.5 2.5l-.94 2.06-2.06.94zm10 10l.94 2.06.94-2.06 2.06-.94-2.06-.94-.94-2.06-.94 2.06-2.06.94z\"/><path d=\"M17.41 7.96l-1.37-1.37c-.4-.4-.92-.59-1.43-.59-.52 0-1.04.2-1.43.59L10.3 9.45l-7.72 7.72c-.78.78-.78 2.05 0 2.83L4 21.41c.39.39.9.59 1.41.59.51 0 1.02-.2 1.41-.59l7.78-7.78 2.81-2.81c.8-.78.8-2.07 0-2.86zM5.41 20L4 18.59l7.72-7.72 1.47 1.35L5.41 20z\"/>\n",
              "  </svg>\n",
              "      </button>\n",
              "      \n",
              "  <style>\n",
              "    .colab-df-container {\n",
              "      display:flex;\n",
              "      flex-wrap:wrap;\n",
              "      gap: 12px;\n",
              "    }\n",
              "\n",
              "    .colab-df-convert {\n",
              "      background-color: #E8F0FE;\n",
              "      border: none;\n",
              "      border-radius: 50%;\n",
              "      cursor: pointer;\n",
              "      display: none;\n",
              "      fill: #1967D2;\n",
              "      height: 32px;\n",
              "      padding: 0 0 0 0;\n",
              "      width: 32px;\n",
              "    }\n",
              "\n",
              "    .colab-df-convert:hover {\n",
              "      background-color: #E2EBFA;\n",
              "      box-shadow: 0px 1px 2px rgba(60, 64, 67, 0.3), 0px 1px 3px 1px rgba(60, 64, 67, 0.15);\n",
              "      fill: #174EA6;\n",
              "    }\n",
              "\n",
              "    [theme=dark] .colab-df-convert {\n",
              "      background-color: #3B4455;\n",
              "      fill: #D2E3FC;\n",
              "    }\n",
              "\n",
              "    [theme=dark] .colab-df-convert:hover {\n",
              "      background-color: #434B5C;\n",
              "      box-shadow: 0px 1px 3px 1px rgba(0, 0, 0, 0.15);\n",
              "      filter: drop-shadow(0px 1px 2px rgba(0, 0, 0, 0.3));\n",
              "      fill: #FFFFFF;\n",
              "    }\n",
              "  </style>\n",
              "\n",
              "      <script>\n",
              "        const buttonEl =\n",
              "          document.querySelector('#df-a3769bce-1e43-4724-a246-dd3fc0cb70a8 button.colab-df-convert');\n",
              "        buttonEl.style.display =\n",
              "          google.colab.kernel.accessAllowed ? 'block' : 'none';\n",
              "\n",
              "        async function convertToInteractive(key) {\n",
              "          const element = document.querySelector('#df-a3769bce-1e43-4724-a246-dd3fc0cb70a8');\n",
              "          const dataTable =\n",
              "            await google.colab.kernel.invokeFunction('convertToInteractive',\n",
              "                                                     [key], {});\n",
              "          if (!dataTable) return;\n",
              "\n",
              "          const docLinkHtml = 'Like what you see? Visit the ' +\n",
              "            '<a target=\"_blank\" href=https://colab.research.google.com/notebooks/data_table.ipynb>data table notebook</a>'\n",
              "            + ' to learn more about interactive tables.';\n",
              "          element.innerHTML = '';\n",
              "          dataTable['output_type'] = 'display_data';\n",
              "          await google.colab.output.renderOutput(dataTable, element);\n",
              "          const docLink = document.createElement('div');\n",
              "          docLink.innerHTML = docLinkHtml;\n",
              "          element.appendChild(docLink);\n",
              "        }\n",
              "      </script>\n",
              "    </div>\n",
              "  </div>\n",
              "  "
            ],
            "text/plain": [
              "                               N  NMISS  ...        P99        MAX\n",
              "Store                   421570.0    0.0  ...      45.00      45.00\n",
              "Temperature             421570.0    0.0  ...      92.81      92.81\n",
              "Fuel_Price              421570.0    0.0  ...       4.20       4.20\n",
              "MarkDown1               421570.0    0.0  ...   28177.29   28177.29\n",
              "MarkDown2               421570.0    0.0  ...   28177.29   28177.29\n",
              "MarkDown3               421570.0    0.0  ...   28177.29   28177.29\n",
              "MarkDown4               421570.0    0.0  ...   28177.29   28177.29\n",
              "MarkDown5               421570.0    0.0  ...   28177.29   28177.29\n",
              "CPI                     421570.0    0.0  ...     225.47     225.47\n",
              "Unemployment            421570.0    0.0  ...      14.18      14.18\n",
              "Dept                    421570.0    0.0  ...      98.00      98.00\n",
              "Weekly_Sales            421570.0    0.0  ...  106477.75  106479.59\n",
              "Size                    421570.0    0.0  ...  219622.00  219622.00\n",
              "year                    421570.0    0.0  ...    2012.00    2012.00\n",
              "day                     421570.0    0.0  ...      31.00      31.00\n",
              "Days to Next Christmas  421570.0    0.0  ...     358.00     358.00\n",
              "\n",
              "[16 rows x 18 columns]"
            ]
          },
          "metadata": {},
          "execution_count": 46
        }
      ]
    },
    {
      "cell_type": "code",
      "metadata": {
        "id": "UtwZHNQs5UTI"
      },
      "source": [
        "# get the data into the csv files\n",
        "continuous_summary.to_csv('after_handle_outlier_summary.csv')"
      ],
      "execution_count": 47,
      "outputs": []
    },
    {
      "cell_type": "code",
      "metadata": {
        "id": "6tVE-W306Waq",
        "outputId": "ece3db24-f5b0-456c-c37b-48a22c2e2402",
        "colab": {
          "base_uri": "https://localhost:8080/"
        }
      },
      "source": [
        "df.dtypes"
      ],
      "execution_count": 48,
      "outputs": [
        {
          "output_type": "execute_result",
          "data": {
            "text/plain": [
              "Store                       int64\n",
              "Date                       object\n",
              "Temperature               float64\n",
              "Fuel_Price                float64\n",
              "MarkDown1                 float64\n",
              "MarkDown2                 float64\n",
              "MarkDown3                 float64\n",
              "MarkDown4                 float64\n",
              "MarkDown5                 float64\n",
              "CPI                       float64\n",
              "Unemployment              float64\n",
              "IsHoliday                    bool\n",
              "Dept                        int64\n",
              "Weekly_Sales              float64\n",
              "Type                       object\n",
              "Size                        int64\n",
              "year                        int64\n",
              "day                         int64\n",
              "Days to Next Christmas      int64\n",
              "dtype: object"
            ]
          },
          "metadata": {},
          "execution_count": 48
        }
      ]
    },
    {
      "cell_type": "markdown",
      "metadata": {
        "id": "QKqltDM56Wav"
      },
      "source": [
        "## Creating dummies for categorical \n",
        "---"
      ]
    },
    {
      "cell_type": "code",
      "metadata": {
        "id": "NvW-Fd0P6Wa2",
        "outputId": "74139461-61a2-4225-ceb4-6b35dd781025",
        "colab": {
          "base_uri": "https://localhost:8080/",
          "height": 206
        }
      },
      "source": [
        "dummy = pd.get_dummies(df['Type'])\n",
        "dummy.head()"
      ],
      "execution_count": 49,
      "outputs": [
        {
          "output_type": "execute_result",
          "data": {
            "text/html": [
              "\n",
              "  <div id=\"df-dd31d96b-1604-4ae8-ad5c-1077254eeaf0\">\n",
              "    <div class=\"colab-df-container\">\n",
              "      <div>\n",
              "<style scoped>\n",
              "    .dataframe tbody tr th:only-of-type {\n",
              "        vertical-align: middle;\n",
              "    }\n",
              "\n",
              "    .dataframe tbody tr th {\n",
              "        vertical-align: top;\n",
              "    }\n",
              "\n",
              "    .dataframe thead th {\n",
              "        text-align: right;\n",
              "    }\n",
              "</style>\n",
              "<table border=\"1\" class=\"dataframe\">\n",
              "  <thead>\n",
              "    <tr style=\"text-align: right;\">\n",
              "      <th></th>\n",
              "      <th>A</th>\n",
              "      <th>B</th>\n",
              "      <th>C</th>\n",
              "    </tr>\n",
              "  </thead>\n",
              "  <tbody>\n",
              "    <tr>\n",
              "      <th>0</th>\n",
              "      <td>1</td>\n",
              "      <td>0</td>\n",
              "      <td>0</td>\n",
              "    </tr>\n",
              "    <tr>\n",
              "      <th>330761</th>\n",
              "      <td>0</td>\n",
              "      <td>1</td>\n",
              "      <td>0</td>\n",
              "    </tr>\n",
              "    <tr>\n",
              "      <th>330762</th>\n",
              "      <td>0</td>\n",
              "      <td>1</td>\n",
              "      <td>0</td>\n",
              "    </tr>\n",
              "    <tr>\n",
              "      <th>330763</th>\n",
              "      <td>0</td>\n",
              "      <td>1</td>\n",
              "      <td>0</td>\n",
              "    </tr>\n",
              "    <tr>\n",
              "      <th>330764</th>\n",
              "      <td>0</td>\n",
              "      <td>1</td>\n",
              "      <td>0</td>\n",
              "    </tr>\n",
              "  </tbody>\n",
              "</table>\n",
              "</div>\n",
              "      <button class=\"colab-df-convert\" onclick=\"convertToInteractive('df-dd31d96b-1604-4ae8-ad5c-1077254eeaf0')\"\n",
              "              title=\"Convert this dataframe to an interactive table.\"\n",
              "              style=\"display:none;\">\n",
              "        \n",
              "  <svg xmlns=\"http://www.w3.org/2000/svg\" height=\"24px\"viewBox=\"0 0 24 24\"\n",
              "       width=\"24px\">\n",
              "    <path d=\"M0 0h24v24H0V0z\" fill=\"none\"/>\n",
              "    <path d=\"M18.56 5.44l.94 2.06.94-2.06 2.06-.94-2.06-.94-.94-2.06-.94 2.06-2.06.94zm-11 1L8.5 8.5l.94-2.06 2.06-.94-2.06-.94L8.5 2.5l-.94 2.06-2.06.94zm10 10l.94 2.06.94-2.06 2.06-.94-2.06-.94-.94-2.06-.94 2.06-2.06.94z\"/><path d=\"M17.41 7.96l-1.37-1.37c-.4-.4-.92-.59-1.43-.59-.52 0-1.04.2-1.43.59L10.3 9.45l-7.72 7.72c-.78.78-.78 2.05 0 2.83L4 21.41c.39.39.9.59 1.41.59.51 0 1.02-.2 1.41-.59l7.78-7.78 2.81-2.81c.8-.78.8-2.07 0-2.86zM5.41 20L4 18.59l7.72-7.72 1.47 1.35L5.41 20z\"/>\n",
              "  </svg>\n",
              "      </button>\n",
              "      \n",
              "  <style>\n",
              "    .colab-df-container {\n",
              "      display:flex;\n",
              "      flex-wrap:wrap;\n",
              "      gap: 12px;\n",
              "    }\n",
              "\n",
              "    .colab-df-convert {\n",
              "      background-color: #E8F0FE;\n",
              "      border: none;\n",
              "      border-radius: 50%;\n",
              "      cursor: pointer;\n",
              "      display: none;\n",
              "      fill: #1967D2;\n",
              "      height: 32px;\n",
              "      padding: 0 0 0 0;\n",
              "      width: 32px;\n",
              "    }\n",
              "\n",
              "    .colab-df-convert:hover {\n",
              "      background-color: #E2EBFA;\n",
              "      box-shadow: 0px 1px 2px rgba(60, 64, 67, 0.3), 0px 1px 3px 1px rgba(60, 64, 67, 0.15);\n",
              "      fill: #174EA6;\n",
              "    }\n",
              "\n",
              "    [theme=dark] .colab-df-convert {\n",
              "      background-color: #3B4455;\n",
              "      fill: #D2E3FC;\n",
              "    }\n",
              "\n",
              "    [theme=dark] .colab-df-convert:hover {\n",
              "      background-color: #434B5C;\n",
              "      box-shadow: 0px 1px 3px 1px rgba(0, 0, 0, 0.15);\n",
              "      filter: drop-shadow(0px 1px 2px rgba(0, 0, 0, 0.3));\n",
              "      fill: #FFFFFF;\n",
              "    }\n",
              "  </style>\n",
              "\n",
              "      <script>\n",
              "        const buttonEl =\n",
              "          document.querySelector('#df-dd31d96b-1604-4ae8-ad5c-1077254eeaf0 button.colab-df-convert');\n",
              "        buttonEl.style.display =\n",
              "          google.colab.kernel.accessAllowed ? 'block' : 'none';\n",
              "\n",
              "        async function convertToInteractive(key) {\n",
              "          const element = document.querySelector('#df-dd31d96b-1604-4ae8-ad5c-1077254eeaf0');\n",
              "          const dataTable =\n",
              "            await google.colab.kernel.invokeFunction('convertToInteractive',\n",
              "                                                     [key], {});\n",
              "          if (!dataTable) return;\n",
              "\n",
              "          const docLinkHtml = 'Like what you see? Visit the ' +\n",
              "            '<a target=\"_blank\" href=https://colab.research.google.com/notebooks/data_table.ipynb>data table notebook</a>'\n",
              "            + ' to learn more about interactive tables.';\n",
              "          element.innerHTML = '';\n",
              "          dataTable['output_type'] = 'display_data';\n",
              "          await google.colab.output.renderOutput(dataTable, element);\n",
              "          const docLink = document.createElement('div');\n",
              "          docLink.innerHTML = docLinkHtml;\n",
              "          element.appendChild(docLink);\n",
              "        }\n",
              "      </script>\n",
              "    </div>\n",
              "  </div>\n",
              "  "
            ],
            "text/plain": [
              "        A  B  C\n",
              "0       1  0  0\n",
              "330761  0  1  0\n",
              "330762  0  1  0\n",
              "330763  0  1  0\n",
              "330764  0  1  0"
            ]
          },
          "metadata": {},
          "execution_count": 49
        }
      ]
    },
    {
      "cell_type": "code",
      "metadata": {
        "id": "Oy_HEhdw6Wa_",
        "outputId": "6a0e335d-0284-434f-effc-e4cd93afea97",
        "colab": {
          "base_uri": "https://localhost:8080/",
          "height": 392
        }
      },
      "source": [
        "# Concatinating and drop type variable from the dataframe\n",
        "df = pd.concat([df, dummy], axis = 1)\n",
        "df.head()"
      ],
      "execution_count": 50,
      "outputs": [
        {
          "output_type": "execute_result",
          "data": {
            "text/html": [
              "\n",
              "  <div id=\"df-21e71b82-d591-4e53-8d36-c2cb57d7d913\">\n",
              "    <div class=\"colab-df-container\">\n",
              "      <div>\n",
              "<style scoped>\n",
              "    .dataframe tbody tr th:only-of-type {\n",
              "        vertical-align: middle;\n",
              "    }\n",
              "\n",
              "    .dataframe tbody tr th {\n",
              "        vertical-align: top;\n",
              "    }\n",
              "\n",
              "    .dataframe thead th {\n",
              "        text-align: right;\n",
              "    }\n",
              "</style>\n",
              "<table border=\"1\" class=\"dataframe\">\n",
              "  <thead>\n",
              "    <tr style=\"text-align: right;\">\n",
              "      <th></th>\n",
              "      <th>Store</th>\n",
              "      <th>Date</th>\n",
              "      <th>Temperature</th>\n",
              "      <th>Fuel_Price</th>\n",
              "      <th>MarkDown1</th>\n",
              "      <th>MarkDown2</th>\n",
              "      <th>MarkDown3</th>\n",
              "      <th>MarkDown4</th>\n",
              "      <th>MarkDown5</th>\n",
              "      <th>CPI</th>\n",
              "      <th>Unemployment</th>\n",
              "      <th>IsHoliday</th>\n",
              "      <th>Dept</th>\n",
              "      <th>Weekly_Sales</th>\n",
              "      <th>Type</th>\n",
              "      <th>Size</th>\n",
              "      <th>year</th>\n",
              "      <th>day</th>\n",
              "      <th>Days to Next Christmas</th>\n",
              "      <th>A</th>\n",
              "      <th>B</th>\n",
              "      <th>C</th>\n",
              "    </tr>\n",
              "  </thead>\n",
              "  <tbody>\n",
              "    <tr>\n",
              "      <th>0</th>\n",
              "      <td>1</td>\n",
              "      <td>2010-02-05</td>\n",
              "      <td>42.31</td>\n",
              "      <td>2.572</td>\n",
              "      <td>0.0</td>\n",
              "      <td>0.0</td>\n",
              "      <td>0.0</td>\n",
              "      <td>0.0</td>\n",
              "      <td>0.0</td>\n",
              "      <td>211.096358</td>\n",
              "      <td>8.106</td>\n",
              "      <td>False</td>\n",
              "      <td>1</td>\n",
              "      <td>24924.50</td>\n",
              "      <td>A</td>\n",
              "      <td>151315</td>\n",
              "      <td>2010</td>\n",
              "      <td>5</td>\n",
              "      <td>329</td>\n",
              "      <td>1</td>\n",
              "      <td>0</td>\n",
              "      <td>0</td>\n",
              "    </tr>\n",
              "    <tr>\n",
              "      <th>330761</th>\n",
              "      <td>35</td>\n",
              "      <td>2010-02-05</td>\n",
              "      <td>27.19</td>\n",
              "      <td>2.784</td>\n",
              "      <td>0.0</td>\n",
              "      <td>0.0</td>\n",
              "      <td>0.0</td>\n",
              "      <td>0.0</td>\n",
              "      <td>0.0</td>\n",
              "      <td>135.352461</td>\n",
              "      <td>9.262</td>\n",
              "      <td>False</td>\n",
              "      <td>3</td>\n",
              "      <td>14612.19</td>\n",
              "      <td>B</td>\n",
              "      <td>103681</td>\n",
              "      <td>2010</td>\n",
              "      <td>5</td>\n",
              "      <td>329</td>\n",
              "      <td>0</td>\n",
              "      <td>1</td>\n",
              "      <td>0</td>\n",
              "    </tr>\n",
              "    <tr>\n",
              "      <th>330762</th>\n",
              "      <td>35</td>\n",
              "      <td>2010-02-05</td>\n",
              "      <td>27.19</td>\n",
              "      <td>2.784</td>\n",
              "      <td>0.0</td>\n",
              "      <td>0.0</td>\n",
              "      <td>0.0</td>\n",
              "      <td>0.0</td>\n",
              "      <td>0.0</td>\n",
              "      <td>135.352461</td>\n",
              "      <td>9.262</td>\n",
              "      <td>False</td>\n",
              "      <td>4</td>\n",
              "      <td>26323.15</td>\n",
              "      <td>B</td>\n",
              "      <td>103681</td>\n",
              "      <td>2010</td>\n",
              "      <td>5</td>\n",
              "      <td>329</td>\n",
              "      <td>0</td>\n",
              "      <td>1</td>\n",
              "      <td>0</td>\n",
              "    </tr>\n",
              "    <tr>\n",
              "      <th>330763</th>\n",
              "      <td>35</td>\n",
              "      <td>2010-02-05</td>\n",
              "      <td>27.19</td>\n",
              "      <td>2.784</td>\n",
              "      <td>0.0</td>\n",
              "      <td>0.0</td>\n",
              "      <td>0.0</td>\n",
              "      <td>0.0</td>\n",
              "      <td>0.0</td>\n",
              "      <td>135.352461</td>\n",
              "      <td>9.262</td>\n",
              "      <td>False</td>\n",
              "      <td>5</td>\n",
              "      <td>36414.63</td>\n",
              "      <td>B</td>\n",
              "      <td>103681</td>\n",
              "      <td>2010</td>\n",
              "      <td>5</td>\n",
              "      <td>329</td>\n",
              "      <td>0</td>\n",
              "      <td>1</td>\n",
              "      <td>0</td>\n",
              "    </tr>\n",
              "    <tr>\n",
              "      <th>330764</th>\n",
              "      <td>35</td>\n",
              "      <td>2010-02-05</td>\n",
              "      <td>27.19</td>\n",
              "      <td>2.784</td>\n",
              "      <td>0.0</td>\n",
              "      <td>0.0</td>\n",
              "      <td>0.0</td>\n",
              "      <td>0.0</td>\n",
              "      <td>0.0</td>\n",
              "      <td>135.352461</td>\n",
              "      <td>9.262</td>\n",
              "      <td>False</td>\n",
              "      <td>6</td>\n",
              "      <td>11437.81</td>\n",
              "      <td>B</td>\n",
              "      <td>103681</td>\n",
              "      <td>2010</td>\n",
              "      <td>5</td>\n",
              "      <td>329</td>\n",
              "      <td>0</td>\n",
              "      <td>1</td>\n",
              "      <td>0</td>\n",
              "    </tr>\n",
              "  </tbody>\n",
              "</table>\n",
              "</div>\n",
              "      <button class=\"colab-df-convert\" onclick=\"convertToInteractive('df-21e71b82-d591-4e53-8d36-c2cb57d7d913')\"\n",
              "              title=\"Convert this dataframe to an interactive table.\"\n",
              "              style=\"display:none;\">\n",
              "        \n",
              "  <svg xmlns=\"http://www.w3.org/2000/svg\" height=\"24px\"viewBox=\"0 0 24 24\"\n",
              "       width=\"24px\">\n",
              "    <path d=\"M0 0h24v24H0V0z\" fill=\"none\"/>\n",
              "    <path d=\"M18.56 5.44l.94 2.06.94-2.06 2.06-.94-2.06-.94-.94-2.06-.94 2.06-2.06.94zm-11 1L8.5 8.5l.94-2.06 2.06-.94-2.06-.94L8.5 2.5l-.94 2.06-2.06.94zm10 10l.94 2.06.94-2.06 2.06-.94-2.06-.94-.94-2.06-.94 2.06-2.06.94z\"/><path d=\"M17.41 7.96l-1.37-1.37c-.4-.4-.92-.59-1.43-.59-.52 0-1.04.2-1.43.59L10.3 9.45l-7.72 7.72c-.78.78-.78 2.05 0 2.83L4 21.41c.39.39.9.59 1.41.59.51 0 1.02-.2 1.41-.59l7.78-7.78 2.81-2.81c.8-.78.8-2.07 0-2.86zM5.41 20L4 18.59l7.72-7.72 1.47 1.35L5.41 20z\"/>\n",
              "  </svg>\n",
              "      </button>\n",
              "      \n",
              "  <style>\n",
              "    .colab-df-container {\n",
              "      display:flex;\n",
              "      flex-wrap:wrap;\n",
              "      gap: 12px;\n",
              "    }\n",
              "\n",
              "    .colab-df-convert {\n",
              "      background-color: #E8F0FE;\n",
              "      border: none;\n",
              "      border-radius: 50%;\n",
              "      cursor: pointer;\n",
              "      display: none;\n",
              "      fill: #1967D2;\n",
              "      height: 32px;\n",
              "      padding: 0 0 0 0;\n",
              "      width: 32px;\n",
              "    }\n",
              "\n",
              "    .colab-df-convert:hover {\n",
              "      background-color: #E2EBFA;\n",
              "      box-shadow: 0px 1px 2px rgba(60, 64, 67, 0.3), 0px 1px 3px 1px rgba(60, 64, 67, 0.15);\n",
              "      fill: #174EA6;\n",
              "    }\n",
              "\n",
              "    [theme=dark] .colab-df-convert {\n",
              "      background-color: #3B4455;\n",
              "      fill: #D2E3FC;\n",
              "    }\n",
              "\n",
              "    [theme=dark] .colab-df-convert:hover {\n",
              "      background-color: #434B5C;\n",
              "      box-shadow: 0px 1px 3px 1px rgba(0, 0, 0, 0.15);\n",
              "      filter: drop-shadow(0px 1px 2px rgba(0, 0, 0, 0.3));\n",
              "      fill: #FFFFFF;\n",
              "    }\n",
              "  </style>\n",
              "\n",
              "      <script>\n",
              "        const buttonEl =\n",
              "          document.querySelector('#df-21e71b82-d591-4e53-8d36-c2cb57d7d913 button.colab-df-convert');\n",
              "        buttonEl.style.display =\n",
              "          google.colab.kernel.accessAllowed ? 'block' : 'none';\n",
              "\n",
              "        async function convertToInteractive(key) {\n",
              "          const element = document.querySelector('#df-21e71b82-d591-4e53-8d36-c2cb57d7d913');\n",
              "          const dataTable =\n",
              "            await google.colab.kernel.invokeFunction('convertToInteractive',\n",
              "                                                     [key], {});\n",
              "          if (!dataTable) return;\n",
              "\n",
              "          const docLinkHtml = 'Like what you see? Visit the ' +\n",
              "            '<a target=\"_blank\" href=https://colab.research.google.com/notebooks/data_table.ipynb>data table notebook</a>'\n",
              "            + ' to learn more about interactive tables.';\n",
              "          element.innerHTML = '';\n",
              "          dataTable['output_type'] = 'display_data';\n",
              "          await google.colab.output.renderOutput(dataTable, element);\n",
              "          const docLink = document.createElement('div');\n",
              "          docLink.innerHTML = docLinkHtml;\n",
              "          element.appendChild(docLink);\n",
              "        }\n",
              "      </script>\n",
              "    </div>\n",
              "  </div>\n",
              "  "
            ],
            "text/plain": [
              "        Store        Date  Temperature  ...  A  B  C\n",
              "0           1  2010-02-05        42.31  ...  1  0  0\n",
              "330761     35  2010-02-05        27.19  ...  0  1  0\n",
              "330762     35  2010-02-05        27.19  ...  0  1  0\n",
              "330763     35  2010-02-05        27.19  ...  0  1  0\n",
              "330764     35  2010-02-05        27.19  ...  0  1  0\n",
              "\n",
              "[5 rows x 22 columns]"
            ]
          },
          "metadata": {},
          "execution_count": 50
        }
      ]
    },
    {
      "cell_type": "code",
      "metadata": {
        "id": "VdPmtWkQ6WbF",
        "outputId": "e151b698-5eef-482d-ad11-70605453a1d3",
        "colab": {
          "base_uri": "https://localhost:8080/"
        }
      },
      "source": [
        "# Drop the type variable as we have created dummies\n",
        "df = df.drop(['Type'], axis = 1)\n",
        "df.shape"
      ],
      "execution_count": 51,
      "outputs": [
        {
          "output_type": "execute_result",
          "data": {
            "text/plain": [
              "(421570, 21)"
            ]
          },
          "metadata": {},
          "execution_count": 51
        }
      ]
    },
    {
      "cell_type": "code",
      "metadata": {
        "id": "ZmBSUdUn6WbJ",
        "outputId": "9ac20766-2267-4c7f-ead5-30c26f4a1fc2",
        "colab": {
          "base_uri": "https://localhost:8080/",
          "height": 206
        }
      },
      "source": [
        "# As we have one more column IsHoliday\n",
        "dummy1 = pd.get_dummies(df['IsHoliday'])\n",
        "dummy1.head()"
      ],
      "execution_count": 52,
      "outputs": [
        {
          "output_type": "execute_result",
          "data": {
            "text/html": [
              "\n",
              "  <div id=\"df-5e031555-a305-4602-bcb8-315cc2213c64\">\n",
              "    <div class=\"colab-df-container\">\n",
              "      <div>\n",
              "<style scoped>\n",
              "    .dataframe tbody tr th:only-of-type {\n",
              "        vertical-align: middle;\n",
              "    }\n",
              "\n",
              "    .dataframe tbody tr th {\n",
              "        vertical-align: top;\n",
              "    }\n",
              "\n",
              "    .dataframe thead th {\n",
              "        text-align: right;\n",
              "    }\n",
              "</style>\n",
              "<table border=\"1\" class=\"dataframe\">\n",
              "  <thead>\n",
              "    <tr style=\"text-align: right;\">\n",
              "      <th></th>\n",
              "      <th>False</th>\n",
              "      <th>True</th>\n",
              "    </tr>\n",
              "  </thead>\n",
              "  <tbody>\n",
              "    <tr>\n",
              "      <th>0</th>\n",
              "      <td>1</td>\n",
              "      <td>0</td>\n",
              "    </tr>\n",
              "    <tr>\n",
              "      <th>330761</th>\n",
              "      <td>1</td>\n",
              "      <td>0</td>\n",
              "    </tr>\n",
              "    <tr>\n",
              "      <th>330762</th>\n",
              "      <td>1</td>\n",
              "      <td>0</td>\n",
              "    </tr>\n",
              "    <tr>\n",
              "      <th>330763</th>\n",
              "      <td>1</td>\n",
              "      <td>0</td>\n",
              "    </tr>\n",
              "    <tr>\n",
              "      <th>330764</th>\n",
              "      <td>1</td>\n",
              "      <td>0</td>\n",
              "    </tr>\n",
              "  </tbody>\n",
              "</table>\n",
              "</div>\n",
              "      <button class=\"colab-df-convert\" onclick=\"convertToInteractive('df-5e031555-a305-4602-bcb8-315cc2213c64')\"\n",
              "              title=\"Convert this dataframe to an interactive table.\"\n",
              "              style=\"display:none;\">\n",
              "        \n",
              "  <svg xmlns=\"http://www.w3.org/2000/svg\" height=\"24px\"viewBox=\"0 0 24 24\"\n",
              "       width=\"24px\">\n",
              "    <path d=\"M0 0h24v24H0V0z\" fill=\"none\"/>\n",
              "    <path d=\"M18.56 5.44l.94 2.06.94-2.06 2.06-.94-2.06-.94-.94-2.06-.94 2.06-2.06.94zm-11 1L8.5 8.5l.94-2.06 2.06-.94-2.06-.94L8.5 2.5l-.94 2.06-2.06.94zm10 10l.94 2.06.94-2.06 2.06-.94-2.06-.94-.94-2.06-.94 2.06-2.06.94z\"/><path d=\"M17.41 7.96l-1.37-1.37c-.4-.4-.92-.59-1.43-.59-.52 0-1.04.2-1.43.59L10.3 9.45l-7.72 7.72c-.78.78-.78 2.05 0 2.83L4 21.41c.39.39.9.59 1.41.59.51 0 1.02-.2 1.41-.59l7.78-7.78 2.81-2.81c.8-.78.8-2.07 0-2.86zM5.41 20L4 18.59l7.72-7.72 1.47 1.35L5.41 20z\"/>\n",
              "  </svg>\n",
              "      </button>\n",
              "      \n",
              "  <style>\n",
              "    .colab-df-container {\n",
              "      display:flex;\n",
              "      flex-wrap:wrap;\n",
              "      gap: 12px;\n",
              "    }\n",
              "\n",
              "    .colab-df-convert {\n",
              "      background-color: #E8F0FE;\n",
              "      border: none;\n",
              "      border-radius: 50%;\n",
              "      cursor: pointer;\n",
              "      display: none;\n",
              "      fill: #1967D2;\n",
              "      height: 32px;\n",
              "      padding: 0 0 0 0;\n",
              "      width: 32px;\n",
              "    }\n",
              "\n",
              "    .colab-df-convert:hover {\n",
              "      background-color: #E2EBFA;\n",
              "      box-shadow: 0px 1px 2px rgba(60, 64, 67, 0.3), 0px 1px 3px 1px rgba(60, 64, 67, 0.15);\n",
              "      fill: #174EA6;\n",
              "    }\n",
              "\n",
              "    [theme=dark] .colab-df-convert {\n",
              "      background-color: #3B4455;\n",
              "      fill: #D2E3FC;\n",
              "    }\n",
              "\n",
              "    [theme=dark] .colab-df-convert:hover {\n",
              "      background-color: #434B5C;\n",
              "      box-shadow: 0px 1px 3px 1px rgba(0, 0, 0, 0.15);\n",
              "      filter: drop-shadow(0px 1px 2px rgba(0, 0, 0, 0.3));\n",
              "      fill: #FFFFFF;\n",
              "    }\n",
              "  </style>\n",
              "\n",
              "      <script>\n",
              "        const buttonEl =\n",
              "          document.querySelector('#df-5e031555-a305-4602-bcb8-315cc2213c64 button.colab-df-convert');\n",
              "        buttonEl.style.display =\n",
              "          google.colab.kernel.accessAllowed ? 'block' : 'none';\n",
              "\n",
              "        async function convertToInteractive(key) {\n",
              "          const element = document.querySelector('#df-5e031555-a305-4602-bcb8-315cc2213c64');\n",
              "          const dataTable =\n",
              "            await google.colab.kernel.invokeFunction('convertToInteractive',\n",
              "                                                     [key], {});\n",
              "          if (!dataTable) return;\n",
              "\n",
              "          const docLinkHtml = 'Like what you see? Visit the ' +\n",
              "            '<a target=\"_blank\" href=https://colab.research.google.com/notebooks/data_table.ipynb>data table notebook</a>'\n",
              "            + ' to learn more about interactive tables.';\n",
              "          element.innerHTML = '';\n",
              "          dataTable['output_type'] = 'display_data';\n",
              "          await google.colab.output.renderOutput(dataTable, element);\n",
              "          const docLink = document.createElement('div');\n",
              "          docLink.innerHTML = docLinkHtml;\n",
              "          element.appendChild(docLink);\n",
              "        }\n",
              "      </script>\n",
              "    </div>\n",
              "  </div>\n",
              "  "
            ],
            "text/plain": [
              "        False  True \n",
              "0           1      0\n",
              "330761      1      0\n",
              "330762      1      0\n",
              "330763      1      0\n",
              "330764      1      0"
            ]
          },
          "metadata": {},
          "execution_count": 52
        }
      ]
    },
    {
      "cell_type": "markdown",
      "metadata": {
        "id": "G4Yiob636WbM"
      },
      "source": [
        "    Creating Extra Holiday Variable.\n",
        "    If that week comes under extra holiday then 1(=Yes) else 2(=No)"
      ]
    },
    {
      "cell_type": "markdown",
      "metadata": {
        "id": "75K714bg6WbN"
      },
      "source": [
        "### Creating testing dummies"
      ]
    },
    {
      "cell_type": "code",
      "metadata": {
        "id": "YpIATFRP6WbW"
      },
      "source": [
        "# Create and concat into dataframe\n",
        "dummy_test = pd.get_dummies(df_test['Type'])\n",
        "df_test = pd.concat([df_test, dummy_test], axis = 1)"
      ],
      "execution_count": 53,
      "outputs": []
    },
    {
      "cell_type": "code",
      "metadata": {
        "id": "SGgAITwZ6Wba",
        "outputId": "caa49434-5795-48b8-8858-c887a614546f",
        "colab": {
          "base_uri": "https://localhost:8080/",
          "height": 392
        }
      },
      "source": [
        "df_test.head()"
      ],
      "execution_count": 54,
      "outputs": [
        {
          "output_type": "execute_result",
          "data": {
            "text/html": [
              "\n",
              "  <div id=\"df-ea4db457-6e0d-4a8b-9485-02cc1780954e\">\n",
              "    <div class=\"colab-df-container\">\n",
              "      <div>\n",
              "<style scoped>\n",
              "    .dataframe tbody tr th:only-of-type {\n",
              "        vertical-align: middle;\n",
              "    }\n",
              "\n",
              "    .dataframe tbody tr th {\n",
              "        vertical-align: top;\n",
              "    }\n",
              "\n",
              "    .dataframe thead th {\n",
              "        text-align: right;\n",
              "    }\n",
              "</style>\n",
              "<table border=\"1\" class=\"dataframe\">\n",
              "  <thead>\n",
              "    <tr style=\"text-align: right;\">\n",
              "      <th></th>\n",
              "      <th>Store</th>\n",
              "      <th>Date</th>\n",
              "      <th>Temperature</th>\n",
              "      <th>Fuel_Price</th>\n",
              "      <th>MarkDown1</th>\n",
              "      <th>MarkDown2</th>\n",
              "      <th>MarkDown3</th>\n",
              "      <th>MarkDown4</th>\n",
              "      <th>MarkDown5</th>\n",
              "      <th>CPI</th>\n",
              "      <th>Unemployment</th>\n",
              "      <th>IsHoliday</th>\n",
              "      <th>Dept</th>\n",
              "      <th>Type</th>\n",
              "      <th>Size</th>\n",
              "      <th>year</th>\n",
              "      <th>day</th>\n",
              "      <th>Days to Next Christmas</th>\n",
              "      <th>A</th>\n",
              "      <th>B</th>\n",
              "      <th>C</th>\n",
              "    </tr>\n",
              "  </thead>\n",
              "  <tbody>\n",
              "    <tr>\n",
              "      <th>0</th>\n",
              "      <td>1</td>\n",
              "      <td>2012-11-02</td>\n",
              "      <td>55.32</td>\n",
              "      <td>3.386</td>\n",
              "      <td>6766.44</td>\n",
              "      <td>6766.44</td>\n",
              "      <td>6766.44</td>\n",
              "      <td>6766.44</td>\n",
              "      <td>6766.44</td>\n",
              "      <td>223.462779</td>\n",
              "      <td>6.573</td>\n",
              "      <td>False</td>\n",
              "      <td>1</td>\n",
              "      <td>A</td>\n",
              "      <td>151315</td>\n",
              "      <td>2010</td>\n",
              "      <td>5</td>\n",
              "      <td>-672</td>\n",
              "      <td>1</td>\n",
              "      <td>0</td>\n",
              "      <td>0</td>\n",
              "    </tr>\n",
              "    <tr>\n",
              "      <th>1</th>\n",
              "      <td>1</td>\n",
              "      <td>2012-11-02</td>\n",
              "      <td>55.32</td>\n",
              "      <td>3.386</td>\n",
              "      <td>6766.44</td>\n",
              "      <td>6766.44</td>\n",
              "      <td>6766.44</td>\n",
              "      <td>6766.44</td>\n",
              "      <td>6766.44</td>\n",
              "      <td>223.462779</td>\n",
              "      <td>6.573</td>\n",
              "      <td>False</td>\n",
              "      <td>2</td>\n",
              "      <td>A</td>\n",
              "      <td>151315</td>\n",
              "      <td>2010</td>\n",
              "      <td>5</td>\n",
              "      <td>-672</td>\n",
              "      <td>1</td>\n",
              "      <td>0</td>\n",
              "      <td>0</td>\n",
              "    </tr>\n",
              "    <tr>\n",
              "      <th>2</th>\n",
              "      <td>1</td>\n",
              "      <td>2012-11-02</td>\n",
              "      <td>55.32</td>\n",
              "      <td>3.386</td>\n",
              "      <td>6766.44</td>\n",
              "      <td>6766.44</td>\n",
              "      <td>6766.44</td>\n",
              "      <td>6766.44</td>\n",
              "      <td>6766.44</td>\n",
              "      <td>223.462779</td>\n",
              "      <td>6.573</td>\n",
              "      <td>False</td>\n",
              "      <td>3</td>\n",
              "      <td>A</td>\n",
              "      <td>151315</td>\n",
              "      <td>2010</td>\n",
              "      <td>5</td>\n",
              "      <td>-672</td>\n",
              "      <td>1</td>\n",
              "      <td>0</td>\n",
              "      <td>0</td>\n",
              "    </tr>\n",
              "    <tr>\n",
              "      <th>3</th>\n",
              "      <td>1</td>\n",
              "      <td>2012-11-02</td>\n",
              "      <td>55.32</td>\n",
              "      <td>3.386</td>\n",
              "      <td>6766.44</td>\n",
              "      <td>6766.44</td>\n",
              "      <td>6766.44</td>\n",
              "      <td>6766.44</td>\n",
              "      <td>6766.44</td>\n",
              "      <td>223.462779</td>\n",
              "      <td>6.573</td>\n",
              "      <td>False</td>\n",
              "      <td>4</td>\n",
              "      <td>A</td>\n",
              "      <td>151315</td>\n",
              "      <td>2010</td>\n",
              "      <td>5</td>\n",
              "      <td>-672</td>\n",
              "      <td>1</td>\n",
              "      <td>0</td>\n",
              "      <td>0</td>\n",
              "    </tr>\n",
              "    <tr>\n",
              "      <th>4</th>\n",
              "      <td>1</td>\n",
              "      <td>2012-11-02</td>\n",
              "      <td>55.32</td>\n",
              "      <td>3.386</td>\n",
              "      <td>6766.44</td>\n",
              "      <td>6766.44</td>\n",
              "      <td>6766.44</td>\n",
              "      <td>6766.44</td>\n",
              "      <td>6766.44</td>\n",
              "      <td>223.462779</td>\n",
              "      <td>6.573</td>\n",
              "      <td>False</td>\n",
              "      <td>5</td>\n",
              "      <td>A</td>\n",
              "      <td>151315</td>\n",
              "      <td>2010</td>\n",
              "      <td>5</td>\n",
              "      <td>-672</td>\n",
              "      <td>1</td>\n",
              "      <td>0</td>\n",
              "      <td>0</td>\n",
              "    </tr>\n",
              "  </tbody>\n",
              "</table>\n",
              "</div>\n",
              "      <button class=\"colab-df-convert\" onclick=\"convertToInteractive('df-ea4db457-6e0d-4a8b-9485-02cc1780954e')\"\n",
              "              title=\"Convert this dataframe to an interactive table.\"\n",
              "              style=\"display:none;\">\n",
              "        \n",
              "  <svg xmlns=\"http://www.w3.org/2000/svg\" height=\"24px\"viewBox=\"0 0 24 24\"\n",
              "       width=\"24px\">\n",
              "    <path d=\"M0 0h24v24H0V0z\" fill=\"none\"/>\n",
              "    <path d=\"M18.56 5.44l.94 2.06.94-2.06 2.06-.94-2.06-.94-.94-2.06-.94 2.06-2.06.94zm-11 1L8.5 8.5l.94-2.06 2.06-.94-2.06-.94L8.5 2.5l-.94 2.06-2.06.94zm10 10l.94 2.06.94-2.06 2.06-.94-2.06-.94-.94-2.06-.94 2.06-2.06.94z\"/><path d=\"M17.41 7.96l-1.37-1.37c-.4-.4-.92-.59-1.43-.59-.52 0-1.04.2-1.43.59L10.3 9.45l-7.72 7.72c-.78.78-.78 2.05 0 2.83L4 21.41c.39.39.9.59 1.41.59.51 0 1.02-.2 1.41-.59l7.78-7.78 2.81-2.81c.8-.78.8-2.07 0-2.86zM5.41 20L4 18.59l7.72-7.72 1.47 1.35L5.41 20z\"/>\n",
              "  </svg>\n",
              "      </button>\n",
              "      \n",
              "  <style>\n",
              "    .colab-df-container {\n",
              "      display:flex;\n",
              "      flex-wrap:wrap;\n",
              "      gap: 12px;\n",
              "    }\n",
              "\n",
              "    .colab-df-convert {\n",
              "      background-color: #E8F0FE;\n",
              "      border: none;\n",
              "      border-radius: 50%;\n",
              "      cursor: pointer;\n",
              "      display: none;\n",
              "      fill: #1967D2;\n",
              "      height: 32px;\n",
              "      padding: 0 0 0 0;\n",
              "      width: 32px;\n",
              "    }\n",
              "\n",
              "    .colab-df-convert:hover {\n",
              "      background-color: #E2EBFA;\n",
              "      box-shadow: 0px 1px 2px rgba(60, 64, 67, 0.3), 0px 1px 3px 1px rgba(60, 64, 67, 0.15);\n",
              "      fill: #174EA6;\n",
              "    }\n",
              "\n",
              "    [theme=dark] .colab-df-convert {\n",
              "      background-color: #3B4455;\n",
              "      fill: #D2E3FC;\n",
              "    }\n",
              "\n",
              "    [theme=dark] .colab-df-convert:hover {\n",
              "      background-color: #434B5C;\n",
              "      box-shadow: 0px 1px 3px 1px rgba(0, 0, 0, 0.15);\n",
              "      filter: drop-shadow(0px 1px 2px rgba(0, 0, 0, 0.3));\n",
              "      fill: #FFFFFF;\n",
              "    }\n",
              "  </style>\n",
              "\n",
              "      <script>\n",
              "        const buttonEl =\n",
              "          document.querySelector('#df-ea4db457-6e0d-4a8b-9485-02cc1780954e button.colab-df-convert');\n",
              "        buttonEl.style.display =\n",
              "          google.colab.kernel.accessAllowed ? 'block' : 'none';\n",
              "\n",
              "        async function convertToInteractive(key) {\n",
              "          const element = document.querySelector('#df-ea4db457-6e0d-4a8b-9485-02cc1780954e');\n",
              "          const dataTable =\n",
              "            await google.colab.kernel.invokeFunction('convertToInteractive',\n",
              "                                                     [key], {});\n",
              "          if (!dataTable) return;\n",
              "\n",
              "          const docLinkHtml = 'Like what you see? Visit the ' +\n",
              "            '<a target=\"_blank\" href=https://colab.research.google.com/notebooks/data_table.ipynb>data table notebook</a>'\n",
              "            + ' to learn more about interactive tables.';\n",
              "          element.innerHTML = '';\n",
              "          dataTable['output_type'] = 'display_data';\n",
              "          await google.colab.output.renderOutput(dataTable, element);\n",
              "          const docLink = document.createElement('div');\n",
              "          docLink.innerHTML = docLinkHtml;\n",
              "          element.appendChild(docLink);\n",
              "        }\n",
              "      </script>\n",
              "    </div>\n",
              "  </div>\n",
              "  "
            ],
            "text/plain": [
              "   Store        Date  Temperature  Fuel_Price  ...  Days to Next Christmas  A  B  C\n",
              "0      1  2012-11-02        55.32       3.386  ...                    -672  1  0  0\n",
              "1      1  2012-11-02        55.32       3.386  ...                    -672  1  0  0\n",
              "2      1  2012-11-02        55.32       3.386  ...                    -672  1  0  0\n",
              "3      1  2012-11-02        55.32       3.386  ...                    -672  1  0  0\n",
              "4      1  2012-11-02        55.32       3.386  ...                    -672  1  0  0\n",
              "\n",
              "[5 rows x 21 columns]"
            ]
          },
          "metadata": {},
          "execution_count": 54
        }
      ]
    },
    {
      "cell_type": "markdown",
      "metadata": {
        "id": "L_LSgHXg6Wbe"
      },
      "source": [
        "    WE have created dummies for testing df so we can drop extra variable 'Type'"
      ]
    },
    {
      "cell_type": "code",
      "metadata": {
        "id": "EOno4L9a6Wbe"
      },
      "source": [
        "df_test = df_test.drop(['Type'], axis = 1)"
      ],
      "execution_count": 55,
      "outputs": []
    },
    {
      "cell_type": "code",
      "metadata": {
        "id": "IwesaPrg6Wbh",
        "outputId": "0e2a3f9b-f4c5-4d90-9a1e-3b68edd3b2ea",
        "colab": {
          "base_uri": "https://localhost:8080/"
        }
      },
      "source": [
        "df_test.shape"
      ],
      "execution_count": 56,
      "outputs": [
        {
          "output_type": "execute_result",
          "data": {
            "text/plain": [
              "(115064, 20)"
            ]
          },
          "metadata": {},
          "execution_count": 56
        }
      ]
    },
    {
      "cell_type": "markdown",
      "metadata": {
        "id": "FDnhgfoy6Wbo"
      },
      "source": [
        "---\n",
        "### Creating new variables fro special holidays\n",
        "---"
      ]
    },
    {
      "cell_type": "code",
      "metadata": {
        "id": "iJ4i5DVf6Wbp"
      },
      "source": [
        "from datetime import datetime"
      ],
      "execution_count": 57,
      "outputs": []
    },
    {
      "cell_type": "code",
      "metadata": {
        "id": "4NBkZOUM6Wbr"
      },
      "source": [
        "# For training data\n",
        "df['super_bowl'] = np.where((df['Date'] == datetime(2010,2,12)) | (df['Date'] == datetime(2011,2,11)) | (df['Date'] == datetime(2012,2,10)) | (df['Date'] == datetime(2013,2,8)),1,0)\n",
        "df['labour_day'] = np.where((df['Date'] == datetime(2010,9,10)) | (df['Date'] == datetime(2011,9,9)) | (df['Date'] == datetime(2012,9,7)) | (df['Date'] == datetime(2013,9,6)),1,0)\n",
        "df['thanks_giving'] = np.where((df['Date'] == datetime(2010,11,26)) | (df['Date'] == datetime(2011,11,25)) | (df['Date'] == datetime(2012,11,23)) | (df['Date'] == datetime(2013,11,29)),1,0)\n",
        "df['christmas'] = np.where((df['Date'] == datetime(2010,12,31)) | (df['Date'] == datetime(2011,12,30)) | (df['Date'] == datetime(2012,12,28)) | (df['Date'] == datetime(2013,12,27)),1,0)\n",
        "\n",
        "\n",
        "# For testing data\n",
        "df_test['super_bowl'] = np.where((df_test['Date'] == datetime(2010,2,12)) | (df_test['Date'] == datetime(2011,2,11)) | (df_test['Date'] == datetime(2012,2,10)) | (df_test['Date'] == datetime(2013,2,8)),1,0)\n",
        "df_test['labour_day'] = np.where((df_test['Date'] == datetime(2010,9,10)) | (df_test['Date'] == datetime(2011,9,9)) | (df_test['Date'] == datetime(2012,9,7)) | (df_test['Date'] == datetime(2013,9,6)),1,0)\n",
        "df_test['thanks_giving'] = np.where((df_test['Date'] == datetime(2010,11,26)) | (df_test['Date'] == datetime(2011,11,25)) | (df_test['Date'] == datetime(2012,11,23)) | (df_test['Date'] == datetime(2013,11,29)),1,0)\n",
        "df_test['christmas'] = np.where((df_test['Date'] == datetime(2010,12,31)) | (df_test['Date'] == datetime(2011,12,30)) | (df_test['Date'] == datetime(2012,12,28)) | (df_test['Date'] == datetime(2013,12,27)),1,0)"
      ],
      "execution_count": 58,
      "outputs": []
    },
    {
      "cell_type": "code",
      "metadata": {
        "id": "YSBlBvA26Wbw"
      },
      "source": [
        "# Altering these holidays with 'IsHolidays'\n",
        "df['IsHoliday'] = df['IsHoliday'] | df['super_bowl'] | df['labour_day'] | df['thanks_giving'] | df['christmas']\n",
        "df_test['IsHoliday'] = df_test['IsHoliday'] | df_test['super_bowl'] | df_test['labour_day'] | df_test['thanks_giving'] | df_test['christmas']"
      ],
      "execution_count": 59,
      "outputs": []
    },
    {
      "cell_type": "code",
      "metadata": {
        "id": "QGGggHRO6Wbz",
        "outputId": "d198f1c0-3ad3-44c7-bd4b-cc47894b7944",
        "colab": {
          "base_uri": "https://localhost:8080/"
        }
      },
      "source": [
        "print(df['IsHoliday'].value_counts())"
      ],
      "execution_count": 60,
      "outputs": [
        {
          "output_type": "stream",
          "name": "stdout",
          "text": [
            "False    391909\n",
            "True      29661\n",
            "Name: IsHoliday, dtype: int64\n"
          ]
        }
      ]
    },
    {
      "cell_type": "markdown",
      "metadata": {
        "id": "hIKlDH6L6Wb3"
      },
      "source": [
        "    All the extra holidays is merged with 'IsHolidays'.\n",
        "    So, We can drop extra variable."
      ]
    },
    {
      "cell_type": "code",
      "metadata": {
        "id": "FR9zxB-P6Wb4",
        "outputId": "8a4c4b33-0ceb-4c21-bb97-9f7fdbfa4be0",
        "colab": {
          "base_uri": "https://localhost:8080/"
        }
      },
      "source": [
        "print(df.shape)\n",
        "print(df_test.shape)\n",
        "df.columns"
      ],
      "execution_count": 61,
      "outputs": [
        {
          "output_type": "stream",
          "name": "stdout",
          "text": [
            "(421570, 25)\n",
            "(115064, 24)\n"
          ]
        },
        {
          "output_type": "execute_result",
          "data": {
            "text/plain": [
              "Index(['Store', 'Date', 'Temperature', 'Fuel_Price', 'MarkDown1', 'MarkDown2',\n",
              "       'MarkDown3', 'MarkDown4', 'MarkDown5', 'CPI', 'Unemployment',\n",
              "       'IsHoliday', 'Dept', 'Weekly_Sales', 'Size', 'year', 'day',\n",
              "       'Days to Next Christmas', 'A', 'B', 'C', 'super_bowl', 'labour_day',\n",
              "       'thanks_giving', 'christmas'],\n",
              "      dtype='object')"
            ]
          },
          "metadata": {},
          "execution_count": 61
        }
      ]
    },
    {
      "cell_type": "code",
      "metadata": {
        "id": "DKWYooiJ6Wb9",
        "outputId": "9a6ec928-0b72-4450-8f34-581208fbde50",
        "colab": {
          "base_uri": "https://localhost:8080/"
        }
      },
      "source": [
        "df_test.columns"
      ],
      "execution_count": 62,
      "outputs": [
        {
          "output_type": "execute_result",
          "data": {
            "text/plain": [
              "Index(['Store', 'Date', 'Temperature', 'Fuel_Price', 'MarkDown1', 'MarkDown2',\n",
              "       'MarkDown3', 'MarkDown4', 'MarkDown5', 'CPI', 'Unemployment',\n",
              "       'IsHoliday', 'Dept', 'Size', 'year', 'day', 'Days to Next Christmas',\n",
              "       'A', 'B', 'C', 'super_bowl', 'labour_day', 'thanks_giving',\n",
              "       'christmas'],\n",
              "      dtype='object')"
            ]
          },
          "metadata": {},
          "execution_count": 62
        }
      ]
    },
    {
      "cell_type": "code",
      "metadata": {
        "id": "2A4NbzE-6WcA",
        "outputId": "1e8f6893-992f-42b2-f709-3c6b114776ee",
        "colab": {
          "base_uri": "https://localhost:8080/"
        }
      },
      "source": [
        "drop_extra = ['super_bowl', 'labour_day', 'thanks_giving', 'christmas']\n",
        "# Training\n",
        "df.drop(drop_extra, axis = 1, inplace = True)\n",
        "print(df.shape)\n",
        "\n",
        "# Testing\n",
        "df_test.drop(drop_extra, axis = 1, inplace = True)\n",
        "print(df_test.shape)"
      ],
      "execution_count": 63,
      "outputs": [
        {
          "output_type": "stream",
          "name": "stdout",
          "text": [
            "(421570, 21)\n",
            "(115064, 20)\n"
          ]
        }
      ]
    },
    {
      "cell_type": "markdown",
      "metadata": {
        "id": "XANV3zk36WcC"
      },
      "source": [
        "    Extra variable dropped successfully."
      ]
    },
    {
      "cell_type": "code",
      "metadata": {
        "scrolled": true,
        "id": "lU1_AaVn6WcD",
        "outputId": "6820abb6-a1ea-44b3-b143-0e0c8ea181b9",
        "colab": {
          "base_uri": "https://localhost:8080/",
          "height": 365
        }
      },
      "source": [
        "sns.distplot(df.Weekly_Sales)"
      ],
      "execution_count": 64,
      "outputs": [
        {
          "output_type": "stream",
          "name": "stderr",
          "text": [
            "/usr/local/lib/python3.7/dist-packages/seaborn/distributions.py:2619: FutureWarning: `distplot` is a deprecated function and will be removed in a future version. Please adapt your code to use either `displot` (a figure-level function with similar flexibility) or `histplot` (an axes-level function for histograms).\n",
            "  warnings.warn(msg, FutureWarning)\n"
          ]
        },
        {
          "output_type": "execute_result",
          "data": {
            "text/plain": [
              "<matplotlib.axes._subplots.AxesSubplot at 0x7f8946f28fd0>"
            ]
          },
          "metadata": {},
          "execution_count": 64
        },
        {
          "output_type": "display_data",
          "data": {
            "image/png": "[encoded data removed]",
            "text/plain": [
              "<Figure size 432x288 with 1 Axes>"
            ]
          },
          "metadata": {
            "needs_background": "light"
          }
        }
      ]
    },
    {
      "cell_type": "code",
      "metadata": {
        "id": "ZwThFGfL6WcH",
        "outputId": "7b12d5ec-8f65-4f30-c4e0-da2d914e66e7",
        "colab": {
          "base_uri": "https://localhost:8080/"
        }
      },
      "source": [
        "# df['Weekly_Sales'][df.Weekly_Sales < 0]\n",
        "df.Weekly_Sales.skew()"
      ],
      "execution_count": 65,
      "outputs": [
        {
          "output_type": "execute_result",
          "data": {
            "text/plain": [
              "3.262008185465664"
            ]
          },
          "metadata": {},
          "execution_count": 65
        }
      ]
    },
    {
      "cell_type": "code",
      "metadata": {
        "id": "waCJ9UdC6WcM",
        "outputId": "8a24d3d2-3b21-448d-8023-fecfc054e497",
        "colab": {
          "base_uri": "https://localhost:8080/"
        }
      },
      "source": [
        "df.loc[df.Weekly_Sales < 0, 'Weekly_Sales']"
      ],
      "execution_count": 66,
      "outputs": [
        {
          "output_type": "execute_result",
          "data": {
            "text/plain": [
              "48832     -59.00\n",
              "293759    -12.00\n",
              "78698     -15.00\n",
              "411987     -2.45\n",
              "138174     -0.04\n",
              "           ...  \n",
              "167302    -11.00\n",
              "286534   -178.15\n",
              "340273    -16.51\n",
              "187305    -18.00\n",
              "197495     -3.97\n",
              "Name: Weekly_Sales, Length: 1285, dtype: float64"
            ]
          },
          "metadata": {},
          "execution_count": 66
        }
      ]
    },
    {
      "cell_type": "markdown",
      "metadata": {
        "id": "VXl6_9EP6WcR"
      },
      "source": [
        "    We have found that our 'Y' variable is having a negative values."
      ]
    },
    {
      "cell_type": "code",
      "metadata": {
        "id": "9xo1Wjk16WcR"
      },
      "source": [
        "df.loc[df.Weekly_Sales < 0, 'Weekly_Sales'] = 0"
      ],
      "execution_count": 67,
      "outputs": []
    },
    {
      "cell_type": "markdown",
      "metadata": {
        "id": "75v2AFxM6Wca"
      },
      "source": [
        "    We have filled negative values to 'Zero' as per the instruction.\n",
        "    We can't take log of negative values."
      ]
    },
    {
      "cell_type": "code",
      "metadata": {
        "id": "M5eIKWlP6Wcb",
        "outputId": "9b07de7d-a1d7-419b-b833-14943f9e8417",
        "colab": {
          "base_uri": "https://localhost:8080/"
        }
      },
      "source": [
        "# Taking log of 'Y' values = Weekly_Sales\n",
        "a = np.log(df.Weekly_Sales)"
      ],
      "execution_count": 68,
      "outputs": [
        {
          "output_type": "stream",
          "name": "stderr",
          "text": [
            "/usr/local/lib/python3.7/dist-packages/pandas/core/series.py:726: RuntimeWarning: divide by zero encountered in log\n",
            "  result = getattr(ufunc, method)(*inputs, **kwargs)\n"
          ]
        }
      ]
    },
    {
      "cell_type": "markdown",
      "metadata": {
        "id": "It6l1V0H6Wcj"
      },
      "source": [
        "---\n",
        "## Feature Selection\n",
        "---"
      ]
    },
    {
      "cell_type": "code",
      "metadata": {
        "id": "KPSeZCe36Wck",
        "outputId": "a9e45cc3-483d-4c42-a4d5-c3313d619509",
        "colab": {
          "base_uri": "https://localhost:8080/"
        }
      },
      "source": [
        "df.columns"
      ],
      "execution_count": 69,
      "outputs": [
        {
          "output_type": "execute_result",
          "data": {
            "text/plain": [
              "Index(['Store', 'Date', 'Temperature', 'Fuel_Price', 'MarkDown1', 'MarkDown2',\n",
              "       'MarkDown3', 'MarkDown4', 'MarkDown5', 'CPI', 'Unemployment',\n",
              "       'IsHoliday', 'Dept', 'Weekly_Sales', 'Size', 'year', 'day',\n",
              "       'Days to Next Christmas', 'A', 'B', 'C'],\n",
              "      dtype='object')"
            ]
          },
          "metadata": {},
          "execution_count": 69
        }
      ]
    },
    {
      "cell_type": "markdown",
      "metadata": {
        "id": "vmJp23FO6Wco"
      },
      "source": [
        "#### Dropping irrelevant variable\n"
      ]
    },
    {
      "cell_type": "markdown",
      "metadata": {
        "id": "SxPssKFk6Wco"
      },
      "source": [
        "    As we have seen, all markdown is highly correlated with each other, but We can not drop all markdowns.\n",
        "    Markdown5 is highly skewed so we can drop markdown5.\n",
        "    \n",
        "    "
      ]
    },
    {
      "cell_type": "code",
      "metadata": {
        "id": "lX5S-YkW6Wco",
        "outputId": "425ebf9e-2965-4890-cc06-0b3202da7c20",
        "colab": {
          "base_uri": "https://localhost:8080/"
        }
      },
      "source": [
        "# Make a list for variables which we can drop\n",
        "drop_features = ['MarkDown5']\n",
        "drop_features"
      ],
      "execution_count": 70,
      "outputs": [
        {
          "output_type": "execute_result",
          "data": {
            "text/plain": [
              "['MarkDown5']"
            ]
          },
          "metadata": {},
          "execution_count": 70
        }
      ]
    },
    {
      "cell_type": "code",
      "metadata": {
        "id": "OFq8hYUK6Wct"
      },
      "source": [
        "df = df.drop(drop_features, axis = 1)"
      ],
      "execution_count": 71,
      "outputs": []
    },
    {
      "cell_type": "code",
      "metadata": {
        "id": "GsTSdwGE6Wcv",
        "outputId": "0387c108-d3b7-43b0-e160-e629f9341b54",
        "colab": {
          "base_uri": "https://localhost:8080/"
        }
      },
      "source": [
        "df.shape"
      ],
      "execution_count": 72,
      "outputs": [
        {
          "output_type": "execute_result",
          "data": {
            "text/plain": [
              "(421570, 20)"
            ]
          },
          "metadata": {},
          "execution_count": 72
        }
      ]
    },
    {
      "cell_type": "markdown",
      "metadata": {
        "id": "Uzu95nfY6Wc1"
      },
      "source": [
        "   \n",
        "    After Selecting and dropping the variable, now we can proceed for building model for prediction.\n",
        "    We can try different technique for better accuracy as follows : \n",
        "        - Decision tree\n",
        "        - Ensemble Linear regressor\n",
        "        - Random Forest\n",
        "        - Boosting"
      ]
    },
    {
      "cell_type": "code",
      "metadata": {
        "id": "zd24t95i6Wc1",
        "outputId": "e99f26ed-d7c6-4b87-be9f-bb35288e8994",
        "colab": {
          "base_uri": "https://localhost:8080/"
        }
      },
      "source": [
        "# Splitting the data\n",
        "feature_columns = df.columns.difference(['Weekly_Sales', 'Date'])\n",
        "feature_columns"
      ],
      "execution_count": 73,
      "outputs": [
        {
          "output_type": "execute_result",
          "data": {
            "text/plain": [
              "Index(['A', 'B', 'C', 'CPI', 'Days to Next Christmas', 'Dept', 'Fuel_Price',\n",
              "       'IsHoliday', 'MarkDown1', 'MarkDown2', 'MarkDown3', 'MarkDown4', 'Size',\n",
              "       'Store', 'Temperature', 'Unemployment', 'day', 'year'],\n",
              "      dtype='object')"
            ]
          },
          "metadata": {},
          "execution_count": 73
        }
      ]
    },
    {
      "cell_type": "code",
      "metadata": {
        "scrolled": true,
        "id": "XTZkZrFT6Wc5",
        "outputId": "80170b2b-eb6b-44d5-86d0-8fc092cbef68",
        "colab": {
          "base_uri": "https://localhost:8080/"
        }
      },
      "source": [
        "feature_columns.shape"
      ],
      "execution_count": 74,
      "outputs": [
        {
          "output_type": "execute_result",
          "data": {
            "text/plain": [
              "(18,)"
            ]
          },
          "metadata": {},
          "execution_count": 74
        }
      ]
    },
    {
      "cell_type": "code",
      "metadata": {
        "id": "LHw7PCbj6WdA"
      },
      "source": [
        "# Import the required library\n",
        "from sklearn.model_selection import train_test_split"
      ],
      "execution_count": 75,
      "outputs": []
    },
    {
      "cell_type": "code",
      "metadata": {
        "id": "wKoQQRgd6WdG"
      },
      "source": [
        "#train-test split\n",
        "X_train,X_test,y_train,y_test = train_test_split( df[feature_columns], df['Weekly_Sales'], \n",
        "                                                     test_size = 0.20, random_state = 0)"
      ],
      "execution_count": 76,
      "outputs": []
    },
    {
      "cell_type": "code",
      "metadata": {
        "id": "y9a7eLFI6WdL",
        "outputId": "4d9894c7-3b97-444f-f4e9-de19d6357e08",
        "colab": {
          "base_uri": "https://localhost:8080/"
        }
      },
      "source": [
        "X_train.shape, X_test.shape, y_train.shape, y_test.shape"
      ],
      "execution_count": 77,
      "outputs": [
        {
          "output_type": "execute_result",
          "data": {
            "text/plain": [
              "((337256, 18), (84314, 18), (337256,), (84314,))"
            ]
          },
          "metadata": {},
          "execution_count": 77
        }
      ]
    },
    {
      "cell_type": "code",
      "metadata": {
        "id": "6jTYC8BO6Wde",
        "outputId": "606bb59e-e044-4b21-ce15-c037403f3288",
        "colab": {
          "base_uri": "https://localhost:8080/"
        }
      },
      "source": [
        "X_train.columns"
      ],
      "execution_count": 78,
      "outputs": [
        {
          "output_type": "execute_result",
          "data": {
            "text/plain": [
              "Index(['A', 'B', 'C', 'CPI', 'Days to Next Christmas', 'Dept', 'Fuel_Price',\n",
              "       'IsHoliday', 'MarkDown1', 'MarkDown2', 'MarkDown3', 'MarkDown4', 'Size',\n",
              "       'Store', 'Temperature', 'Unemployment', 'day', 'year'],\n",
              "      dtype='object')"
            ]
          },
          "metadata": {},
          "execution_count": 78
        }
      ]
    },
    {
      "cell_type": "markdown",
      "metadata": {
        "id": "eQynQTVk6Wdh"
      },
      "source": [
        "Store\n",
        "- Temperature\n",
        "- Fuel_Price\n",
        "- CPI\n",
        "- Unemployment\n",
        "- Dept\n",
        "- Size\n",
        "- IsHoliday\n",
        "- MarkDown1 - 4\n",
        "- Year\n",
        "- Days\n",
        "- Days Next to Christmas\n",
        "- A , B, C"
      ]
    },
    {
      "cell_type": "markdown",
      "metadata": {
        "id": "nq-xzzBp6Wdh"
      },
      "source": [
        "## Standardizing train and test data :\n",
        "---"
      ]
    },
    {
      "cell_type": "code",
      "metadata": {
        "id": "cbvwWFqy6Wdj"
      },
      "source": [
        "from sklearn.preprocessing import StandardScaler\n",
        "sc_X = StandardScaler()\n",
        "X_train = sc_X.fit_transform(X_train)\n",
        "X_test = sc_X.transform(X_test)"
      ],
      "execution_count": 79,
      "outputs": []
    },
    {
      "cell_type": "code",
      "metadata": {
        "id": "kudtQ5_y6Wdl"
      },
      "source": [
        "# Standardize with the test file data\n",
        "df_test_sc = sc_X.fit_transform(df_test[feature_columns])"
      ],
      "execution_count": 80,
      "outputs": []
    },
    {
      "cell_type": "markdown",
      "metadata": {
        "id": "KJfRJmPR6Wdo"
      },
      "source": [
        "---\n",
        "## Linear Regression\n",
        "---"
      ]
    },
    {
      "cell_type": "code",
      "metadata": {
        "id": "1PJvvERg6Wdo"
      },
      "source": [
        "from sklearn.linear_model import LinearRegression\n",
        "\n",
        "# Checking errors\n",
        "from sklearn.metrics import mean_absolute_error\n",
        "from sklearn.metrics import mean_squared_error"
      ],
      "execution_count": 81,
      "outputs": []
    },
    {
      "cell_type": "code",
      "metadata": {
        "scrolled": true,
        "id": "ruKRn7206Wdr",
        "outputId": "91c88574-6fc3-4b12-8e21-ef9e1b13aceb",
        "colab": {
          "base_uri": "https://localhost:8080/"
        }
      },
      "source": [
        "# Initialize and fit the data into the model\n",
        "linreg = LinearRegression()\n",
        "linreg.fit(X_train, y_train)\n",
        "y_train_pred = linreg.predict( X_train )\n",
        "y_train_pred"
      ],
      "execution_count": 82,
      "outputs": [
        {
          "output_type": "execute_result",
          "data": {
            "text/plain": [
              "array([ 5482.94428207, 19161.48022079,  3724.49708895, ...,\n",
              "       13143.3377261 , 16270.86250165, 17624.48103894])"
            ]
          },
          "metadata": {},
          "execution_count": 82
        }
      ]
    },
    {
      "cell_type": "code",
      "metadata": {
        "id": "idX3DepL6Wdu"
      },
      "source": [
        "# Predicting for test\n",
        "y_test_pred = linreg.predict( X_test )"
      ],
      "execution_count": 83,
      "outputs": []
    },
    {
      "cell_type": "code",
      "metadata": {
        "id": "yjOkvINx6Wdx",
        "outputId": "119580ed-5214-4cdc-bd0a-369f184bdc62",
        "colab": {
          "base_uri": "https://localhost:8080/",
          "height": 363
        }
      },
      "source": [
        "df_test_pred = pd.DataFrame({'actual' : y_test,\n",
        "                                'Predicted' : y_test_pred})\n",
        "df_test_pred.head(10)"
      ],
      "execution_count": 84,
      "outputs": [
        {
          "output_type": "execute_result",
          "data": {
            "text/html": [
              "\n",
              "  <div id=\"df-411e6218-c51a-4db9-8360-079e708d689f\">\n",
              "    <div class=\"colab-df-container\">\n",
              "      <div>\n",
              "<style scoped>\n",
              "    .dataframe tbody tr th:only-of-type {\n",
              "        vertical-align: middle;\n",
              "    }\n",
              "\n",
              "    .dataframe tbody tr th {\n",
              "        vertical-align: top;\n",
              "    }\n",
              "\n",
              "    .dataframe thead th {\n",
              "        text-align: right;\n",
              "    }\n",
              "</style>\n",
              "<table border=\"1\" class=\"dataframe\">\n",
              "  <thead>\n",
              "    <tr style=\"text-align: right;\">\n",
              "      <th></th>\n",
              "      <th>actual</th>\n",
              "      <th>Predicted</th>\n",
              "    </tr>\n",
              "  </thead>\n",
              "  <tbody>\n",
              "    <tr>\n",
              "      <th>272591</th>\n",
              "      <td>474.00</td>\n",
              "      <td>20963.888098</td>\n",
              "    </tr>\n",
              "    <tr>\n",
              "      <th>383110</th>\n",
              "      <td>6626.04</td>\n",
              "      <td>20272.390440</td>\n",
              "    </tr>\n",
              "    <tr>\n",
              "      <th>106585</th>\n",
              "      <td>6623.89</td>\n",
              "      <td>21429.779828</td>\n",
              "    </tr>\n",
              "    <tr>\n",
              "      <th>171586</th>\n",
              "      <td>3989.94</td>\n",
              "      <td>10799.847505</td>\n",
              "    </tr>\n",
              "    <tr>\n",
              "      <th>158059</th>\n",
              "      <td>7467.14</td>\n",
              "      <td>12862.236178</td>\n",
              "    </tr>\n",
              "    <tr>\n",
              "      <th>148978</th>\n",
              "      <td>5561.45</td>\n",
              "      <td>12715.143809</td>\n",
              "    </tr>\n",
              "    <tr>\n",
              "      <th>84400</th>\n",
              "      <td>5429.62</td>\n",
              "      <td>13856.067728</td>\n",
              "    </tr>\n",
              "    <tr>\n",
              "      <th>164348</th>\n",
              "      <td>2736.58</td>\n",
              "      <td>9194.897085</td>\n",
              "    </tr>\n",
              "    <tr>\n",
              "      <th>240829</th>\n",
              "      <td>1240.50</td>\n",
              "      <td>11782.958209</td>\n",
              "    </tr>\n",
              "    <tr>\n",
              "      <th>403113</th>\n",
              "      <td>8602.46</td>\n",
              "      <td>12048.879652</td>\n",
              "    </tr>\n",
              "  </tbody>\n",
              "</table>\n",
              "</div>\n",
              "      <button class=\"colab-df-convert\" onclick=\"convertToInteractive('df-411e6218-c51a-4db9-8360-079e708d689f')\"\n",
              "              title=\"Convert this dataframe to an interactive table.\"\n",
              "              style=\"display:none;\">\n",
              "        \n",
              "  <svg xmlns=\"http://www.w3.org/2000/svg\" height=\"24px\"viewBox=\"0 0 24 24\"\n",
              "       width=\"24px\">\n",
              "    <path d=\"M0 0h24v24H0V0z\" fill=\"none\"/>\n",
              "    <path d=\"M18.56 5.44l.94 2.06.94-2.06 2.06-.94-2.06-.94-.94-2.06-.94 2.06-2.06.94zm-11 1L8.5 8.5l.94-2.06 2.06-.94-2.06-.94L8.5 2.5l-.94 2.06-2.06.94zm10 10l.94 2.06.94-2.06 2.06-.94-2.06-.94-.94-2.06-.94 2.06-2.06.94z\"/><path d=\"M17.41 7.96l-1.37-1.37c-.4-.4-.92-.59-1.43-.59-.52 0-1.04.2-1.43.59L10.3 9.45l-7.72 7.72c-.78.78-.78 2.05 0 2.83L4 21.41c.39.39.9.59 1.41.59.51 0 1.02-.2 1.41-.59l7.78-7.78 2.81-2.81c.8-.78.8-2.07 0-2.86zM5.41 20L4 18.59l7.72-7.72 1.47 1.35L5.41 20z\"/>\n",
              "  </svg>\n",
              "      </button>\n",
              "      \n",
              "  <style>\n",
              "    .colab-df-container {\n",
              "      display:flex;\n",
              "      flex-wrap:wrap;\n",
              "      gap: 12px;\n",
              "    }\n",
              "\n",
              "    .colab-df-convert {\n",
              "      background-color: #E8F0FE;\n",
              "      border: none;\n",
              "      border-radius: 50%;\n",
              "      cursor: pointer;\n",
              "      display: none;\n",
              "      fill: #1967D2;\n",
              "      height: 32px;\n",
              "      padding: 0 0 0 0;\n",
              "      width: 32px;\n",
              "    }\n",
              "\n",
              "    .colab-df-convert:hover {\n",
              "      background-color: #E2EBFA;\n",
              "      box-shadow: 0px 1px 2px rgba(60, 64, 67, 0.3), 0px 1px 3px 1px rgba(60, 64, 67, 0.15);\n",
              "      fill: #174EA6;\n",
              "    }\n",
              "\n",
              "    [theme=dark] .colab-df-convert {\n",
              "      background-color: #3B4455;\n",
              "      fill: #D2E3FC;\n",
              "    }\n",
              "\n",
              "    [theme=dark] .colab-df-convert:hover {\n",
              "      background-color: #434B5C;\n",
              "      box-shadow: 0px 1px 3px 1px rgba(0, 0, 0, 0.15);\n",
              "      filter: drop-shadow(0px 1px 2px rgba(0, 0, 0, 0.3));\n",
              "      fill: #FFFFFF;\n",
              "    }\n",
              "  </style>\n",
              "\n",
              "      <script>\n",
              "        const buttonEl =\n",
              "          document.querySelector('#df-411e6218-c51a-4db9-8360-079e708d689f button.colab-df-convert');\n",
              "        buttonEl.style.display =\n",
              "          google.colab.kernel.accessAllowed ? 'block' : 'none';\n",
              "\n",
              "        async function convertToInteractive(key) {\n",
              "          const element = document.querySelector('#df-411e6218-c51a-4db9-8360-079e708d689f');\n",
              "          const dataTable =\n",
              "            await google.colab.kernel.invokeFunction('convertToInteractive',\n",
              "                                                     [key], {});\n",
              "          if (!dataTable) return;\n",
              "\n",
              "          const docLinkHtml = 'Like what you see? Visit the ' +\n",
              "            '<a target=\"_blank\" href=https://colab.research.google.com/notebooks/data_table.ipynb>data table notebook</a>'\n",
              "            + ' to learn more about interactive tables.';\n",
              "          element.innerHTML = '';\n",
              "          dataTable['output_type'] = 'display_data';\n",
              "          await google.colab.output.renderOutput(dataTable, element);\n",
              "          const docLink = document.createElement('div');\n",
              "          docLink.innerHTML = docLinkHtml;\n",
              "          element.appendChild(docLink);\n",
              "        }\n",
              "      </script>\n",
              "    </div>\n",
              "  </div>\n",
              "  "
            ],
            "text/plain": [
              "         actual     Predicted\n",
              "272591   474.00  20963.888098\n",
              "383110  6626.04  20272.390440\n",
              "106585  6623.89  21429.779828\n",
              "171586  3989.94  10799.847505\n",
              "158059  7467.14  12862.236178\n",
              "148978  5561.45  12715.143809\n",
              "84400   5429.62  13856.067728\n",
              "164348  2736.58   9194.897085\n",
              "240829  1240.50  11782.958209\n",
              "403113  8602.46  12048.879652"
            ]
          },
          "metadata": {},
          "execution_count": 84
        }
      ]
    },
    {
      "cell_type": "code",
      "metadata": {
        "id": "jDF3kv3x6Wd7",
        "outputId": "9b9703b1-051c-40e4-feb7-f44705bd0828",
        "colab": {
          "base_uri": "https://localhost:8080/"
        }
      },
      "source": [
        "# Calculating Mean Absoluate Error\n",
        "print('Train MAE : ', mean_absolute_error(y_train, y_train_pred).round(2))\n",
        "print('Test MAE  : ', mean_absolute_error(y_test, y_test_pred).round(2))\n"
      ],
      "execution_count": 85,
      "outputs": [
        {
          "output_type": "stream",
          "name": "stdout",
          "text": [
            "Train MAE :  14569.41\n",
            "Test MAE  :  14567.05\n"
          ]
        }
      ]
    },
    {
      "cell_type": "code",
      "metadata": {
        "id": "LDa8KgeO6Wd9",
        "outputId": "f788920e-7d99-4773-8aae-75a931b42ca1",
        "colab": {
          "base_uri": "https://localhost:8080/"
        }
      },
      "source": [
        "# Calculate Root Mean Squared Error\n",
        "print('Train RMSE : ', np.sqrt(mean_squared_error(y_train, y_train_pred)).round(2))\n",
        "print('Test  RMSE : ', np.sqrt(mean_squared_error(y_test, y_test_pred)).round(2))"
      ],
      "execution_count": 86,
      "outputs": [
        {
          "output_type": "stream",
          "name": "stdout",
          "text": [
            "Train RMSE :  21644.99\n",
            "Test  RMSE :  21762.25\n"
          ]
        }
      ]
    },
    {
      "cell_type": "markdown",
      "metadata": {
        "id": "VRXIxptW6Wd_"
      },
      "source": [
        "    We have seen that both the accuracy measure not having the much difference between them."
      ]
    },
    {
      "cell_type": "code",
      "metadata": {
        "id": "YhAua_bL6WeA",
        "outputId": "5bf6c5f9-518d-4827-a695-8519423f3eb6",
        "colab": {
          "base_uri": "https://localhost:8080/"
        }
      },
      "source": [
        "accuracy = np.round(linreg.score( X_test, y_test) * 100, 3)\n",
        "print('Linear Regression Accuracy : ', accuracy )"
      ],
      "execution_count": 87,
      "outputs": [
        {
          "output_type": "stream",
          "name": "stdout",
          "text": [
            "Linear Regression Accuracy :  8.939\n"
          ]
        }
      ]
    },
    {
      "cell_type": "markdown",
      "metadata": {
        "id": "8dhEZqtS6WeE"
      },
      "source": [
        "    We have got the accuracy of 89% with the test data."
      ]
    },
    {
      "cell_type": "code",
      "metadata": {
        "id": "VHr7mNc46WeE",
        "outputId": "87b460c8-234b-4e0e-cd32-fa3fd5cb43db",
        "colab": {
          "base_uri": "https://localhost:8080/"
        }
      },
      "source": [
        "# Prediction with the testfile that we prepared \n",
        "linreg.predict(df_test_sc)"
      ],
      "execution_count": 88,
      "outputs": [
        {
          "output_type": "execute_result",
          "data": {
            "text/plain": [
              "array([2.89371774e+12, 2.89371774e+12, 2.89371774e+12, ...,\n",
              "       5.06319452e+12, 5.06319452e+12, 5.06319452e+12])"
            ]
          },
          "metadata": {},
          "execution_count": 88
        }
      ]
    },
    {
      "cell_type": "markdown",
      "metadata": {
        "id": "mtuqODgK6WeH"
      },
      "source": [
        "---\n",
        "## Decision Tree Regressor\n",
        "---"
      ]
    },
    {
      "cell_type": "code",
      "metadata": {
        "id": "nQjCIIXR6WeH"
      },
      "source": [
        "# Import  the Tree Library\n",
        "from sklearn.tree import DecisionTreeRegressor\n",
        "from sklearn.model_selection import GridSearchCV"
      ],
      "execution_count": 89,
      "outputs": []
    },
    {
      "cell_type": "code",
      "metadata": {
        "id": "2GafaG5z6WeK",
        "outputId": "d6f2bee6-0713-4da2-da32-ce13127d57e1",
        "colab": {
          "base_uri": "https://localhost:8080/"
        }
      },
      "source": [
        "# Initialize the Model object and fit the data\n",
        "dtr = DecisionTreeRegressor(random_state = 453)\n",
        "# dtr.fit(train_X, train_Y)\n",
        "dtr"
      ],
      "execution_count": 90,
      "outputs": [
        {
          "output_type": "execute_result",
          "data": {
            "text/plain": [
              "DecisionTreeRegressor(random_state=453)"
            ]
          },
          "metadata": {},
          "execution_count": 90
        }
      ]
    },
    {
      "cell_type": "markdown",
      "metadata": {
        "id": "wpXT03mt6WeM"
      },
      "source": [
        "### Tuning the parameter "
      ]
    },
    {
      "cell_type": "code",
      "metadata": {
        "id": "EEOahYUA6WeM"
      },
      "source": [
        "param_grid = { 'max_features' : np.arange(10,18),\n",
        "                'max_depth' : np.arange(2,12)}"
      ],
      "execution_count": 91,
      "outputs": []
    },
    {
      "cell_type": "code",
      "metadata": {
        "id": "8ohcZEqk6WeP",
        "outputId": "b719667a-67e9-4b5b-828a-0129ae6ef4b6",
        "colab": {
          "base_uri": "https://localhost:8080/"
        }
      },
      "source": [
        "# Finding the best parameter for decision tree\n",
        "tree = GridSearchCV(estimator = DecisionTreeRegressor(), param_grid = param_grid, cv = 5, verbose = 1, n_jobs = -1)\n",
        "tree.fit(X_train, y_train)"
      ],
      "execution_count": 92,
      "outputs": [
        {
          "output_type": "stream",
          "name": "stdout",
          "text": [
            "Fitting 5 folds for each of 80 candidates, totalling 400 fits\n"
          ]
        },
        {
          "output_type": "execute_result",
          "data": {
            "text/plain": [
              "GridSearchCV(cv=5, estimator=DecisionTreeRegressor(), n_jobs=-1,\n",
              "             param_grid={'max_depth': array([ 2,  3,  4,  5,  6,  7,  8,  9, 10, 11]),\n",
              "                         'max_features': array([10, 11, 12, 13, 14, 15, 16, 17])},\n",
              "             verbose=1)"
            ]
          },
          "metadata": {},
          "execution_count": 92
        }
      ]
    },
    {
      "cell_type": "code",
      "metadata": {
        "id": "D3B2bbFu6WeS",
        "outputId": "71867e96-424e-442c-f07f-71c70d001456",
        "colab": {
          "base_uri": "https://localhost:8080/"
        }
      },
      "source": [
        "print('Best Score      : ', tree.best_score_)\n",
        "print('Best parameters : ', tree.best_params_)\n",
        "print('Best Estimators : ', tree.best_estimator_)"
      ],
      "execution_count": 93,
      "outputs": [
        {
          "output_type": "stream",
          "name": "stdout",
          "text": [
            "Best Score      :  0.8958736531484981\n",
            "Best parameters :  {'max_depth': 11, 'max_features': 17}\n",
            "Best Estimators :  DecisionTreeRegressor(max_depth=11, max_features=17)\n"
          ]
        }
      ]
    },
    {
      "cell_type": "code",
      "metadata": {
        "id": "VHK__GTs6WeV",
        "outputId": "9a7882f1-d941-40e5-da3c-e8127354415e",
        "colab": {
          "base_uri": "https://localhost:8080/"
        }
      },
      "source": [
        "# Again build a model with fine tuned parameters\n",
        "final_tree = DecisionTreeRegressor(max_depth = 11, max_features = 17)\n",
        "\n",
        "# Fit the model \n",
        "final_tree.fit(X_train, y_train)"
      ],
      "execution_count": 94,
      "outputs": [
        {
          "output_type": "execute_result",
          "data": {
            "text/plain": [
              "DecisionTreeRegressor(max_depth=11, max_features=17)"
            ]
          },
          "metadata": {},
          "execution_count": 94
        }
      ]
    },
    {
      "cell_type": "code",
      "metadata": {
        "id": "f7enF4yx6Wea",
        "outputId": "6905815b-ef04-4830-da18-76ede98e4dbc",
        "colab": {
          "base_uri": "https://localhost:8080/"
        }
      },
      "source": [
        "dt_train_pred = final_tree.predict(X_train)\n",
        "dt_train_pred"
      ],
      "execution_count": 95,
      "outputs": [
        {
          "output_type": "execute_result",
          "data": {
            "text/plain": [
              "array([ 9729.77414634,  2107.67653154, 13336.20133896, ...,\n",
              "       18286.91466362,  2131.14920374, 59952.349125  ])"
            ]
          },
          "metadata": {},
          "execution_count": 95
        }
      ]
    },
    {
      "cell_type": "markdown",
      "metadata": {
        "id": "s1TsRwqc6Wed"
      },
      "source": [
        "### Feature Importance "
      ]
    },
    {
      "cell_type": "code",
      "metadata": {
        "id": "TkqDDBcf6Wed",
        "outputId": "14f78c17-981b-41cc-91e9-53bdf3d72e45",
        "colab": {
          "base_uri": "https://localhost:8080/",
          "height": 614
        }
      },
      "source": [
        "pd.DataFrame({'Features' : feature_columns, \n",
        "              'Importance ' : final_tree.feature_importances_})\n",
        "# df[feature_columns].shape"
      ],
      "execution_count": 96,
      "outputs": [
        {
          "output_type": "execute_result",
          "data": {
            "text/html": [
              "\n",
              "  <div id=\"df-7dfe9458-1fa3-4d40-b522-f004b13acea1\">\n",
              "    <div class=\"colab-df-container\">\n",
              "      <div>\n",
              "<style scoped>\n",
              "    .dataframe tbody tr th:only-of-type {\n",
              "        vertical-align: middle;\n",
              "    }\n",
              "\n",
              "    .dataframe tbody tr th {\n",
              "        vertical-align: top;\n",
              "    }\n",
              "\n",
              "    .dataframe thead th {\n",
              "        text-align: right;\n",
              "    }\n",
              "</style>\n",
              "<table border=\"1\" class=\"dataframe\">\n",
              "  <thead>\n",
              "    <tr style=\"text-align: right;\">\n",
              "      <th></th>\n",
              "      <th>Features</th>\n",
              "      <th>Importance</th>\n",
              "    </tr>\n",
              "  </thead>\n",
              "  <tbody>\n",
              "    <tr>\n",
              "      <th>0</th>\n",
              "      <td>A</td>\n",
              "      <td>0.002874</td>\n",
              "    </tr>\n",
              "    <tr>\n",
              "      <th>1</th>\n",
              "      <td>B</td>\n",
              "      <td>0.010745</td>\n",
              "    </tr>\n",
              "    <tr>\n",
              "      <th>2</th>\n",
              "      <td>C</td>\n",
              "      <td>0.000387</td>\n",
              "    </tr>\n",
              "    <tr>\n",
              "      <th>3</th>\n",
              "      <td>CPI</td>\n",
              "      <td>0.016953</td>\n",
              "    </tr>\n",
              "    <tr>\n",
              "      <th>4</th>\n",
              "      <td>Days to Next Christmas</td>\n",
              "      <td>0.033114</td>\n",
              "    </tr>\n",
              "    <tr>\n",
              "      <th>5</th>\n",
              "      <td>Dept</td>\n",
              "      <td>0.691957</td>\n",
              "    </tr>\n",
              "    <tr>\n",
              "      <th>6</th>\n",
              "      <td>Fuel_Price</td>\n",
              "      <td>0.001131</td>\n",
              "    </tr>\n",
              "    <tr>\n",
              "      <th>7</th>\n",
              "      <td>IsHoliday</td>\n",
              "      <td>0.000148</td>\n",
              "    </tr>\n",
              "    <tr>\n",
              "      <th>8</th>\n",
              "      <td>MarkDown1</td>\n",
              "      <td>0.000146</td>\n",
              "    </tr>\n",
              "    <tr>\n",
              "      <th>9</th>\n",
              "      <td>MarkDown2</td>\n",
              "      <td>0.000023</td>\n",
              "    </tr>\n",
              "    <tr>\n",
              "      <th>10</th>\n",
              "      <td>MarkDown3</td>\n",
              "      <td>0.000074</td>\n",
              "    </tr>\n",
              "    <tr>\n",
              "      <th>11</th>\n",
              "      <td>MarkDown4</td>\n",
              "      <td>0.000055</td>\n",
              "    </tr>\n",
              "    <tr>\n",
              "      <th>12</th>\n",
              "      <td>Size</td>\n",
              "      <td>0.182667</td>\n",
              "    </tr>\n",
              "    <tr>\n",
              "      <th>13</th>\n",
              "      <td>Store</td>\n",
              "      <td>0.049451</td>\n",
              "    </tr>\n",
              "    <tr>\n",
              "      <th>14</th>\n",
              "      <td>Temperature</td>\n",
              "      <td>0.002679</td>\n",
              "    </tr>\n",
              "    <tr>\n",
              "      <th>15</th>\n",
              "      <td>Unemployment</td>\n",
              "      <td>0.005422</td>\n",
              "    </tr>\n",
              "    <tr>\n",
              "      <th>16</th>\n",
              "      <td>day</td>\n",
              "      <td>0.002130</td>\n",
              "    </tr>\n",
              "    <tr>\n",
              "      <th>17</th>\n",
              "      <td>year</td>\n",
              "      <td>0.000045</td>\n",
              "    </tr>\n",
              "  </tbody>\n",
              "</table>\n",
              "</div>\n",
              "      <button class=\"colab-df-convert\" onclick=\"convertToInteractive('df-7dfe9458-1fa3-4d40-b522-f004b13acea1')\"\n",
              "              title=\"Convert this dataframe to an interactive table.\"\n",
              "              style=\"display:none;\">\n",
              "        \n",
              "  <svg xmlns=\"http://www.w3.org/2000/svg\" height=\"24px\"viewBox=\"0 0 24 24\"\n",
              "       width=\"24px\">\n",
              "    <path d=\"M0 0h24v24H0V0z\" fill=\"none\"/>\n",
              "    <path d=\"M18.56 5.44l.94 2.06.94-2.06 2.06-.94-2.06-.94-.94-2.06-.94 2.06-2.06.94zm-11 1L8.5 8.5l.94-2.06 2.06-.94-2.06-.94L8.5 2.5l-.94 2.06-2.06.94zm10 10l.94 2.06.94-2.06 2.06-.94-2.06-.94-.94-2.06-.94 2.06-2.06.94z\"/><path d=\"M17.41 7.96l-1.37-1.37c-.4-.4-.92-.59-1.43-.59-.52 0-1.04.2-1.43.59L10.3 9.45l-7.72 7.72c-.78.78-.78 2.05 0 2.83L4 21.41c.39.39.9.59 1.41.59.51 0 1.02-.2 1.41-.59l7.78-7.78 2.81-2.81c.8-.78.8-2.07 0-2.86zM5.41 20L4 18.59l7.72-7.72 1.47 1.35L5.41 20z\"/>\n",
              "  </svg>\n",
              "      </button>\n",
              "      \n",
              "  <style>\n",
              "    .colab-df-container {\n",
              "      display:flex;\n",
              "      flex-wrap:wrap;\n",
              "      gap: 12px;\n",
              "    }\n",
              "\n",
              "    .colab-df-convert {\n",
              "      background-color: #E8F0FE;\n",
              "      border: none;\n",
              "      border-radius: 50%;\n",
              "      cursor: pointer;\n",
              "      display: none;\n",
              "      fill: #1967D2;\n",
              "      height: 32px;\n",
              "      padding: 0 0 0 0;\n",
              "      width: 32px;\n",
              "    }\n",
              "\n",
              "    .colab-df-convert:hover {\n",
              "      background-color: #E2EBFA;\n",
              "      box-shadow: 0px 1px 2px rgba(60, 64, 67, 0.3), 0px 1px 3px 1px rgba(60, 64, 67, 0.15);\n",
              "      fill: #174EA6;\n",
              "    }\n",
              "\n",
              "    [theme=dark] .colab-df-convert {\n",
              "      background-color: #3B4455;\n",
              "      fill: #D2E3FC;\n",
              "    }\n",
              "\n",
              "    [theme=dark] .colab-df-convert:hover {\n",
              "      background-color: #434B5C;\n",
              "      box-shadow: 0px 1px 3px 1px rgba(0, 0, 0, 0.15);\n",
              "      filter: drop-shadow(0px 1px 2px rgba(0, 0, 0, 0.3));\n",
              "      fill: #FFFFFF;\n",
              "    }\n",
              "  </style>\n",
              "\n",
              "      <script>\n",
              "        const buttonEl =\n",
              "          document.querySelector('#df-7dfe9458-1fa3-4d40-b522-f004b13acea1 button.colab-df-convert');\n",
              "        buttonEl.style.display =\n",
              "          google.colab.kernel.accessAllowed ? 'block' : 'none';\n",
              "\n",
              "        async function convertToInteractive(key) {\n",
              "          const element = document.querySelector('#df-7dfe9458-1fa3-4d40-b522-f004b13acea1');\n",
              "          const dataTable =\n",
              "            await google.colab.kernel.invokeFunction('convertToInteractive',\n",
              "                                                     [key], {});\n",
              "          if (!dataTable) return;\n",
              "\n",
              "          const docLinkHtml = 'Like what you see? Visit the ' +\n",
              "            '<a target=\"_blank\" href=https://colab.research.google.com/notebooks/data_table.ipynb>data table notebook</a>'\n",
              "            + ' to learn more about interactive tables.';\n",
              "          element.innerHTML = '';\n",
              "          dataTable['output_type'] = 'display_data';\n",
              "          await google.colab.output.renderOutput(dataTable, element);\n",
              "          const docLink = document.createElement('div');\n",
              "          docLink.innerHTML = docLinkHtml;\n",
              "          element.appendChild(docLink);\n",
              "        }\n",
              "      </script>\n",
              "    </div>\n",
              "  </div>\n",
              "  "
            ],
            "text/plain": [
              "                  Features  Importance \n",
              "0                        A     0.002874\n",
              "1                        B     0.010745\n",
              "2                        C     0.000387\n",
              "3                      CPI     0.016953\n",
              "4   Days to Next Christmas     0.033114\n",
              "5                     Dept     0.691957\n",
              "6               Fuel_Price     0.001131\n",
              "7                IsHoliday     0.000148\n",
              "8                MarkDown1     0.000146\n",
              "9                MarkDown2     0.000023\n",
              "10               MarkDown3     0.000074\n",
              "11               MarkDown4     0.000055\n",
              "12                    Size     0.182667\n",
              "13                   Store     0.049451\n",
              "14             Temperature     0.002679\n",
              "15            Unemployment     0.005422\n",
              "16                     day     0.002130\n",
              "17                    year     0.000045"
            ]
          },
          "metadata": {},
          "execution_count": 96
        }
      ]
    },
    {
      "cell_type": "code",
      "metadata": {
        "id": "wpshRxF16Weg",
        "outputId": "bc33115f-3729-49cd-8737-b779059723be",
        "colab": {
          "base_uri": "https://localhost:8080/"
        }
      },
      "source": [
        "y_pred_dtr = final_tree.predict( X_test )\n",
        "y_pred_dtr"
      ],
      "execution_count": 97,
      "outputs": [
        {
          "output_type": "execute_result",
          "data": {
            "text/plain": [
              "array([ 1773.99252238, 10075.20694453,  7790.06162479, ...,\n",
              "        1178.6504057 ,   280.87244989,  3157.37768014])"
            ]
          },
          "metadata": {},
          "execution_count": 97
        }
      ]
    },
    {
      "cell_type": "code",
      "metadata": {
        "id": "Ma1xkbAW6Wei",
        "outputId": "0b404a5a-769f-4985-f22e-d5ce8e9e948e",
        "colab": {
          "base_uri": "https://localhost:8080/",
          "height": 424
        }
      },
      "source": [
        "pd.DataFrame({'actual' : y_test,\n",
        "                 'Predicted' : y_pred_dtr})"
      ],
      "execution_count": 98,
      "outputs": [
        {
          "output_type": "execute_result",
          "data": {
            "text/html": [
              "\n",
              "  <div id=\"df-52c19603-6791-4be6-af12-92c836635db0\">\n",
              "    <div class=\"colab-df-container\">\n",
              "      <div>\n",
              "<style scoped>\n",
              "    .dataframe tbody tr th:only-of-type {\n",
              "        vertical-align: middle;\n",
              "    }\n",
              "\n",
              "    .dataframe tbody tr th {\n",
              "        vertical-align: top;\n",
              "    }\n",
              "\n",
              "    .dataframe thead th {\n",
              "        text-align: right;\n",
              "    }\n",
              "</style>\n",
              "<table border=\"1\" class=\"dataframe\">\n",
              "  <thead>\n",
              "    <tr style=\"text-align: right;\">\n",
              "      <th></th>\n",
              "      <th>actual</th>\n",
              "      <th>Predicted</th>\n",
              "    </tr>\n",
              "  </thead>\n",
              "  <tbody>\n",
              "    <tr>\n",
              "      <th>272591</th>\n",
              "      <td>474.00</td>\n",
              "      <td>1773.992522</td>\n",
              "    </tr>\n",
              "    <tr>\n",
              "      <th>383110</th>\n",
              "      <td>6626.04</td>\n",
              "      <td>10075.206945</td>\n",
              "    </tr>\n",
              "    <tr>\n",
              "      <th>106585</th>\n",
              "      <td>6623.89</td>\n",
              "      <td>7790.061625</td>\n",
              "    </tr>\n",
              "    <tr>\n",
              "      <th>171586</th>\n",
              "      <td>3989.94</td>\n",
              "      <td>4079.944968</td>\n",
              "    </tr>\n",
              "    <tr>\n",
              "      <th>158059</th>\n",
              "      <td>7467.14</td>\n",
              "      <td>3157.827933</td>\n",
              "    </tr>\n",
              "    <tr>\n",
              "      <th>...</th>\n",
              "      <td>...</td>\n",
              "      <td>...</td>\n",
              "    </tr>\n",
              "    <tr>\n",
              "      <th>226198</th>\n",
              "      <td>13576.54</td>\n",
              "      <td>4642.630379</td>\n",
              "    </tr>\n",
              "    <tr>\n",
              "      <th>206439</th>\n",
              "      <td>153.00</td>\n",
              "      <td>322.447467</td>\n",
              "    </tr>\n",
              "    <tr>\n",
              "      <th>411700</th>\n",
              "      <td>1029.61</td>\n",
              "      <td>1178.650406</td>\n",
              "    </tr>\n",
              "    <tr>\n",
              "      <th>399924</th>\n",
              "      <td>488.68</td>\n",
              "      <td>280.872450</td>\n",
              "    </tr>\n",
              "    <tr>\n",
              "      <th>204987</th>\n",
              "      <td>3139.93</td>\n",
              "      <td>3157.377680</td>\n",
              "    </tr>\n",
              "  </tbody>\n",
              "</table>\n",
              "<p>84314 rows × 2 columns</p>\n",
              "</div>\n",
              "      <button class=\"colab-df-convert\" onclick=\"convertToInteractive('df-52c19603-6791-4be6-af12-92c836635db0')\"\n",
              "              title=\"Convert this dataframe to an interactive table.\"\n",
              "              style=\"display:none;\">\n",
              "        \n",
              "  <svg xmlns=\"http://www.w3.org/2000/svg\" height=\"24px\"viewBox=\"0 0 24 24\"\n",
              "       width=\"24px\">\n",
              "    <path d=\"M0 0h24v24H0V0z\" fill=\"none\"/>\n",
              "    <path d=\"M18.56 5.44l.94 2.06.94-2.06 2.06-.94-2.06-.94-.94-2.06-.94 2.06-2.06.94zm-11 1L8.5 8.5l.94-2.06 2.06-.94-2.06-.94L8.5 2.5l-.94 2.06-2.06.94zm10 10l.94 2.06.94-2.06 2.06-.94-2.06-.94-.94-2.06-.94 2.06-2.06.94z\"/><path d=\"M17.41 7.96l-1.37-1.37c-.4-.4-.92-.59-1.43-.59-.52 0-1.04.2-1.43.59L10.3 9.45l-7.72 7.72c-.78.78-.78 2.05 0 2.83L4 21.41c.39.39.9.59 1.41.59.51 0 1.02-.2 1.41-.59l7.78-7.78 2.81-2.81c.8-.78.8-2.07 0-2.86zM5.41 20L4 18.59l7.72-7.72 1.47 1.35L5.41 20z\"/>\n",
              "  </svg>\n",
              "      </button>\n",
              "      \n",
              "  <style>\n",
              "    .colab-df-container {\n",
              "      display:flex;\n",
              "      flex-wrap:wrap;\n",
              "      gap: 12px;\n",
              "    }\n",
              "\n",
              "    .colab-df-convert {\n",
              "      background-color: #E8F0FE;\n",
              "      border: none;\n",
              "      border-radius: 50%;\n",
              "      cursor: pointer;\n",
              "      display: none;\n",
              "      fill: #1967D2;\n",
              "      height: 32px;\n",
              "      padding: 0 0 0 0;\n",
              "      width: 32px;\n",
              "    }\n",
              "\n",
              "    .colab-df-convert:hover {\n",
              "      background-color: #E2EBFA;\n",
              "      box-shadow: 0px 1px 2px rgba(60, 64, 67, 0.3), 0px 1px 3px 1px rgba(60, 64, 67, 0.15);\n",
              "      fill: #174EA6;\n",
              "    }\n",
              "\n",
              "    [theme=dark] .colab-df-convert {\n",
              "      background-color: #3B4455;\n",
              "      fill: #D2E3FC;\n",
              "    }\n",
              "\n",
              "    [theme=dark] .colab-df-convert:hover {\n",
              "      background-color: #434B5C;\n",
              "      box-shadow: 0px 1px 3px 1px rgba(0, 0, 0, 0.15);\n",
              "      filter: drop-shadow(0px 1px 2px rgba(0, 0, 0, 0.3));\n",
              "      fill: #FFFFFF;\n",
              "    }\n",
              "  </style>\n",
              "\n",
              "      <script>\n",
              "        const buttonEl =\n",
              "          document.querySelector('#df-52c19603-6791-4be6-af12-92c836635db0 button.colab-df-convert');\n",
              "        buttonEl.style.display =\n",
              "          google.colab.kernel.accessAllowed ? 'block' : 'none';\n",
              "\n",
              "        async function convertToInteractive(key) {\n",
              "          const element = document.querySelector('#df-52c19603-6791-4be6-af12-92c836635db0');\n",
              "          const dataTable =\n",
              "            await google.colab.kernel.invokeFunction('convertToInteractive',\n",
              "                                                     [key], {});\n",
              "          if (!dataTable) return;\n",
              "\n",
              "          const docLinkHtml = 'Like what you see? Visit the ' +\n",
              "            '<a target=\"_blank\" href=https://colab.research.google.com/notebooks/data_table.ipynb>data table notebook</a>'\n",
              "            + ' to learn more about interactive tables.';\n",
              "          element.innerHTML = '';\n",
              "          dataTable['output_type'] = 'display_data';\n",
              "          await google.colab.output.renderOutput(dataTable, element);\n",
              "          const docLink = document.createElement('div');\n",
              "          docLink.innerHTML = docLinkHtml;\n",
              "          element.appendChild(docLink);\n",
              "        }\n",
              "      </script>\n",
              "    </div>\n",
              "  </div>\n",
              "  "
            ],
            "text/plain": [
              "          actual     Predicted\n",
              "272591    474.00   1773.992522\n",
              "383110   6626.04  10075.206945\n",
              "106585   6623.89   7790.061625\n",
              "171586   3989.94   4079.944968\n",
              "158059   7467.14   3157.827933\n",
              "...          ...           ...\n",
              "226198  13576.54   4642.630379\n",
              "206439    153.00    322.447467\n",
              "411700   1029.61   1178.650406\n",
              "399924    488.68    280.872450\n",
              "204987   3139.93   3157.377680\n",
              "\n",
              "[84314 rows x 2 columns]"
            ]
          },
          "metadata": {},
          "execution_count": 98
        }
      ]
    },
    {
      "cell_type": "markdown",
      "metadata": {
        "id": "4iL1fGLK6Wel"
      },
      "source": [
        "---\n",
        "### Calculating Error for DT\n",
        "---"
      ]
    },
    {
      "cell_type": "code",
      "metadata": {
        "id": "zfQRnUHU6Wel",
        "outputId": "12792ef6-1e20-4b6a-97ba-d2dddd93e82b",
        "colab": {
          "base_uri": "https://localhost:8080/"
        }
      },
      "source": [
        "# Mean Absolute Errors\n",
        "print('Train DT MAE : ', mean_absolute_error(y_train, dt_train_pred).round(2))\n",
        "print('Test  DT MAE : ', mean_absolute_error(y_test, y_pred_dtr).round(2))"
      ],
      "execution_count": 99,
      "outputs": [
        {
          "output_type": "stream",
          "name": "stdout",
          "text": [
            "Train DT MAE :  3589.46\n",
            "Test  DT MAE :  3654.68\n"
          ]
        }
      ]
    },
    {
      "cell_type": "code",
      "metadata": {
        "id": "1IDprUGL6Weo",
        "outputId": "84d45a04-5f55-4b15-e858-b1dae7aef7d9",
        "colab": {
          "base_uri": "https://localhost:8080/"
        }
      },
      "source": [
        "# Root Mean Squared Error\n",
        "print('Train DT RMSE : ', np.sqrt(mean_squared_error(y_train, dt_train_pred)).round(2))\n",
        "print('Test  DT RMSE : ', np.sqrt(mean_squared_error(y_test, y_pred_dtr)).round(2))"
      ],
      "execution_count": 100,
      "outputs": [
        {
          "output_type": "stream",
          "name": "stdout",
          "text": [
            "Train DT RMSE :  6787.06\n",
            "Test  DT RMSE :  7140.99\n"
          ]
        }
      ]
    },
    {
      "cell_type": "code",
      "metadata": {
        "id": "8IOrNHtH6Wev",
        "outputId": "bef63484-26ef-4227-9c1b-b9c06087e620",
        "colab": {
          "base_uri": "https://localhost:8080/"
        }
      },
      "source": [
        "# Calculating accuracy on test data\n",
        "print('Accuracy : ', np.round(final_tree.score(X_test, y_test) * 100, 2))"
      ],
      "execution_count": 101,
      "outputs": [
        {
          "output_type": "stream",
          "name": "stdout",
          "text": [
            "Accuracy :  90.2\n"
          ]
        }
      ]
    },
    {
      "cell_type": "markdown",
      "metadata": {
        "id": "2G1lbxoI6We2"
      },
      "source": [
        "    We got 89% Accuracy on test data."
      ]
    },
    {
      "cell_type": "code",
      "metadata": {
        "id": "njbfSysJ6We3",
        "outputId": "a3562087-2133-463d-8cc7-c9b9ac90de43",
        "colab": {
          "base_uri": "https://localhost:8080/"
        }
      },
      "source": [
        "# Prediction for new file that we prepared as well.\n",
        "final_tree.predict(df_test_sc)"
      ],
      "execution_count": 102,
      "outputs": [
        {
          "output_type": "execute_result",
          "data": {
            "text/plain": [
              "array([14609.38002793, 46142.585     , 13336.20133896, ...,\n",
              "       55441.35096983,  6047.555     ,   119.96314286])"
            ]
          },
          "metadata": {},
          "execution_count": 102
        }
      ]
    },
    {
      "cell_type": "markdown",
      "metadata": {
        "id": "FtTU790g6We6"
      },
      "source": [
        "---\n",
        "## Ensemble Methods\n",
        "---"
      ]
    },
    {
      "cell_type": "code",
      "metadata": {
        "id": "TVESJ20g6We6"
      },
      "source": [
        "# import lib\n",
        "from sklearn.ensemble import BaggingRegressor"
      ],
      "execution_count": 103,
      "outputs": []
    },
    {
      "cell_type": "code",
      "metadata": {
        "id": "EVS_dTcJ6We9",
        "outputId": "1904af37-0f0f-425e-a828-d98339aa290c",
        "colab": {
          "base_uri": "https://localhost:8080/"
        }
      },
      "source": [
        "bagreg = BaggingRegressor(oob_score = True, n_estimators = 100, n_jobs = -1, verbose = 0)\n",
        "bagreg.fit(X_train, y_train)"
      ],
      "execution_count": 104,
      "outputs": [
        {
          "output_type": "execute_result",
          "data": {
            "text/plain": [
              "BaggingRegressor(n_estimators=100, n_jobs=-1, oob_score=True)"
            ]
          },
          "metadata": {},
          "execution_count": 104
        }
      ]
    },
    {
      "cell_type": "code",
      "metadata": {
        "id": "IakxOpGh6WfA",
        "outputId": "c2c50924-afb5-4367-bdeb-5e020380ee52",
        "colab": {
          "base_uri": "https://localhost:8080/"
        }
      },
      "source": [
        "bagreg.predict(X_train)"
      ],
      "execution_count": 105,
      "outputs": [
        {
          "output_type": "execute_result",
          "data": {
            "text/plain": [
              "array([ 9234.3955,  1849.2325,  8713.0602, ..., 11591.4139,   102.31  ,\n",
              "       60819.0656])"
            ]
          },
          "metadata": {},
          "execution_count": 105
        }
      ]
    },
    {
      "cell_type": "code",
      "metadata": {
        "id": "fo472uU16WfD",
        "outputId": "0cc72d5a-00e4-4b2d-8ffd-0491c321b089",
        "colab": {
          "base_uri": "https://localhost:8080/"
        }
      },
      "source": [
        "bagreg.oob_score_"
      ],
      "execution_count": 106,
      "outputs": [
        {
          "output_type": "execute_result",
          "data": {
            "text/plain": [
              "0.9779889351699474"
            ]
          },
          "metadata": {},
          "execution_count": 106
        }
      ]
    },
    {
      "cell_type": "code",
      "metadata": {
        "id": "i8iWce0-6WfH",
        "outputId": "a3646adc-7b6e-4e17-dd84-7159a010b4e2",
        "colab": {
          "base_uri": "https://localhost:8080/",
          "height": 424
        }
      },
      "source": [
        "bagreg_pred_test = pd.DataFrame({'actual' : y_test,\n",
        "                'Predicted' : bagreg.predict(X_test)})\n",
        "bagreg_pred_test"
      ],
      "execution_count": 107,
      "outputs": [
        {
          "output_type": "execute_result",
          "data": {
            "text/html": [
              "\n",
              "  <div id=\"df-104411ff-1a7b-4411-bbb3-6c95eaa1f6a6\">\n",
              "    <div class=\"colab-df-container\">\n",
              "      <div>\n",
              "<style scoped>\n",
              "    .dataframe tbody tr th:only-of-type {\n",
              "        vertical-align: middle;\n",
              "    }\n",
              "\n",
              "    .dataframe tbody tr th {\n",
              "        vertical-align: top;\n",
              "    }\n",
              "\n",
              "    .dataframe thead th {\n",
              "        text-align: right;\n",
              "    }\n",
              "</style>\n",
              "<table border=\"1\" class=\"dataframe\">\n",
              "  <thead>\n",
              "    <tr style=\"text-align: right;\">\n",
              "      <th></th>\n",
              "      <th>actual</th>\n",
              "      <th>Predicted</th>\n",
              "    </tr>\n",
              "  </thead>\n",
              "  <tbody>\n",
              "    <tr>\n",
              "      <th>272591</th>\n",
              "      <td>474.00</td>\n",
              "      <td>566.2991</td>\n",
              "    </tr>\n",
              "    <tr>\n",
              "      <th>383110</th>\n",
              "      <td>6626.04</td>\n",
              "      <td>7354.0064</td>\n",
              "    </tr>\n",
              "    <tr>\n",
              "      <th>106585</th>\n",
              "      <td>6623.89</td>\n",
              "      <td>7542.5622</td>\n",
              "    </tr>\n",
              "    <tr>\n",
              "      <th>171586</th>\n",
              "      <td>3989.94</td>\n",
              "      <td>4647.3500</td>\n",
              "    </tr>\n",
              "    <tr>\n",
              "      <th>158059</th>\n",
              "      <td>7467.14</td>\n",
              "      <td>7517.0937</td>\n",
              "    </tr>\n",
              "    <tr>\n",
              "      <th>...</th>\n",
              "      <td>...</td>\n",
              "      <td>...</td>\n",
              "    </tr>\n",
              "    <tr>\n",
              "      <th>226198</th>\n",
              "      <td>13576.54</td>\n",
              "      <td>10818.5752</td>\n",
              "    </tr>\n",
              "    <tr>\n",
              "      <th>206439</th>\n",
              "      <td>153.00</td>\n",
              "      <td>159.3400</td>\n",
              "    </tr>\n",
              "    <tr>\n",
              "      <th>411700</th>\n",
              "      <td>1029.61</td>\n",
              "      <td>1055.7845</td>\n",
              "    </tr>\n",
              "    <tr>\n",
              "      <th>399924</th>\n",
              "      <td>488.68</td>\n",
              "      <td>502.5761</td>\n",
              "    </tr>\n",
              "    <tr>\n",
              "      <th>204987</th>\n",
              "      <td>3139.93</td>\n",
              "      <td>2913.8897</td>\n",
              "    </tr>\n",
              "  </tbody>\n",
              "</table>\n",
              "<p>84314 rows × 2 columns</p>\n",
              "</div>\n",
              "      <button class=\"colab-df-convert\" onclick=\"convertToInteractive('df-104411ff-1a7b-4411-bbb3-6c95eaa1f6a6')\"\n",
              "              title=\"Convert this dataframe to an interactive table.\"\n",
              "              style=\"display:none;\">\n",
              "        \n",
              "  <svg xmlns=\"http://www.w3.org/2000/svg\" height=\"24px\"viewBox=\"0 0 24 24\"\n",
              "       width=\"24px\">\n",
              "    <path d=\"M0 0h24v24H0V0z\" fill=\"none\"/>\n",
              "    <path d=\"M18.56 5.44l.94 2.06.94-2.06 2.06-.94-2.06-.94-.94-2.06-.94 2.06-2.06.94zm-11 1L8.5 8.5l.94-2.06 2.06-.94-2.06-.94L8.5 2.5l-.94 2.06-2.06.94zm10 10l.94 2.06.94-2.06 2.06-.94-2.06-.94-.94-2.06-.94 2.06-2.06.94z\"/><path d=\"M17.41 7.96l-1.37-1.37c-.4-.4-.92-.59-1.43-.59-.52 0-1.04.2-1.43.59L10.3 9.45l-7.72 7.72c-.78.78-.78 2.05 0 2.83L4 21.41c.39.39.9.59 1.41.59.51 0 1.02-.2 1.41-.59l7.78-7.78 2.81-2.81c.8-.78.8-2.07 0-2.86zM5.41 20L4 18.59l7.72-7.72 1.47 1.35L5.41 20z\"/>\n",
              "  </svg>\n",
              "      </button>\n",
              "      \n",
              "  <style>\n",
              "    .colab-df-container {\n",
              "      display:flex;\n",
              "      flex-wrap:wrap;\n",
              "      gap: 12px;\n",
              "    }\n",
              "\n",
              "    .colab-df-convert {\n",
              "      background-color: #E8F0FE;\n",
              "      border: none;\n",
              "      border-radius: 50%;\n",
              "      cursor: pointer;\n",
              "      display: none;\n",
              "      fill: #1967D2;\n",
              "      height: 32px;\n",
              "      padding: 0 0 0 0;\n",
              "      width: 32px;\n",
              "    }\n",
              "\n",
              "    .colab-df-convert:hover {\n",
              "      background-color: #E2EBFA;\n",
              "      box-shadow: 0px 1px 2px rgba(60, 64, 67, 0.3), 0px 1px 3px 1px rgba(60, 64, 67, 0.15);\n",
              "      fill: #174EA6;\n",
              "    }\n",
              "\n",
              "    [theme=dark] .colab-df-convert {\n",
              "      background-color: #3B4455;\n",
              "      fill: #D2E3FC;\n",
              "    }\n",
              "\n",
              "    [theme=dark] .colab-df-convert:hover {\n",
              "      background-color: #434B5C;\n",
              "      box-shadow: 0px 1px 3px 1px rgba(0, 0, 0, 0.15);\n",
              "      filter: drop-shadow(0px 1px 2px rgba(0, 0, 0, 0.3));\n",
              "      fill: #FFFFFF;\n",
              "    }\n",
              "  </style>\n",
              "\n",
              "      <script>\n",
              "        const buttonEl =\n",
              "          document.querySelector('#df-104411ff-1a7b-4411-bbb3-6c95eaa1f6a6 button.colab-df-convert');\n",
              "        buttonEl.style.display =\n",
              "          google.colab.kernel.accessAllowed ? 'block' : 'none';\n",
              "\n",
              "        async function convertToInteractive(key) {\n",
              "          const element = document.querySelector('#df-104411ff-1a7b-4411-bbb3-6c95eaa1f6a6');\n",
              "          const dataTable =\n",
              "            await google.colab.kernel.invokeFunction('convertToInteractive',\n",
              "                                                     [key], {});\n",
              "          if (!dataTable) return;\n",
              "\n",
              "          const docLinkHtml = 'Like what you see? Visit the ' +\n",
              "            '<a target=\"_blank\" href=https://colab.research.google.com/notebooks/data_table.ipynb>data table notebook</a>'\n",
              "            + ' to learn more about interactive tables.';\n",
              "          element.innerHTML = '';\n",
              "          dataTable['output_type'] = 'display_data';\n",
              "          await google.colab.output.renderOutput(dataTable, element);\n",
              "          const docLink = document.createElement('div');\n",
              "          docLink.innerHTML = docLinkHtml;\n",
              "          element.appendChild(docLink);\n",
              "        }\n",
              "      </script>\n",
              "    </div>\n",
              "  </div>\n",
              "  "
            ],
            "text/plain": [
              "          actual   Predicted\n",
              "272591    474.00    566.2991\n",
              "383110   6626.04   7354.0064\n",
              "106585   6623.89   7542.5622\n",
              "171586   3989.94   4647.3500\n",
              "158059   7467.14   7517.0937\n",
              "...          ...         ...\n",
              "226198  13576.54  10818.5752\n",
              "206439    153.00    159.3400\n",
              "411700   1029.61   1055.7845\n",
              "399924    488.68    502.5761\n",
              "204987   3139.93   2913.8897\n",
              "\n",
              "[84314 rows x 2 columns]"
            ]
          },
          "metadata": {},
          "execution_count": 107
        }
      ]
    },
    {
      "cell_type": "code",
      "metadata": {
        "id": "YVZIrWyz-fVS",
        "outputId": "287c5c90-7d77-4223-817f-a672fa78cd74",
        "colab": {
          "base_uri": "https://localhost:8080/"
        }
      },
      "source": [
        "bagreg_train_pred = bagreg.predict(X_train)\n",
        "bagreg_train_pred"
      ],
      "execution_count": 108,
      "outputs": [
        {
          "output_type": "execute_result",
          "data": {
            "text/plain": [
              "array([ 9234.3955,  1849.2325,  8713.0602, ..., 11591.4139,   102.31  ,\n",
              "       60819.0656])"
            ]
          },
          "metadata": {},
          "execution_count": 108
        }
      ]
    },
    {
      "cell_type": "code",
      "metadata": {
        "id": "6E44IO0ZA_GX",
        "outputId": "6a097762-7ce0-49c2-fdd7-bd19138d87e2",
        "colab": {
          "base_uri": "https://localhost:8080/"
        }
      },
      "source": [
        "bagreg_test_pred = bagreg.predict(X_test)\n",
        "bagreg_test_pred"
      ],
      "execution_count": 109,
      "outputs": [
        {
          "output_type": "execute_result",
          "data": {
            "text/plain": [
              "array([ 566.2991, 7354.0064, 7542.5622, ..., 1055.7845,  502.5761,\n",
              "       2913.8897])"
            ]
          },
          "metadata": {},
          "execution_count": 109
        }
      ]
    },
    {
      "cell_type": "markdown",
      "metadata": {
        "id": "HNCU517zAGJG"
      },
      "source": [
        "## Bagging Claasifier Errors"
      ]
    },
    {
      "cell_type": "code",
      "metadata": {
        "id": "v9FW99k4AQaZ",
        "colab": {
          "base_uri": "https://localhost:8080/"
        },
        "outputId": "3065d580-05d1-4035-e5d7-1a83ee4d09a5"
      },
      "source": [
        "# Mean Absolute Errors\n",
        "print('Bag Train MAE : ', mean_absolute_error(y_train, bagreg_train_pred))\n",
        "print('Bag Test  MAE : ', mean_absolute_error(y_test, bagreg_test_pred))"
      ],
      "execution_count": 110,
      "outputs": [
        {
          "output_type": "stream",
          "name": "stdout",
          "text": [
            "Bag Train MAE :  482.5966734231564\n",
            "Bag Test  MAE :  1291.6503555827028\n"
          ]
        }
      ]
    },
    {
      "cell_type": "code",
      "metadata": {
        "id": "5MTnVeUZAhQT",
        "colab": {
          "base_uri": "https://localhost:8080/"
        },
        "outputId": "e2ca91a9-f6f2-4f50-a92a-df674a4e819a"
      },
      "source": [
        "# Root Mean Squared Errors\n",
        "print('BagReg Train RMSE :', np.sqrt(mean_squared_error(y_train, bagreg_train_pred)))\n",
        "print('BagReg  Test RMSE :', np.sqrt(mean_squared_error(y_test, bagreg_test_pred)))"
      ],
      "execution_count": 111,
      "outputs": [
        {
          "output_type": "stream",
          "name": "stdout",
          "text": [
            "BagReg Train RMSE : 1251.0321857775311\n",
            "BagReg  Test RMSE : 3246.1771107321742\n"
          ]
        }
      ]
    },
    {
      "cell_type": "markdown",
      "metadata": {
        "id": "iuV-UT006OFd"
      },
      "source": [
        "---\n",
        "## Random Forest Regressor\n",
        "---"
      ]
    },
    {
      "cell_type": "code",
      "metadata": {
        "id": "8y9r4MDM6TPy"
      },
      "source": [
        "from sklearn.ensemble import RandomForestRegressor"
      ],
      "execution_count": 112,
      "outputs": []
    },
    {
      "cell_type": "code",
      "metadata": {
        "id": "MSxmKAJL6dzx"
      },
      "source": [
        "paragrid_rf = {'n_estimators': [100,150,200,250,300,350,400]}\n",
        "                  # 'max_features': [7,8,9,10,11,12,13,14,15]}"
      ],
      "execution_count": 113,
      "outputs": []
    },
    {
      "cell_type": "code",
      "metadata": {
        "id": "vEAm2cdK6lq0"
      },
      "source": [
        "#from sklearn.grid_search import GridSearchCV\n",
        "gscv_rf = GridSearchCV(estimator = RandomForestRegressor(), \n",
        "                        param_grid = paragrid_rf, \n",
        "                        cv = 5,\n",
        "                        verbose = True)\n",
        "\n",
        "# gscv_results = gscv_rf.fit(X_train, y_train)"
      ],
      "execution_count": 114,
      "outputs": []
    },
    {
      "cell_type": "code",
      "metadata": {
        "id": "oF3MplfKxLIF",
        "colab": {
          "base_uri": "https://localhost:8080/"
        },
        "outputId": "8a8308c3-2109-4f4d-da07-7e87bcd601f1"
      },
      "source": [
        "rfr = RandomForestRegressor(n_estimators = 400,max_depth=15)        \n",
        "rfr.fit(X_train,y_train)\n",
        "# y_pred=rfr.predict(X_test)\n"
      ],
      "execution_count": 115,
      "outputs": [
        {
          "output_type": "execute_result",
          "data": {
            "text/plain": [
              "RandomForestRegressor(max_depth=15, n_estimators=400)"
            ]
          },
          "metadata": {},
          "execution_count": 115
        }
      ]
    },
    {
      "cell_type": "code",
      "metadata": {
        "id": "z9eOzkgc67uG"
      },
      "source": [
        "y_pred_train = rfr.predict(X_train)"
      ],
      "execution_count": 116,
      "outputs": []
    },
    {
      "cell_type": "code",
      "metadata": {
        "id": "fuHo7VG51Jml",
        "colab": {
          "base_uri": "https://localhost:8080/",
          "height": 424
        },
        "outputId": "4157efa0-c70b-4375-a621-470f9f219cb8"
      },
      "source": [
        "pd.DataFrame({'Actual' : y_train,\n",
        "              'Predict' : y_pred_train})"
      ],
      "execution_count": null,
      "outputs": [
        {
          "output_type": "execute_result",
          "data": {
            "text/html": [
              "<div>\n",
              "<style scoped>\n",
              "    .dataframe tbody tr th:only-of-type {\n",
              "        vertical-align: middle;\n",
              "    }\n",
              "\n",
              "    .dataframe tbody tr th {\n",
              "        vertical-align: top;\n",
              "    }\n",
              "\n",
              "    .dataframe thead th {\n",
              "        text-align: right;\n",
              "    }\n",
              "</style>\n",
              "<table border=\"1\" class=\"dataframe\">\n",
              "  <thead>\n",
              "    <tr style=\"text-align: right;\">\n",
              "      <th></th>\n",
              "      <th>Actual</th>\n",
              "      <th>Predict</th>\n",
              "    </tr>\n",
              "  </thead>\n",
              "  <tbody>\n",
              "    <tr>\n",
              "      <th>19654</th>\n",
              "      <td>1361.00</td>\n",
              "      <td>1111.045445</td>\n",
              "    </tr>\n",
              "    <tr>\n",
              "      <th>134303</th>\n",
              "      <td>352.00</td>\n",
              "      <td>370.370962</td>\n",
              "    </tr>\n",
              "    <tr>\n",
              "      <th>274917</th>\n",
              "      <td>34264.15</td>\n",
              "      <td>34658.070631</td>\n",
              "    </tr>\n",
              "    <tr>\n",
              "      <th>55128</th>\n",
              "      <td>40401.85</td>\n",
              "      <td>40441.761702</td>\n",
              "    </tr>\n",
              "    <tr>\n",
              "      <th>267307</th>\n",
              "      <td>9.97</td>\n",
              "      <td>15.174474</td>\n",
              "    </tr>\n",
              "    <tr>\n",
              "      <th>...</th>\n",
              "      <td>...</td>\n",
              "      <td>...</td>\n",
              "    </tr>\n",
              "    <tr>\n",
              "      <th>289318</th>\n",
              "      <td>1356.04</td>\n",
              "      <td>1525.369870</td>\n",
              "    </tr>\n",
              "    <tr>\n",
              "      <th>226728</th>\n",
              "      <td>7369.08</td>\n",
              "      <td>7146.894151</td>\n",
              "    </tr>\n",
              "    <tr>\n",
              "      <th>231920</th>\n",
              "      <td>2593.48</td>\n",
              "      <td>5499.884739</td>\n",
              "    </tr>\n",
              "    <tr>\n",
              "      <th>62721</th>\n",
              "      <td>8595.60</td>\n",
              "      <td>4348.123321</td>\n",
              "    </tr>\n",
              "    <tr>\n",
              "      <th>286478</th>\n",
              "      <td>1397.68</td>\n",
              "      <td>1476.345445</td>\n",
              "    </tr>\n",
              "  </tbody>\n",
              "</table>\n",
              "<p>247742 rows × 2 columns</p>\n",
              "</div>"
            ],
            "text/plain": [
              "          Actual       Predict\n",
              "19654    1361.00   1111.045445\n",
              "134303    352.00    370.370962\n",
              "274917  34264.15  34658.070631\n",
              "55128   40401.85  40441.761702\n",
              "267307      9.97     15.174474\n",
              "...          ...           ...\n",
              "289318   1356.04   1525.369870\n",
              "226728   7369.08   7146.894151\n",
              "231920   2593.48   5499.884739\n",
              "62721    8595.60   4348.123321\n",
              "286478   1397.68   1476.345445\n",
              "\n",
              "[247742 rows x 2 columns]"
            ]
          },
          "metadata": {
            "tags": []
          },
          "execution_count": 119
        }
      ]
    },
    {
      "cell_type": "code",
      "metadata": {
        "id": "YTQ8DZ7D2hE6"
      },
      "source": [
        "predict_rfr = rfr.predict(X_test)"
      ],
      "execution_count": 117,
      "outputs": []
    },
    {
      "cell_type": "code",
      "metadata": {
        "id": "bZe_g8cX1Ysl",
        "colab": {
          "base_uri": "https://localhost:8080/",
          "height": 424
        },
        "outputId": "4c75c09c-e766-4455-d55d-fa0d8a3f0ccd"
      },
      "source": [
        "pd.DataFrame({'Actual': y_test,\n",
        "              'Predicted' : predict_rfr})"
      ],
      "execution_count": 118,
      "outputs": [
        {
          "output_type": "execute_result",
          "data": {
            "text/html": [
              "\n",
              "  <div id=\"df-ae66fd50-e750-433c-a852-0c40498cf787\">\n",
              "    <div class=\"colab-df-container\">\n",
              "      <div>\n",
              "<style scoped>\n",
              "    .dataframe tbody tr th:only-of-type {\n",
              "        vertical-align: middle;\n",
              "    }\n",
              "\n",
              "    .dataframe tbody tr th {\n",
              "        vertical-align: top;\n",
              "    }\n",
              "\n",
              "    .dataframe thead th {\n",
              "        text-align: right;\n",
              "    }\n",
              "</style>\n",
              "<table border=\"1\" class=\"dataframe\">\n",
              "  <thead>\n",
              "    <tr style=\"text-align: right;\">\n",
              "      <th></th>\n",
              "      <th>Actual</th>\n",
              "      <th>Predicted</th>\n",
              "    </tr>\n",
              "  </thead>\n",
              "  <tbody>\n",
              "    <tr>\n",
              "      <th>272591</th>\n",
              "      <td>474.00</td>\n",
              "      <td>1160.471980</td>\n",
              "    </tr>\n",
              "    <tr>\n",
              "      <th>383110</th>\n",
              "      <td>6626.04</td>\n",
              "      <td>7097.569276</td>\n",
              "    </tr>\n",
              "    <tr>\n",
              "      <th>106585</th>\n",
              "      <td>6623.89</td>\n",
              "      <td>8726.144636</td>\n",
              "    </tr>\n",
              "    <tr>\n",
              "      <th>171586</th>\n",
              "      <td>3989.94</td>\n",
              "      <td>4580.410513</td>\n",
              "    </tr>\n",
              "    <tr>\n",
              "      <th>158059</th>\n",
              "      <td>7467.14</td>\n",
              "      <td>6665.504102</td>\n",
              "    </tr>\n",
              "    <tr>\n",
              "      <th>...</th>\n",
              "      <td>...</td>\n",
              "      <td>...</td>\n",
              "    </tr>\n",
              "    <tr>\n",
              "      <th>226198</th>\n",
              "      <td>13576.54</td>\n",
              "      <td>8232.259140</td>\n",
              "    </tr>\n",
              "    <tr>\n",
              "      <th>206439</th>\n",
              "      <td>153.00</td>\n",
              "      <td>224.692031</td>\n",
              "    </tr>\n",
              "    <tr>\n",
              "      <th>411700</th>\n",
              "      <td>1029.61</td>\n",
              "      <td>1022.230254</td>\n",
              "    </tr>\n",
              "    <tr>\n",
              "      <th>399924</th>\n",
              "      <td>488.68</td>\n",
              "      <td>497.788821</td>\n",
              "    </tr>\n",
              "    <tr>\n",
              "      <th>204987</th>\n",
              "      <td>3139.93</td>\n",
              "      <td>2913.850535</td>\n",
              "    </tr>\n",
              "  </tbody>\n",
              "</table>\n",
              "<p>84314 rows × 2 columns</p>\n",
              "</div>\n",
              "      <button class=\"colab-df-convert\" onclick=\"convertToInteractive('df-ae66fd50-e750-433c-a852-0c40498cf787')\"\n",
              "              title=\"Convert this dataframe to an interactive table.\"\n",
              "              style=\"display:none;\">\n",
              "        \n",
              "  <svg xmlns=\"http://www.w3.org/2000/svg\" height=\"24px\"viewBox=\"0 0 24 24\"\n",
              "       width=\"24px\">\n",
              "    <path d=\"M0 0h24v24H0V0z\" fill=\"none\"/>\n",
              "    <path d=\"M18.56 5.44l.94 2.06.94-2.06 2.06-.94-2.06-.94-.94-2.06-.94 2.06-2.06.94zm-11 1L8.5 8.5l.94-2.06 2.06-.94-2.06-.94L8.5 2.5l-.94 2.06-2.06.94zm10 10l.94 2.06.94-2.06 2.06-.94-2.06-.94-.94-2.06-.94 2.06-2.06.94z\"/><path d=\"M17.41 7.96l-1.37-1.37c-.4-.4-.92-.59-1.43-.59-.52 0-1.04.2-1.43.59L10.3 9.45l-7.72 7.72c-.78.78-.78 2.05 0 2.83L4 21.41c.39.39.9.59 1.41.59.51 0 1.02-.2 1.41-.59l7.78-7.78 2.81-2.81c.8-.78.8-2.07 0-2.86zM5.41 20L4 18.59l7.72-7.72 1.47 1.35L5.41 20z\"/>\n",
              "  </svg>\n",
              "      </button>\n",
              "      \n",
              "  <style>\n",
              "    .colab-df-container {\n",
              "      display:flex;\n",
              "      flex-wrap:wrap;\n",
              "      gap: 12px;\n",
              "    }\n",
              "\n",
              "    .colab-df-convert {\n",
              "      background-color: #E8F0FE;\n",
              "      border: none;\n",
              "      border-radius: 50%;\n",
              "      cursor: pointer;\n",
              "      display: none;\n",
              "      fill: #1967D2;\n",
              "      height: 32px;\n",
              "      padding: 0 0 0 0;\n",
              "      width: 32px;\n",
              "    }\n",
              "\n",
              "    .colab-df-convert:hover {\n",
              "      background-color: #E2EBFA;\n",
              "      box-shadow: 0px 1px 2px rgba(60, 64, 67, 0.3), 0px 1px 3px 1px rgba(60, 64, 67, 0.15);\n",
              "      fill: #174EA6;\n",
              "    }\n",
              "\n",
              "    [theme=dark] .colab-df-convert {\n",
              "      background-color: #3B4455;\n",
              "      fill: #D2E3FC;\n",
              "    }\n",
              "\n",
              "    [theme=dark] .colab-df-convert:hover {\n",
              "      background-color: #434B5C;\n",
              "      box-shadow: 0px 1px 3px 1px rgba(0, 0, 0, 0.15);\n",
              "      filter: drop-shadow(0px 1px 2px rgba(0, 0, 0, 0.3));\n",
              "      fill: #FFFFFF;\n",
              "    }\n",
              "  </style>\n",
              "\n",
              "      <script>\n",
              "        const buttonEl =\n",
              "          document.querySelector('#df-ae66fd50-e750-433c-a852-0c40498cf787 button.colab-df-convert');\n",
              "        buttonEl.style.display =\n",
              "          google.colab.kernel.accessAllowed ? 'block' : 'none';\n",
              "\n",
              "        async function convertToInteractive(key) {\n",
              "          const element = document.querySelector('#df-ae66fd50-e750-433c-a852-0c40498cf787');\n",
              "          const dataTable =\n",
              "            await google.colab.kernel.invokeFunction('convertToInteractive',\n",
              "                                                     [key], {});\n",
              "          if (!dataTable) return;\n",
              "\n",
              "          const docLinkHtml = 'Like what you see? Visit the ' +\n",
              "            '<a target=\"_blank\" href=https://colab.research.google.com/notebooks/data_table.ipynb>data table notebook</a>'\n",
              "            + ' to learn more about interactive tables.';\n",
              "          element.innerHTML = '';\n",
              "          dataTable['output_type'] = 'display_data';\n",
              "          await google.colab.output.renderOutput(dataTable, element);\n",
              "          const docLink = document.createElement('div');\n",
              "          docLink.innerHTML = docLinkHtml;\n",
              "          element.appendChild(docLink);\n",
              "        }\n",
              "      </script>\n",
              "    </div>\n",
              "  </div>\n",
              "  "
            ],
            "text/plain": [
              "          Actual    Predicted\n",
              "272591    474.00  1160.471980\n",
              "383110   6626.04  7097.569276\n",
              "106585   6623.89  8726.144636\n",
              "171586   3989.94  4580.410513\n",
              "158059   7467.14  6665.504102\n",
              "...          ...          ...\n",
              "226198  13576.54  8232.259140\n",
              "206439    153.00   224.692031\n",
              "411700   1029.61  1022.230254\n",
              "399924    488.68   497.788821\n",
              "204987   3139.93  2913.850535\n",
              "\n",
              "[84314 rows x 2 columns]"
            ]
          },
          "metadata": {},
          "execution_count": 118
        }
      ]
    },
    {
      "cell_type": "code",
      "metadata": {
        "id": "SFgH9cVC2cvx"
      },
      "source": [
        ""
      ],
      "execution_count": null,
      "outputs": []
    },
    {
      "cell_type": "markdown",
      "metadata": {
        "id": "OgOyhTER3dMY"
      },
      "source": [
        "---\n",
        "## Calculating Errors for Random Forest\n",
        "---"
      ]
    },
    {
      "cell_type": "code",
      "metadata": {
        "id": "Oes4A0-_3jLO",
        "colab": {
          "base_uri": "https://localhost:8080/"
        },
        "outputId": "bc710fcc-ad56-4912-b38d-b421bbc6d65e"
      },
      "source": [
        "# Mean Absolute Errors\n",
        "print('Train DT MAE : ', mean_absolute_error(y_train, y_pred_train).round(2))\n",
        "print('Test  DT MAE : ', mean_absolute_error(y_test, predict_rfr).round(2))"
      ],
      "execution_count": 119,
      "outputs": [
        {
          "output_type": "stream",
          "name": "stdout",
          "text": [
            "Train DT MAE :  1600.35\n",
            "Test  DT MAE :  1873.1\n"
          ]
        }
      ]
    },
    {
      "cell_type": "code",
      "metadata": {
        "id": "AfhRXH_k4Biz",
        "colab": {
          "base_uri": "https://localhost:8080/"
        },
        "outputId": "045557ad-0710-4373-eaa5-c3c634ebb050"
      },
      "source": [
        "# Root Mean Squared Error\n",
        "print('Train DT RMSE : ', np.sqrt(mean_squared_error(y_train, y_pred_train)).round(2))\n",
        "print('Test  DT RMSE : ', np.sqrt(mean_squared_error(y_test, predict_rfr)).round(2))"
      ],
      "execution_count": 120,
      "outputs": [
        {
          "output_type": "stream",
          "name": "stdout",
          "text": [
            "Train DT RMSE :  3205.23\n",
            "Test  DT RMSE :  4100.91\n"
          ]
        }
      ]
    },
    {
      "cell_type": "code",
      "metadata": {
        "id": "nhe1wJEE4QWX",
        "colab": {
          "base_uri": "https://localhost:8080/"
        },
        "outputId": "63f8e577-ec89-47ef-8611-f574e56c575f"
      },
      "source": [
        "# Calculating accuracy on test data\n",
        "print('Accuracy : ', np.round(rfr.score(X_test, y_test) * 100, 2))"
      ],
      "execution_count": 121,
      "outputs": [
        {
          "output_type": "stream",
          "name": "stdout",
          "text": [
            "Accuracy :  96.77\n"
          ]
        }
      ]
    },
    {
      "cell_type": "markdown",
      "metadata": {
        "id": "K1vr229l4kNG"
      },
      "source": [
        "  We got 96.77% of Accuracy with Random Forest regressor"
      ]
    },
    {
      "cell_type": "code",
      "metadata": {
        "id": "8a14a6tY4oZU",
        "colab": {
          "base_uri": "https://localhost:8080/"
        },
        "outputId": "6ac11bde-e913-4abc-a256-bad60b549034"
      },
      "source": [
        "# Prediction for new file that we prepared as well.\n",
        "rfr.predict(df_test_sc)"
      ],
      "execution_count": 122,
      "outputs": [
        {
          "output_type": "execute_result",
          "data": {
            "text/plain": [
              "array([18497.96983692, 45668.33901923, 23424.25745026, ...,\n",
              "       56003.93309168,  6062.30142066,   796.83909078])"
            ]
          },
          "metadata": {},
          "execution_count": 122
        }
      ]
    },
    {
      "cell_type": "code",
      "metadata": {
        "id": "iOgpJLxv4zh-",
        "colab": {
          "base_uri": "https://localhost:8080/"
        },
        "outputId": "f4fff134-950a-4d0a-dee9-1991b4054b6d"
      },
      "source": [
        "from prettytable import PrettyTable\n",
        "    \n",
        "x = PrettyTable()\n",
        "x.field_names = [\"Model\", \"MAE\", \"RMSE\", \"Accuracy\"]\n",
        "\n",
        "x.add_row([\"Linear Regression (Baseline)\", 14567, 21762, 8.93])\n",
        "x.add_row([\"DecisionTreeRegressor\", 3682, 7186, 90.07])\n",
        "x.add_row([\"RandomForestRegressor\", 1874, 4100, 96.77])\n",
        "\n",
        "print(x)"
      ],
      "execution_count": 123,
      "outputs": [
        {
          "output_type": "stream",
          "name": "stdout",
          "text": [
            "+------------------------------+-------+-------+----------+\n",
            "|            Model             |  MAE  |  RMSE | Accuracy |\n",
            "+------------------------------+-------+-------+----------+\n",
            "| Linear Regression (Baseline) | 14567 | 21762 |   8.93   |\n",
            "|    DecisionTreeRegressor     |  3682 |  7186 |  90.07   |\n",
            "|    RandomForestRegressor     |  1874 |  4100 |  96.77   |\n",
            "+------------------------------+-------+-------+----------+\n"
          ]
        }
      ]
    },
    {
      "cell_type": "code",
      "metadata": {
        "id": "3HFRty6oucNh"
      },
      "source": [
        ""
      ],
      "execution_count": null,
      "outputs": []
    },
    {
      "cell_type": "code",
      "metadata": {
        "id": "FQcbzRjrXdnQ"
      },
      "source": [
        ""
      ],
      "execution_count": null,
      "outputs": []
    }
  ]
}